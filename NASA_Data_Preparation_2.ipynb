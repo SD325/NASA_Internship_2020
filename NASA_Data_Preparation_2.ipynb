{
  "nbformat": 4,
  "nbformat_minor": 0,
  "metadata": {
    "colab": {
      "name": "NASA_Data_Preparation_2.ipynb",
      "provenance": [],
      "collapsed_sections": [
        "vlqa88mC-szj",
        "rdszNxez_-a5",
        "WZuRQnd2-6F-"
      ],
      "authorship_tag": "ABX9TyNFp7KD1jY5QsRjQTgWknSG",
      "include_colab_link": true
    },
    "kernelspec": {
      "name": "python3",
      "display_name": "Python 3"
    }
  },
  "cells": [
    {
      "cell_type": "markdown",
      "metadata": {
        "id": "view-in-github",
        "colab_type": "text"
      },
      "source": [
        "<a href=\"https://colab.research.google.com/github/SD325/NASA_Internship_2020/blob/master/NASA_Data_Preparation_2.ipynb\" target=\"_parent\"><img src=\"https://colab.research.google.com/assets/colab-badge.svg\" alt=\"Open In Colab\"/></a>"
      ]
    },
    {
      "cell_type": "code",
      "metadata": {
        "id": "ndpRMrFt-Lgg",
        "colab_type": "code",
        "colab": {
          "base_uri": "https://localhost:8080/",
          "height": 125
        },
        "outputId": "ff56458e-4ff9-4a54-f77a-86a5cec66040"
      },
      "source": [
        "# mount Google Drive\n",
        "from google.colab import drive\n",
        "drive.mount('/content/drive')"
      ],
      "execution_count": 1,
      "outputs": [
        {
          "output_type": "stream",
          "text": [
            "Go to this URL in a browser: https://accounts.google.com/o/oauth2/auth?client_id=947318989803-6bn6qk8qdgf4n4g3pfee6491hc0brc4i.apps.googleusercontent.com&redirect_uri=urn%3aietf%3awg%3aoauth%3a2.0%3aoob&response_type=code&scope=email%20https%3a%2f%2fwww.googleapis.com%2fauth%2fdocs.test%20https%3a%2f%2fwww.googleapis.com%2fauth%2fdrive%20https%3a%2f%2fwww.googleapis.com%2fauth%2fdrive.photos.readonly%20https%3a%2f%2fwww.googleapis.com%2fauth%2fpeopleapi.readonly\n",
            "\n",
            "Enter your authorization code:\n",
            "··········\n",
            "Mounted at /content/drive\n"
          ],
          "name": "stdout"
        }
      ]
    },
    {
      "cell_type": "code",
      "metadata": {
        "id": "bMTYsONO-TIU",
        "colab_type": "code",
        "colab": {}
      },
      "source": [
        "# Suppress warnings\n",
        "import warnings\n",
        "warnings.filterwarnings(\"ignore\")\n",
        "# Imports\n",
        "import pickle\n",
        "import scipy.io\n",
        "import numpy as np\n",
        "import pandas as pd\n",
        "import matplotlib.pyplot as plt\n",
        "import seaborn as sns\n",
        "import os"
      ],
      "execution_count": 2,
      "outputs": []
    },
    {
      "cell_type": "markdown",
      "metadata": {
        "id": "YyQNRkOC-fBg",
        "colab_type": "text"
      },
      "source": [
        "# Load Data"
      ]
    },
    {
      "cell_type": "code",
      "metadata": {
        "id": "YRPOc8_c-Uli",
        "colab_type": "code",
        "colab": {
          "base_uri": "https://localhost:8080/",
          "height": 510
        },
        "outputId": "9d9d11e9-1b4e-481d-deab-b48cc774185f"
      },
      "source": [
        "import scipy.io\n",
        "BASE_DIR = '/content/drive/My Drive/data/NASA_2020/'\n",
        "FILE_PATH = BASE_DIR + 'colloc_Precipflag_DPR_GMI_20170606.sav'\n",
        "data = scipy.io.readsav(FILE_PATH, verbose=1)"
      ],
      "execution_count": 3,
      "outputs": [
        {
          "output_type": "stream",
          "text": [
            "--------------------------------------------------\n",
            "Date: Fri Jun 26 14:43:54 2020\n",
            "User: jgong\n",
            "Host: gs613-cirrus.ndc.nasa.gov\n",
            "--------------------------------------------------\n",
            "Format: 12\n",
            "Architecture: x86_64\n",
            "Operating System: linux\n",
            "IDL Version: 8.7.3\n",
            "--------------------------------------------------\n",
            "Successfully read 14 records of which:\n",
            " - 1 are of type VERSION\n",
            " - 1 are of type TIMESTAMP\n",
            " - 11 are of type VARIABLE\n",
            "--------------------------------------------------\n",
            "Available variables:\n",
            " - tc [<class 'numpy.ndarray'>]\n",
            " - latc [<class 'numpy.ndarray'>]\n",
            " - lonc [<class 'numpy.ndarray'>]\n",
            " - utc [<class 'numpy.ndarray'>]\n",
            " - emis [<class 'numpy.ndarray'>]\n",
            " - emis_std [<class 'numpy.ndarray'>]\n",
            " - ts [<class 'numpy.ndarray'>]\n",
            " - clwp [<class 'numpy.ndarray'>]\n",
            " - twv [<class 'numpy.ndarray'>]\n",
            " - tysfc [<class 'numpy.ndarray'>]\n",
            " - pflag [<class 'numpy.ndarray'>]\n",
            "--------------------------------------------------\n"
          ],
          "name": "stdout"
        }
      ]
    },
    {
      "cell_type": "markdown",
      "metadata": {
        "id": "vlqa88mC-szj",
        "colab_type": "text"
      },
      "source": [
        "* *nch* = 13 (number of channels. For channel frequency:\n",
        "https://www.star.nesdis.noaa.gov/mirs/gpmgmi.php)\n",
        "* *nfov* = 221 \n",
        "* *nrec*: number of sweep scans for each particular day\n",
        "\n",
        "## Variables\n",
        "\n",
        "* **Emis**: surface emissivity, [no unit], dimension [nch*nfov *nrec]. Valid value: 0<Emis<1\n",
        "* **Emis_std**: standard deviation of surface emissivity, same dimension with Emis; can be used as a quality-control for \"Emis\". If Emis_std is large relative to Emis value, that indicates the emissivity data might be of doubtable quality.\n",
        "* **Tysfc**: surface type. Integer number, each number represents one type of surface (e.g., 1 is ocean). The value of this number has no physical meaning. Rather, it should be served as a classifier for surface. Dimension [nfov * nrec], valid value: 1,2,3, ...,13,14\n",
        "* **Latc/lonc**: latitude/longitude. Unit is [degree], dimension [nfov * nrec].\n",
        "* **UTC**: universal time in [hr] unit. Dimension is [nrec]. UTC is the same for each sweep (i.e., nfov).\n",
        "* **Ts**: surface skin temperature. Unit [K]. dimension [nfov * nrec]. This number is only positive over land. \n",
        "* **TWV**: total column water vapor. Unit [??], dimension [nfov * nrec], valid value: [0,100]\n",
        "* **CLWP**: cloud liquid water path. Unit [kg/m^2], dimension [nfov * nrec], valid value: [0, 12]\n",
        "* **Tc**: brightness temperature. Unit [K], dimension [nch * nfov * nrec]. Valid value: [50-350]. This is the most important input that are purely from observations. We will try to see if we can solely rely on this variable and of course latitude/longitude/time/season for the precipitation flag prediction. \n",
        "* **PFlag**: flag of the type of precipitation. Dimension [nfov * nrec], valid value [0,1,2,3], where 0 is no precipitation, 1 is stratiform, 2 is convective and 3 is other precipitation. \n"
      ]
    },
    {
      "cell_type": "code",
      "metadata": {
        "id": "jG5-QIhn-h6S",
        "colab_type": "code",
        "colab": {
          "base_uri": "https://localhost:8080/",
          "height": 0
        },
        "outputId": "126deef2-bbda-4a93-bb41-43fcc0b9fee2"
      },
      "source": [
        "for var, arr in data.items():\n",
        "  print(f\"{var}: {arr.shape}\")"
      ],
      "execution_count": 4,
      "outputs": [
        {
          "output_type": "stream",
          "text": [
            "tc: (44425, 221, 13)\n",
            "latc: (44425, 221)\n",
            "lonc: (44425, 221)\n",
            "utc: (44425,)\n",
            "emis: (44425, 221, 13)\n",
            "emis_std: (44425, 221, 13)\n",
            "ts: (44425, 221)\n",
            "clwp: (44425, 221)\n",
            "twv: (44425, 221)\n",
            "tysfc: (44425, 221)\n",
            "pflag: (44425, 221)\n"
          ],
          "name": "stdout"
        }
      ]
    },
    {
      "cell_type": "code",
      "metadata": {
        "id": "E0jfKyGNevTl",
        "colab_type": "code",
        "colab": {
          "base_uri": "https://localhost:8080/",
          "height": 0
        },
        "outputId": "93e7d535-e5e5-43ce-d198-9a0aaf70ed51"
      },
      "source": [
        "# plot of scan times --> drop due to reset after midnight\n",
        "print(data['utc'][1:])\n",
        "plt.plot(range(np.size(data['utc'][1:])), data['utc'][1:])\n",
        "plt.show()"
      ],
      "execution_count": 5,
      "outputs": [
        {
          "output_type": "stream",
          "text": [
            "[1.2105556  1.2111112  1.2116667  ... 0.34694445 0.3475     0.34777778]\n"
          ],
          "name": "stdout"
        },
        {
          "output_type": "display_data",
          "data": {
            "image/png": "[encoded data removed]",
            "text/plain": [
              "<Figure size 432x288 with 1 Axes>"
            ]
          },
          "metadata": {
            "tags": [],
            "needs_background": "light"
          }
        }
      ]
    },
    {
      "cell_type": "markdown",
      "metadata": {
        "id": "rdszNxez_-a5",
        "colab_type": "text"
      },
      "source": [
        "# Trim Data"
      ]
    },
    {
      "cell_type": "code",
      "metadata": {
        "id": "OPAWvSXJABcs",
        "colab_type": "code",
        "colab": {
          "base_uri": "https://localhost:8080/",
          "height": 0
        },
        "outputId": "705da22f-d210-466e-f463-603c9d2b3347"
      },
      "source": [
        "print(data['latc'][1:, 25:196])"
      ],
      "execution_count": 6,
      "outputs": [
        {
          "output_type": "stream",
          "text": [
            "[[-61.262722 -61.310246 -61.3211   ... -68.70975  -68.72863  -68.78657 ]\n",
            " [-61.271713 -61.319466 -61.330498 ... -68.72192  -68.74058  -68.79808 ]\n",
            " [-61.280205 -61.328255 -61.33947  ... -68.73341  -68.75184  -68.80911 ]\n",
            " ...\n",
            " [-61.235977 -61.2829   -61.29327  ... -68.67428  -68.69376  -68.75238 ]\n",
            " [-61.24631  -61.293324 -61.30387  ... -68.68791  -68.707184 -68.765686]\n",
            " [-61.25602  -61.30317  -61.313892 ... -68.70075  -68.71981  -68.778206]]\n"
          ],
          "name": "stdout"
        }
      ]
    },
    {
      "cell_type": "code",
      "metadata": {
        "id": "HtIAJb_DBeA6",
        "colab_type": "code",
        "colab": {
          "base_uri": "https://localhost:8080/",
          "height": 0
        },
        "outputId": "c3f5bb4b-13a3-4bca-9c16-fef4de022919"
      },
      "source": [
        "data_trimmed = {}\n",
        "for var, arr in data.items():\n",
        "  if arr.ndim == 1:\n",
        "    data_trimmed[var] = arr[1:] \n",
        "  else:\n",
        "    data_trimmed[var] = arr[1:, 25:196] if arr.ndim == 2 else arr[1:, 25:196, :] \n",
        "\n",
        "for var, arr in data_trimmed.items():\n",
        "  print(f\"{var}: {arr.shape}\")"
      ],
      "execution_count": 7,
      "outputs": [
        {
          "output_type": "stream",
          "text": [
            "tc: (44424, 171, 13)\n",
            "latc: (44424, 171)\n",
            "lonc: (44424, 171)\n",
            "utc: (44424,)\n",
            "emis: (44424, 171, 13)\n",
            "emis_std: (44424, 171, 13)\n",
            "ts: (44424, 171)\n",
            "clwp: (44424, 171)\n",
            "twv: (44424, 171)\n",
            "tysfc: (44424, 171)\n",
            "pflag: (44424, 171)\n"
          ],
          "name": "stdout"
        }
      ]
    },
    {
      "cell_type": "markdown",
      "metadata": {
        "id": "WZuRQnd2-6F-",
        "colab_type": "text"
      },
      "source": [
        "# Polarization Differences (PDs)"
      ]
    },
    {
      "cell_type": "code",
      "metadata": {
        "id": "1_TMcuVQ-03j",
        "colab_type": "code",
        "colab": {
          "base_uri": "https://localhost:8080/",
          "height": 0
        },
        "outputId": "509dd5ec-590c-48c0-9e1e-78175cbd3393"
      },
      "source": [
        "# calculate polarization differences (PD)\n",
        "def add_to_PD(freq, ind1, ind2, data):\n",
        "  PD[freq] = data['tc'][:, :, ind1] - data['tc'][:, :, ind2]\n",
        "\n",
        "PD = {}\n",
        "add_to_PD('10.65', 0, 1, data_trimmed)\n",
        "add_to_PD('18.70', 2, 3, data_trimmed)\n",
        "add_to_PD('36.50', 5, 6, data_trimmed)\n",
        "add_to_PD('89.00', 7, 8, data_trimmed)\n",
        "add_to_PD('166.0', 9, 10, data_trimmed)\n",
        "print(PD.keys())"
      ],
      "execution_count": 8,
      "outputs": [
        {
          "output_type": "stream",
          "text": [
            "dict_keys(['10.65', '18.70', '36.50', '89.00', '166.0'])\n"
          ],
          "name": "stdout"
        }
      ]
    },
    {
      "cell_type": "markdown",
      "metadata": {
        "id": "3fauJw4fDQKe",
        "colab_type": "text"
      },
      "source": [
        "# Construct DataFrame"
      ]
    },
    {
      "cell_type": "code",
      "metadata": {
        "id": "fYYnl408DCe2",
        "colab_type": "code",
        "colab": {
          "base_uri": "https://localhost:8080/",
          "height": 223
        },
        "outputId": "1252acfb-fe93-4f63-ca98-84cdec6e8030"
      },
      "source": [
        "# ravel 2d data --> scans one after another\n",
        "'''\n",
        "* 13 channels TB\n",
        "* 3 channels PD (10.65, 89 and 166 GHz)\n",
        "x Surface emissivity\n",
        "* Ts\n",
        "* CLWP\n",
        "* TWV\n",
        "* Lat/Lon\n",
        "- Day of the year starting from the first day of the year (i.e., Julian day. For example, 1/1/2017 is 1, 2/1/2017 is 32)\n",
        "'''\n",
        "data_df = pd.DataFrame()\n",
        "# data_df['pflag'] = np.ravel(data_trimmed['pflag'])\n",
        "data_df['lat'] = np.ravel(data_trimmed['latc'])\n",
        "data_df['lon'] = np.ravel(data_trimmed['lonc'])\n",
        "\n",
        "data_df['PD_10.65'] = np.ravel(PD['10.65'])\n",
        "data_df['PD_89.00'] = np.ravel(PD['89.00'])\n",
        "data_df['PD_166.0'] = np.ravel(PD['166.0'])\n",
        "\n",
        "data_df['ts'] = np.ravel(data_trimmed['ts'])\n",
        "data_df['clwp'] = np.ravel(data_trimmed['clwp'])\n",
        "data_df['twv'] = np.ravel(data_trimmed['twv'])\n",
        "# data_df['tysfc'] = np.ravel(data_trimmed['tysfc'])  # categorical --> add later!\n",
        "\n",
        "for i in range(data_trimmed['tc'].shape[2]):\n",
        "  data_df[f'tc_{i}'] = np.ravel(data_trimmed['tc'][:, :, i])\n",
        "  # data_df[f'emis_{i}'] = np.ravel(data_trimmed['emis'][:, :, i])\n",
        "  # data_df[f'emis_std_{i}'] = np.ravel(data_trimmed['emis_std'][:, :, i])\n",
        "\n",
        "data_df.head()"
      ],
      "execution_count": 9,
      "outputs": [
        {
          "output_type": "execute_result",
          "data": {
            "text/html": [
              "<div>\n",
              "<style scoped>\n",
              "    .dataframe tbody tr th:only-of-type {\n",
              "        vertical-align: middle;\n",
              "    }\n",
              "\n",
              "    .dataframe tbody tr th {\n",
              "        vertical-align: top;\n",
              "    }\n",
              "\n",
              "    .dataframe thead th {\n",
              "        text-align: right;\n",
              "    }\n",
              "</style>\n",
              "<table border=\"1\" class=\"dataframe\">\n",
              "  <thead>\n",
              "    <tr style=\"text-align: right;\">\n",
              "      <th></th>\n",
              "      <th>lat</th>\n",
              "      <th>lon</th>\n",
              "      <th>PD_10.65</th>\n",
              "      <th>PD_89.00</th>\n",
              "      <th>PD_166.0</th>\n",
              "      <th>ts</th>\n",
              "      <th>clwp</th>\n",
              "      <th>twv</th>\n",
              "      <th>tc_0</th>\n",
              "      <th>tc_1</th>\n",
              "      <th>tc_2</th>\n",
              "      <th>tc_3</th>\n",
              "      <th>tc_4</th>\n",
              "      <th>tc_5</th>\n",
              "      <th>tc_6</th>\n",
              "      <th>tc_7</th>\n",
              "      <th>tc_8</th>\n",
              "      <th>tc_9</th>\n",
              "      <th>tc_10</th>\n",
              "      <th>tc_11</th>\n",
              "      <th>tc_12</th>\n",
              "    </tr>\n",
              "  </thead>\n",
              "  <tbody>\n",
              "    <tr>\n",
              "      <th>0</th>\n",
              "      <td>-61.262722</td>\n",
              "      <td>-49.823647</td>\n",
              "      <td>47.650009</td>\n",
              "      <td>8.110001</td>\n",
              "      <td>2.419983</td>\n",
              "      <td>-99.0</td>\n",
              "      <td>-99.0</td>\n",
              "      <td>-99.0</td>\n",
              "      <td>222.300003</td>\n",
              "      <td>174.649994</td>\n",
              "      <td>231.169998</td>\n",
              "      <td>193.610001</td>\n",
              "      <td>235.429993</td>\n",
              "      <td>238.149994</td>\n",
              "      <td>211.759995</td>\n",
              "      <td>254.389999</td>\n",
              "      <td>246.279999</td>\n",
              "      <td>264.049988</td>\n",
              "      <td>261.630005</td>\n",
              "      <td>252.940002</td>\n",
              "      <td>261.170013</td>\n",
              "    </tr>\n",
              "    <tr>\n",
              "      <th>1</th>\n",
              "      <td>-61.310246</td>\n",
              "      <td>-49.962563</td>\n",
              "      <td>53.330002</td>\n",
              "      <td>15.250000</td>\n",
              "      <td>1.470001</td>\n",
              "      <td>-99.0</td>\n",
              "      <td>-99.0</td>\n",
              "      <td>-99.0</td>\n",
              "      <td>212.520004</td>\n",
              "      <td>159.190002</td>\n",
              "      <td>217.690002</td>\n",
              "      <td>167.339996</td>\n",
              "      <td>225.220001</td>\n",
              "      <td>230.940002</td>\n",
              "      <td>194.199997</td>\n",
              "      <td>254.550003</td>\n",
              "      <td>239.300003</td>\n",
              "      <td>263.019989</td>\n",
              "      <td>261.549988</td>\n",
              "      <td>253.279999</td>\n",
              "      <td>259.709991</td>\n",
              "    </tr>\n",
              "    <tr>\n",
              "      <th>2</th>\n",
              "      <td>-61.321098</td>\n",
              "      <td>-50.057407</td>\n",
              "      <td>57.619995</td>\n",
              "      <td>20.430008</td>\n",
              "      <td>4.459991</td>\n",
              "      <td>-99.0</td>\n",
              "      <td>-99.0</td>\n",
              "      <td>-99.0</td>\n",
              "      <td>204.029999</td>\n",
              "      <td>146.410004</td>\n",
              "      <td>207.300003</td>\n",
              "      <td>149.770004</td>\n",
              "      <td>218.029999</td>\n",
              "      <td>226.020004</td>\n",
              "      <td>180.679993</td>\n",
              "      <td>252.740005</td>\n",
              "      <td>232.309998</td>\n",
              "      <td>263.519989</td>\n",
              "      <td>259.059998</td>\n",
              "      <td>252.559998</td>\n",
              "      <td>260.179993</td>\n",
              "    </tr>\n",
              "    <tr>\n",
              "      <th>3</th>\n",
              "      <td>-61.366501</td>\n",
              "      <td>-50.097477</td>\n",
              "      <td>60.279999</td>\n",
              "      <td>26.729996</td>\n",
              "      <td>3.619995</td>\n",
              "      <td>-99.0</td>\n",
              "      <td>-99.0</td>\n",
              "      <td>-99.0</td>\n",
              "      <td>199.279999</td>\n",
              "      <td>139.000000</td>\n",
              "      <td>203.759995</td>\n",
              "      <td>145.809998</td>\n",
              "      <td>215.550003</td>\n",
              "      <td>223.580002</td>\n",
              "      <td>176.380005</td>\n",
              "      <td>249.259995</td>\n",
              "      <td>222.529999</td>\n",
              "      <td>262.260010</td>\n",
              "      <td>258.640015</td>\n",
              "      <td>253.940002</td>\n",
              "      <td>260.359985</td>\n",
              "    </tr>\n",
              "    <tr>\n",
              "      <th>4</th>\n",
              "      <td>-61.379467</td>\n",
              "      <td>-50.191345</td>\n",
              "      <td>58.820007</td>\n",
              "      <td>23.729996</td>\n",
              "      <td>5.030029</td>\n",
              "      <td>-99.0</td>\n",
              "      <td>-99.0</td>\n",
              "      <td>-99.0</td>\n",
              "      <td>200.050003</td>\n",
              "      <td>141.229996</td>\n",
              "      <td>205.940002</td>\n",
              "      <td>149.240005</td>\n",
              "      <td>217.690002</td>\n",
              "      <td>225.679993</td>\n",
              "      <td>180.610001</td>\n",
              "      <td>250.669998</td>\n",
              "      <td>226.940002</td>\n",
              "      <td>262.140015</td>\n",
              "      <td>257.109985</td>\n",
              "      <td>252.940002</td>\n",
              "      <td>261.010010</td>\n",
              "    </tr>\n",
              "  </tbody>\n",
              "</table>\n",
              "</div>"
            ],
            "text/plain": [
              "         lat        lon   PD_10.65  ...       tc_10       tc_11       tc_12\n",
              "0 -61.262722 -49.823647  47.650009  ...  261.630005  252.940002  261.170013\n",
              "1 -61.310246 -49.962563  53.330002  ...  261.549988  253.279999  259.709991\n",
              "2 -61.321098 -50.057407  57.619995  ...  259.059998  252.559998  260.179993\n",
              "3 -61.366501 -50.097477  60.279999  ...  258.640015  253.940002  260.359985\n",
              "4 -61.379467 -50.191345  58.820007  ...  257.109985  252.940002  261.010010\n",
              "\n",
              "[5 rows x 21 columns]"
            ]
          },
          "metadata": {
            "tags": []
          },
          "execution_count": 9
        }
      ]
    },
    {
      "cell_type": "code",
      "metadata": {
        "id": "sEj8sGIIAJkF",
        "colab_type": "code",
        "colab": {
          "base_uri": "https://localhost:8080/",
          "height": 203
        },
        "outputId": "66f0aa41-18ce-4a88-875e-7c0e3a84a000"
      },
      "source": [
        "y = pd.DataFrame()\n",
        "y['pflag'] = np.ravel(data_trimmed['pflag']).byteswap().newbyteorder()\n",
        "y.head()"
      ],
      "execution_count": 10,
      "outputs": [
        {
          "output_type": "execute_result",
          "data": {
            "text/html": [
              "<div>\n",
              "<style scoped>\n",
              "    .dataframe tbody tr th:only-of-type {\n",
              "        vertical-align: middle;\n",
              "    }\n",
              "\n",
              "    .dataframe tbody tr th {\n",
              "        vertical-align: top;\n",
              "    }\n",
              "\n",
              "    .dataframe thead th {\n",
              "        text-align: right;\n",
              "    }\n",
              "</style>\n",
              "<table border=\"1\" class=\"dataframe\">\n",
              "  <thead>\n",
              "    <tr style=\"text-align: right;\">\n",
              "      <th></th>\n",
              "      <th>pflag</th>\n",
              "    </tr>\n",
              "  </thead>\n",
              "  <tbody>\n",
              "    <tr>\n",
              "      <th>0</th>\n",
              "      <td>NaN</td>\n",
              "    </tr>\n",
              "    <tr>\n",
              "      <th>1</th>\n",
              "      <td>NaN</td>\n",
              "    </tr>\n",
              "    <tr>\n",
              "      <th>2</th>\n",
              "      <td>NaN</td>\n",
              "    </tr>\n",
              "    <tr>\n",
              "      <th>3</th>\n",
              "      <td>NaN</td>\n",
              "    </tr>\n",
              "    <tr>\n",
              "      <th>4</th>\n",
              "      <td>NaN</td>\n",
              "    </tr>\n",
              "  </tbody>\n",
              "</table>\n",
              "</div>"
            ],
            "text/plain": [
              "   pflag\n",
              "0    NaN\n",
              "1    NaN\n",
              "2    NaN\n",
              "3    NaN\n",
              "4    NaN"
            ]
          },
          "metadata": {
            "tags": []
          },
          "execution_count": 10
        }
      ]
    },
    {
      "cell_type": "markdown",
      "metadata": {
        "id": "tWdjVZms7Zfa",
        "colab_type": "text"
      },
      "source": [
        "# Prepare Data"
      ]
    },
    {
      "cell_type": "code",
      "metadata": {
        "id": "IE8zxvZ26wRR",
        "colab_type": "code",
        "colab": {
          "base_uri": "https://localhost:8080/",
          "height": 223
        },
        "outputId": "e1989953-76de-423c-bf29-5e9c6a710c7d"
      },
      "source": [
        "X_dropped = data_df[(~np.isnan(y['pflag'])) & (data_df['ts'] != -99.0) & (~np.isnan(data_df['twv']))]\n",
        "X_dropped.head()"
      ],
      "execution_count": 11,
      "outputs": [
        {
          "output_type": "execute_result",
          "data": {
            "text/html": [
              "<div>\n",
              "<style scoped>\n",
              "    .dataframe tbody tr th:only-of-type {\n",
              "        vertical-align: middle;\n",
              "    }\n",
              "\n",
              "    .dataframe tbody tr th {\n",
              "        vertical-align: top;\n",
              "    }\n",
              "\n",
              "    .dataframe thead th {\n",
              "        text-align: right;\n",
              "    }\n",
              "</style>\n",
              "<table border=\"1\" class=\"dataframe\">\n",
              "  <thead>\n",
              "    <tr style=\"text-align: right;\">\n",
              "      <th></th>\n",
              "      <th>lat</th>\n",
              "      <th>lon</th>\n",
              "      <th>PD_10.65</th>\n",
              "      <th>PD_89.00</th>\n",
              "      <th>PD_166.0</th>\n",
              "      <th>ts</th>\n",
              "      <th>clwp</th>\n",
              "      <th>twv</th>\n",
              "      <th>tc_0</th>\n",
              "      <th>tc_1</th>\n",
              "      <th>tc_2</th>\n",
              "      <th>tc_3</th>\n",
              "      <th>tc_4</th>\n",
              "      <th>tc_5</th>\n",
              "      <th>tc_6</th>\n",
              "      <th>tc_7</th>\n",
              "      <th>tc_8</th>\n",
              "      <th>tc_9</th>\n",
              "      <th>tc_10</th>\n",
              "      <th>tc_11</th>\n",
              "      <th>tc_12</th>\n",
              "    </tr>\n",
              "  </thead>\n",
              "  <tbody>\n",
              "    <tr>\n",
              "      <th>6219</th>\n",
              "      <td>-63.970222</td>\n",
              "      <td>-44.958664</td>\n",
              "      <td>46.440002</td>\n",
              "      <td>13.149994</td>\n",
              "      <td>2.550003</td>\n",
              "      <td>269.916016</td>\n",
              "      <td>0.069215</td>\n",
              "      <td>7.392964</td>\n",
              "      <td>245.919998</td>\n",
              "      <td>199.479996</td>\n",
              "      <td>236.410004</td>\n",
              "      <td>196.220001</td>\n",
              "      <td>233.960007</td>\n",
              "      <td>223.070007</td>\n",
              "      <td>193.190002</td>\n",
              "      <td>227.559998</td>\n",
              "      <td>214.410004</td>\n",
              "      <td>252.880005</td>\n",
              "      <td>250.330002</td>\n",
              "      <td>252.550003</td>\n",
              "      <td>260.859985</td>\n",
              "    </tr>\n",
              "    <tr>\n",
              "      <th>6220</th>\n",
              "      <td>-64.060516</td>\n",
              "      <td>-45.017330</td>\n",
              "      <td>48.970001</td>\n",
              "      <td>19.000000</td>\n",
              "      <td>5.559998</td>\n",
              "      <td>269.917816</td>\n",
              "      <td>0.070007</td>\n",
              "      <td>7.295566</td>\n",
              "      <td>246.220001</td>\n",
              "      <td>197.250000</td>\n",
              "      <td>236.199997</td>\n",
              "      <td>192.419998</td>\n",
              "      <td>231.759995</td>\n",
              "      <td>223.720001</td>\n",
              "      <td>191.770004</td>\n",
              "      <td>226.539993</td>\n",
              "      <td>207.539993</td>\n",
              "      <td>250.630005</td>\n",
              "      <td>245.070007</td>\n",
              "      <td>253.000000</td>\n",
              "      <td>260.149994</td>\n",
              "    </tr>\n",
              "    <tr>\n",
              "      <th>6221</th>\n",
              "      <td>-64.105881</td>\n",
              "      <td>-45.044941</td>\n",
              "      <td>48.649994</td>\n",
              "      <td>14.860001</td>\n",
              "      <td>6.599991</td>\n",
              "      <td>269.924072</td>\n",
              "      <td>0.071173</td>\n",
              "      <td>7.393708</td>\n",
              "      <td>245.429993</td>\n",
              "      <td>196.779999</td>\n",
              "      <td>235.919998</td>\n",
              "      <td>188.669998</td>\n",
              "      <td>232.839996</td>\n",
              "      <td>223.850006</td>\n",
              "      <td>195.279999</td>\n",
              "      <td>223.919998</td>\n",
              "      <td>209.059998</td>\n",
              "      <td>251.309998</td>\n",
              "      <td>244.710007</td>\n",
              "      <td>252.990005</td>\n",
              "      <td>259.760010</td>\n",
              "    </tr>\n",
              "    <tr>\n",
              "      <th>6256</th>\n",
              "      <td>-65.920784</td>\n",
              "      <td>-45.132149</td>\n",
              "      <td>27.129990</td>\n",
              "      <td>10.250000</td>\n",
              "      <td>2.050003</td>\n",
              "      <td>270.087494</td>\n",
              "      <td>0.144744</td>\n",
              "      <td>8.787667</td>\n",
              "      <td>252.619995</td>\n",
              "      <td>225.490005</td>\n",
              "      <td>245.110001</td>\n",
              "      <td>214.339996</td>\n",
              "      <td>241.229996</td>\n",
              "      <td>228.350006</td>\n",
              "      <td>208.919998</td>\n",
              "      <td>224.759995</td>\n",
              "      <td>214.509995</td>\n",
              "      <td>248.699997</td>\n",
              "      <td>246.649994</td>\n",
              "      <td>248.740005</td>\n",
              "      <td>257.279999</td>\n",
              "    </tr>\n",
              "    <tr>\n",
              "      <th>6257</th>\n",
              "      <td>-65.966667</td>\n",
              "      <td>-45.107044</td>\n",
              "      <td>25.029999</td>\n",
              "      <td>10.630005</td>\n",
              "      <td>2.980011</td>\n",
              "      <td>270.080017</td>\n",
              "      <td>0.146130</td>\n",
              "      <td>8.735859</td>\n",
              "      <td>253.080002</td>\n",
              "      <td>228.050003</td>\n",
              "      <td>246.460007</td>\n",
              "      <td>216.509995</td>\n",
              "      <td>244.440002</td>\n",
              "      <td>231.550003</td>\n",
              "      <td>211.410004</td>\n",
              "      <td>227.520004</td>\n",
              "      <td>216.889999</td>\n",
              "      <td>247.820007</td>\n",
              "      <td>244.839996</td>\n",
              "      <td>249.250000</td>\n",
              "      <td>257.329987</td>\n",
              "    </tr>\n",
              "  </tbody>\n",
              "</table>\n",
              "</div>"
            ],
            "text/plain": [
              "            lat        lon   PD_10.65  ...       tc_10       tc_11       tc_12\n",
              "6219 -63.970222 -44.958664  46.440002  ...  250.330002  252.550003  260.859985\n",
              "6220 -64.060516 -45.017330  48.970001  ...  245.070007  253.000000  260.149994\n",
              "6221 -64.105881 -45.044941  48.649994  ...  244.710007  252.990005  259.760010\n",
              "6256 -65.920784 -45.132149  27.129990  ...  246.649994  248.740005  257.279999\n",
              "6257 -65.966667 -45.107044  25.029999  ...  244.839996  249.250000  257.329987\n",
              "\n",
              "[5 rows x 21 columns]"
            ]
          },
          "metadata": {
            "tags": []
          },
          "execution_count": 11
        }
      ]
    },
    {
      "cell_type": "code",
      "metadata": {
        "id": "hKfCIXh4B6BP",
        "colab_type": "code",
        "colab": {
          "base_uri": "https://localhost:8080/",
          "height": 52
        },
        "outputId": "26aaa945-6850-48ae-f75a-052d79236301"
      },
      "source": [
        "print(y.shape)\n",
        "y_dropped = y[(~np.isnan(y['pflag'])) & (data_df['ts'] != -99.0) & (~np.isnan(data_df['twv']))]\n",
        "print(y_dropped.shape)"
      ],
      "execution_count": 12,
      "outputs": [
        {
          "output_type": "stream",
          "text": [
            "(7596504, 1)\n",
            "(667630, 1)\n"
          ],
          "name": "stdout"
        }
      ]
    },
    {
      "cell_type": "code",
      "metadata": {
        "id": "yS-IBQDh7DOa",
        "colab_type": "code",
        "colab": {
          "base_uri": "https://localhost:8080/",
          "height": 35
        },
        "outputId": "0ddfbffe-fe12-4dfa-ba36-c29c92f73ca7"
      },
      "source": [
        "from sklearn.preprocessing import StandardScaler\n",
        "scaler = StandardScaler()\n",
        "X_prep = scaler.fit_transform(X_dropped)\n",
        "X_prep.shape"
      ],
      "execution_count": 13,
      "outputs": [
        {
          "output_type": "execute_result",
          "data": {
            "text/plain": [
              "(667630, 21)"
            ]
          },
          "metadata": {
            "tags": []
          },
          "execution_count": 13
        }
      ]
    },
    {
      "cell_type": "code",
      "metadata": {
        "id": "AYVdCz4i9ueZ",
        "colab_type": "code",
        "colab": {
          "base_uri": "https://localhost:8080/",
          "height": 35
        },
        "outputId": "2da99b28-ac0a-4849-9e68-be9cb043393b"
      },
      "source": [
        "from sklearn.preprocessing import OneHotEncoder\n",
        "ohe = OneHotEncoder()\n",
        "y_prep = ohe.fit_transform(y_dropped).toarray()\n",
        "y_prep.shape"
      ],
      "execution_count": 14,
      "outputs": [
        {
          "output_type": "execute_result",
          "data": {
            "text/plain": [
              "(667630, 4)"
            ]
          },
          "metadata": {
            "tags": []
          },
          "execution_count": 14
        }
      ]
    },
    {
      "cell_type": "code",
      "metadata": {
        "id": "uQQgz5JHZobt",
        "colab_type": "code",
        "colab": {
          "base_uri": "https://localhost:8080/",
          "height": 35
        },
        "outputId": "f5998df6-9241-4e3d-8837-4e1e04ea8c41"
      },
      "source": [
        "type(y_prep)"
      ],
      "execution_count": 15,
      "outputs": [
        {
          "output_type": "execute_result",
          "data": {
            "text/plain": [
              "numpy.ndarray"
            ]
          },
          "metadata": {
            "tags": []
          },
          "execution_count": 15
        }
      ]
    },
    {
      "cell_type": "code",
      "metadata": {
        "id": "SgytUpa6yL95",
        "colab_type": "code",
        "colab": {
          "base_uri": "https://localhost:8080/",
          "height": 52
        },
        "outputId": "9a41b7ce-855c-4c9b-a09e-221d225945ef"
      },
      "source": [
        "# should be all zeros\n",
        "print(\"X: \", sum(np.isnan(X_prep)))\n",
        "print(\"y: \", sum(np.isnan(y_prep)))"
      ],
      "execution_count": 16,
      "outputs": [
        {
          "output_type": "stream",
          "text": [
            "X:  [0 0 0 0 0 0 0 0 0 0 0 0 0 0 0 0 0 0 0 0 0]\n",
            "y:  [0 0 0 0]\n"
          ],
          "name": "stdout"
        }
      ]
    },
    {
      "cell_type": "markdown",
      "metadata": {
        "id": "EgjQCV_mE7UV",
        "colab_type": "text"
      },
      "source": [
        "# Save Data"
      ]
    },
    {
      "cell_type": "code",
      "metadata": {
        "id": "q8MCJ_m192Z5",
        "colab_type": "code",
        "colab": {}
      },
      "source": [
        "with open(BASE_DIR + 'X_data.pkl', 'wb') as f:\n",
        "  pickle.dump(X_prep, f)\n",
        "\n",
        "with open(BASE_DIR + 'y_data.pkl', 'wb') as f:\n",
        "  pickle.dump(y_prep, f)"
      ],
      "execution_count": 17,
      "outputs": []
    }
  ]
}
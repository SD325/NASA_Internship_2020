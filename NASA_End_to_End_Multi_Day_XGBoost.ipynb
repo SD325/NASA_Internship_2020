{
  "nbformat": 4,
  "nbformat_minor": 0,
  "metadata": {
    "colab": {
      "name": "NASA_End_to_End_Multi_Day_XGBoost.ipynb",
      "provenance": [],
      "collapsed_sections": [
        "G2EU8pbqwcZS",
        "DB-_NNIqwimR",
        "sKdqEktswkRP",
        "RIjr5pg2IDe_",
        "HDR119ZZVsu7"
      ],
      "authorship_tag": "ABX9TyMo0psWbtzzXXcw4jhXqLYV",
      "include_colab_link": true
    },
    "kernelspec": {
      "name": "python3",
      "display_name": "Python 3"
    }
  },
  "cells": [
    {
      "cell_type": "markdown",
      "metadata": {
        "id": "view-in-github",
        "colab_type": "text"
      },
      "source": [
        "<a href=\"https://colab.research.google.com/github/SD325/NASA_Internship_2020/blob/master/NASA_End_to_End_Multi_Day_XGBoost.ipynb\" target=\"_parent\"><img src=\"https://colab.research.google.com/assets/colab-badge.svg\" alt=\"Open In Colab\"/></a>"
      ]
    },
    {
      "cell_type": "code",
      "metadata": {
        "id": "zFLPeuvoHnXs",
        "colab_type": "code",
        "colab": {
          "base_uri": "https://localhost:8080/",
          "height": 35
        },
        "outputId": "9ed1bdbc-981d-4cbc-f099-7251ebada06e"
      },
      "source": [
        "# mount Google Drive\n",
        "from google.colab import drive\n",
        "drive.mount('/content/drive')"
      ],
      "execution_count": 1,
      "outputs": [
        {
          "output_type": "stream",
          "text": [
            "Drive already mounted at /content/drive; to attempt to forcibly remount, call drive.mount(\"/content/drive\", force_remount=True).\n"
          ],
          "name": "stdout"
        }
      ]
    },
    {
      "cell_type": "code",
      "metadata": {
        "id": "bQWPnrTYHv1V",
        "colab_type": "code",
        "colab": {}
      },
      "source": [
        "# Suppress warnings\n",
        "import warnings\n",
        "warnings.filterwarnings(\"ignore\")\n",
        "\n",
        "# Imports\n",
        "import joblib\n",
        "import pickle\n",
        "import scipy.io\n",
        "import numpy as np\n",
        "import pandas as pd\n",
        "import matplotlib.pyplot as plt\n",
        "import seaborn as sns\n",
        "import os\n",
        "\n",
        "# import tensorflow as tf\n",
        "# from tensorflow import keras\n",
        "# from tensorflow.keras import layers\n",
        "\n",
        "# import xgboost as xgb\n",
        "from xgboost import XGBClassifier\n",
        "\n",
        "from sklearn.model_selection import train_test_split\n",
        "# from sklearn.ensemble import RandomForestClassifier\n",
        "from sklearn.metrics import accuracy_score\n",
        "from sklearn.metrics import confusion_matrix\n",
        "\n",
        "\n",
        "# Working Directory \n",
        "BASE_DIR = '/content/drive/My Drive/data/NASA_2020/'"
      ],
      "execution_count": 2,
      "outputs": []
    },
    {
      "cell_type": "markdown",
      "metadata": {
        "id": "G2EU8pbqwcZS",
        "colab_type": "text"
      },
      "source": [
        "# Prepare Data"
      ]
    },
    {
      "cell_type": "markdown",
      "metadata": {
        "id": "DB-_NNIqwimR",
        "colab_type": "text"
      },
      "source": [
        "## Read Data"
      ]
    },
    {
      "cell_type": "code",
      "metadata": {
        "id": "--hRProwwWyJ",
        "colab_type": "code",
        "colab": {
          "base_uri": "https://localhost:8080/",
          "height": 1000
        },
        "outputId": "7d4c70ad-d2a9-4a87-be9a-754f8c2a041a"
      },
      "source": [
        "import scipy.io\n",
        "BASE_DIR = '/content/drive/My Drive/data/NASA_2020/'\n",
        "# fall, winter, spring, summer\n",
        "filenames =['colloc_Precipflag_DPR_GMI_20151007.sav',\n",
        "            'colloc_Precipflag_DPR_GMI_20160113.sav',\n",
        "            'colloc_Precipflag_DPR_GMI_20160401.sav']\n",
        "            #,'colloc_Precipflag_DPR_GMI_20170606.sav']\n",
        "FILE_PATHS = [BASE_DIR + fn for fn in filenames]\n",
        "data = [scipy.io.readsav(filepath, verbose=1) for filepath in FILE_PATHS]"
      ],
      "execution_count": 3,
      "outputs": [
        {
          "output_type": "stream",
          "text": [
            "--------------------------------------------------\n",
            "Date: Sat Jun 27 00:49:52 2020\n",
            "User: jgong\n",
            "Host: gs613-cirrus.ndc.nasa.gov\n",
            "--------------------------------------------------\n",
            "Format: 12\n",
            "Architecture: x86_64\n",
            "Operating System: linux\n",
            "IDL Version: 8.7.3\n",
            "--------------------------------------------------\n",
            "Successfully read 14 records of which:\n",
            " - 11 are of type VARIABLE\n",
            " - 1 are of type VERSION\n",
            " - 1 are of type TIMESTAMP\n",
            "--------------------------------------------------\n",
            "Available variables:\n",
            " - tc [<class 'numpy.ndarray'>]\n",
            " - latc [<class 'numpy.ndarray'>]\n",
            " - lonc [<class 'numpy.ndarray'>]\n",
            " - utc [<class 'numpy.ndarray'>]\n",
            " - emis [<class 'numpy.ndarray'>]\n",
            " - emis_std [<class 'numpy.ndarray'>]\n",
            " - ts [<class 'numpy.ndarray'>]\n",
            " - clwp [<class 'numpy.ndarray'>]\n",
            " - twv [<class 'numpy.ndarray'>]\n",
            " - tysfc [<class 'numpy.ndarray'>]\n",
            " - pflag [<class 'numpy.ndarray'>]\n",
            "--------------------------------------------------\n",
            "--------------------------------------------------\n",
            "Date: Fri Jun 26 15:53:36 2020\n",
            "User: jgong\n",
            "Host: gs613-cirrus.ndc.nasa.gov\n",
            "--------------------------------------------------\n",
            "Format: 12\n",
            "Architecture: x86_64\n",
            "Operating System: linux\n",
            "IDL Version: 8.7.3\n",
            "--------------------------------------------------\n",
            "Successfully read 14 records of which:\n",
            " - 11 are of type VARIABLE\n",
            " - 1 are of type VERSION\n",
            " - 1 are of type TIMESTAMP\n",
            "--------------------------------------------------\n",
            "Available variables:\n",
            " - tc [<class 'numpy.ndarray'>]\n",
            " - latc [<class 'numpy.ndarray'>]\n",
            " - lonc [<class 'numpy.ndarray'>]\n",
            " - utc [<class 'numpy.ndarray'>]\n",
            " - emis [<class 'numpy.ndarray'>]\n",
            " - emis_std [<class 'numpy.ndarray'>]\n",
            " - ts [<class 'numpy.ndarray'>]\n",
            " - clwp [<class 'numpy.ndarray'>]\n",
            " - twv [<class 'numpy.ndarray'>]\n",
            " - tysfc [<class 'numpy.ndarray'>]\n",
            " - pflag [<class 'numpy.ndarray'>]\n",
            "--------------------------------------------------\n",
            "--------------------------------------------------\n",
            "Date: Fri Jun 26 09:39:17 2020\n",
            "User: jgong\n",
            "Host: gs613-cirrus.ndc.nasa.gov\n",
            "--------------------------------------------------\n",
            "Format: 12\n",
            "Architecture: x86_64\n",
            "Operating System: linux\n",
            "IDL Version: 8.7.3\n",
            "--------------------------------------------------\n",
            "Successfully read 14 records of which:\n",
            " - 11 are of type VARIABLE\n",
            " - 1 are of type VERSION\n",
            " - 1 are of type TIMESTAMP\n",
            "--------------------------------------------------\n",
            "Available variables:\n",
            " - tc [<class 'numpy.ndarray'>]\n",
            " - latc [<class 'numpy.ndarray'>]\n",
            " - lonc [<class 'numpy.ndarray'>]\n",
            " - utc [<class 'numpy.ndarray'>]\n",
            " - emis [<class 'numpy.ndarray'>]\n",
            " - emis_std [<class 'numpy.ndarray'>]\n",
            " - ts [<class 'numpy.ndarray'>]\n",
            " - clwp [<class 'numpy.ndarray'>]\n",
            " - twv [<class 'numpy.ndarray'>]\n",
            " - tysfc [<class 'numpy.ndarray'>]\n",
            " - pflag [<class 'numpy.ndarray'>]\n",
            "--------------------------------------------------\n"
          ],
          "name": "stdout"
        }
      ]
    },
    {
      "cell_type": "markdown",
      "metadata": {
        "id": "sKdqEktswkRP",
        "colab_type": "text"
      },
      "source": [
        "## Trim Data"
      ]
    },
    {
      "cell_type": "code",
      "metadata": {
        "id": "t9a9a48Iwl5L",
        "colab_type": "code",
        "colab": {
          "base_uri": "https://localhost:8080/",
          "height": 651
        },
        "outputId": "cfeb2f6c-91f9-4f0b-e2d7-a4d076dc3c4c"
      },
      "source": [
        "import copy\n",
        "data_trimmed = []\n",
        "for i, data_i in enumerate(data):\n",
        "  data_trimmed_i = {}\n",
        "  for var, arr in data_i.items():\n",
        "    if arr.ndim == 1:\n",
        "      data_trimmed_i[var] = arr[1:] \n",
        "    else:\n",
        "      data_trimmed_i[var] = arr[1:, 25:196] if arr.ndim == 2 else arr[1:, 25:196, :] \n",
        "\n",
        "  for var, arr in data_trimmed_i.items():\n",
        "    print(f\"{var}: {arr.shape}\")\n",
        "  print('-' * 15)\n",
        "  data_trimmed.append(data_trimmed_i)\n",
        "\n",
        "# free up memory\n",
        "del data"
      ],
      "execution_count": 4,
      "outputs": [
        {
          "output_type": "stream",
          "text": [
            "tc: (47380, 171, 13)\n",
            "latc: (47380, 171)\n",
            "lonc: (47380, 171)\n",
            "utc: (47380,)\n",
            "emis: (47380, 171, 13)\n",
            "emis_std: (47380, 171, 13)\n",
            "ts: (47380, 171)\n",
            "clwp: (47380, 171)\n",
            "twv: (47380, 171)\n",
            "tysfc: (47380, 171)\n",
            "pflag: (47380, 171)\n",
            "---------------\n",
            "tc: (47370, 171, 13)\n",
            "latc: (47370, 171)\n",
            "lonc: (47370, 171)\n",
            "utc: (47370,)\n",
            "emis: (47370, 171, 13)\n",
            "emis_std: (47370, 171, 13)\n",
            "ts: (47370, 171)\n",
            "clwp: (47370, 171)\n",
            "twv: (47370, 171)\n",
            "tysfc: (47370, 171)\n",
            "pflag: (47370, 171)\n",
            "---------------\n",
            "tc: (47407, 171, 13)\n",
            "latc: (47407, 171)\n",
            "lonc: (47407, 171)\n",
            "utc: (47407,)\n",
            "emis: (47407, 171, 13)\n",
            "emis_std: (47407, 171, 13)\n",
            "ts: (47407, 171)\n",
            "clwp: (47407, 171)\n",
            "twv: (47407, 171)\n",
            "tysfc: (47407, 171)\n",
            "pflag: (47407, 171)\n",
            "---------------\n"
          ],
          "name": "stdout"
        }
      ]
    },
    {
      "cell_type": "markdown",
      "metadata": {
        "id": "RVzEr_LCwpKO",
        "colab_type": "text"
      },
      "source": [
        "## Polarization Differences (PDs)"
      ]
    },
    {
      "cell_type": "code",
      "metadata": {
        "id": "fKHZmrbuwsTM",
        "colab_type": "code",
        "colab": {
          "base_uri": "https://localhost:8080/",
          "height": 70
        },
        "outputId": "313343f9-7de8-4a61-8895-fa7e638ebcc3"
      },
      "source": [
        "# calculate polarization differences (PD)\n",
        "def add_to_PD_i(i, freq, ind1, ind2, data):\n",
        "  PD[i][freq] = data[i]['tc'][:, :, ind1] - data[i]['tc'][:, :, ind2]\n",
        "\n",
        "PD = [{} for _ in range(len(data_trimmed))]\n",
        "for i in range(len(data_trimmed)):\n",
        "  add_to_PD_i(i, '10.65', 0, 1, data_trimmed)\n",
        "  add_to_PD_i(i, '18.70', 2, 3, data_trimmed)\n",
        "  add_to_PD_i(i, '36.50', 5, 6, data_trimmed)\n",
        "  add_to_PD_i(i, '89.00', 7, 8, data_trimmed)\n",
        "  add_to_PD_i(i, '166.0', 9, 10, data_trimmed)\n",
        "  print(PD[i].keys())"
      ],
      "execution_count": 5,
      "outputs": [
        {
          "output_type": "stream",
          "text": [
            "dict_keys(['10.65', '18.70', '36.50', '89.00', '166.0'])\n",
            "dict_keys(['10.65', '18.70', '36.50', '89.00', '166.0'])\n",
            "dict_keys(['10.65', '18.70', '36.50', '89.00', '166.0'])\n"
          ],
          "name": "stdout"
        }
      ]
    },
    {
      "cell_type": "markdown",
      "metadata": {
        "id": "-VN0mCqvwy6b",
        "colab_type": "text"
      },
      "source": [
        "## Construct DataFrame"
      ]
    },
    {
      "cell_type": "code",
      "metadata": {
        "id": "36y3bA0Gw1E0",
        "colab_type": "code",
        "colab": {
          "base_uri": "https://localhost:8080/",
          "height": 240
        },
        "outputId": "73d54eb1-04e2-4484-a910-0b7a33b1a433"
      },
      "source": [
        "# ravel 2d data --> scans one after another\n",
        "'''\n",
        "* 13 channels TB\n",
        "* 3 channels PD (10.65, 89 and 166 GHz)\n",
        "x Surface emissivity\n",
        "* Ts\n",
        "* CLWP\n",
        "* TWV\n",
        "* Lat/Lon\n",
        "- Day of the year starting from the first day of the year (i.e., Julian day. For example, 1/1/2017 is 1, 2/1/2017 is 32)\n",
        "'''\n",
        "data_dfs = []\n",
        "\n",
        "PD_freqs_append = ['10.65', '89.00', '166.0']\n",
        "data_2d = {'latc': 'lat',\n",
        "           'lonc': 'lon',\n",
        "           'ts': 'ts',\n",
        "           'clwp': 'clwp',\n",
        "           'twv': 'twv'}\n",
        "for i, data_i in enumerate(data_trimmed):\n",
        "  curr_df = pd.DataFrame()\n",
        "  # 2d data\n",
        "  for data_name, df_name in data_2d.items():\n",
        "    curr_df[df_name] = np.ravel(data_i[data_name])\n",
        "\n",
        "  # PDs\n",
        "  for freq in PD_freqs_append:\n",
        "    curr_df[f'PD_{freq}'] = np.ravel(PD[i][freq])\n",
        "\n",
        "  # 3d data\n",
        "  for idx in range(data_i['tc'].shape[2]):\n",
        "    curr_df[f'tc_{idx}'] = np.ravel(data_i['tc'][:, :, idx])\n",
        "\n",
        "  data_dfs.append(curr_df)\n",
        "  del curr_df\n",
        "\n",
        "print('combining DataFrames')\n",
        "data_df = pd.concat(data_dfs, ignore_index = True)\n",
        "del data_dfs\n",
        "data_df.head()"
      ],
      "execution_count": 6,
      "outputs": [
        {
          "output_type": "stream",
          "text": [
            "combining DataFrames\n"
          ],
          "name": "stdout"
        },
        {
          "output_type": "execute_result",
          "data": {
            "text/html": [
              "<div>\n",
              "<style scoped>\n",
              "    .dataframe tbody tr th:only-of-type {\n",
              "        vertical-align: middle;\n",
              "    }\n",
              "\n",
              "    .dataframe tbody tr th {\n",
              "        vertical-align: top;\n",
              "    }\n",
              "\n",
              "    .dataframe thead th {\n",
              "        text-align: right;\n",
              "    }\n",
              "</style>\n",
              "<table border=\"1\" class=\"dataframe\">\n",
              "  <thead>\n",
              "    <tr style=\"text-align: right;\">\n",
              "      <th></th>\n",
              "      <th>lat</th>\n",
              "      <th>lon</th>\n",
              "      <th>ts</th>\n",
              "      <th>clwp</th>\n",
              "      <th>twv</th>\n",
              "      <th>PD_10.65</th>\n",
              "      <th>PD_89.00</th>\n",
              "      <th>PD_166.0</th>\n",
              "      <th>tc_0</th>\n",
              "      <th>tc_1</th>\n",
              "      <th>tc_2</th>\n",
              "      <th>tc_3</th>\n",
              "      <th>tc_4</th>\n",
              "      <th>tc_5</th>\n",
              "      <th>tc_6</th>\n",
              "      <th>tc_7</th>\n",
              "      <th>tc_8</th>\n",
              "      <th>tc_9</th>\n",
              "      <th>tc_10</th>\n",
              "      <th>tc_11</th>\n",
              "      <th>tc_12</th>\n",
              "    </tr>\n",
              "  </thead>\n",
              "  <tbody>\n",
              "    <tr>\n",
              "      <th>0</th>\n",
              "      <td>-68.794342</td>\n",
              "      <td>121.109978</td>\n",
              "      <td>-99.0</td>\n",
              "      <td>-99.0</td>\n",
              "      <td>-99.0</td>\n",
              "      <td>22.889999</td>\n",
              "      <td>14.330002</td>\n",
              "      <td>10.839996</td>\n",
              "      <td>228.770004</td>\n",
              "      <td>205.880005</td>\n",
              "      <td>223.490005</td>\n",
              "      <td>204.559998</td>\n",
              "      <td>222.809998</td>\n",
              "      <td>224.610001</td>\n",
              "      <td>208.850006</td>\n",
              "      <td>231.000000</td>\n",
              "      <td>216.669998</td>\n",
              "      <td>227.389999</td>\n",
              "      <td>216.550003</td>\n",
              "      <td>237.830002</td>\n",
              "      <td>230.470001</td>\n",
              "    </tr>\n",
              "    <tr>\n",
              "      <th>1</th>\n",
              "      <td>-68.736092</td>\n",
              "      <td>121.270271</td>\n",
              "      <td>-99.0</td>\n",
              "      <td>-99.0</td>\n",
              "      <td>-99.0</td>\n",
              "      <td>24.899994</td>\n",
              "      <td>13.979996</td>\n",
              "      <td>12.560013</td>\n",
              "      <td>229.369995</td>\n",
              "      <td>204.470001</td>\n",
              "      <td>222.880005</td>\n",
              "      <td>203.619995</td>\n",
              "      <td>223.070007</td>\n",
              "      <td>224.199997</td>\n",
              "      <td>208.869995</td>\n",
              "      <td>230.679993</td>\n",
              "      <td>216.699997</td>\n",
              "      <td>228.960007</td>\n",
              "      <td>216.399994</td>\n",
              "      <td>237.610001</td>\n",
              "      <td>231.130005</td>\n",
              "    </tr>\n",
              "    <tr>\n",
              "      <th>2</th>\n",
              "      <td>-68.716942</td>\n",
              "      <td>121.389320</td>\n",
              "      <td>-99.0</td>\n",
              "      <td>-99.0</td>\n",
              "      <td>-99.0</td>\n",
              "      <td>24.840012</td>\n",
              "      <td>14.509995</td>\n",
              "      <td>9.139999</td>\n",
              "      <td>228.990005</td>\n",
              "      <td>204.149994</td>\n",
              "      <td>223.880005</td>\n",
              "      <td>203.710007</td>\n",
              "      <td>223.369995</td>\n",
              "      <td>224.240005</td>\n",
              "      <td>208.160004</td>\n",
              "      <td>231.479996</td>\n",
              "      <td>216.970001</td>\n",
              "      <td>227.419998</td>\n",
              "      <td>218.279999</td>\n",
              "      <td>238.160004</td>\n",
              "      <td>231.839996</td>\n",
              "    </tr>\n",
              "    <tr>\n",
              "      <th>3</th>\n",
              "      <td>-68.697197</td>\n",
              "      <td>121.507530</td>\n",
              "      <td>-99.0</td>\n",
              "      <td>-99.0</td>\n",
              "      <td>-99.0</td>\n",
              "      <td>25.550003</td>\n",
              "      <td>14.410004</td>\n",
              "      <td>10.429993</td>\n",
              "      <td>228.979996</td>\n",
              "      <td>203.429993</td>\n",
              "      <td>223.240005</td>\n",
              "      <td>202.210007</td>\n",
              "      <td>222.839996</td>\n",
              "      <td>224.020004</td>\n",
              "      <td>205.979996</td>\n",
              "      <td>231.139999</td>\n",
              "      <td>216.729996</td>\n",
              "      <td>226.339996</td>\n",
              "      <td>215.910004</td>\n",
              "      <td>237.490005</td>\n",
              "      <td>231.080002</td>\n",
              "    </tr>\n",
              "    <tr>\n",
              "      <th>4</th>\n",
              "      <td>-68.648026</td>\n",
              "      <td>121.535782</td>\n",
              "      <td>-99.0</td>\n",
              "      <td>-99.0</td>\n",
              "      <td>-99.0</td>\n",
              "      <td>24.010010</td>\n",
              "      <td>14.319992</td>\n",
              "      <td>10.379990</td>\n",
              "      <td>228.630005</td>\n",
              "      <td>204.619995</td>\n",
              "      <td>223.919998</td>\n",
              "      <td>202.509995</td>\n",
              "      <td>222.520004</td>\n",
              "      <td>223.520004</td>\n",
              "      <td>206.960007</td>\n",
              "      <td>230.789993</td>\n",
              "      <td>216.470001</td>\n",
              "      <td>228.259995</td>\n",
              "      <td>217.880005</td>\n",
              "      <td>238.449997</td>\n",
              "      <td>231.389999</td>\n",
              "    </tr>\n",
              "  </tbody>\n",
              "</table>\n",
              "</div>"
            ],
            "text/plain": [
              "         lat         lon    ts  ...       tc_10       tc_11       tc_12\n",
              "0 -68.794342  121.109978 -99.0  ...  216.550003  237.830002  230.470001\n",
              "1 -68.736092  121.270271 -99.0  ...  216.399994  237.610001  231.130005\n",
              "2 -68.716942  121.389320 -99.0  ...  218.279999  238.160004  231.839996\n",
              "3 -68.697197  121.507530 -99.0  ...  215.910004  237.490005  231.080002\n",
              "4 -68.648026  121.535782 -99.0  ...  217.880005  238.449997  231.389999\n",
              "\n",
              "[5 rows x 21 columns]"
            ]
          },
          "metadata": {
            "tags": []
          },
          "execution_count": 6
        }
      ]
    },
    {
      "cell_type": "code",
      "metadata": {
        "id": "PU8xGSlnxFtz",
        "colab_type": "code",
        "colab": {
          "base_uri": "https://localhost:8080/",
          "height": 203
        },
        "outputId": "7a0f4ee7-74ff-419f-b3aa-1e848e9e0e57"
      },
      "source": [
        "y = pd.DataFrame()\n",
        "y['pflag'] = np.concatenate(tuple(np.ravel(data_trimmed[i]['pflag']).byteswap().newbyteorder() for i in range(len(data_trimmed))))\n",
        "y.head()"
      ],
      "execution_count": 7,
      "outputs": [
        {
          "output_type": "execute_result",
          "data": {
            "text/html": [
              "<div>\n",
              "<style scoped>\n",
              "    .dataframe tbody tr th:only-of-type {\n",
              "        vertical-align: middle;\n",
              "    }\n",
              "\n",
              "    .dataframe tbody tr th {\n",
              "        vertical-align: top;\n",
              "    }\n",
              "\n",
              "    .dataframe thead th {\n",
              "        text-align: right;\n",
              "    }\n",
              "</style>\n",
              "<table border=\"1\" class=\"dataframe\">\n",
              "  <thead>\n",
              "    <tr style=\"text-align: right;\">\n",
              "      <th></th>\n",
              "      <th>pflag</th>\n",
              "    </tr>\n",
              "  </thead>\n",
              "  <tbody>\n",
              "    <tr>\n",
              "      <th>0</th>\n",
              "      <td>NaN</td>\n",
              "    </tr>\n",
              "    <tr>\n",
              "      <th>1</th>\n",
              "      <td>NaN</td>\n",
              "    </tr>\n",
              "    <tr>\n",
              "      <th>2</th>\n",
              "      <td>NaN</td>\n",
              "    </tr>\n",
              "    <tr>\n",
              "      <th>3</th>\n",
              "      <td>NaN</td>\n",
              "    </tr>\n",
              "    <tr>\n",
              "      <th>4</th>\n",
              "      <td>NaN</td>\n",
              "    </tr>\n",
              "  </tbody>\n",
              "</table>\n",
              "</div>"
            ],
            "text/plain": [
              "   pflag\n",
              "0    NaN\n",
              "1    NaN\n",
              "2    NaN\n",
              "3    NaN\n",
              "4    NaN"
            ]
          },
          "metadata": {
            "tags": []
          },
          "execution_count": 7
        }
      ]
    },
    {
      "cell_type": "markdown",
      "metadata": {
        "id": "LUlCzB6ixJes",
        "colab_type": "text"
      },
      "source": [
        "## Drop Unwanted"
      ]
    },
    {
      "cell_type": "code",
      "metadata": {
        "id": "JNLnjKZ-xPh9",
        "colab_type": "code",
        "colab": {
          "base_uri": "https://localhost:8080/",
          "height": 223
        },
        "outputId": "16203081-fc17-48c0-9673-4201d2b0ef14"
      },
      "source": [
        "X_dropped = data_df[(~np.isnan(y['pflag'])) & (data_df['ts'] != -99.0) & (~np.isnan(data_df['twv']))]\n",
        "X_dropped.head()"
      ],
      "execution_count": 8,
      "outputs": [
        {
          "output_type": "execute_result",
          "data": {
            "text/html": [
              "<div>\n",
              "<style scoped>\n",
              "    .dataframe tbody tr th:only-of-type {\n",
              "        vertical-align: middle;\n",
              "    }\n",
              "\n",
              "    .dataframe tbody tr th {\n",
              "        vertical-align: top;\n",
              "    }\n",
              "\n",
              "    .dataframe thead th {\n",
              "        text-align: right;\n",
              "    }\n",
              "</style>\n",
              "<table border=\"1\" class=\"dataframe\">\n",
              "  <thead>\n",
              "    <tr style=\"text-align: right;\">\n",
              "      <th></th>\n",
              "      <th>lat</th>\n",
              "      <th>lon</th>\n",
              "      <th>ts</th>\n",
              "      <th>clwp</th>\n",
              "      <th>twv</th>\n",
              "      <th>PD_10.65</th>\n",
              "      <th>PD_89.00</th>\n",
              "      <th>PD_166.0</th>\n",
              "      <th>tc_0</th>\n",
              "      <th>tc_1</th>\n",
              "      <th>tc_2</th>\n",
              "      <th>tc_3</th>\n",
              "      <th>tc_4</th>\n",
              "      <th>tc_5</th>\n",
              "      <th>tc_6</th>\n",
              "      <th>tc_7</th>\n",
              "      <th>tc_8</th>\n",
              "      <th>tc_9</th>\n",
              "      <th>tc_10</th>\n",
              "      <th>tc_11</th>\n",
              "      <th>tc_12</th>\n",
              "    </tr>\n",
              "  </thead>\n",
              "  <tbody>\n",
              "    <tr>\n",
              "      <th>405</th>\n",
              "      <td>-65.898605</td>\n",
              "      <td>125.724609</td>\n",
              "      <td>258.322540</td>\n",
              "      <td>0.011064</td>\n",
              "      <td>2.236660</td>\n",
              "      <td>29.500000</td>\n",
              "      <td>15.860001</td>\n",
              "      <td>7.970001</td>\n",
              "      <td>255.880005</td>\n",
              "      <td>226.380005</td>\n",
              "      <td>246.889999</td>\n",
              "      <td>221.880005</td>\n",
              "      <td>246.110001</td>\n",
              "      <td>244.300003</td>\n",
              "      <td>222.809998</td>\n",
              "      <td>235.240005</td>\n",
              "      <td>219.380005</td>\n",
              "      <td>229.220001</td>\n",
              "      <td>221.250000</td>\n",
              "      <td>246.289993</td>\n",
              "      <td>242.410004</td>\n",
              "    </tr>\n",
              "    <tr>\n",
              "      <th>406</th>\n",
              "      <td>-65.805023</td>\n",
              "      <td>125.751350</td>\n",
              "      <td>258.579742</td>\n",
              "      <td>0.014423</td>\n",
              "      <td>2.670216</td>\n",
              "      <td>29.080002</td>\n",
              "      <td>16.639999</td>\n",
              "      <td>8.400009</td>\n",
              "      <td>253.389999</td>\n",
              "      <td>224.309998</td>\n",
              "      <td>242.050003</td>\n",
              "      <td>215.660004</td>\n",
              "      <td>239.710007</td>\n",
              "      <td>241.649994</td>\n",
              "      <td>220.169998</td>\n",
              "      <td>236.690002</td>\n",
              "      <td>220.050003</td>\n",
              "      <td>230.100006</td>\n",
              "      <td>221.699997</td>\n",
              "      <td>246.559998</td>\n",
              "      <td>244.940002</td>\n",
              "    </tr>\n",
              "    <tr>\n",
              "      <th>407</th>\n",
              "      <td>-65.758141</td>\n",
              "      <td>125.762604</td>\n",
              "      <td>258.836304</td>\n",
              "      <td>0.017788</td>\n",
              "      <td>2.518587</td>\n",
              "      <td>30.960007</td>\n",
              "      <td>17.520004</td>\n",
              "      <td>9.369995</td>\n",
              "      <td>252.440002</td>\n",
              "      <td>221.479996</td>\n",
              "      <td>237.250000</td>\n",
              "      <td>211.589996</td>\n",
              "      <td>237.020004</td>\n",
              "      <td>238.259995</td>\n",
              "      <td>216.669998</td>\n",
              "      <td>236.710007</td>\n",
              "      <td>219.190002</td>\n",
              "      <td>231.639999</td>\n",
              "      <td>222.270004</td>\n",
              "      <td>246.270004</td>\n",
              "      <td>244.490005</td>\n",
              "    </tr>\n",
              "    <tr>\n",
              "      <th>408</th>\n",
              "      <td>-65.711205</td>\n",
              "      <td>125.772438</td>\n",
              "      <td>259.092346</td>\n",
              "      <td>0.021157</td>\n",
              "      <td>2.816634</td>\n",
              "      <td>31.970001</td>\n",
              "      <td>17.740005</td>\n",
              "      <td>8.839996</td>\n",
              "      <td>251.350006</td>\n",
              "      <td>219.380005</td>\n",
              "      <td>237.149994</td>\n",
              "      <td>211.309998</td>\n",
              "      <td>236.559998</td>\n",
              "      <td>239.070007</td>\n",
              "      <td>218.169998</td>\n",
              "      <td>236.779999</td>\n",
              "      <td>219.039993</td>\n",
              "      <td>232.750000</td>\n",
              "      <td>223.910004</td>\n",
              "      <td>245.880005</td>\n",
              "      <td>245.850006</td>\n",
              "    </tr>\n",
              "    <tr>\n",
              "      <th>409</th>\n",
              "      <td>-65.664230</td>\n",
              "      <td>125.780869</td>\n",
              "      <td>259.347931</td>\n",
              "      <td>0.024527</td>\n",
              "      <td>2.969014</td>\n",
              "      <td>28.739990</td>\n",
              "      <td>18.130005</td>\n",
              "      <td>9.139999</td>\n",
              "      <td>248.699997</td>\n",
              "      <td>219.960007</td>\n",
              "      <td>238.360001</td>\n",
              "      <td>211.179993</td>\n",
              "      <td>237.539993</td>\n",
              "      <td>239.399994</td>\n",
              "      <td>217.750000</td>\n",
              "      <td>238.830002</td>\n",
              "      <td>220.699997</td>\n",
              "      <td>234.940002</td>\n",
              "      <td>225.800003</td>\n",
              "      <td>245.990005</td>\n",
              "      <td>247.029999</td>\n",
              "    </tr>\n",
              "  </tbody>\n",
              "</table>\n",
              "</div>"
            ],
            "text/plain": [
              "           lat         lon          ts  ...       tc_10       tc_11       tc_12\n",
              "405 -65.898605  125.724609  258.322540  ...  221.250000  246.289993  242.410004\n",
              "406 -65.805023  125.751350  258.579742  ...  221.699997  246.559998  244.940002\n",
              "407 -65.758141  125.762604  258.836304  ...  222.270004  246.270004  244.490005\n",
              "408 -65.711205  125.772438  259.092346  ...  223.910004  245.880005  245.850006\n",
              "409 -65.664230  125.780869  259.347931  ...  225.800003  245.990005  247.029999\n",
              "\n",
              "[5 rows x 21 columns]"
            ]
          },
          "metadata": {
            "tags": []
          },
          "execution_count": 8
        }
      ]
    },
    {
      "cell_type": "code",
      "metadata": {
        "id": "OUSsuHFkxRaE",
        "colab_type": "code",
        "colab": {
          "base_uri": "https://localhost:8080/",
          "height": 52
        },
        "outputId": "3b04700a-92be-4ad3-edc7-7ca63bf7c0b2"
      },
      "source": [
        "print(y.shape)\n",
        "y_dropped = y[(~np.isnan(y['pflag'])) & (data_df['ts'] != -99.0) & (~np.isnan(data_df['twv']))]\n",
        "print(y_dropped.shape)"
      ],
      "execution_count": 9,
      "outputs": [
        {
          "output_type": "stream",
          "text": [
            "(24308847, 1)\n",
            "(2185776, 1)\n"
          ],
          "name": "stdout"
        }
      ]
    },
    {
      "cell_type": "code",
      "metadata": {
        "id": "7VsKs_pExT6o",
        "colab_type": "code",
        "colab": {}
      },
      "source": [
        "del data_df\n",
        "del y"
      ],
      "execution_count": 10,
      "outputs": []
    },
    {
      "cell_type": "markdown",
      "metadata": {
        "id": "Pg4XasjixV5w",
        "colab_type": "text"
      },
      "source": [
        "## Scale (Numerical) & One-Hot Encode (Categorical) Data"
      ]
    },
    {
      "cell_type": "code",
      "metadata": {
        "id": "C85MJ9OHxYFG",
        "colab_type": "code",
        "colab": {
          "base_uri": "https://localhost:8080/",
          "height": 35
        },
        "outputId": "9ac0aeee-c947-4b71-e5c3-d067c1cbacbf"
      },
      "source": [
        "from sklearn.preprocessing import StandardScaler\n",
        "scaler = StandardScaler()\n",
        "X_prep = scaler.fit_transform(X_dropped)\n",
        "X_prep.shape"
      ],
      "execution_count": 11,
      "outputs": [
        {
          "output_type": "execute_result",
          "data": {
            "text/plain": [
              "(2185776, 21)"
            ]
          },
          "metadata": {
            "tags": []
          },
          "execution_count": 11
        }
      ]
    },
    {
      "cell_type": "code",
      "metadata": {
        "id": "lJUQmLYfxlQr",
        "colab_type": "code",
        "colab": {
          "base_uri": "https://localhost:8080/",
          "height": 35
        },
        "outputId": "d1b499a2-fe0f-49a2-e601-472ec7bb7c36"
      },
      "source": [
        "from sklearn.preprocessing import OneHotEncoder\n",
        "ohe = OneHotEncoder()\n",
        "y_prep = ohe.fit_transform(y_dropped).toarray()\n",
        "y_prep.shape"
      ],
      "execution_count": 12,
      "outputs": [
        {
          "output_type": "execute_result",
          "data": {
            "text/plain": [
              "(2185776, 4)"
            ]
          },
          "metadata": {
            "tags": []
          },
          "execution_count": 12
        }
      ]
    },
    {
      "cell_type": "code",
      "metadata": {
        "id": "JWSa7nhryPFJ",
        "colab_type": "code",
        "colab": {}
      },
      "source": [
        "del X_dropped\n",
        "del y_dropped"
      ],
      "execution_count": 13,
      "outputs": []
    },
    {
      "cell_type": "code",
      "metadata": {
        "id": "tX2IbU2UxtZD",
        "colab_type": "code",
        "colab": {
          "base_uri": "https://localhost:8080/",
          "height": 52
        },
        "outputId": "4900ed51-63b9-4d41-a1f4-89047b9c94ac"
      },
      "source": [
        "# should be all zeros\n",
        "print(\"X: \", sum(np.isnan(X_prep)))\n",
        "print(\"y: \", sum(np.isnan(y_prep)))"
      ],
      "execution_count": 14,
      "outputs": [
        {
          "output_type": "stream",
          "text": [
            "X:  [0 0 0 0 0 0 0 0 0 0 0 0 0 0 0 0 0 0 0 0 0]\n",
            "y:  [0 0 0 0]\n"
          ],
          "name": "stdout"
        }
      ]
    },
    {
      "cell_type": "markdown",
      "metadata": {
        "id": "FeIGY5nkxosL",
        "colab_type": "text"
      },
      "source": [
        "## Save Data"
      ]
    },
    {
      "cell_type": "code",
      "metadata": {
        "id": "TEFWg6dnxq8i",
        "colab_type": "code",
        "colab": {}
      },
      "source": [
        "with open(BASE_DIR + 'X_data_3_days.pkl', 'wb') as f:\n",
        "  pickle.dump(X_prep, f)\n",
        "  del X_prep\n",
        "\n",
        "with open(BASE_DIR + 'y_data_3_days.pkl', 'wb') as f:\n",
        "  pickle.dump(y_prep, f)\n",
        "  del y_prep"
      ],
      "execution_count": 15,
      "outputs": []
    },
    {
      "cell_type": "markdown",
      "metadata": {
        "id": "RIjr5pg2IDe_",
        "colab_type": "text"
      },
      "source": [
        "# Load and Split Data"
      ]
    },
    {
      "cell_type": "code",
      "metadata": {
        "id": "dI6PIqC-IAMv",
        "colab_type": "code",
        "colab": {
          "base_uri": "https://localhost:8080/",
          "height": 52
        },
        "outputId": "f06ab077-af82-4e2b-8a4b-2f4728fb358a"
      },
      "source": [
        "with open(BASE_DIR + 'X_data_3_days.pkl', 'rb') as f:\n",
        "  X = pickle.load(f)\n",
        "  print(f'Loaded X. {X.shape}')\n",
        "\n",
        "with open(BASE_DIR + 'y_data_3_days.pkl', 'rb') as f:\n",
        "  y = pickle.load(f)\n",
        "  print(f'Loaded y. {y.shape}')"
      ],
      "execution_count": 16,
      "outputs": [
        {
          "output_type": "stream",
          "text": [
            "Loaded X. (2185776, 21)\n",
            "Loaded y. (2185776, 4)\n"
          ],
          "name": "stdout"
        }
      ]
    },
    {
      "cell_type": "code",
      "metadata": {
        "id": "n6g1HtnhIFN9",
        "colab_type": "code",
        "colab": {
          "base_uri": "https://localhost:8080/",
          "height": 52
        },
        "outputId": "f6036083-ce18-467b-f54f-c423952aa04c"
      },
      "source": [
        "X_train, X_test, y_train, y_test = train_test_split(X, y, test_size=0.2, random_state=42)\n",
        "del X\n",
        "del y\n",
        "print(f\"train: {X_train.shape} {y_train.shape}\")\n",
        "print(f\"test: {X_test.shape} {y_test.shape}\")"
      ],
      "execution_count": 17,
      "outputs": [
        {
          "output_type": "stream",
          "text": [
            "train: (1748620, 21) (1748620, 4)\n",
            "test: (437156, 21) (437156, 4)\n"
          ],
          "name": "stdout"
        }
      ]
    },
    {
      "cell_type": "markdown",
      "metadata": {
        "id": "HDR119ZZVsu7",
        "colab_type": "text"
      },
      "source": [
        "# Under Sampling"
      ]
    },
    {
      "cell_type": "code",
      "metadata": {
        "id": "GmvzXw4CVuqu",
        "colab_type": "code",
        "colab": {
          "base_uri": "https://localhost:8080/",
          "height": 0
        },
        "outputId": "e99555a5-4b19-45aa-c593-26a4add14935"
      },
      "source": [
        "from imblearn.under_sampling import RandomUnderSampler\n",
        "\n",
        "rus_dict = {0: 45000}\n",
        "rus = RandomUnderSampler(rus_dict, random_state=42)\n",
        "X_res, y_res = rus.fit_sample(X_train, y_train)\n",
        "print(X_res.shape, y_res.shape)"
      ],
      "execution_count": 18,
      "outputs": [
        {
          "output_type": "stream",
          "text": [
            "(98857, 21) (98857, 4)\n"
          ],
          "name": "stdout"
        }
      ]
    },
    {
      "cell_type": "code",
      "metadata": {
        "id": "Cd04VIqAXkFg",
        "colab_type": "code",
        "colab": {
          "base_uri": "https://localhost:8080/",
          "height": 0
        },
        "outputId": "b80e62fc-6ba7-44a6-ab1b-61587ad5b91a"
      },
      "source": [
        "from collections import Counter\n",
        "print(\"original: \", Counter(np.argmax(y_train, axis=1)))\n",
        "print(\"SMOTE: \", Counter(np.argmax(y_res, axis=1)))"
      ],
      "execution_count": 19,
      "outputs": [
        {
          "output_type": "stream",
          "text": [
            "original:  Counter({0: 1694763, 1: 46205, 3: 3961, 2: 3691})\n",
            "SMOTE:  Counter({1: 46205, 0: 45000, 3: 3961, 2: 3691})\n"
          ],
          "name": "stdout"
        }
      ]
    },
    {
      "cell_type": "markdown",
      "metadata": {
        "id": "R9KIn3wFzhL-",
        "colab_type": "text"
      },
      "source": [
        "# XGBoost"
      ]
    },
    {
      "cell_type": "code",
      "metadata": {
        "id": "IJI9L3fuzkFi",
        "colab_type": "code",
        "colab": {}
      },
      "source": [
        "# # Random Forest Hyperparameters\n",
        "# n_estimators = 150\n",
        "# max_depth = 15\n",
        "# bootstrap = True\n",
        "# criterion = 'entropy'\n",
        "# class_weight = 'balanced_subsample'\n",
        "# random_state = 42\n",
        "# n_job = -1"
      ],
      "execution_count": 20,
      "outputs": []
    },
    {
      "cell_type": "code",
      "metadata": {
        "id": "x0c8B9NNzrU7",
        "colab_type": "code",
        "colab": {
          "base_uri": "https://localhost:8080/",
          "height": 140
        },
        "outputId": "df57bc98-8d9e-4a73-fa18-4455109b33ae"
      },
      "source": [
        "xgb = XGBClassifier()\n",
        "\n",
        "xgb.fit(X_res, np.argmax(y_res, axis=1))"
      ],
      "execution_count": 21,
      "outputs": [
        {
          "output_type": "execute_result",
          "data": {
            "text/plain": [
              "XGBClassifier(base_score=0.5, booster='gbtree', colsample_bylevel=1,\n",
              "              colsample_bynode=1, colsample_bytree=1, gamma=0,\n",
              "              learning_rate=0.1, max_delta_step=0, max_depth=3,\n",
              "              min_child_weight=1, missing=None, n_estimators=100, n_jobs=1,\n",
              "              nthread=None, objective='multi:softprob', random_state=0,\n",
              "              reg_alpha=0, reg_lambda=1, scale_pos_weight=1, seed=None,\n",
              "              silent=None, subsample=1, verbosity=1)"
            ]
          },
          "metadata": {
            "tags": []
          },
          "execution_count": 21
        }
      ]
    },
    {
      "cell_type": "markdown",
      "metadata": {
        "id": "7ZzkKvdsz4ay",
        "colab_type": "text"
      },
      "source": [
        "## Save and Load Model"
      ]
    },
    {
      "cell_type": "code",
      "metadata": {
        "id": "RjQgBR6Wz54D",
        "colab_type": "code",
        "colab": {
          "base_uri": "https://localhost:8080/",
          "height": 35
        },
        "outputId": "891514d5-fbf5-49ec-a0cf-758b89fc468b"
      },
      "source": [
        "# save trained model\n",
        "joblib.dump(xgb, BASE_DIR + 'xgboost_with_class_weights_3_days.model')"
      ],
      "execution_count": 22,
      "outputs": [
        {
          "output_type": "execute_result",
          "data": {
            "text/plain": [
              "['/content/drive/My Drive/data/NASA_2020/xgboost_with_class_weights_3_days.model']"
            ]
          },
          "metadata": {
            "tags": []
          },
          "execution_count": 22
        }
      ]
    },
    {
      "cell_type": "code",
      "metadata": {
        "id": "t3RHogPtz9Fm",
        "colab_type": "code",
        "colab": {}
      },
      "source": [
        "# load existing model\n",
        "xgb = joblib.load(BASE_DIR + 'xgboost_with_class_weights_3_days.model')"
      ],
      "execution_count": 23,
      "outputs": []
    },
    {
      "cell_type": "code",
      "metadata": {
        "id": "TORUp_354PIm",
        "colab_type": "code",
        "colab": {}
      },
      "source": [
        "y_pred = xgb.predict(X_test)"
      ],
      "execution_count": 24,
      "outputs": []
    },
    {
      "cell_type": "code",
      "metadata": {
        "id": "8Be3dadO4-bm",
        "colab_type": "code",
        "colab": {
          "base_uri": "https://localhost:8080/",
          "height": 35
        },
        "outputId": "93cd29d2-cdc1-46d6-c413-dfa0aeb721d9"
      },
      "source": [
        "y_pred"
      ],
      "execution_count": 25,
      "outputs": [
        {
          "output_type": "execute_result",
          "data": {
            "text/plain": [
              "array([0, 1, 0, ..., 0, 0, 0])"
            ]
          },
          "metadata": {
            "tags": []
          },
          "execution_count": 25
        }
      ]
    },
    {
      "cell_type": "code",
      "metadata": {
        "id": "nxpDEIwi5AoT",
        "colab_type": "code",
        "colab": {
          "base_uri": "https://localhost:8080/",
          "height": 158
        },
        "outputId": "eb13047c-8e1c-4053-de75-de51f7cc9fb9"
      },
      "source": [
        "y_probs = xgb.predict_proba(X_test)\n",
        "y_probs"
      ],
      "execution_count": 33,
      "outputs": [
        {
          "output_type": "execute_result",
          "data": {
            "text/plain": [
              "array([[8.5829055e-01, 1.1629513e-01, 1.8623263e-02, 6.7911134e-03],\n",
              "       [1.6773887e-01, 7.2053754e-01, 3.1853057e-02, 7.9870559e-02],\n",
              "       [8.3301389e-01, 1.3742475e-01, 5.3390041e-03, 2.4222339e-02],\n",
              "       ...,\n",
              "       [9.7251159e-01, 2.1367788e-02, 1.3597589e-03, 4.7608847e-03],\n",
              "       [9.9151492e-01, 5.9035476e-03, 7.2947686e-04, 1.8520129e-03],\n",
              "       [9.6984148e-01, 1.9819867e-02, 2.6603397e-03, 7.6783351e-03]],\n",
              "      dtype=float32)"
            ]
          },
          "metadata": {
            "tags": []
          },
          "execution_count": 33
        }
      ]
    },
    {
      "cell_type": "code",
      "metadata": {
        "id": "W85SHelt5Ec2",
        "colab_type": "code",
        "colab": {
          "base_uri": "https://localhost:8080/",
          "height": 238
        },
        "outputId": "3201eff4-4c88-437b-ed2f-04bc3f33e7ab"
      },
      "source": [
        "print(y_probs[0][:, 1])\n",
        "print(y_probs[1][:, 1])\n",
        "print(y_probs[2][:, 1])\n",
        "print(y_probs[3][:, 1])\n",
        "print(\"-\"*30)\n",
        "y_pred_probs = np.transpose(np.array([y_probs[0][:, 1], y_probs[1][:, 1], y_probs[2][:, 1], y_probs[3][:, 1]]))\n",
        "print(y_pred_probs)"
      ],
      "execution_count": 32,
      "outputs": [
        {
          "output_type": "error",
          "ename": "IndexError",
          "evalue": "ignored",
          "traceback": [
            "\u001b[0;31m---------------------------------------------------------------------------\u001b[0m",
            "\u001b[0;31mIndexError\u001b[0m                                Traceback (most recent call last)",
            "\u001b[0;32m<ipython-input-32-eb596ef1316c>\u001b[0m in \u001b[0;36m<module>\u001b[0;34m()\u001b[0m\n\u001b[0;32m----> 1\u001b[0;31m \u001b[0mprint\u001b[0m\u001b[0;34m(\u001b[0m\u001b[0my_probs\u001b[0m\u001b[0;34m[\u001b[0m\u001b[0;36m0\u001b[0m\u001b[0;34m]\u001b[0m\u001b[0;34m[\u001b[0m\u001b[0;34m:\u001b[0m\u001b[0;34m,\u001b[0m \u001b[0;36m1\u001b[0m\u001b[0;34m]\u001b[0m\u001b[0;34m)\u001b[0m\u001b[0;34m\u001b[0m\u001b[0;34m\u001b[0m\u001b[0m\n\u001b[0m\u001b[1;32m      2\u001b[0m \u001b[0mprint\u001b[0m\u001b[0;34m(\u001b[0m\u001b[0my_probs\u001b[0m\u001b[0;34m[\u001b[0m\u001b[0;36m1\u001b[0m\u001b[0;34m]\u001b[0m\u001b[0;34m[\u001b[0m\u001b[0;34m:\u001b[0m\u001b[0;34m,\u001b[0m \u001b[0;36m1\u001b[0m\u001b[0;34m]\u001b[0m\u001b[0;34m)\u001b[0m\u001b[0;34m\u001b[0m\u001b[0;34m\u001b[0m\u001b[0m\n\u001b[1;32m      3\u001b[0m \u001b[0mprint\u001b[0m\u001b[0;34m(\u001b[0m\u001b[0my_probs\u001b[0m\u001b[0;34m[\u001b[0m\u001b[0;36m2\u001b[0m\u001b[0;34m]\u001b[0m\u001b[0;34m[\u001b[0m\u001b[0;34m:\u001b[0m\u001b[0;34m,\u001b[0m \u001b[0;36m1\u001b[0m\u001b[0;34m]\u001b[0m\u001b[0;34m)\u001b[0m\u001b[0;34m\u001b[0m\u001b[0;34m\u001b[0m\u001b[0m\n\u001b[1;32m      4\u001b[0m \u001b[0mprint\u001b[0m\u001b[0;34m(\u001b[0m\u001b[0my_probs\u001b[0m\u001b[0;34m[\u001b[0m\u001b[0;36m3\u001b[0m\u001b[0;34m]\u001b[0m\u001b[0;34m[\u001b[0m\u001b[0;34m:\u001b[0m\u001b[0;34m,\u001b[0m \u001b[0;36m1\u001b[0m\u001b[0;34m]\u001b[0m\u001b[0;34m)\u001b[0m\u001b[0;34m\u001b[0m\u001b[0;34m\u001b[0m\u001b[0m\n\u001b[1;32m      5\u001b[0m \u001b[0mprint\u001b[0m\u001b[0;34m(\u001b[0m\u001b[0;34m\"-\"\u001b[0m\u001b[0;34m*\u001b[0m\u001b[0;36m30\u001b[0m\u001b[0;34m)\u001b[0m\u001b[0;34m\u001b[0m\u001b[0;34m\u001b[0m\u001b[0m\n",
            "\u001b[0;31mIndexError\u001b[0m: too many indices for array"
          ]
        }
      ]
    },
    {
      "cell_type": "markdown",
      "metadata": {
        "id": "kAuLaNhZ4W-o",
        "colab_type": "text"
      },
      "source": [
        "## Confusion Matrix"
      ]
    },
    {
      "cell_type": "code",
      "metadata": {
        "id": "ilGU_H8b2eWU",
        "colab_type": "code",
        "colab": {}
      },
      "source": [
        "def plot_confusion_matrix(cm,\n",
        "                          target_names,\n",
        "                          title='Confusion matrix',\n",
        "                          cmap=None,\n",
        "                          normalize=True):\n",
        "    \"\"\"\n",
        "    given a sklearn confusion matrix (cm), make a nice plot\n",
        "\n",
        "    Arguments\n",
        "    ---------\n",
        "    cm:           confusion matrix from sklearn.metrics.confusion_matrix\n",
        "\n",
        "    target_names: given classification classes such as [0, 1, 2]\n",
        "                  the class names, for example: ['high', 'medium', 'low']\n",
        "\n",
        "    title:        the text to display at the top of the matrix\n",
        "\n",
        "    cmap:         the gradient of the values displayed from matplotlib.pyplot.cm\n",
        "                  see http://matplotlib.org/examples/color/colormaps_reference.html\n",
        "                  plt.get_cmap('jet') or plt.cm.Blues\n",
        "\n",
        "    normalize:    If False, plot the raw numbers\n",
        "                  If True, plot the proportions\n",
        "\n",
        "    Usage\n",
        "    -----\n",
        "    plot_confusion_matrix(cm           = cm,                  # confusion matrix created by\n",
        "                                                              # sklearn.metrics.confusion_matrix\n",
        "                          normalize    = True,                # show proportions\n",
        "                          target_names = y_labels_vals,       # list of names of the classes\n",
        "                          title        = best_estimator_name) # title of graph\n",
        "\n",
        "    Citiation\n",
        "    ---------\n",
        "    http://scikit-learn.org/stable/auto_examples/model_selection/plot_confusion_matrix.html\n",
        "\n",
        "    \"\"\"\n",
        "    import matplotlib.pyplot as plt\n",
        "    import numpy as np\n",
        "    import itertools\n",
        "\n",
        "    accuracy = np.trace(cm) / float(np.sum(cm))\n",
        "    misclass = 1 - accuracy\n",
        "\n",
        "    if cmap is None:\n",
        "        cmap = plt.get_cmap('Blues')\n",
        "\n",
        "    plt.figure(figsize=(8, 6))\n",
        "    plt.imshow(cm, interpolation='nearest', cmap=cmap)\n",
        "    plt.title(title)\n",
        "    plt.colorbar()\n",
        "\n",
        "    if target_names is not None:\n",
        "        tick_marks = np.arange(len(target_names))\n",
        "        plt.xticks(tick_marks, target_names, rotation=45)\n",
        "        plt.yticks(tick_marks, target_names)\n",
        "\n",
        "    if normalize:\n",
        "        cm = cm.astype('float') / cm.sum(axis=1)[:, np.newaxis]\n",
        "\n",
        "\n",
        "    thresh = cm.max() / 1.5 if normalize else cm.max() / 2\n",
        "    for i, j in itertools.product(range(cm.shape[0]), range(cm.shape[1])):\n",
        "        if normalize:\n",
        "            plt.text(j, i, \"{:0.4f}\".format(cm[i, j]),\n",
        "                     horizontalalignment=\"center\",\n",
        "                     color=\"white\" if cm[i, j] > thresh else \"black\")\n",
        "        else:\n",
        "            plt.text(j, i, \"{:,}\".format(cm[i, j]),\n",
        "                     horizontalalignment=\"center\",\n",
        "                     color=\"white\" if cm[i, j] > thresh else \"black\")\n",
        "\n",
        "\n",
        "    plt.tight_layout()\n",
        "    plt.ylabel('True label')\n",
        "    plt.xlabel('Predicted label\\naccuracy={:0.4f}; misclass={:0.4f}'.format(accuracy, misclass))\n",
        "    plt.show()"
      ],
      "execution_count": 28,
      "outputs": []
    },
    {
      "cell_type": "code",
      "metadata": {
        "id": "zdNdMg6P4cmP",
        "colab_type": "code",
        "colab": {
          "base_uri": "https://localhost:8080/",
          "height": 467
        },
        "outputId": "ccae4164-809f-4664-f6b3-37f508de80b6"
      },
      "source": [
        "from sklearn.metrics import confusion_matrix\n",
        "conf_mat = confusion_matrix(np.argmax(y_test, axis=1), y_pred)\n",
        "\n",
        "plot_confusion_matrix(cm           = conf_mat, \n",
        "                      normalize    = False,\n",
        "                      target_names = ['No Precipitation', 'Stratiform', 'Convective', 'Other'],\n",
        "                      title        = \"Confusion Matrix\")"
      ],
      "execution_count": 29,
      "outputs": [
        {
          "output_type": "display_data",
          "data": {
            "image/png": "[encoded data removed]",
            "text/plain": [
              "<Figure size 576x432 with 2 Axes>"
            ]
          },
          "metadata": {
            "tags": [],
            "needs_background": "light"
          }
        }
      ]
    },
    {
      "cell_type": "markdown",
      "metadata": {
        "id": "Yxc6P_H24iXt",
        "colab_type": "text"
      },
      "source": [
        "## ROC Curves"
      ]
    },
    {
      "cell_type": "code",
      "metadata": {
        "id": "x7n6DBsy2jPY",
        "colab_type": "code",
        "colab": {}
      },
      "source": [
        "from sklearn.metrics import roc_auc_score, roc_curve\n",
        "\n",
        "def get_roc_curve(labels, y_true, y_pred):\n",
        "    auc_roc_vals = []\n",
        "    for i in range(len(labels)):\n",
        "        try:\n",
        "            gt = y_true[:, i]\n",
        "            pred = y_pred[:, i]\n",
        "            auc_roc = roc_auc_score(gt, pred)\n",
        "            auc_roc_vals.append(auc_roc)\n",
        "            fpr_rf, tpr_rf, _ = roc_curve(gt, pred)\n",
        "            plt.figure(1, figsize=(10, 10))\n",
        "            plt.plot([0, 1], [0, 1], 'k--')\n",
        "            plt.plot(fpr_rf, tpr_rf,\n",
        "                     label=labels[i] + \" (\" + str(round(auc_roc, 3)) + \")\")\n",
        "            plt.xlabel('False positive rate')\n",
        "            plt.ylabel('True positive rate')\n",
        "            plt.title('ROC curve')\n",
        "            plt.legend(loc='best')\n",
        "        except:\n",
        "            print(\n",
        "                f\"Error in generating ROC curve for {labels[i]}. \"\n",
        "                f\"Dataset lacks enough examples.\"\n",
        "            )\n",
        "    plt.show()\n",
        "    return auc_roc_vals"
      ],
      "execution_count": 35,
      "outputs": []
    },
    {
      "cell_type": "code",
      "metadata": {
        "id": "o78GqIgn4hUT",
        "colab_type": "code",
        "colab": {
          "base_uri": "https://localhost:8080/",
          "height": 621
        },
        "outputId": "fc9b0a4a-9a8a-4ae4-827d-46463f71e4c9"
      },
      "source": [
        "auc_rocs = get_roc_curve(['No Precipitation', 'Stratiform', 'Convective', 'Other'], y_test, y_probs)"
      ],
      "execution_count": 36,
      "outputs": [
        {
          "output_type": "display_data",
          "data": {
            "image/png": "[encoded data removed]",
            "text/plain": [
              "<Figure size 720x720 with 1 Axes>"
            ]
          },
          "metadata": {
            "tags": [],
            "needs_background": "light"
          }
        }
      ]
    },
    {
      "cell_type": "code",
      "metadata": {
        "id": "CT2GzKo9MH8N",
        "colab_type": "code",
        "colab": {
          "base_uri": "https://localhost:8080/",
          "height": 603
        },
        "outputId": "083c5029-b790-408c-aaf6-1c4bb8e675e2"
      },
      "source": [
        "feature_names = np.array(['lat', 'lon',\t'ts',\t'clwp',\t'twv', 'PD_10.65',\t'PD_89.00',\t'PD_166.0', 'tc_0', 'tc_1',\t'tc_2', 'tc_3', 'tc_4',\t'tc_5',\t'tc_6',\t'tc_7',\t'tc_8',\t'tc_9',\t'tc_10', 'tc_11', 'tc_12'])\n",
        "print(len(feature_names))\n",
        "tree_importance_sorted_idx = np.argsort(xgb.feature_importances_)\n",
        "tree_indices = np.arange(0, len(xgb.feature_importances_)) + 0.5\n",
        "fig, (ax1) = plt.subplots(1, 1, figsize=(12, 8))\n",
        "ax1.barh(tree_indices,\n",
        "         xgb.feature_importances_[tree_importance_sorted_idx], height=0.7)\n",
        "ax1.set_yticklabels(feature_names[tree_importance_sorted_idx])\n",
        "ax1.set_yticks(tree_indices)\n",
        "ax1.set_ylim((0, len(xgb.feature_importances_)))\n",
        "plt.title('Feature Importances')\n",
        "fig.tight_layout()\n",
        "plt.show()"
      ],
      "execution_count": 37,
      "outputs": [
        {
          "output_type": "stream",
          "text": [
            "21\n"
          ],
          "name": "stdout"
        },
        {
          "output_type": "display_data",
          "data": {
            "image/png": "[encoded data removed]",
            "text/plain": [
              "<Figure size 864x576 with 1 Axes>"
            ]
          },
          "metadata": {
            "tags": [],
            "needs_background": "light"
          }
        }
      ]
    },
    {
      "cell_type": "markdown",
      "metadata": {
        "id": "N7lGurQwaTNK",
        "colab_type": "text"
      },
      "source": [
        "# Make Predictions (Squall Line case)"
      ]
    },
    {
      "cell_type": "code",
      "metadata": {
        "id": "vA81N_evbaxK",
        "colab_type": "code",
        "colab": {}
      },
      "source": [
        "FILE_PATH = BASE_DIR + 'colloc_Precipflag_DPR_GMI_20170606.sav'\n",
        "data = scipy.io.readsav(FILE_PATH, verbose=1)\n",
        "for var, arr in data.items():\n",
        "  print(f\"{var}: {arr.shape}\")"
      ],
      "execution_count": null,
      "outputs": []
    },
    {
      "cell_type": "code",
      "metadata": {
        "id": "mxefFzTvfw1e",
        "colab_type": "code",
        "colab": {}
      },
      "source": [
        "# calculate polarization differences (PD)\n",
        "def add_to_PD(freq, ind1, ind2, data):\n",
        "  PD[freq] = data['tc'][:, :, ind1] - data['tc'][:, :, ind2]\n",
        "\n",
        "PD = {}\n",
        "add_to_PD('10.65', 0, 1, data)\n",
        "add_to_PD('18.70', 2, 3, data)\n",
        "add_to_PD('36.50', 5, 6, data)\n",
        "add_to_PD('89.00', 7, 8, data)\n",
        "add_to_PD('166.0', 9, 10, data)\n",
        "print(PD.keys())"
      ],
      "execution_count": null,
      "outputs": []
    },
    {
      "cell_type": "code",
      "metadata": {
        "id": "KP3APukSWoM4",
        "colab_type": "code",
        "colab": {}
      },
      "source": [
        "def create_pred_df(lat_bounds, lon_bounds, epsilon=0.0):\n",
        "  col_names = ['lat', 'lon', 'ts', 'clwp', 'twv', 'PD_10.65', 'PD_89.00', 'PD_166.0'] + [f'tc_{i}' for i in range(data['tc'].shape[2])]\n",
        "  data_df = pd.DataFrame(columns=col_names)\n",
        "  y_df = pd.DataFrame(columns=['pflag'])\n",
        "  counter = 0\n",
        "  for idx in np.ndindex(data['latc'].shape):\n",
        "    if (lat_bounds[0] - epsilon <= data['latc'][idx] <= lat_bounds[1] + epsilon) and (lon_bounds[0] - epsilon <= data['lonc'][idx] <= lon_bounds[1] + epsilon):\n",
        "      data_dict = {}\n",
        "      data_dict['lat'] = data['latc'][idx]\n",
        "      data_dict['lon'] = data['lonc'][idx]\n",
        "      data_dict['ts'] = data['ts'][idx]\n",
        "      data_dict['clwp'] = data['clwp'][idx]\n",
        "      data_dict['twv'] = data['twv'][idx]\n",
        "      data_dict['PD_10.65'] = PD['10.65'][idx]\n",
        "      data_dict['PD_89.00'] = PD['89.00'][idx]\n",
        "      data_dict['PD_166.0'] = PD['166.0'][idx]\n",
        "\n",
        "      for i in range(data['tc'].shape[2]):\n",
        "        data_dict[f'tc_{i}'] = data['tc'][idx][i]\n",
        "      \n",
        "      data_df = data_df.append(data_dict, ignore_index=True)\n",
        "      y_df = y_df.append({'pflag': data['pflag'][idx]}, ignore_index=True)\n",
        "      counter += 1\n",
        "  print(counter)\n",
        "  return data_df, y_df"
      ],
      "execution_count": null,
      "outputs": []
    },
    {
      "cell_type": "code",
      "metadata": {
        "id": "qB4hyNeIbtyW",
        "colab_type": "code",
        "colab": {}
      },
      "source": [
        "latitude_bounds = [14.2, 18.0]\n",
        "longitude_bounds = [-5.0, -2.1]"
      ],
      "execution_count": null,
      "outputs": []
    },
    {
      "cell_type": "code",
      "metadata": {
        "id": "eFX1AEFHb81P",
        "colab_type": "code",
        "colab": {}
      },
      "source": [
        "X_df, y_df = create_pred_df(latitude_bounds, longitude_bounds, epsilon=5.0)\n",
        "del data"
      ],
      "execution_count": null,
      "outputs": []
    },
    {
      "cell_type": "code",
      "metadata": {
        "id": "gfNUumtX-Nmy",
        "colab_type": "code",
        "colab": {}
      },
      "source": [
        "print(X_df.shape)\n",
        "print(y_df.shape)\n",
        "y_df = y_df[(~np.isnan(X_df['twv']))]\n",
        "X_df = X_df[(~np.isnan(X_df['twv']))]"
      ],
      "execution_count": null,
      "outputs": []
    },
    {
      "cell_type": "code",
      "metadata": {
        "id": "QgQ4XW20teBA",
        "colab_type": "code",
        "colab": {}
      },
      "source": [
        "X_df.head()"
      ],
      "execution_count": null,
      "outputs": []
    },
    {
      "cell_type": "code",
      "metadata": {
        "id": "SKdaESg0vIAA",
        "colab_type": "code",
        "colab": {}
      },
      "source": [
        "y_df.head()"
      ],
      "execution_count": null,
      "outputs": []
    },
    {
      "cell_type": "code",
      "metadata": {
        "id": "eLzqWEIwyfpw",
        "colab_type": "code",
        "colab": {}
      },
      "source": [
        "lat, lon, counts = [], [], []\n",
        "rfc.verbose = False\n",
        "X_scaled = scaler.transform(X_df)\n",
        "print(\"X: \", sum(np.isnan(X_scaled)))  # should be all zeros\n",
        "y_pred = np.argmax(rfc.predict(X_scaled), axis=1)\n",
        "\n",
        "row_set = set()\n",
        "for r, _ in np.ndindex(X_scaled.shape):\n",
        "  if r in row_set:\n",
        "    continue\n",
        "  row_set.add(r)\n",
        "  lat.append(X_df.iloc[r, 0])\n",
        "  lon.append(X_df.iloc[r, 1])\n",
        "\n",
        "  y_val = y_df.iloc[r, 0]\n",
        "  if np.isnan(y_val):\n",
        "    counts.append(y_pred[r].astype(float))\n",
        "  else:\n",
        "    counts.append(y_val)"
      ],
      "execution_count": null,
      "outputs": []
    },
    {
      "cell_type": "code",
      "metadata": {
        "id": "RWPLGYRvC5u2",
        "colab_type": "code",
        "colab": {}
      },
      "source": [
        "print(len(lat))\n",
        "print(len(lon))\n",
        "print(len(counts))"
      ],
      "execution_count": null,
      "outputs": []
    },
    {
      "cell_type": "code",
      "metadata": {
        "id": "RJsIVCqncDnv",
        "colab_type": "code",
        "colab": {}
      },
      "source": [
        "title = \"Precip. Type Filled\"\n",
        "plt.scatter(lon, lat, c=counts, cmap=plt.get_cmap(\"jet\"))\n",
        "plt.colorbar()\n",
        "plt.title(title)\n",
        "### SAVE HEATMAP ###############################\n",
        "save_path = BASE_DIR + \"plots/\"\n",
        "if not os.path.exists(save_path):\n",
        "  os.mkdir(save_path)\n",
        "print('Saved to', save_path + f\"{title}.png\")\n",
        "plt.savefig(save_path + f\"{title}.png\")\n",
        "################################################\n",
        "plt.show()"
      ],
      "execution_count": null,
      "outputs": []
    },
    {
      "cell_type": "code",
      "metadata": {
        "id": "-oqXcdgecNte",
        "colab_type": "code",
        "colab": {}
      },
      "source": [
        ""
      ],
      "execution_count": null,
      "outputs": []
    }
  ]
}
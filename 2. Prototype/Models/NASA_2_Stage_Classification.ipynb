{
  "nbformat": 4,
  "nbformat_minor": 0,
  "metadata": {
    "colab": {
      "name": "NASA_2_Stage_Classification.ipynb",
      "provenance": [],
      "collapsed_sections": [],
      "authorship_tag": "ABX9TyMz87t5vt7JlNmn7xvgYK3J",
      "include_colab_link": true
    },
    "kernelspec": {
      "name": "python3",
      "display_name": "Python 3"
    },
    "accelerator": "GPU"
  },
  "cells": [
    {
      "cell_type": "markdown",
      "metadata": {
        "id": "view-in-github",
        "colab_type": "text"
      },
      "source": [
        "<a href=\"https://colab.research.google.com/github/SD325/NASA_Internship_2020/blob/master/NASA_2_Stage_Classification.ipynb\" target=\"_parent\"><img src=\"https://colab.research.google.com/assets/colab-badge.svg\" alt=\"Open In Colab\"/></a>"
      ]
    },
    {
      "cell_type": "code",
      "metadata": {
        "id": "zFLPeuvoHnXs",
        "colab_type": "code",
        "colab": {
          "base_uri": "https://localhost:8080/",
          "height": 122
        },
        "outputId": "cdfcca7f-1d59-41e3-dd0f-9f64d82a5e63"
      },
      "source": [
        "# mount Google Drive\n",
        "from google.colab import drive\n",
        "drive.mount('/content/drive')"
      ],
      "execution_count": 1,
      "outputs": [
        {
          "output_type": "stream",
          "text": [
            "Go to this URL in a browser: https://accounts.google.com/o/oauth2/auth?client_id=947318989803-6bn6qk8qdgf4n4g3pfee6491hc0brc4i.apps.googleusercontent.com&redirect_uri=urn%3aietf%3awg%3aoauth%3a2.0%3aoob&response_type=code&scope=email%20https%3a%2f%2fwww.googleapis.com%2fauth%2fdocs.test%20https%3a%2f%2fwww.googleapis.com%2fauth%2fdrive%20https%3a%2f%2fwww.googleapis.com%2fauth%2fdrive.photos.readonly%20https%3a%2f%2fwww.googleapis.com%2fauth%2fpeopleapi.readonly\n",
            "\n",
            "Enter your authorization code:\n",
            "··········\n",
            "Mounted at /content/drive\n"
          ],
          "name": "stdout"
        }
      ]
    },
    {
      "cell_type": "code",
      "metadata": {
        "id": "bQWPnrTYHv1V",
        "colab_type": "code",
        "colab": {}
      },
      "source": [
        "# Suppress warnings\n",
        "import warnings\n",
        "warnings.filterwarnings(\"ignore\")\n",
        "\n",
        "# Imports\n",
        "import joblib\n",
        "import pickle\n",
        "import scipy.io\n",
        "import numpy as np\n",
        "import pandas as pd\n",
        "import matplotlib.pyplot as plt\n",
        "import seaborn as sns\n",
        "import os\n",
        "\n",
        "from sklearn.model_selection import train_test_split\n",
        "import tensorflow as tf\n",
        "from tensorflow import keras\n",
        "from tensorflow.keras import layers\n",
        "\n",
        "\n",
        "# Working Directory \n",
        "BASE_DIR = '/content/drive/My Drive/data/NASA_2020/'"
      ],
      "execution_count": 2,
      "outputs": []
    },
    {
      "cell_type": "markdown",
      "metadata": {
        "id": "RIjr5pg2IDe_",
        "colab_type": "text"
      },
      "source": [
        "# Load and Split Data"
      ]
    },
    {
      "cell_type": "code",
      "metadata": {
        "id": "dI6PIqC-IAMv",
        "colab_type": "code",
        "colab": {
          "base_uri": "https://localhost:8080/",
          "height": 51
        },
        "outputId": "19d1a2bd-6fae-4d11-9852-52a0ec319ec2"
      },
      "source": [
        "with open(BASE_DIR + 'X_data.pkl', 'rb') as f:\n",
        "  X = pickle.load(f)\n",
        "  print(f'Loaded X. {X.shape}')\n",
        "\n",
        "with open(BASE_DIR + 'y_data.pkl', 'rb') as f:\n",
        "  y = pickle.load(f)\n",
        "  print(f'Loaded y. {y.shape}')"
      ],
      "execution_count": 3,
      "outputs": [
        {
          "output_type": "stream",
          "text": [
            "Loaded X. (667630, 47)\n",
            "Loaded y. (667630, 4)\n"
          ],
          "name": "stdout"
        }
      ]
    },
    {
      "cell_type": "code",
      "metadata": {
        "id": "n6g1HtnhIFN9",
        "colab_type": "code",
        "colab": {
          "base_uri": "https://localhost:8080/",
          "height": 51
        },
        "outputId": "23c9008a-1070-4084-9a91-a82567cf0bea"
      },
      "source": [
        "X_train, X_test, y_train, y_test = train_test_split(X, y, test_size=0.2, random_state=42)\n",
        "print(f\"train: {X_train.shape} {y_train.shape}\")\n",
        "print(f\"test: {X_test.shape} {y_test.shape}\")"
      ],
      "execution_count": 4,
      "outputs": [
        {
          "output_type": "stream",
          "text": [
            "train: (534104, 47) (534104, 4)\n",
            "test: (133526, 47) (133526, 4)\n"
          ],
          "name": "stdout"
        }
      ]
    },
    {
      "cell_type": "markdown",
      "metadata": {
        "id": "HDR119ZZVsu7",
        "colab_type": "text"
      },
      "source": [
        "# SMOTE"
      ]
    },
    {
      "cell_type": "code",
      "metadata": {
        "id": "GmvzXw4CVuqu",
        "colab_type": "code",
        "colab": {
          "base_uri": "https://localhost:8080/",
          "height": 34
        },
        "outputId": "070e37a1-ff48-4a8a-f82a-9c67d1463c46"
      },
      "source": [
        "from imblearn.over_sampling import SMOTE\n",
        "\n",
        "smote = SMOTE()\n",
        "X_sm, y_sm = smote.fit_sample(X_train, y_train)\n",
        "print(X_sm.shape, y_sm.shape)"
      ],
      "execution_count": 5,
      "outputs": [
        {
          "output_type": "stream",
          "text": [
            "(2043776, 47) (2043776, 4)\n"
          ],
          "name": "stdout"
        }
      ]
    },
    {
      "cell_type": "code",
      "metadata": {
        "id": "Cd04VIqAXkFg",
        "colab_type": "code",
        "colab": {
          "base_uri": "https://localhost:8080/",
          "height": 51
        },
        "outputId": "0e6dd076-fb90-41d7-8b72-560692e75505"
      },
      "source": [
        "from collections import Counter\n",
        "print(\"original: \", Counter(np.argmax(y_train, axis=1)))\n",
        "print(\"SMOTE: \", Counter(np.argmax(y_sm, axis=1)))"
      ],
      "execution_count": 6,
      "outputs": [
        {
          "output_type": "stream",
          "text": [
            "original:  Counter({0: 510944, 1: 19090, 2: 2615, 3: 1455})\n",
            "SMOTE:  Counter({0: 510944, 1: 510944, 3: 510944, 2: 510944})\n"
          ],
          "name": "stdout"
        }
      ]
    },
    {
      "cell_type": "markdown",
      "metadata": {
        "id": "HsCIx4dW3H_N",
        "colab_type": "text"
      },
      "source": [
        "# Prep Data for Stage 1"
      ]
    },
    {
      "cell_type": "code",
      "metadata": {
        "id": "Rrrw0yHe3HbW",
        "colab_type": "code",
        "colab": {
          "base_uri": "https://localhost:8080/",
          "height": 51
        },
        "outputId": "2c9d9a3b-c321-4317-ef4c-d6519b4d3fa1"
      },
      "source": [
        "'''\n",
        "Binary Labels:\n",
        "0 - no precipitation\n",
        "1 - precipitation\n",
        "'''\n",
        "y_train_bin = (y_sm[:, 0] == 0.0).astype(int)\n",
        "y_test_bin = (y_test[:, 0] == 0.0).astype(int)\n",
        "print(f\"y_train_bin: {y_train_bin.shape}\")\n",
        "print(f\"y_test_bin: {y_test_bin.shape}\")"
      ],
      "execution_count": 7,
      "outputs": [
        {
          "output_type": "stream",
          "text": [
            "y_train_bin: (2043776,)\n",
            "y_test_bin: (133526,)\n"
          ],
          "name": "stdout"
        }
      ]
    },
    {
      "cell_type": "code",
      "metadata": {
        "id": "uWeoCTi0kS6k",
        "colab_type": "code",
        "colab": {
          "base_uri": "https://localhost:8080/",
          "height": 170
        },
        "outputId": "9db4adc6-d038-4d8c-8096-b02a08180c17"
      },
      "source": [
        "print(y_sm)\n",
        "print(\"-\"* 30)\n",
        "print(y_train_bin)"
      ],
      "execution_count": 8,
      "outputs": [
        {
          "output_type": "stream",
          "text": [
            "[[1 0 0 0]\n",
            " [1 0 0 0]\n",
            " [1 0 0 0]\n",
            " ...\n",
            " [0 0 0 1]\n",
            " [0 0 0 1]\n",
            " [0 0 0 1]]\n",
            "------------------------------\n",
            "[0 0 0 ... 1 1 1]\n"
          ],
          "name": "stdout"
        }
      ]
    },
    {
      "cell_type": "markdown",
      "metadata": {
        "id": "d9ZYXNySJNLS",
        "colab_type": "text"
      },
      "source": [
        "# Stage 1: Binary Model"
      ]
    },
    {
      "cell_type": "code",
      "metadata": {
        "id": "j_zDuQZHQSNy",
        "colab_type": "code",
        "colab": {
          "base_uri": "https://localhost:8080/",
          "height": 34
        },
        "outputId": "26933320-b268-4fb6-8740-e655de523904"
      },
      "source": [
        "# weighted loss function\n",
        "import keras.backend as K\n",
        "\n",
        "def get_binary_weighted_loss(pos_weights, neg_weights, epsilon=1e-7):\n",
        "    def binary_weighted_loss(y_true, y_pred):\n",
        "        loss = K.mean(-(pos_weights*y_true[:]*K.log(y_pred[:]+epsilon) + neg_weights*(1-y_true[:])*K.log((1-y_pred[:])+epsilon)))\n",
        "        return loss\n",
        "    return binary_weighted_loss\n",
        "\n",
        "# class weights\n",
        "neg_weights = np.mean(y_train_bin, axis=0)\n",
        "pos_weights = 1 - neg_weights"
      ],
      "execution_count": 9,
      "outputs": [
        {
          "output_type": "stream",
          "text": [
            "Using TensorFlow backend.\n"
          ],
          "name": "stderr"
        }
      ]
    },
    {
      "cell_type": "code",
      "metadata": {
        "id": "KfGGS_dz5hey",
        "colab_type": "code",
        "colab": {
          "base_uri": "https://localhost:8080/",
          "height": 34
        },
        "outputId": "49a5a812-3181-44f8-8958-1ae89f53cc87"
      },
      "source": [
        "# test binary weighted loss\n",
        "f = get_binary_weighted_loss(pos_weights, neg_weights)\n",
        "f(y_train_bin, y_train_bin)"
      ],
      "execution_count": 10,
      "outputs": [
        {
          "output_type": "execute_result",
          "data": {
            "text/plain": [
              "<tf.Tensor: shape=(), dtype=float64, numpy=-3.7499998146895145e-08>"
            ]
          },
          "metadata": {
            "tags": []
          },
          "execution_count": 10
        }
      ]
    },
    {
      "cell_type": "markdown",
      "metadata": {
        "id": "NVvNBC8a6f7l",
        "colab_type": "text"
      },
      "source": [
        "## Binary Classification Model"
      ]
    },
    {
      "cell_type": "code",
      "metadata": {
        "id": "uB23tCqlIIEB",
        "colab_type": "code",
        "colab": {}
      },
      "source": [
        "model = keras.models.Sequential([\n",
        "        layers.InputLayer(input_shape=(47,)),\n",
        "        layers.Dense(128, activation=tf.nn.relu), \n",
        "        layers.Dense(128, activation=tf.nn.relu),\n",
        "        layers.Dense(32, activation=tf.nn.relu),\n",
        "        layers.Dense(1, activation=tf.nn.sigmoid)\n",
        "    ])\n",
        "\n",
        "model.compile(optimizer='adam',\n",
        "              loss=get_binary_weighted_loss(pos_weights, neg_weights),\n",
        "              metrics=['accuracy',\n",
        "                       keras.metrics.TruePositives(name='tp'),\n",
        "                       keras.metrics.FalsePositives(name='fp'),\n",
        "                       keras.metrics.TrueNegatives(name='tn'),\n",
        "                       keras.metrics.FalseNegatives(name='fn')])"
      ],
      "execution_count": 11,
      "outputs": []
    },
    {
      "cell_type": "code",
      "metadata": {
        "id": "r80eEbX0Jxt6",
        "colab_type": "code",
        "colab": {
          "base_uri": "https://localhost:8080/",
          "height": 207
        },
        "outputId": "db6f8d20-3d46-45d5-f80c-132c219c8edc"
      },
      "source": [
        "history = model.fit(X_sm, y_train_bin, validation_data=(X_test, y_test_bin), epochs=5)"
      ],
      "execution_count": 12,
      "outputs": [
        {
          "output_type": "stream",
          "text": [
            "Epoch 1/5\n",
            "63868/63868 [==============================] - 369s 6ms/step - loss: 0.0432 - accuracy: 0.9636 - tp: 1485870.0000 - fp: 27417.0000 - tn: 483527.0000 - fn: 46962.0000 - val_loss: 0.0931 - val_accuracy: 0.9489 - val_tp: 5581.0000 - val_fp: 6588.0000 - val_tn: 121125.0000 - val_fn: 232.0000\n",
            "Epoch 2/5\n",
            "63868/63868 [==============================] - 370s 6ms/step - loss: 0.0320 - accuracy: 0.9767 - tp: 1506748.0000 - fp: 21513.0000 - tn: 489431.0000 - fn: 26084.0000 - val_loss: 0.0738 - val_accuracy: 0.9580 - val_tp: 5480.0000 - val_fp: 5269.0000 - val_tn: 122444.0000 - val_fn: 333.0000\n",
            "Epoch 3/5\n",
            "63868/63868 [==============================] - 364s 6ms/step - loss: 0.0285 - accuracy: 0.9802 - tp: 1511747.0000 - fp: 19396.0000 - tn: 491548.0000 - fn: 21085.0000 - val_loss: 0.0860 - val_accuracy: 0.9560 - val_tp: 5504.0000 - val_fp: 5568.0000 - val_tn: 122145.0000 - val_fn: 309.0000\n",
            "Epoch 4/5\n",
            "63868/63868 [==============================] - 365s 6ms/step - loss: 0.0267 - accuracy: 0.9822 - tp: 1514385.0000 - fp: 17860.0000 - tn: 493084.0000 - fn: 18447.0000 - val_loss: 0.0849 - val_accuracy: 0.9570 - val_tp: 5499.0000 - val_fp: 5427.0000 - val_tn: 122286.0000 - val_fn: 314.0000\n",
            "Epoch 5/5\n",
            "63868/63868 [==============================] - 362s 6ms/step - loss: 0.0253 - accuracy: 0.9833 - tp: 1515771.0000 - fp: 16983.0000 - tn: 493961.0000 - fn: 17061.0000 - val_loss: 0.0642 - val_accuracy: 0.9661 - val_tp: 5405.0000 - val_fp: 4116.0000 - val_tn: 123597.0000 - val_fn: 408.0000\n"
          ],
          "name": "stdout"
        }
      ]
    },
    {
      "cell_type": "code",
      "metadata": {
        "id": "tkXEMD1Y-5vC",
        "colab_type": "code",
        "colab": {
          "base_uri": "https://localhost:8080/",
          "height": 51
        },
        "outputId": "3d4d3e6b-80bb-4dc7-a123-cb246d8e1ef5"
      },
      "source": [
        "print(y_test_bin.shape)\n",
        "y_test_bin"
      ],
      "execution_count": 13,
      "outputs": [
        {
          "output_type": "stream",
          "text": [
            "(133526,)\n"
          ],
          "name": "stdout"
        },
        {
          "output_type": "execute_result",
          "data": {
            "text/plain": [
              "array([0, 0, 0, ..., 0, 0, 0])"
            ]
          },
          "metadata": {
            "tags": []
          },
          "execution_count": 13
        }
      ]
    },
    {
      "cell_type": "code",
      "metadata": {
        "id": "LKs-ZhXxKwSF",
        "colab_type": "code",
        "colab": {
          "base_uri": "https://localhost:8080/",
          "height": 68
        },
        "outputId": "fb471852-7b5e-41e1-bf38-51f0c94013c1"
      },
      "source": [
        "y_pred_bin = model.predict(X_test)[:, 0]\n",
        "print(y_pred_bin.shape)\n",
        "y_pred_bin"
      ],
      "execution_count": 14,
      "outputs": [
        {
          "output_type": "stream",
          "text": [
            "(133526,)\n"
          ],
          "name": "stdout"
        },
        {
          "output_type": "execute_result",
          "data": {
            "text/plain": [
              "array([2.1720667e-14, 8.5969738e-09, 0.0000000e+00, ..., 7.3824125e-21,\n",
              "       2.4526412e-06, 7.1803381e-04], dtype=float32)"
            ]
          },
          "metadata": {
            "tags": []
          },
          "execution_count": 14
        }
      ]
    },
    {
      "cell_type": "code",
      "metadata": {
        "id": "WfXrFUhXMyMu",
        "colab_type": "code",
        "colab": {}
      },
      "source": [
        "def plot_confusion_matrix(cm,\n",
        "                          target_names,\n",
        "                          title='Confusion matrix',\n",
        "                          cmap=None,\n",
        "                          normalize=True):\n",
        "    \"\"\"\n",
        "    given a sklearn confusion matrix (cm), make a nice plot\n",
        "\n",
        "    Arguments\n",
        "    ---------\n",
        "    cm:           confusion matrix from sklearn.metrics.confusion_matrix\n",
        "\n",
        "    target_names: given classification classes such as [0, 1, 2]\n",
        "                  the class names, for example: ['high', 'medium', 'low']\n",
        "\n",
        "    title:        the text to display at the top of the matrix\n",
        "\n",
        "    cmap:         the gradient of the values displayed from matplotlib.pyplot.cm\n",
        "                  see http://matplotlib.org/examples/color/colormaps_reference.html\n",
        "                  plt.get_cmap('jet') or plt.cm.Blues\n",
        "\n",
        "    normalize:    If False, plot the raw numbers\n",
        "                  If True, plot the proportions\n",
        "\n",
        "    Usage\n",
        "    -----\n",
        "    plot_confusion_matrix(cm           = cm,                  # confusion matrix created by\n",
        "                                                              # sklearn.metrics.confusion_matrix\n",
        "                          normalize    = True,                # show proportions\n",
        "                          target_names = y_labels_vals,       # list of names of the classes\n",
        "                          title        = best_estimator_name) # title of graph\n",
        "\n",
        "    Citiation\n",
        "    ---------\n",
        "    http://scikit-learn.org/stable/auto_examples/model_selection/plot_confusion_matrix.html\n",
        "\n",
        "    \"\"\"\n",
        "    import matplotlib.pyplot as plt\n",
        "    import numpy as np\n",
        "    import itertools\n",
        "\n",
        "    accuracy = np.trace(cm) / float(np.sum(cm))\n",
        "    misclass = 1 - accuracy\n",
        "\n",
        "    if cmap is None:\n",
        "        cmap = plt.get_cmap('Blues')\n",
        "\n",
        "    plt.figure(figsize=(8, 6))\n",
        "    plt.imshow(cm, interpolation='nearest', cmap=cmap)\n",
        "    plt.title(title)\n",
        "    plt.colorbar()\n",
        "\n",
        "    if target_names is not None:\n",
        "        tick_marks = np.arange(len(target_names))\n",
        "        plt.xticks(tick_marks, target_names, rotation=45)\n",
        "        plt.yticks(tick_marks, target_names)\n",
        "\n",
        "    if normalize:\n",
        "        cm = cm.astype('float') / cm.sum(axis=1)[:, np.newaxis]\n",
        "\n",
        "\n",
        "    thresh = cm.max() / 1.5 if normalize else cm.max() / 2\n",
        "    for i, j in itertools.product(range(cm.shape[0]), range(cm.shape[1])):\n",
        "        if normalize:\n",
        "            plt.text(j, i, \"{:0.4f}\".format(cm[i, j]),\n",
        "                     horizontalalignment=\"center\",\n",
        "                     color=\"white\" if cm[i, j] > thresh else \"black\")\n",
        "        else:\n",
        "            plt.text(j, i, \"{:,}\".format(cm[i, j]),\n",
        "                     horizontalalignment=\"center\",\n",
        "                     color=\"white\" if cm[i, j] > thresh else \"black\")\n",
        "\n",
        "\n",
        "    plt.tight_layout()\n",
        "    plt.ylabel('True label')\n",
        "    plt.xlabel('Predicted label\\naccuracy={:0.4f}; misclass={:0.4f}'.format(accuracy, misclass))\n",
        "    plt.show()"
      ],
      "execution_count": 15,
      "outputs": []
    },
    {
      "cell_type": "code",
      "metadata": {
        "id": "kzJii_UrNGg6",
        "colab_type": "code",
        "colab": {
          "base_uri": "https://localhost:8080/",
          "height": 467
        },
        "outputId": "5b9aae2f-c7af-43da-95e4-090f0f569664"
      },
      "source": [
        "from sklearn.metrics import confusion_matrix\n",
        "conf_mat = confusion_matrix(y_test_bin, np.round(y_pred_bin))\n",
        "\n",
        "plot_confusion_matrix(cm           = conf_mat, \n",
        "                      normalize    = False,\n",
        "                      target_names = ['No Precipitation', 'Precipitation'],\n",
        "                      title        = \"Confusion Matrix\")"
      ],
      "execution_count": 16,
      "outputs": [
        {
          "output_type": "display_data",
          "data": {
            "image/png": "[encoded data removed]",
            "text/plain": [
              "<Figure size 576x432 with 2 Axes>"
            ]
          },
          "metadata": {
            "tags": [],
            "needs_background": "light"
          }
        }
      ]
    },
    {
      "cell_type": "code",
      "metadata": {
        "id": "Nze89HgZNMMc",
        "colab_type": "code",
        "colab": {
          "base_uri": "https://localhost:8080/",
          "height": 621
        },
        "outputId": "8990b800-9678-4944-95d4-0210dcbf24d9"
      },
      "source": [
        "from sklearn.metrics import roc_auc_score, roc_curve\n",
        "\n",
        "auc_roc = roc_auc_score(y_test_bin, y_pred_bin)\n",
        "fpr_rf, tpr_rf, _ = roc_curve(y_test_bin, y_pred_bin)\n",
        "plt.figure(1, figsize=(10, 10))\n",
        "plt.plot([0, 1], [0, 1], 'k--')\n",
        "plt.plot(fpr_rf, tpr_rf,\n",
        "          label='Precipitation' + \" (\" + str(round(auc_roc, 3)) + \")\")\n",
        "plt.xlabel('False positive rate')\n",
        "plt.ylabel('True positive rate')\n",
        "plt.title('ROC curve')\n",
        "plt.legend(loc='best')\n",
        "plt.show()"
      ],
      "execution_count": 17,
      "outputs": [
        {
          "output_type": "display_data",
          "data": {
            "image/png": "[encoded data removed]",
            "text/plain": [
              "<Figure size 720x720 with 1 Axes>"
            ]
          },
          "metadata": {
            "tags": [],
            "needs_background": "light"
          }
        }
      ]
    },
    {
      "cell_type": "markdown",
      "metadata": {
        "id": "s-Go9PHNulNn",
        "colab_type": "text"
      },
      "source": [
        "# Prep for Stage 2"
      ]
    },
    {
      "cell_type": "code",
      "metadata": {
        "id": "z2iVZRA6unbS",
        "colab_type": "code",
        "colab": {
          "base_uri": "https://localhost:8080/",
          "height": 51
        },
        "outputId": "472ee487-38b9-427a-cae4-5523a568fe51"
      },
      "source": [
        "print(np.sum(y_train_bin == 1.0))\n",
        "X_train_multi = X_sm[y_train_bin == 1.0]\n",
        "y_train_multi = y_sm[y_train_bin == 1.0]# [:, 1:] --> only predict rain types (not 'no precipitation')\n",
        "print(X_train_multi.shape, y_train_multi.shape)"
      ],
      "execution_count": 66,
      "outputs": [
        {
          "output_type": "stream",
          "text": [
            "1532832\n",
            "(1532832, 47) (1532832, 4)\n"
          ],
          "name": "stdout"
        }
      ]
    },
    {
      "cell_type": "code",
      "metadata": {
        "id": "S64QP48swqrw",
        "colab_type": "code",
        "colab": {
          "base_uri": "https://localhost:8080/",
          "height": 51
        },
        "outputId": "a90921ff-ed69-44aa-ced8-f365c4747382"
      },
      "source": [
        "### don't use this --> use predicted outputs ##########\n",
        "# print(np.sum(y_test_bin == 1.0))\n",
        "# X_test_multi = X_test[y_test_bin == 1.0]\n",
        "# y_test_multi = y_test[y_test_bin == 1.0]\n",
        "# X_test_multi.shape\n",
        "#######################################################\n",
        "print(np.sum(np.round(y_pred_bin) == 1.0))\n",
        "X_test_multi = X_test[np.round(y_pred_bin) == 1.0]\n",
        "y_test_multi = y_test[np.round(y_pred_bin) == 1.0]# [:, 1:] --> only predict rain types (not 'no precipitation')\n",
        "print(X_test_multi.shape, y_test_multi.shape)"
      ],
      "execution_count": 67,
      "outputs": [
        {
          "output_type": "stream",
          "text": [
            "9521\n",
            "(9521, 47) (9521, 4)\n"
          ],
          "name": "stdout"
        }
      ]
    },
    {
      "cell_type": "code",
      "metadata": {
        "id": "3xhQWtPn2n-b",
        "colab_type": "code",
        "colab": {
          "base_uri": "https://localhost:8080/",
          "height": 136
        },
        "outputId": "d28a402d-0ebd-4a23-b801-4c1b6010665f"
      },
      "source": [
        "y_train_multi"
      ],
      "execution_count": 68,
      "outputs": [
        {
          "output_type": "execute_result",
          "data": {
            "text/plain": [
              "array([[0, 1, 0, 0],\n",
              "       [0, 1, 0, 0],\n",
              "       [0, 0, 0, 1],\n",
              "       ...,\n",
              "       [0, 0, 0, 1],\n",
              "       [0, 0, 0, 1],\n",
              "       [0, 0, 0, 1]])"
            ]
          },
          "metadata": {
            "tags": []
          },
          "execution_count": 68
        }
      ]
    },
    {
      "cell_type": "code",
      "metadata": {
        "id": "eNv-HimC3rL4",
        "colab_type": "code",
        "colab": {
          "base_uri": "https://localhost:8080/",
          "height": 136
        },
        "outputId": "eba80e42-8c3a-4d3f-87cb-077d6301471c"
      },
      "source": [
        "y_test_multi  # contains [0, 0, 0] if use [:, 1:]"
      ],
      "execution_count": 69,
      "outputs": [
        {
          "output_type": "execute_result",
          "data": {
            "text/plain": [
              "array([[0., 1., 0., 0.],\n",
              "       [0., 1., 0., 0.],\n",
              "       [1., 0., 0., 0.],\n",
              "       ...,\n",
              "       [0., 1., 0., 0.],\n",
              "       [1., 0., 0., 0.],\n",
              "       [0., 1., 0., 0.]])"
            ]
          },
          "metadata": {
            "tags": []
          },
          "execution_count": 69
        }
      ]
    },
    {
      "cell_type": "markdown",
      "metadata": {
        "id": "rz8VSMcu8IwV",
        "colab_type": "text"
      },
      "source": [
        "# Stage 2: Multiclass Model"
      ]
    },
    {
      "cell_type": "code",
      "metadata": {
        "id": "d_35RiGf8MZz",
        "colab_type": "code",
        "colab": {}
      },
      "source": [
        "# weighted loss function\n",
        "import keras.backend as K\n",
        "\n",
        "def get_weighted_loss(pos_weights, neg_weights, epsilon=1e-7):\n",
        "    def weighted_loss(y_true, y_pred):\n",
        "        loss = 0.0\n",
        "        for i in range(len(pos_weights)):\n",
        "            # for each class, add average weighted loss for that class \n",
        "            loss += K.mean(-(pos_weights[i]*y_true[:, i]*K.log(y_pred[:, i]+epsilon)\n",
        "                             + neg_weights[i]*(1-y_true[:, i])*K.log((1-y_pred[:, i])+epsilon)))\n",
        "        return loss\n",
        "    return weighted_loss\n",
        "\n",
        "neg_weights = np.mean(y_train_multi, axis=0)\n",
        "pos_weights = 1 - neg_weights"
      ],
      "execution_count": 70,
      "outputs": []
    },
    {
      "cell_type": "code",
      "metadata": {
        "id": "89ow1P7g1fmc",
        "colab_type": "code",
        "colab": {}
      },
      "source": [
        "stage_2 = keras.models.Sequential([\n",
        "        layers.InputLayer(input_shape=(47,)),\n",
        "        layers.Dense(128, activation=tf.nn.relu), \n",
        "        layers.Dense(128, activation=tf.nn.relu),\n",
        "        layers.Dense(32, activation=tf.nn.relu),\n",
        "        layers.Dense(32, activation=tf.nn.relu),\n",
        "        layers.Dense(16, activation=tf.nn.relu),\n",
        "        layers.Dense(4, activation=tf.nn.softmax)\n",
        "    ])\n",
        "\n",
        "stage_2.compile(optimizer='adam',\n",
        "              loss=get_weighted_loss(pos_weights, neg_weights),\n",
        "              metrics=['accuracy'])"
      ],
      "execution_count": 71,
      "outputs": []
    },
    {
      "cell_type": "code",
      "metadata": {
        "id": "hvP3z-pZ1whT",
        "colab_type": "code",
        "colab": {}
      },
      "source": [
        "# initialize weights to stage 1 weights\n",
        "stage_2.layers[0].set_weights(model.layers[0].get_weights())\n",
        "stage_2.layers[1].set_weights(model.layers[1].get_weights())\n",
        "stage_2.layers[2].set_weights(model.layers[2].get_weights())"
      ],
      "execution_count": 72,
      "outputs": []
    },
    {
      "cell_type": "code",
      "metadata": {
        "id": "Iw4mcTwB2XVb",
        "colab_type": "code",
        "colab": {
          "base_uri": "https://localhost:8080/",
          "height": 187
        },
        "outputId": "81526509-a404-4507-aea2-126de77643d3"
      },
      "source": [
        "history = model.fit(X_train_multi, y_train_multi, validation_data=(X_test_multi, y_test_multi), epochs=5)"
      ],
      "execution_count": 73,
      "outputs": [
        {
          "output_type": "stream",
          "text": [
            "Epoch 1/5\n",
            "47901/47901 [==============================] - 180s 4ms/step - loss: 0.2133 - accuracy: 0.9180 - val_loss: 8.0806 - val_accuracy: 0.4638\n",
            "Epoch 2/5\n",
            "47901/47901 [==============================] - 184s 4ms/step - loss: 0.1151 - accuracy: 0.9590 - val_loss: 8.3294 - val_accuracy: 0.4808\n",
            "Epoch 3/5\n",
            "47901/47901 [==============================] - 179s 4ms/step - loss: 0.0836 - accuracy: 0.9708 - val_loss: 8.5098 - val_accuracy: 0.4846\n",
            "Epoch 4/5\n",
            "47901/47901 [==============================] - 188s 4ms/step - loss: 0.0666 - accuracy: 0.9771 - val_loss: 8.5109 - val_accuracy: 0.4801\n",
            "Epoch 5/5\n",
            "47901/47901 [==============================] - 187s 4ms/step - loss: 0.0564 - accuracy: 0.9813 - val_loss: 8.6786 - val_accuracy: 0.4861\n"
          ],
          "name": "stdout"
        }
      ]
    },
    {
      "cell_type": "code",
      "metadata": {
        "id": "zNy9sXjx4qwO",
        "colab_type": "code",
        "colab": {}
      },
      "source": [
        "y_pred = model.predict(X_test_multi)"
      ],
      "execution_count": 75,
      "outputs": []
    },
    {
      "cell_type": "code",
      "metadata": {
        "id": "nkLl8aWK2gYD",
        "colab_type": "code",
        "colab": {}
      },
      "source": [
        "def plot_confusion_matrix(cm,\n",
        "                          target_names,\n",
        "                          title='Confusion matrix',\n",
        "                          cmap=None,\n",
        "                          normalize=True):\n",
        "    \"\"\"\n",
        "    given a sklearn confusion matrix (cm), make a nice plot\n",
        "\n",
        "    Arguments\n",
        "    ---------\n",
        "    cm:           confusion matrix from sklearn.metrics.confusion_matrix\n",
        "\n",
        "    target_names: given classification classes such as [0, 1, 2]\n",
        "                  the class names, for example: ['high', 'medium', 'low']\n",
        "\n",
        "    title:        the text to display at the top of the matrix\n",
        "\n",
        "    cmap:         the gradient of the values displayed from matplotlib.pyplot.cm\n",
        "                  see http://matplotlib.org/examples/color/colormaps_reference.html\n",
        "                  plt.get_cmap('jet') or plt.cm.Blues\n",
        "\n",
        "    normalize:    If False, plot the raw numbers\n",
        "                  If True, plot the proportions\n",
        "\n",
        "    Usage\n",
        "    -----\n",
        "    plot_confusion_matrix(cm           = cm,                  # confusion matrix created by\n",
        "                                                              # sklearn.metrics.confusion_matrix\n",
        "                          normalize    = True,                # show proportions\n",
        "                          target_names = y_labels_vals,       # list of names of the classes\n",
        "                          title        = best_estimator_name) # title of graph\n",
        "\n",
        "    Citiation\n",
        "    ---------\n",
        "    http://scikit-learn.org/stable/auto_examples/model_selection/plot_confusion_matrix.html\n",
        "\n",
        "    \"\"\"\n",
        "    import matplotlib.pyplot as plt\n",
        "    import numpy as np\n",
        "    import itertools\n",
        "\n",
        "    accuracy = np.trace(cm) / float(np.sum(cm))\n",
        "    misclass = 1 - accuracy\n",
        "\n",
        "    if cmap is None:\n",
        "        cmap = plt.get_cmap('Blues')\n",
        "\n",
        "    plt.figure(figsize=(8, 6))\n",
        "    plt.imshow(cm, interpolation='nearest', cmap=cmap)\n",
        "    plt.title(title)\n",
        "    plt.colorbar()\n",
        "\n",
        "    if target_names is not None:\n",
        "        tick_marks = np.arange(len(target_names))\n",
        "        plt.xticks(tick_marks, target_names, rotation=45)\n",
        "        plt.yticks(tick_marks, target_names)\n",
        "\n",
        "    if normalize:\n",
        "        cm = cm.astype('float') / cm.sum(axis=1)[:, np.newaxis]\n",
        "\n",
        "\n",
        "    thresh = cm.max() / 1.5 if normalize else cm.max() / 2\n",
        "    for i, j in itertools.product(range(cm.shape[0]), range(cm.shape[1])):\n",
        "        if normalize:\n",
        "            plt.text(j, i, \"{:0.4f}\".format(cm[i, j]),\n",
        "                     horizontalalignment=\"center\",\n",
        "                     color=\"white\" if cm[i, j] > thresh else \"black\")\n",
        "        else:\n",
        "            plt.text(j, i, \"{:,}\".format(cm[i, j]),\n",
        "                     horizontalalignment=\"center\",\n",
        "                     color=\"white\" if cm[i, j] > thresh else \"black\")\n",
        "\n",
        "\n",
        "    plt.tight_layout()\n",
        "    plt.ylabel('True label')\n",
        "    plt.xlabel('Predicted label\\naccuracy={:0.4f}; misclass={:0.4f}'.format(accuracy, misclass))\n",
        "    plt.show()"
      ],
      "execution_count": 74,
      "outputs": []
    },
    {
      "cell_type": "code",
      "metadata": {
        "id": "FPXcztGQ4nr0",
        "colab_type": "code",
        "colab": {
          "base_uri": "https://localhost:8080/",
          "height": 467
        },
        "outputId": "c6f39f54-906b-4a42-d8af-0011e69e30a3"
      },
      "source": [
        "from sklearn.metrics import confusion_matrix\n",
        "conf_mat = confusion_matrix(np.argmax(y_test_multi, axis=1), np.argmax(y_pred, axis=1))\n",
        "\n",
        "plot_confusion_matrix(cm           = conf_mat, \n",
        "                      normalize    = False,\n",
        "                      target_names = ['No Precipitation', 'Stratiform', 'Convective', 'Other'],\n",
        "                      title        = \"Confusion Matrix\")"
      ],
      "execution_count": 76,
      "outputs": [
        {
          "output_type": "display_data",
          "data": {
            "image/png": "[encoded data removed]",
            "text/plain": [
              "<Figure size 576x432 with 2 Axes>"
            ]
          },
          "metadata": {
            "tags": [],
            "needs_background": "light"
          }
        }
      ]
    },
    {
      "cell_type": "code",
      "metadata": {
        "id": "EWRYwo6r45F0",
        "colab_type": "code",
        "colab": {}
      },
      "source": [
        "from sklearn.metrics import roc_auc_score, roc_curve\n",
        "\n",
        "def get_roc_curve(labels, y_true, y_pred):\n",
        "    auc_roc_vals = []\n",
        "    for i in range(len(labels)):\n",
        "        try:\n",
        "            gt = y_true[:, i]\n",
        "            pred = y_pred[:, i]\n",
        "            auc_roc = roc_auc_score(gt, pred)\n",
        "            auc_roc_vals.append(auc_roc)\n",
        "            fpr_rf, tpr_rf, _ = roc_curve(gt, pred)\n",
        "            plt.figure(1, figsize=(10, 10))\n",
        "            plt.plot([0, 1], [0, 1], 'k--')\n",
        "            plt.plot(fpr_rf, tpr_rf,\n",
        "                     label=labels[i] + \" (\" + str(round(auc_roc, 3)) + \")\")\n",
        "            plt.xlabel('False positive rate')\n",
        "            plt.ylabel('True positive rate')\n",
        "            plt.title('ROC curve')\n",
        "            plt.legend(loc='best')\n",
        "        except:\n",
        "            print(\n",
        "                f\"Error in generating ROC curve for {labels[i]}. \"\n",
        "                f\"Dataset lacks enough examples.\"\n",
        "            )\n",
        "    plt.show()\n",
        "    return auc_roc_vals"
      ],
      "execution_count": 77,
      "outputs": []
    },
    {
      "cell_type": "code",
      "metadata": {
        "id": "viKvirKm4_T0",
        "colab_type": "code",
        "colab": {
          "base_uri": "https://localhost:8080/",
          "height": 621
        },
        "outputId": "fe7905f4-a227-4855-a2b2-89750def198a"
      },
      "source": [
        "auc_rocs = get_roc_curve(['No Precipitation', 'Stratiform', 'Convective', 'Other'], y_test_multi, y_pred)"
      ],
      "execution_count": 78,
      "outputs": [
        {
          "output_type": "display_data",
          "data": {
            "image/png": "[encoded data removed]",
            "text/plain": [
              "<Figure size 720x720 with 1 Axes>"
            ]
          },
          "metadata": {
            "tags": [],
            "needs_background": "light"
          }
        }
      ]
    },
    {
      "cell_type": "code",
      "metadata": {
        "id": "Pv_QeRVV5B_s",
        "colab_type": "code",
        "colab": {}
      },
      "source": [
        ""
      ],
      "execution_count": null,
      "outputs": []
    }
  ]
}
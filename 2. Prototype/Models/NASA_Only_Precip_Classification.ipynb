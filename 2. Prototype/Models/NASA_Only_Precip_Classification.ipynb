{
  "nbformat": 4,
  "nbformat_minor": 0,
  "metadata": {
    "colab": {
      "name": "NASA_Only_Precip_Classification.ipynb",
      "provenance": [],
      "collapsed_sections": [
        "G2EU8pbqwcZS",
        "DB-_NNIqwimR",
        "sKdqEktswkRP",
        "RVzEr_LCwpKO",
        "-VN0mCqvwy6b",
        "LUlCzB6ixJes",
        "iDBLjvyEzl30",
        "Pg4XasjixV5w",
        "FeIGY5nkxosL",
        "RIjr5pg2IDe_",
        "7ZzkKvdsz4ay",
        "kAuLaNhZ4W-o",
        "Yxc6P_H24iXt",
        "43Ry7yYHtubP",
        "uwhBguJcF5yG",
        "w9s0d-j6GBYi",
        "8nhB3wcuG3n4",
        "_JeE_alUFprv",
        "dKhXLPFVHGzY"
      ],
      "authorship_tag": "ABX9TyNNIJPE+MY9ppRhTOL3QW05",
      "include_colab_link": true
    },
    "kernelspec": {
      "name": "python3",
      "display_name": "Python 3"
    }
  },
  "cells": [
    {
      "cell_type": "markdown",
      "metadata": {
        "id": "view-in-github",
        "colab_type": "text"
      },
      "source": [
        "<a href=\"https://colab.research.google.com/github/SD325/NASA_Internship_2020/blob/master/NASA_Only_Precip_Classification.ipynb\" target=\"_parent\"><img src=\"https://colab.research.google.com/assets/colab-badge.svg\" alt=\"Open In Colab\"/></a>"
      ]
    },
    {
      "cell_type": "code",
      "metadata": {
        "id": "zFLPeuvoHnXs",
        "colab_type": "code",
        "colab": {
          "base_uri": "https://localhost:8080/",
          "height": 34
        },
        "outputId": "33a45cc3-21e7-4b5a-81e5-e415f20cf5f7"
      },
      "source": [
        "# mount Google Drive\n",
        "from google.colab import drive\n",
        "drive.mount('/content/drive')"
      ],
      "execution_count": 1,
      "outputs": [
        {
          "output_type": "stream",
          "text": [
            "Drive already mounted at /content/drive; to attempt to forcibly remount, call drive.mount(\"/content/drive\", force_remount=True).\n"
          ],
          "name": "stdout"
        }
      ]
    },
    {
      "cell_type": "code",
      "metadata": {
        "id": "bQWPnrTYHv1V",
        "colab_type": "code",
        "colab": {}
      },
      "source": [
        "# Suppress warnings\n",
        "import warnings\n",
        "warnings.filterwarnings(\"ignore\")\n",
        "\n",
        "# Imports\n",
        "import joblib\n",
        "import pickle\n",
        "import scipy.io\n",
        "import numpy as np\n",
        "import pandas as pd\n",
        "import matplotlib.pyplot as plt\n",
        "import seaborn as sns\n",
        "import os\n",
        "\n",
        "import tensorflow as tf\n",
        "from tensorflow import keras\n",
        "from tensorflow.keras import layers\n",
        "\n",
        "from sklearn.model_selection import train_test_split\n",
        "from sklearn.ensemble import RandomForestClassifier\n",
        "from sklearn.metrics import accuracy_score\n",
        "from sklearn.metrics import confusion_matrix\n",
        "\n",
        "\n",
        "# Working Directory \n",
        "BASE_DIR = '/content/drive/My Drive/data/NASA_2020/'"
      ],
      "execution_count": 2,
      "outputs": []
    },
    {
      "cell_type": "markdown",
      "metadata": {
        "id": "G2EU8pbqwcZS",
        "colab_type": "text"
      },
      "source": [
        "# Prepare Data"
      ]
    },
    {
      "cell_type": "markdown",
      "metadata": {
        "id": "DB-_NNIqwimR",
        "colab_type": "text"
      },
      "source": [
        "## Read Data"
      ]
    },
    {
      "cell_type": "code",
      "metadata": {
        "id": "--hRProwwWyJ",
        "colab_type": "code",
        "colab": {
          "base_uri": "https://localhost:8080/",
          "height": 0
        },
        "outputId": "d08a47c3-ae1f-4077-f4e0-c68ed64bdca2"
      },
      "source": [
        "BASE_DIR = '/content/drive/My Drive/data/NASA_2020/'\n",
        "# fall (280), winter (13), spring (92), summer (157)\n",
        "filenames =['colloc_Precipflag_DPR_GMI_20151007.sav',\n",
        "            'colloc_Precipflag_DPR_GMI_20160113.sav',\n",
        "            'colloc_Precipflag_DPR_GMI_20160401.sav']\n",
        "            #,'colloc_Precipflag_DPR_GMI_20170606.sav']\n",
        "day_of_year = [280.0, 13.0, 92.0] #, 157]\n",
        "FILE_PATHS = [BASE_DIR + fn for fn in filenames]\n",
        "data = [scipy.io.readsav(filepath, verbose=1) for filepath in FILE_PATHS]"
      ],
      "execution_count": 3,
      "outputs": [
        {
          "output_type": "stream",
          "text": [
            "--------------------------------------------------\n",
            "Date: Sat Jun 27 00:49:52 2020\n",
            "User: jgong\n",
            "Host: gs613-cirrus.ndc.nasa.gov\n",
            "--------------------------------------------------\n",
            "Format: 12\n",
            "Architecture: x86_64\n",
            "Operating System: linux\n",
            "IDL Version: 8.7.3\n",
            "--------------------------------------------------\n",
            "Successfully read 14 records of which:\n",
            " - 1 are of type VERSION\n",
            " - 11 are of type VARIABLE\n",
            " - 1 are of type TIMESTAMP\n",
            "--------------------------------------------------\n",
            "Available variables:\n",
            " - tc [<class 'numpy.ndarray'>]\n",
            " - latc [<class 'numpy.ndarray'>]\n",
            " - lonc [<class 'numpy.ndarray'>]\n",
            " - utc [<class 'numpy.ndarray'>]\n",
            " - emis [<class 'numpy.ndarray'>]\n",
            " - emis_std [<class 'numpy.ndarray'>]\n",
            " - ts [<class 'numpy.ndarray'>]\n",
            " - clwp [<class 'numpy.ndarray'>]\n",
            " - twv [<class 'numpy.ndarray'>]\n",
            " - tysfc [<class 'numpy.ndarray'>]\n",
            " - pflag [<class 'numpy.ndarray'>]\n",
            "--------------------------------------------------\n",
            "--------------------------------------------------\n",
            "Date: Fri Jun 26 15:53:36 2020\n",
            "User: jgong\n",
            "Host: gs613-cirrus.ndc.nasa.gov\n",
            "--------------------------------------------------\n",
            "Format: 12\n",
            "Architecture: x86_64\n",
            "Operating System: linux\n",
            "IDL Version: 8.7.3\n",
            "--------------------------------------------------\n",
            "Successfully read 14 records of which:\n",
            " - 1 are of type VERSION\n",
            " - 11 are of type VARIABLE\n",
            " - 1 are of type TIMESTAMP\n",
            "--------------------------------------------------\n",
            "Available variables:\n",
            " - tc [<class 'numpy.ndarray'>]\n",
            " - latc [<class 'numpy.ndarray'>]\n",
            " - lonc [<class 'numpy.ndarray'>]\n",
            " - utc [<class 'numpy.ndarray'>]\n",
            " - emis [<class 'numpy.ndarray'>]\n",
            " - emis_std [<class 'numpy.ndarray'>]\n",
            " - ts [<class 'numpy.ndarray'>]\n",
            " - clwp [<class 'numpy.ndarray'>]\n",
            " - twv [<class 'numpy.ndarray'>]\n",
            " - tysfc [<class 'numpy.ndarray'>]\n",
            " - pflag [<class 'numpy.ndarray'>]\n",
            "--------------------------------------------------\n",
            "--------------------------------------------------\n",
            "Date: Fri Jun 26 09:39:17 2020\n",
            "User: jgong\n",
            "Host: gs613-cirrus.ndc.nasa.gov\n",
            "--------------------------------------------------\n",
            "Format: 12\n",
            "Architecture: x86_64\n",
            "Operating System: linux\n",
            "IDL Version: 8.7.3\n",
            "--------------------------------------------------\n",
            "Successfully read 14 records of which:\n",
            " - 1 are of type VERSION\n",
            " - 11 are of type VARIABLE\n",
            " - 1 are of type TIMESTAMP\n",
            "--------------------------------------------------\n",
            "Available variables:\n",
            " - tc [<class 'numpy.ndarray'>]\n",
            " - latc [<class 'numpy.ndarray'>]\n",
            " - lonc [<class 'numpy.ndarray'>]\n",
            " - utc [<class 'numpy.ndarray'>]\n",
            " - emis [<class 'numpy.ndarray'>]\n",
            " - emis_std [<class 'numpy.ndarray'>]\n",
            " - ts [<class 'numpy.ndarray'>]\n",
            " - clwp [<class 'numpy.ndarray'>]\n",
            " - twv [<class 'numpy.ndarray'>]\n",
            " - tysfc [<class 'numpy.ndarray'>]\n",
            " - pflag [<class 'numpy.ndarray'>]\n",
            "--------------------------------------------------\n"
          ],
          "name": "stdout"
        }
      ]
    },
    {
      "cell_type": "markdown",
      "metadata": {
        "id": "sKdqEktswkRP",
        "colab_type": "text"
      },
      "source": [
        "## Trim Data"
      ]
    },
    {
      "cell_type": "code",
      "metadata": {
        "id": "t9a9a48Iwl5L",
        "colab_type": "code",
        "colab": {
          "base_uri": "https://localhost:8080/",
          "height": 0
        },
        "outputId": "9ec88883-b41a-4f58-bd16-44f82fd979fa"
      },
      "source": [
        "data_trimmed = []\n",
        "for i, data_i in enumerate(data):\n",
        "  data_trimmed_i = {}\n",
        "  for var, arr in data_i.items():\n",
        "    if arr.ndim == 1:\n",
        "      data_trimmed_i[var] = arr[1:] \n",
        "    else:\n",
        "      data_trimmed_i[var] = arr[1:, 25:196] if arr.ndim == 2 else arr[1:, 25:196, :] \n",
        "\n",
        "  for var, arr in data_trimmed_i.items():\n",
        "    print(f\"{var}: {arr.shape}\")\n",
        "  print('-' * 15)\n",
        "  data_trimmed.append(data_trimmed_i)\n",
        "\n",
        "# free up memory\n",
        "del data"
      ],
      "execution_count": 4,
      "outputs": [
        {
          "output_type": "stream",
          "text": [
            "tc: (47380, 171, 13)\n",
            "latc: (47380, 171)\n",
            "lonc: (47380, 171)\n",
            "utc: (47380,)\n",
            "emis: (47380, 171, 13)\n",
            "emis_std: (47380, 171, 13)\n",
            "ts: (47380, 171)\n",
            "clwp: (47380, 171)\n",
            "twv: (47380, 171)\n",
            "tysfc: (47380, 171)\n",
            "pflag: (47380, 171)\n",
            "---------------\n",
            "tc: (47370, 171, 13)\n",
            "latc: (47370, 171)\n",
            "lonc: (47370, 171)\n",
            "utc: (47370,)\n",
            "emis: (47370, 171, 13)\n",
            "emis_std: (47370, 171, 13)\n",
            "ts: (47370, 171)\n",
            "clwp: (47370, 171)\n",
            "twv: (47370, 171)\n",
            "tysfc: (47370, 171)\n",
            "pflag: (47370, 171)\n",
            "---------------\n",
            "tc: (47407, 171, 13)\n",
            "latc: (47407, 171)\n",
            "lonc: (47407, 171)\n",
            "utc: (47407,)\n",
            "emis: (47407, 171, 13)\n",
            "emis_std: (47407, 171, 13)\n",
            "ts: (47407, 171)\n",
            "clwp: (47407, 171)\n",
            "twv: (47407, 171)\n",
            "tysfc: (47407, 171)\n",
            "pflag: (47407, 171)\n",
            "---------------\n"
          ],
          "name": "stdout"
        }
      ]
    },
    {
      "cell_type": "markdown",
      "metadata": {
        "id": "RVzEr_LCwpKO",
        "colab_type": "text"
      },
      "source": [
        "## Polarization Differences (PDs)"
      ]
    },
    {
      "cell_type": "code",
      "metadata": {
        "id": "fKHZmrbuwsTM",
        "colab_type": "code",
        "colab": {
          "base_uri": "https://localhost:8080/",
          "height": 0
        },
        "outputId": "a2922695-9cf3-49a8-a56a-0a55f8ef4f32"
      },
      "source": [
        "# calculate polarization differences (PD)\n",
        "def add_to_PD_i(i, freq, ind1, ind2, data):\n",
        "  PD[i][freq] = data[i]['tc'][:, :, ind1] - data[i]['tc'][:, :, ind2]\n",
        "\n",
        "PD = [{} for _ in range(len(data_trimmed))]\n",
        "for i in range(len(data_trimmed)):\n",
        "  add_to_PD_i(i, '10.65', 0, 1, data_trimmed)\n",
        "  add_to_PD_i(i, '18.70', 2, 3, data_trimmed)\n",
        "  add_to_PD_i(i, '36.50', 5, 6, data_trimmed)\n",
        "  add_to_PD_i(i, '89.00', 7, 8, data_trimmed)\n",
        "  add_to_PD_i(i, '166.0', 9, 10, data_trimmed)\n",
        "  print(PD[i].keys())"
      ],
      "execution_count": 5,
      "outputs": [
        {
          "output_type": "stream",
          "text": [
            "dict_keys(['10.65', '18.70', '36.50', '89.00', '166.0'])\n",
            "dict_keys(['10.65', '18.70', '36.50', '89.00', '166.0'])\n",
            "dict_keys(['10.65', '18.70', '36.50', '89.00', '166.0'])\n"
          ],
          "name": "stdout"
        }
      ]
    },
    {
      "cell_type": "markdown",
      "metadata": {
        "id": "-VN0mCqvwy6b",
        "colab_type": "text"
      },
      "source": [
        "## Construct DataFrame"
      ]
    },
    {
      "cell_type": "code",
      "metadata": {
        "id": "rCxcI3ae2YFg",
        "colab_type": "code",
        "colab": {}
      },
      "source": [
        "# # create 2d version of time data\n",
        "# time_2d = []\n",
        "# for data_trimmed_i in data_trimmed:\n",
        "#   time_2d.append(np.tile(data_trimmed_i['utc'][:, np.newaxis], (1, data_trimmed_i['pflag'].shape[1])))\n",
        "#   print(time_2d[-1].shape)"
      ],
      "execution_count": 6,
      "outputs": []
    },
    {
      "cell_type": "code",
      "metadata": {
        "id": "36y3bA0Gw1E0",
        "colab_type": "code",
        "colab": {
          "base_uri": "https://localhost:8080/",
          "height": 0
        },
        "outputId": "4b948448-ee6b-4568-ec75-cef08881996c"
      },
      "source": [
        "# ravel 2d data --> scans one after another\n",
        "'''\n",
        "* 13 channels TB\n",
        "* 3 channels PD (10.65, 89 and 166 GHz)\n",
        "x Surface emissivity\n",
        "* Ts\n",
        "* CLWP\n",
        "* TWV\n",
        "* Lat/Lon\n",
        "- Day of the year starting from the first day of the year (i.e., Julian day. For example, 1/1/2017 is 1, 2/1/2017 is 32)\n",
        "'''\n",
        "data_dfs = []\n",
        "\n",
        "# PD_freqs_append = ['10.65', '89.00', '166.0']\n",
        "PD_freqs_append = ['89.00', '166.0']\n",
        "data_2d = {'latc': 'lat',\n",
        "           'lonc': 'lon',\n",
        "           'ts': 'ts',\n",
        "           'clwp': 'clwp',\n",
        "           'twv': 'twv'}\n",
        "for i, data_i in enumerate(data_trimmed):\n",
        "  curr_df = pd.DataFrame()\n",
        "  # # utc (time)\n",
        "  # curr_df['utc'] = np.ravel(time_2d[i])\n",
        "  \n",
        "  # 2d data\n",
        "  for data_name, df_name in data_2d.items():\n",
        "    curr_df[df_name] = np.ravel(data_i[data_name])\n",
        "\n",
        "  # day of year\n",
        "  curr_df['day_of_year'] = np.repeat(day_of_year[i], curr_df['lat'].size)\n",
        "\n",
        "  # PDs\n",
        "  for freq in PD_freqs_append:\n",
        "    curr_df[f'PD_{freq}'] = np.ravel(PD[i][freq])\n",
        "\n",
        "  # 3d data\n",
        "  for idx in range(data_i['tc'].shape[2]):\n",
        "    curr_df[f'tc_{idx}'] = np.ravel(data_i['tc'][:, :, idx])\n",
        "\n",
        "  data_dfs.append(curr_df)\n",
        "  del curr_df\n",
        "\n",
        "\n",
        "print('combining DataFrames')\n",
        "data_df = pd.concat(data_dfs, ignore_index = True)\n",
        "data_df.head()"
      ],
      "execution_count": 7,
      "outputs": [
        {
          "output_type": "stream",
          "text": [
            "combining DataFrames\n"
          ],
          "name": "stdout"
        },
        {
          "output_type": "execute_result",
          "data": {
            "text/html": [
              "<div>\n",
              "<style scoped>\n",
              "    .dataframe tbody tr th:only-of-type {\n",
              "        vertical-align: middle;\n",
              "    }\n",
              "\n",
              "    .dataframe tbody tr th {\n",
              "        vertical-align: top;\n",
              "    }\n",
              "\n",
              "    .dataframe thead th {\n",
              "        text-align: right;\n",
              "    }\n",
              "</style>\n",
              "<table border=\"1\" class=\"dataframe\">\n",
              "  <thead>\n",
              "    <tr style=\"text-align: right;\">\n",
              "      <th></th>\n",
              "      <th>lat</th>\n",
              "      <th>lon</th>\n",
              "      <th>ts</th>\n",
              "      <th>clwp</th>\n",
              "      <th>twv</th>\n",
              "      <th>day_of_year</th>\n",
              "      <th>PD_89.00</th>\n",
              "      <th>PD_166.0</th>\n",
              "      <th>tc_0</th>\n",
              "      <th>tc_1</th>\n",
              "      <th>tc_2</th>\n",
              "      <th>tc_3</th>\n",
              "      <th>tc_4</th>\n",
              "      <th>tc_5</th>\n",
              "      <th>tc_6</th>\n",
              "      <th>tc_7</th>\n",
              "      <th>tc_8</th>\n",
              "      <th>tc_9</th>\n",
              "      <th>tc_10</th>\n",
              "      <th>tc_11</th>\n",
              "      <th>tc_12</th>\n",
              "    </tr>\n",
              "  </thead>\n",
              "  <tbody>\n",
              "    <tr>\n",
              "      <th>0</th>\n",
              "      <td>-68.794342</td>\n",
              "      <td>121.109978</td>\n",
              "      <td>-99.0</td>\n",
              "      <td>-99.0</td>\n",
              "      <td>-99.0</td>\n",
              "      <td>280.0</td>\n",
              "      <td>14.330002</td>\n",
              "      <td>10.839996</td>\n",
              "      <td>228.770004</td>\n",
              "      <td>205.880005</td>\n",
              "      <td>223.490005</td>\n",
              "      <td>204.559998</td>\n",
              "      <td>222.809998</td>\n",
              "      <td>224.610001</td>\n",
              "      <td>208.850006</td>\n",
              "      <td>231.000000</td>\n",
              "      <td>216.669998</td>\n",
              "      <td>227.389999</td>\n",
              "      <td>216.550003</td>\n",
              "      <td>237.830002</td>\n",
              "      <td>230.470001</td>\n",
              "    </tr>\n",
              "    <tr>\n",
              "      <th>1</th>\n",
              "      <td>-68.736092</td>\n",
              "      <td>121.270271</td>\n",
              "      <td>-99.0</td>\n",
              "      <td>-99.0</td>\n",
              "      <td>-99.0</td>\n",
              "      <td>280.0</td>\n",
              "      <td>13.979996</td>\n",
              "      <td>12.560013</td>\n",
              "      <td>229.369995</td>\n",
              "      <td>204.470001</td>\n",
              "      <td>222.880005</td>\n",
              "      <td>203.619995</td>\n",
              "      <td>223.070007</td>\n",
              "      <td>224.199997</td>\n",
              "      <td>208.869995</td>\n",
              "      <td>230.679993</td>\n",
              "      <td>216.699997</td>\n",
              "      <td>228.960007</td>\n",
              "      <td>216.399994</td>\n",
              "      <td>237.610001</td>\n",
              "      <td>231.130005</td>\n",
              "    </tr>\n",
              "    <tr>\n",
              "      <th>2</th>\n",
              "      <td>-68.716942</td>\n",
              "      <td>121.389320</td>\n",
              "      <td>-99.0</td>\n",
              "      <td>-99.0</td>\n",
              "      <td>-99.0</td>\n",
              "      <td>280.0</td>\n",
              "      <td>14.509995</td>\n",
              "      <td>9.139999</td>\n",
              "      <td>228.990005</td>\n",
              "      <td>204.149994</td>\n",
              "      <td>223.880005</td>\n",
              "      <td>203.710007</td>\n",
              "      <td>223.369995</td>\n",
              "      <td>224.240005</td>\n",
              "      <td>208.160004</td>\n",
              "      <td>231.479996</td>\n",
              "      <td>216.970001</td>\n",
              "      <td>227.419998</td>\n",
              "      <td>218.279999</td>\n",
              "      <td>238.160004</td>\n",
              "      <td>231.839996</td>\n",
              "    </tr>\n",
              "    <tr>\n",
              "      <th>3</th>\n",
              "      <td>-68.697197</td>\n",
              "      <td>121.507530</td>\n",
              "      <td>-99.0</td>\n",
              "      <td>-99.0</td>\n",
              "      <td>-99.0</td>\n",
              "      <td>280.0</td>\n",
              "      <td>14.410004</td>\n",
              "      <td>10.429993</td>\n",
              "      <td>228.979996</td>\n",
              "      <td>203.429993</td>\n",
              "      <td>223.240005</td>\n",
              "      <td>202.210007</td>\n",
              "      <td>222.839996</td>\n",
              "      <td>224.020004</td>\n",
              "      <td>205.979996</td>\n",
              "      <td>231.139999</td>\n",
              "      <td>216.729996</td>\n",
              "      <td>226.339996</td>\n",
              "      <td>215.910004</td>\n",
              "      <td>237.490005</td>\n",
              "      <td>231.080002</td>\n",
              "    </tr>\n",
              "    <tr>\n",
              "      <th>4</th>\n",
              "      <td>-68.648026</td>\n",
              "      <td>121.535782</td>\n",
              "      <td>-99.0</td>\n",
              "      <td>-99.0</td>\n",
              "      <td>-99.0</td>\n",
              "      <td>280.0</td>\n",
              "      <td>14.319992</td>\n",
              "      <td>10.379990</td>\n",
              "      <td>228.630005</td>\n",
              "      <td>204.619995</td>\n",
              "      <td>223.919998</td>\n",
              "      <td>202.509995</td>\n",
              "      <td>222.520004</td>\n",
              "      <td>223.520004</td>\n",
              "      <td>206.960007</td>\n",
              "      <td>230.789993</td>\n",
              "      <td>216.470001</td>\n",
              "      <td>228.259995</td>\n",
              "      <td>217.880005</td>\n",
              "      <td>238.449997</td>\n",
              "      <td>231.389999</td>\n",
              "    </tr>\n",
              "  </tbody>\n",
              "</table>\n",
              "</div>"
            ],
            "text/plain": [
              "         lat         lon    ts  ...       tc_10       tc_11       tc_12\n",
              "0 -68.794342  121.109978 -99.0  ...  216.550003  237.830002  230.470001\n",
              "1 -68.736092  121.270271 -99.0  ...  216.399994  237.610001  231.130005\n",
              "2 -68.716942  121.389320 -99.0  ...  218.279999  238.160004  231.839996\n",
              "3 -68.697197  121.507530 -99.0  ...  215.910004  237.490005  231.080002\n",
              "4 -68.648026  121.535782 -99.0  ...  217.880005  238.449997  231.389999\n",
              "\n",
              "[5 rows x 21 columns]"
            ]
          },
          "metadata": {
            "tags": []
          },
          "execution_count": 7
        }
      ]
    },
    {
      "cell_type": "code",
      "metadata": {
        "id": "hazhgKWD37WG",
        "colab_type": "code",
        "colab": {}
      },
      "source": [
        "del data_dfs\n",
        "# del time_2d\n",
        "del PD"
      ],
      "execution_count": 8,
      "outputs": []
    },
    {
      "cell_type": "code",
      "metadata": {
        "id": "PU8xGSlnxFtz",
        "colab_type": "code",
        "colab": {
          "base_uri": "https://localhost:8080/",
          "height": 0
        },
        "outputId": "d6a36fd3-0161-43a3-885e-e4b207a2bfca"
      },
      "source": [
        "y = pd.DataFrame()\n",
        "y['pflag'] = np.concatenate(tuple(np.ravel(data_trimmed[i]['pflag']).byteswap().newbyteorder() for i in range(len(data_trimmed))))\n",
        "del data_trimmed\n",
        "y.head()"
      ],
      "execution_count": 9,
      "outputs": [
        {
          "output_type": "execute_result",
          "data": {
            "text/html": [
              "<div>\n",
              "<style scoped>\n",
              "    .dataframe tbody tr th:only-of-type {\n",
              "        vertical-align: middle;\n",
              "    }\n",
              "\n",
              "    .dataframe tbody tr th {\n",
              "        vertical-align: top;\n",
              "    }\n",
              "\n",
              "    .dataframe thead th {\n",
              "        text-align: right;\n",
              "    }\n",
              "</style>\n",
              "<table border=\"1\" class=\"dataframe\">\n",
              "  <thead>\n",
              "    <tr style=\"text-align: right;\">\n",
              "      <th></th>\n",
              "      <th>pflag</th>\n",
              "    </tr>\n",
              "  </thead>\n",
              "  <tbody>\n",
              "    <tr>\n",
              "      <th>0</th>\n",
              "      <td>NaN</td>\n",
              "    </tr>\n",
              "    <tr>\n",
              "      <th>1</th>\n",
              "      <td>NaN</td>\n",
              "    </tr>\n",
              "    <tr>\n",
              "      <th>2</th>\n",
              "      <td>NaN</td>\n",
              "    </tr>\n",
              "    <tr>\n",
              "      <th>3</th>\n",
              "      <td>NaN</td>\n",
              "    </tr>\n",
              "    <tr>\n",
              "      <th>4</th>\n",
              "      <td>NaN</td>\n",
              "    </tr>\n",
              "  </tbody>\n",
              "</table>\n",
              "</div>"
            ],
            "text/plain": [
              "   pflag\n",
              "0    NaN\n",
              "1    NaN\n",
              "2    NaN\n",
              "3    NaN\n",
              "4    NaN"
            ]
          },
          "metadata": {
            "tags": []
          },
          "execution_count": 9
        }
      ]
    },
    {
      "cell_type": "markdown",
      "metadata": {
        "id": "LUlCzB6ixJes",
        "colab_type": "text"
      },
      "source": [
        "## Drop Unwanted (Only Precipitating Pixels)"
      ]
    },
    {
      "cell_type": "code",
      "metadata": {
        "id": "JNLnjKZ-xPh9",
        "colab_type": "code",
        "colab": {
          "base_uri": "https://localhost:8080/",
          "height": 0
        },
        "outputId": "e90980d6-ccae-48e7-9ebc-f7c59f17dd99"
      },
      "source": [
        "X_dropped = data_df[(~np.isnan(y['pflag'])) & (data_df['ts'] != -99.0) & (~np.isnan(data_df['twv']))]\n",
        "X_dropped.head()"
      ],
      "execution_count": 10,
      "outputs": [
        {
          "output_type": "execute_result",
          "data": {
            "text/html": [
              "<div>\n",
              "<style scoped>\n",
              "    .dataframe tbody tr th:only-of-type {\n",
              "        vertical-align: middle;\n",
              "    }\n",
              "\n",
              "    .dataframe tbody tr th {\n",
              "        vertical-align: top;\n",
              "    }\n",
              "\n",
              "    .dataframe thead th {\n",
              "        text-align: right;\n",
              "    }\n",
              "</style>\n",
              "<table border=\"1\" class=\"dataframe\">\n",
              "  <thead>\n",
              "    <tr style=\"text-align: right;\">\n",
              "      <th></th>\n",
              "      <th>lat</th>\n",
              "      <th>lon</th>\n",
              "      <th>ts</th>\n",
              "      <th>clwp</th>\n",
              "      <th>twv</th>\n",
              "      <th>day_of_year</th>\n",
              "      <th>PD_89.00</th>\n",
              "      <th>PD_166.0</th>\n",
              "      <th>tc_0</th>\n",
              "      <th>tc_1</th>\n",
              "      <th>tc_2</th>\n",
              "      <th>tc_3</th>\n",
              "      <th>tc_4</th>\n",
              "      <th>tc_5</th>\n",
              "      <th>tc_6</th>\n",
              "      <th>tc_7</th>\n",
              "      <th>tc_8</th>\n",
              "      <th>tc_9</th>\n",
              "      <th>tc_10</th>\n",
              "      <th>tc_11</th>\n",
              "      <th>tc_12</th>\n",
              "    </tr>\n",
              "  </thead>\n",
              "  <tbody>\n",
              "    <tr>\n",
              "      <th>405</th>\n",
              "      <td>-65.898605</td>\n",
              "      <td>125.724609</td>\n",
              "      <td>258.322540</td>\n",
              "      <td>0.011064</td>\n",
              "      <td>2.236660</td>\n",
              "      <td>280.0</td>\n",
              "      <td>15.860001</td>\n",
              "      <td>7.970001</td>\n",
              "      <td>255.880005</td>\n",
              "      <td>226.380005</td>\n",
              "      <td>246.889999</td>\n",
              "      <td>221.880005</td>\n",
              "      <td>246.110001</td>\n",
              "      <td>244.300003</td>\n",
              "      <td>222.809998</td>\n",
              "      <td>235.240005</td>\n",
              "      <td>219.380005</td>\n",
              "      <td>229.220001</td>\n",
              "      <td>221.250000</td>\n",
              "      <td>246.289993</td>\n",
              "      <td>242.410004</td>\n",
              "    </tr>\n",
              "    <tr>\n",
              "      <th>406</th>\n",
              "      <td>-65.805023</td>\n",
              "      <td>125.751350</td>\n",
              "      <td>258.579742</td>\n",
              "      <td>0.014423</td>\n",
              "      <td>2.670216</td>\n",
              "      <td>280.0</td>\n",
              "      <td>16.639999</td>\n",
              "      <td>8.400009</td>\n",
              "      <td>253.389999</td>\n",
              "      <td>224.309998</td>\n",
              "      <td>242.050003</td>\n",
              "      <td>215.660004</td>\n",
              "      <td>239.710007</td>\n",
              "      <td>241.649994</td>\n",
              "      <td>220.169998</td>\n",
              "      <td>236.690002</td>\n",
              "      <td>220.050003</td>\n",
              "      <td>230.100006</td>\n",
              "      <td>221.699997</td>\n",
              "      <td>246.559998</td>\n",
              "      <td>244.940002</td>\n",
              "    </tr>\n",
              "    <tr>\n",
              "      <th>407</th>\n",
              "      <td>-65.758141</td>\n",
              "      <td>125.762604</td>\n",
              "      <td>258.836304</td>\n",
              "      <td>0.017788</td>\n",
              "      <td>2.518587</td>\n",
              "      <td>280.0</td>\n",
              "      <td>17.520004</td>\n",
              "      <td>9.369995</td>\n",
              "      <td>252.440002</td>\n",
              "      <td>221.479996</td>\n",
              "      <td>237.250000</td>\n",
              "      <td>211.589996</td>\n",
              "      <td>237.020004</td>\n",
              "      <td>238.259995</td>\n",
              "      <td>216.669998</td>\n",
              "      <td>236.710007</td>\n",
              "      <td>219.190002</td>\n",
              "      <td>231.639999</td>\n",
              "      <td>222.270004</td>\n",
              "      <td>246.270004</td>\n",
              "      <td>244.490005</td>\n",
              "    </tr>\n",
              "    <tr>\n",
              "      <th>408</th>\n",
              "      <td>-65.711205</td>\n",
              "      <td>125.772438</td>\n",
              "      <td>259.092346</td>\n",
              "      <td>0.021157</td>\n",
              "      <td>2.816634</td>\n",
              "      <td>280.0</td>\n",
              "      <td>17.740005</td>\n",
              "      <td>8.839996</td>\n",
              "      <td>251.350006</td>\n",
              "      <td>219.380005</td>\n",
              "      <td>237.149994</td>\n",
              "      <td>211.309998</td>\n",
              "      <td>236.559998</td>\n",
              "      <td>239.070007</td>\n",
              "      <td>218.169998</td>\n",
              "      <td>236.779999</td>\n",
              "      <td>219.039993</td>\n",
              "      <td>232.750000</td>\n",
              "      <td>223.910004</td>\n",
              "      <td>245.880005</td>\n",
              "      <td>245.850006</td>\n",
              "    </tr>\n",
              "    <tr>\n",
              "      <th>409</th>\n",
              "      <td>-65.664230</td>\n",
              "      <td>125.780869</td>\n",
              "      <td>259.347931</td>\n",
              "      <td>0.024527</td>\n",
              "      <td>2.969014</td>\n",
              "      <td>280.0</td>\n",
              "      <td>18.130005</td>\n",
              "      <td>9.139999</td>\n",
              "      <td>248.699997</td>\n",
              "      <td>219.960007</td>\n",
              "      <td>238.360001</td>\n",
              "      <td>211.179993</td>\n",
              "      <td>237.539993</td>\n",
              "      <td>239.399994</td>\n",
              "      <td>217.750000</td>\n",
              "      <td>238.830002</td>\n",
              "      <td>220.699997</td>\n",
              "      <td>234.940002</td>\n",
              "      <td>225.800003</td>\n",
              "      <td>245.990005</td>\n",
              "      <td>247.029999</td>\n",
              "    </tr>\n",
              "  </tbody>\n",
              "</table>\n",
              "</div>"
            ],
            "text/plain": [
              "           lat         lon          ts  ...       tc_10       tc_11       tc_12\n",
              "405 -65.898605  125.724609  258.322540  ...  221.250000  246.289993  242.410004\n",
              "406 -65.805023  125.751350  258.579742  ...  221.699997  246.559998  244.940002\n",
              "407 -65.758141  125.762604  258.836304  ...  222.270004  246.270004  244.490005\n",
              "408 -65.711205  125.772438  259.092346  ...  223.910004  245.880005  245.850006\n",
              "409 -65.664230  125.780869  259.347931  ...  225.800003  245.990005  247.029999\n",
              "\n",
              "[5 rows x 21 columns]"
            ]
          },
          "metadata": {
            "tags": []
          },
          "execution_count": 10
        }
      ]
    },
    {
      "cell_type": "code",
      "metadata": {
        "id": "OUSsuHFkxRaE",
        "colab_type": "code",
        "colab": {
          "base_uri": "https://localhost:8080/",
          "height": 0
        },
        "outputId": "f53e194d-3e5d-4517-9bd7-425dcefb634d"
      },
      "source": [
        "print(y.shape)\n",
        "y_dropped = y[(~np.isnan(y['pflag'])) & (data_df['ts'] != -99.0) & (~np.isnan(data_df['twv']))]\n",
        "print(y_dropped.shape)"
      ],
      "execution_count": 11,
      "outputs": [
        {
          "output_type": "stream",
          "text": [
            "(24308847, 1)\n",
            "(2185776, 1)\n"
          ],
          "name": "stdout"
        }
      ]
    },
    {
      "cell_type": "code",
      "metadata": {
        "id": "SwbXEgkSLwYR",
        "colab_type": "code",
        "colab": {
          "base_uri": "https://localhost:8080/",
          "height": 0
        },
        "outputId": "ad80c025-9786-4454-f3fb-21696c8c4bcd"
      },
      "source": [
        "X_dropped = X_dropped[(y_dropped['pflag'] == 1.0) | (y_dropped['pflag'] == 2.0)]\n",
        "y_dropped = y_dropped[(y_dropped['pflag'] == 1.0) | (y_dropped['pflag'] == 2.0)]\n",
        "y_dropped"
      ],
      "execution_count": 12,
      "outputs": [
        {
          "output_type": "execute_result",
          "data": {
            "text/html": [
              "<div>\n",
              "<style scoped>\n",
              "    .dataframe tbody tr th:only-of-type {\n",
              "        vertical-align: middle;\n",
              "    }\n",
              "\n",
              "    .dataframe tbody tr th {\n",
              "        vertical-align: top;\n",
              "    }\n",
              "\n",
              "    .dataframe thead th {\n",
              "        text-align: right;\n",
              "    }\n",
              "</style>\n",
              "<table border=\"1\" class=\"dataframe\">\n",
              "  <thead>\n",
              "    <tr style=\"text-align: right;\">\n",
              "      <th></th>\n",
              "      <th>pflag</th>\n",
              "    </tr>\n",
              "  </thead>\n",
              "  <tbody>\n",
              "    <tr>\n",
              "      <th>941</th>\n",
              "      <td>1.0</td>\n",
              "    </tr>\n",
              "    <tr>\n",
              "      <th>942</th>\n",
              "      <td>1.0</td>\n",
              "    </tr>\n",
              "    <tr>\n",
              "      <th>1271</th>\n",
              "      <td>2.0</td>\n",
              "    </tr>\n",
              "    <tr>\n",
              "      <th>3843</th>\n",
              "      <td>1.0</td>\n",
              "    </tr>\n",
              "    <tr>\n",
              "      <th>3846</th>\n",
              "      <td>1.0</td>\n",
              "    </tr>\n",
              "    <tr>\n",
              "      <th>...</th>\n",
              "      <td>...</td>\n",
              "    </tr>\n",
              "    <tr>\n",
              "      <th>24196425</th>\n",
              "      <td>2.0</td>\n",
              "    </tr>\n",
              "    <tr>\n",
              "      <th>24196601</th>\n",
              "      <td>2.0</td>\n",
              "    </tr>\n",
              "    <tr>\n",
              "      <th>24196602</th>\n",
              "      <td>2.0</td>\n",
              "    </tr>\n",
              "    <tr>\n",
              "      <th>24196940</th>\n",
              "      <td>2.0</td>\n",
              "    </tr>\n",
              "    <tr>\n",
              "      <th>24201551</th>\n",
              "      <td>2.0</td>\n",
              "    </tr>\n",
              "  </tbody>\n",
              "</table>\n",
              "<p>62422 rows × 1 columns</p>\n",
              "</div>"
            ],
            "text/plain": [
              "          pflag\n",
              "941         1.0\n",
              "942         1.0\n",
              "1271        2.0\n",
              "3843        1.0\n",
              "3846        1.0\n",
              "...         ...\n",
              "24196425    2.0\n",
              "24196601    2.0\n",
              "24196602    2.0\n",
              "24196940    2.0\n",
              "24201551    2.0\n",
              "\n",
              "[62422 rows x 1 columns]"
            ]
          },
          "metadata": {
            "tags": []
          },
          "execution_count": 12
        }
      ]
    },
    {
      "cell_type": "code",
      "metadata": {
        "id": "dT0ATDNeMR_n",
        "colab_type": "code",
        "colab": {
          "base_uri": "https://localhost:8080/",
          "height": 0
        },
        "outputId": "5258db26-9da8-45fd-dd50-e2f7311b80ca"
      },
      "source": [
        "# convert to binary outputs\n",
        "y_dropped['pflag'] -= 1.0\n",
        "y_dropped"
      ],
      "execution_count": 13,
      "outputs": [
        {
          "output_type": "execute_result",
          "data": {
            "text/html": [
              "<div>\n",
              "<style scoped>\n",
              "    .dataframe tbody tr th:only-of-type {\n",
              "        vertical-align: middle;\n",
              "    }\n",
              "\n",
              "    .dataframe tbody tr th {\n",
              "        vertical-align: top;\n",
              "    }\n",
              "\n",
              "    .dataframe thead th {\n",
              "        text-align: right;\n",
              "    }\n",
              "</style>\n",
              "<table border=\"1\" class=\"dataframe\">\n",
              "  <thead>\n",
              "    <tr style=\"text-align: right;\">\n",
              "      <th></th>\n",
              "      <th>pflag</th>\n",
              "    </tr>\n",
              "  </thead>\n",
              "  <tbody>\n",
              "    <tr>\n",
              "      <th>941</th>\n",
              "      <td>0.0</td>\n",
              "    </tr>\n",
              "    <tr>\n",
              "      <th>942</th>\n",
              "      <td>0.0</td>\n",
              "    </tr>\n",
              "    <tr>\n",
              "      <th>1271</th>\n",
              "      <td>1.0</td>\n",
              "    </tr>\n",
              "    <tr>\n",
              "      <th>3843</th>\n",
              "      <td>0.0</td>\n",
              "    </tr>\n",
              "    <tr>\n",
              "      <th>3846</th>\n",
              "      <td>0.0</td>\n",
              "    </tr>\n",
              "    <tr>\n",
              "      <th>...</th>\n",
              "      <td>...</td>\n",
              "    </tr>\n",
              "    <tr>\n",
              "      <th>24196425</th>\n",
              "      <td>1.0</td>\n",
              "    </tr>\n",
              "    <tr>\n",
              "      <th>24196601</th>\n",
              "      <td>1.0</td>\n",
              "    </tr>\n",
              "    <tr>\n",
              "      <th>24196602</th>\n",
              "      <td>1.0</td>\n",
              "    </tr>\n",
              "    <tr>\n",
              "      <th>24196940</th>\n",
              "      <td>1.0</td>\n",
              "    </tr>\n",
              "    <tr>\n",
              "      <th>24201551</th>\n",
              "      <td>1.0</td>\n",
              "    </tr>\n",
              "  </tbody>\n",
              "</table>\n",
              "<p>62422 rows × 1 columns</p>\n",
              "</div>"
            ],
            "text/plain": [
              "          pflag\n",
              "941         0.0\n",
              "942         0.0\n",
              "1271        1.0\n",
              "3843        0.0\n",
              "3846        0.0\n",
              "...         ...\n",
              "24196425    1.0\n",
              "24196601    1.0\n",
              "24196602    1.0\n",
              "24196940    1.0\n",
              "24201551    1.0\n",
              "\n",
              "[62422 rows x 1 columns]"
            ]
          },
          "metadata": {
            "tags": []
          },
          "execution_count": 13
        }
      ]
    },
    {
      "cell_type": "code",
      "metadata": {
        "id": "7VsKs_pExT6o",
        "colab_type": "code",
        "colab": {}
      },
      "source": [
        "del data_df\n",
        "del y"
      ],
      "execution_count": 14,
      "outputs": []
    },
    {
      "cell_type": "markdown",
      "metadata": {
        "id": "iDBLjvyEzl30",
        "colab_type": "text"
      },
      "source": [
        "## Data Exploration (Overlapping Pixels)"
      ]
    },
    {
      "cell_type": "code",
      "metadata": {
        "id": "gOVrlEutzs2V",
        "colab_type": "code",
        "colab": {}
      },
      "source": [
        "# X_pos_time = X_dropped[['utc', 'lat', 'lon']]\n",
        "# X_pos_time.shape"
      ],
      "execution_count": 15,
      "outputs": []
    },
    {
      "cell_type": "code",
      "metadata": {
        "id": "BVF81O5i_e_E",
        "colab_type": "code",
        "colab": {}
      },
      "source": [
        "# coords_set = set()\n",
        "# for row in X_pos_time.iterrows():\n",
        "#   coords_set.add((round(row[1]['lat'], 3), round(row[1]['lon'], 3)))\n",
        "#   # if i > 5:\n",
        "#   #   break\n",
        "#   # print(row[1]['utc'])\n",
        "#   # print(row[1]['lat'])\n",
        "#   # print(row[1]['lon'])\n",
        "#   # print('-----')\n",
        "# print(len(coords_set))"
      ],
      "execution_count": 16,
      "outputs": []
    },
    {
      "cell_type": "code",
      "metadata": {
        "id": "gjiyhITVEbgx",
        "colab_type": "code",
        "colab": {}
      },
      "source": [
        "# del coords_set\n",
        "# del X_pos_time"
      ],
      "execution_count": 17,
      "outputs": []
    },
    {
      "cell_type": "markdown",
      "metadata": {
        "id": "Pg4XasjixV5w",
        "colab_type": "text"
      },
      "source": [
        "## Scale (Numerical) & One-Hot Encode (Categorical) Data"
      ]
    },
    {
      "cell_type": "code",
      "metadata": {
        "id": "C85MJ9OHxYFG",
        "colab_type": "code",
        "colab": {
          "base_uri": "https://localhost:8080/",
          "height": 0
        },
        "outputId": "054ea01d-647b-45d6-c379-9dd0b42c2e82"
      },
      "source": [
        "from sklearn.preprocessing import StandardScaler\n",
        "scaler = StandardScaler()\n",
        "X_prep = scaler.fit_transform(X_dropped)\n",
        "X_prep.shape"
      ],
      "execution_count": 18,
      "outputs": [
        {
          "output_type": "execute_result",
          "data": {
            "text/plain": [
              "(62422, 21)"
            ]
          },
          "metadata": {
            "tags": []
          },
          "execution_count": 18
        }
      ]
    },
    {
      "cell_type": "code",
      "metadata": {
        "id": "lJUQmLYfxlQr",
        "colab_type": "code",
        "colab": {
          "base_uri": "https://localhost:8080/",
          "height": 0
        },
        "outputId": "ba262bb6-bf57-49ce-caca-5ad9871e47cb"
      },
      "source": [
        "# from sklearn.preprocessing import OneHotEncoder\n",
        "# ohe = OneHotEncoder()\n",
        "# y_prep = ohe.fit_transform(y_dropped).toarray()\n",
        "y_prep = np.array(y_dropped['pflag'])\n",
        "y_prep.shape"
      ],
      "execution_count": 19,
      "outputs": [
        {
          "output_type": "execute_result",
          "data": {
            "text/plain": [
              "(62422,)"
            ]
          },
          "metadata": {
            "tags": []
          },
          "execution_count": 19
        }
      ]
    },
    {
      "cell_type": "code",
      "metadata": {
        "id": "JWSa7nhryPFJ",
        "colab_type": "code",
        "colab": {}
      },
      "source": [
        "del X_dropped\n",
        "del y_dropped"
      ],
      "execution_count": 20,
      "outputs": []
    },
    {
      "cell_type": "code",
      "metadata": {
        "id": "tX2IbU2UxtZD",
        "colab_type": "code",
        "colab": {
          "base_uri": "https://localhost:8080/",
          "height": 0
        },
        "outputId": "e931c696-9a7e-447f-9478-a15b81b4f6f5"
      },
      "source": [
        "# should be all zeros\n",
        "print(\"X: \", sum(np.isnan(X_prep)))\n",
        "print(\"y: \", sum(np.isnan(y_prep)))"
      ],
      "execution_count": 21,
      "outputs": [
        {
          "output_type": "stream",
          "text": [
            "X:  [0 0 0 0 0 0 0 0 0 0 0 0 0 0 0 0 0 0 0 0 0]\n",
            "y:  0\n"
          ],
          "name": "stdout"
        }
      ]
    },
    {
      "cell_type": "markdown",
      "metadata": {
        "id": "FeIGY5nkxosL",
        "colab_type": "text"
      },
      "source": [
        "## Save Data"
      ]
    },
    {
      "cell_type": "code",
      "metadata": {
        "id": "TEFWg6dnxq8i",
        "colab_type": "code",
        "colab": {}
      },
      "source": [
        "with open(BASE_DIR + 'X_data_3_days_binary_precip_type.pkl', 'wb') as f:\n",
        "  pickle.dump(X_prep, f)\n",
        "  del X_prep\n",
        "\n",
        "with open(BASE_DIR + 'y_data_3_days_binary_precip_type.pkl', 'wb') as f:\n",
        "  pickle.dump(y_prep, f)\n",
        "  del y_prep"
      ],
      "execution_count": 22,
      "outputs": []
    },
    {
      "cell_type": "markdown",
      "metadata": {
        "id": "RIjr5pg2IDe_",
        "colab_type": "text"
      },
      "source": [
        "# Load and Split Data"
      ]
    },
    {
      "cell_type": "code",
      "metadata": {
        "id": "dI6PIqC-IAMv",
        "colab_type": "code",
        "colab": {
          "base_uri": "https://localhost:8080/",
          "height": 0
        },
        "outputId": "f9f7d2a6-ac91-42a7-d8d6-2240e2322d5d"
      },
      "source": [
        "with open(BASE_DIR + 'X_data_3_days_binary_precip_type.pkl', 'rb') as f:\n",
        "  X = pickle.load(f)\n",
        "  print(f'Loaded X. {X.shape}')\n",
        "\n",
        "with open(BASE_DIR + 'y_data_3_days_binary_precip_type.pkl', 'rb') as f:\n",
        "  y = pickle.load(f)\n",
        "  print(f'Loaded y. {y.shape}')"
      ],
      "execution_count": 23,
      "outputs": [
        {
          "output_type": "stream",
          "text": [
            "Loaded X. (62422, 21)\n",
            "Loaded y. (62422,)\n"
          ],
          "name": "stdout"
        }
      ]
    },
    {
      "cell_type": "code",
      "metadata": {
        "id": "n6g1HtnhIFN9",
        "colab_type": "code",
        "colab": {
          "base_uri": "https://localhost:8080/",
          "height": 0
        },
        "outputId": "8886a44e-8933-4ab2-9ae6-44f3b68be75d"
      },
      "source": [
        "X_train, X_test, y_train, y_test = train_test_split(X, y, test_size=0.2, random_state=42)\n",
        "del X\n",
        "del y\n",
        "print(f\"train: {X_train.shape} {y_train.shape}\")\n",
        "print(f\"test: {X_test.shape} {y_test.shape}\")"
      ],
      "execution_count": 24,
      "outputs": [
        {
          "output_type": "stream",
          "text": [
            "train: (49937, 21) (49937,)\n",
            "test: (12485, 21) (12485,)\n"
          ],
          "name": "stdout"
        }
      ]
    },
    {
      "cell_type": "code",
      "metadata": {
        "id": "svvGrPp6Mush",
        "colab_type": "code",
        "colab": {
          "base_uri": "https://localhost:8080/",
          "height": 0
        },
        "outputId": "f4d56b20-e06b-4922-a8ac-671fe2e78eec"
      },
      "source": [
        "y_train"
      ],
      "execution_count": 25,
      "outputs": [
        {
          "output_type": "execute_result",
          "data": {
            "text/plain": [
              "array([0., 0., 0., ..., 0., 0., 0.])"
            ]
          },
          "metadata": {
            "tags": []
          },
          "execution_count": 25
        }
      ]
    },
    {
      "cell_type": "markdown",
      "metadata": {
        "id": "HDR119ZZVsu7",
        "colab_type": "text"
      },
      "source": [
        "# Under Sampling"
      ]
    },
    {
      "cell_type": "code",
      "metadata": {
        "id": "nyLwrX9IGYXp",
        "colab_type": "code",
        "colab": {
          "base_uri": "https://localhost:8080/",
          "height": 34
        },
        "outputId": "da7b708b-41c9-4f4e-ce24-65133964330f"
      },
      "source": [
        "# # original counts\n",
        "# from collections import Counter\n",
        "# orig_counts = Counter(y_train)\n",
        "# print(\"original: \", orig_counts)"
      ],
      "execution_count": 26,
      "outputs": [
        {
          "output_type": "stream",
          "text": [
            "original:  Counter({0.0: 46260, 1.0: 3677})\n"
          ],
          "name": "stdout"
        }
      ]
    },
    {
      "cell_type": "code",
      "metadata": {
        "id": "GmvzXw4CVuqu",
        "colab_type": "code",
        "colab": {
          "base_uri": "https://localhost:8080/",
          "height": 34
        },
        "outputId": "9372b420-fadb-480a-a6db-a600fab95e7a"
      },
      "source": [
        "# from imblearn.over_sampling import SMOTE\n",
        "\n",
        "# resampling_dict = {x_: orig_counts[0.0] for x_ in orig_counts}\n",
        "# sampler = SMOTE(resampling_dict, random_state=42)\n",
        "# X_res, y_res = sampler.fit_sample(X_train, y_train)\n",
        "# print(X_res.shape, y_res.shape)"
      ],
      "execution_count": 27,
      "outputs": [
        {
          "output_type": "stream",
          "text": [
            "(92520, 21) (92520,)\n"
          ],
          "name": "stdout"
        }
      ]
    },
    {
      "cell_type": "code",
      "metadata": {
        "id": "Cd04VIqAXkFg",
        "colab_type": "code",
        "colab": {
          "base_uri": "https://localhost:8080/",
          "height": 51
        },
        "outputId": "4e2140ff-40d9-4bce-e5a9-417935e3f3f1"
      },
      "source": [
        "# print(\"original: \", Counter(y_train))\n",
        "# print(\"resampled: \", Counter(y_res))"
      ],
      "execution_count": 28,
      "outputs": [
        {
          "output_type": "stream",
          "text": [
            "original:  Counter({0.0: 46260, 1.0: 3677})\n",
            "resampled:  Counter({0.0: 46260, 1.0: 46260})\n"
          ],
          "name": "stdout"
        }
      ]
    },
    {
      "cell_type": "markdown",
      "metadata": {
        "id": "R9KIn3wFzhL-",
        "colab_type": "text"
      },
      "source": [
        "# Random Forest"
      ]
    },
    {
      "cell_type": "code",
      "metadata": {
        "id": "IJI9L3fuzkFi",
        "colab_type": "code",
        "colab": {}
      },
      "source": [
        "# Random Forest Hyperparameters\n",
        "n_estimators = 300\n",
        "max_depth = 15\n",
        "bootstrap = True\n",
        "criterion = 'entropy'\n",
        "class_weight = 'balanced'\n",
        "random_state = 42\n",
        "n_job = -1"
      ],
      "execution_count": 29,
      "outputs": []
    },
    {
      "cell_type": "code",
      "metadata": {
        "id": "x0c8B9NNzrU7",
        "colab_type": "code",
        "colab": {
          "base_uri": "https://localhost:8080/",
          "height": 1000
        },
        "outputId": "cdf71dc3-d59e-402d-e2a2-a97e235b7ab3"
      },
      "source": [
        "rfc = RandomForestClassifier(n_estimators=n_estimators, bootstrap=bootstrap, criterion=criterion,\n",
        "                                  max_depth=max_depth, oob_score=False, verbose=2,\n",
        "                                  class_weight=class_weight, random_state=random_state, n_jobs=n_job)\n",
        "\n",
        "rfc.fit(X_res, y_res)"
      ],
      "execution_count": 30,
      "outputs": [
        {
          "output_type": "stream",
          "text": [
            "building tree 1 of 300\n",
            "building tree 2 of 300\n"
          ],
          "name": "stdout"
        },
        {
          "output_type": "stream",
          "text": [
            "[Parallel(n_jobs=-1)]: Using backend ThreadingBackend with 2 concurrent workers.\n"
          ],
          "name": "stderr"
        },
        {
          "output_type": "stream",
          "text": [
            "building tree 3 of 300\n",
            "building tree 4 of 300\n",
            "building tree 5 of 300\n",
            "building tree 6 of 300\n",
            "building tree 7 of 300\n",
            "building tree 8 of 300\n",
            "building tree 9 of 300\n",
            "building tree 10 of 300\n",
            "building tree 11 of 300\n",
            "building tree 12 of 300\n",
            "building tree 13 of 300\n",
            "building tree 14 of 300\n",
            "building tree 15 of 300\n",
            "building tree 16 of 300\n",
            "building tree 17 of 300\n",
            "building tree 18 of 300\n",
            "building tree 19 of 300\n",
            "building tree 20 of 300\n",
            "building tree 21 of 300building tree 22 of 300\n",
            "\n",
            "building tree 23 of 300\n",
            "building tree 24 of 300\n",
            "building tree 25 of 300\n",
            "building tree 26 of 300\n",
            "building tree 27 of 300\n",
            "building tree 28 of 300\n",
            "building tree 29 of 300\n",
            "building tree 30 of 300\n",
            "building tree 31 of 300\n",
            "building tree 32 of 300\n",
            "building tree 33 of 300\n",
            "building tree 34 of 300\n",
            "building tree 35 of 300\n",
            "building tree 36 of 300\n",
            "building tree 37 of 300\n",
            "building tree 38 of 300\n"
          ],
          "name": "stdout"
        },
        {
          "output_type": "stream",
          "text": [
            "[Parallel(n_jobs=-1)]: Done  37 tasks      | elapsed:   19.3s\n"
          ],
          "name": "stderr"
        },
        {
          "output_type": "stream",
          "text": [
            "building tree 39 of 300\n",
            "building tree 40 of 300\n",
            "building tree 41 of 300\n",
            "building tree 42 of 300\n",
            "building tree 43 of 300\n",
            "building tree 44 of 300\n",
            "building tree 45 of 300\n",
            "building tree 46 of 300\n",
            "building tree 47 of 300\n",
            "building tree 48 of 300\n",
            "building tree 49 of 300\n",
            "building tree 50 of 300\n",
            "building tree 51 of 300\n",
            "building tree 52 of 300\n",
            "building tree 53 of 300\n",
            "building tree 54 of 300\n",
            "building tree 55 of 300\n",
            "building tree 56 of 300\n",
            "building tree 57 of 300\n",
            "building tree 58 of 300\n",
            "building tree 59 of 300\n",
            "building tree 60 of 300\n",
            "building tree 61 of 300\n",
            "building tree 62 of 300\n",
            "building tree 63 of 300\n",
            "building tree 64 of 300\n",
            "building tree 65 of 300\n",
            "building tree 66 of 300\n",
            "building tree 67 of 300\n",
            "building tree 68 of 300\n",
            "building tree 69 of 300\n",
            "building tree 70 of 300\n",
            "building tree 71 of 300\n",
            "building tree 72 of 300\n",
            "building tree 73 of 300\n",
            "building tree 74 of 300\n",
            "building tree 75 of 300\n",
            "building tree 76 of 300\n",
            "building tree 77 of 300\n",
            "building tree 78 of 300\n",
            "building tree 79 of 300\n",
            "building tree 80 of 300\n",
            "building tree 81 of 300\n",
            "building tree 82 of 300\n",
            "building tree 83 of 300\n",
            "building tree 84 of 300\n",
            "building tree 85 of 300\n",
            "building tree 86 of 300\n",
            "building tree 87 of 300\n",
            "building tree 88 of 300\n",
            "building tree 89 of 300\n",
            "building tree 90 of 300\n",
            "building tree 91 of 300\n",
            "building tree 92 of 300\n",
            "building tree 93 of 300\n",
            "building tree 94 of 300\n",
            "building tree 95 of 300\n",
            "building tree 96 of 300\n",
            "building tree 97 of 300\n",
            "building tree 98 of 300\n",
            "building tree 99 of 300\n",
            "building tree 100 of 300\n",
            "building tree 101 of 300\n",
            "building tree 102 of 300\n",
            "building tree 103 of 300\n",
            "building tree 104 of 300\n",
            "building tree 105 of 300\n",
            "building tree 106 of 300\n",
            "building tree 107 of 300\n",
            "building tree 108 of 300\n",
            "building tree 109 of 300\n",
            "building tree 110 of 300\n",
            "building tree 111 of 300\n",
            "building tree 112 of 300\n",
            "building tree 113 of 300\n",
            "building tree 114 of 300\n",
            "building tree 115 of 300\n",
            "building tree 116 of 300\n",
            "building tree 117 of 300\n",
            "building tree 118 of 300\n",
            "building tree 119 of 300\n",
            "building tree 120 of 300\n",
            "building tree 121 of 300\n",
            "building tree 122 of 300\n",
            "building tree 123 of 300\n",
            "building tree 124 of 300\n",
            "building tree 125 of 300\n",
            "building tree 126 of 300\n",
            "building tree 127 of 300\n",
            "building tree 128 of 300\n",
            "building tree 129 of 300\n",
            "building tree 130 of 300\n",
            "building tree 131 of 300\n",
            "building tree 132 of 300\n",
            "building tree 133 of 300\n",
            "building tree 134 of 300\n",
            "building tree 135 of 300\n",
            "building tree 136 of 300\n",
            "building tree 137 of 300\n",
            "building tree 138 of 300\n",
            "building tree 139 of 300\n",
            "building tree 140 of 300\n",
            "building tree 141 of 300\n",
            "building tree 142 of 300\n",
            "building tree 143 of 300\n",
            "building tree 144 of 300\n",
            "building tree 145 of 300\n",
            "building tree 146 of 300\n",
            "building tree 147 of 300\n",
            "building tree 148 of 300\n",
            "building tree 149 of 300\n",
            "building tree 150 of 300\n",
            "building tree 151 of 300\n",
            "building tree 152 of 300\n",
            "building tree 153 of 300\n",
            "building tree 154 of 300\n",
            "building tree 155 of 300\n",
            "building tree 156 of 300\n",
            "building tree 157 of 300\n",
            "building tree 158 of 300\n",
            "building tree 159 of 300\n",
            "building tree 160 of 300\n"
          ],
          "name": "stdout"
        },
        {
          "output_type": "stream",
          "text": [
            "[Parallel(n_jobs=-1)]: Done 158 tasks      | elapsed:  1.3min\n"
          ],
          "name": "stderr"
        },
        {
          "output_type": "stream",
          "text": [
            "building tree 161 of 300\n",
            "building tree 162 of 300\n",
            "building tree 163 of 300\n",
            "building tree 164 of 300\n",
            "building tree 165 of 300\n",
            "building tree 166 of 300\n",
            "building tree 167 of 300\n",
            "building tree 168 of 300\n",
            "building tree 169 of 300\n",
            "building tree 170 of 300\n",
            "building tree 171 of 300\n",
            "building tree 172 of 300\n",
            "building tree 173 of 300\n",
            "building tree 174 of 300\n",
            "building tree 175 of 300\n",
            "building tree 176 of 300\n",
            "building tree 177 of 300\n",
            "building tree 178 of 300\n",
            "building tree 179 of 300\n",
            "building tree 180 of 300\n",
            "building tree 181 of 300\n",
            "building tree 182 of 300\n",
            "building tree 183 of 300\n",
            "building tree 184 of 300\n",
            "building tree 185 of 300\n",
            "building tree 186 of 300\n",
            "building tree 187 of 300\n",
            "building tree 188 of 300\n",
            "building tree 189 of 300\n",
            "building tree 190 of 300\n",
            "building tree 191 of 300\n",
            "building tree 192 of 300\n",
            "building tree 193 of 300\n",
            "building tree 194 of 300\n",
            "building tree 195 of 300\n",
            "building tree 196 of 300\n",
            "building tree 197 of 300\n",
            "building tree 198 of 300\n",
            "building tree 199 of 300\n",
            "building tree 200 of 300\n",
            "building tree 201 of 300\n",
            "building tree 202 of 300\n",
            "building tree 203 of 300\n",
            "building tree 204 of 300\n",
            "building tree 205 of 300\n",
            "building tree 206 of 300\n",
            "building tree 207 of 300\n",
            "building tree 208 of 300\n",
            "building tree 209 of 300\n",
            "building tree 210 of 300\n",
            "building tree 211 of 300\n",
            "building tree 212 of 300\n",
            "building tree 213 of 300\n",
            "building tree 214 of 300\n",
            "building tree 215 of 300\n",
            "building tree 216 of 300\n",
            "building tree 217 of 300\n",
            "building tree 218 of 300\n",
            "building tree 219 of 300\n",
            "building tree 220 of 300\n",
            "building tree 221 of 300\n",
            "building tree 222 of 300\n",
            "building tree 223 of 300\n",
            "building tree 224 of 300\n",
            "building tree 225 of 300\n",
            "building tree 226 of 300\n",
            "building tree 227 of 300\n",
            "building tree 228 of 300\n",
            "building tree 229 of 300\n",
            "building tree 230 of 300\n",
            "building tree 231 of 300\n",
            "building tree 232 of 300\n",
            "building tree 233 of 300\n",
            "building tree 234 of 300\n",
            "building tree 235 of 300\n",
            "building tree 236 of 300\n",
            "building tree 237 of 300\n",
            "building tree 238 of 300\n",
            "building tree 239 of 300\n",
            "building tree 240 of 300\n",
            "building tree 241 of 300\n",
            "building tree 242 of 300\n",
            "building tree 243 of 300\n",
            "building tree 244 of 300\n",
            "building tree 245 of 300\n",
            "building tree 246 of 300\n",
            "building tree 247 of 300\n",
            "building tree 248 of 300\n",
            "building tree 249 of 300\n",
            "building tree 250 of 300\n",
            "building tree 251 of 300\n",
            "building tree 252 of 300\n",
            "building tree 253 of 300\n",
            "building tree 254 of 300\n",
            "building tree 255 of 300\n",
            "building tree 256 of 300\n",
            "building tree 257 of 300\n",
            "building tree 258 of 300\n",
            "building tree 259 of 300\n",
            "building tree 260 of 300\n",
            "building tree 261 of 300\n",
            "building tree 262 of 300\n",
            "building tree 263 of 300\n",
            "building tree 264 of 300\n",
            "building tree 265 of 300\n",
            "building tree 266 of 300\n",
            "building tree 267 of 300\n",
            "building tree 268 of 300\n",
            "building tree 269 of 300\n",
            "building tree 270 of 300\n",
            "building tree 271 of 300\n",
            "building tree 272 of 300\n",
            "building tree 273 of 300\n",
            "building tree 274 of 300\n",
            "building tree 275 of 300\n",
            "building tree 276 of 300\n",
            "building tree 277 of 300\n",
            "building tree 278 of 300\n",
            "building tree 279 of 300\n",
            "building tree 280 of 300\n",
            "building tree 281 of 300\n",
            "building tree 282 of 300\n",
            "building tree 283 of 300\n",
            "building tree 284 of 300\n",
            "building tree 285 of 300\n",
            "building tree 286 of 300\n",
            "building tree 287 of 300\n",
            "building tree 288 of 300\n",
            "building tree 289 of 300\n",
            "building tree 290 of 300\n",
            "building tree 291 of 300\n",
            "building tree 292 of 300\n",
            "building tree 293 of 300\n",
            "building tree 294 of 300\n",
            "building tree 295 of 300\n",
            "building tree 296 of 300\n",
            "building tree 297 of 300\n",
            "building tree 298 of 300\n",
            "building tree 299 of 300\n",
            "building tree 300 of 300\n"
          ],
          "name": "stdout"
        },
        {
          "output_type": "stream",
          "text": [
            "[Parallel(n_jobs=-1)]: Done 300 out of 300 | elapsed:  2.5min finished\n"
          ],
          "name": "stderr"
        },
        {
          "output_type": "execute_result",
          "data": {
            "text/plain": [
              "RandomForestClassifier(bootstrap=True, ccp_alpha=0.0,\n",
              "                       class_weight='balanced_subsample', criterion='entropy',\n",
              "                       max_depth=15, max_features='auto', max_leaf_nodes=None,\n",
              "                       max_samples=None, min_impurity_decrease=0.0,\n",
              "                       min_impurity_split=None, min_samples_leaf=1,\n",
              "                       min_samples_split=2, min_weight_fraction_leaf=0.0,\n",
              "                       n_estimators=300, n_jobs=-1, oob_score=False,\n",
              "                       random_state=42, verbose=2, warm_start=False)"
            ]
          },
          "metadata": {
            "tags": []
          },
          "execution_count": 30
        }
      ]
    },
    {
      "cell_type": "markdown",
      "metadata": {
        "id": "7ZzkKvdsz4ay",
        "colab_type": "text"
      },
      "source": [
        "## Save and Load Model"
      ]
    },
    {
      "cell_type": "code",
      "metadata": {
        "id": "RjQgBR6Wz54D",
        "colab_type": "code",
        "colab": {
          "base_uri": "https://localhost:8080/",
          "height": 0
        },
        "outputId": "a8f77786-3ffd-49a2-b333-2fd51319f4ea"
      },
      "source": [
        "# save trained model\n",
        "joblib.dump(rfc, BASE_DIR + 'random_forest_binary_precip_3_days.model')"
      ],
      "execution_count": 31,
      "outputs": [
        {
          "output_type": "execute_result",
          "data": {
            "text/plain": [
              "['/content/drive/My Drive/data/NASA_2020/random_forest_binary_precip_3_days.model']"
            ]
          },
          "metadata": {
            "tags": []
          },
          "execution_count": 31
        }
      ]
    },
    {
      "cell_type": "code",
      "metadata": {
        "id": "t3RHogPtz9Fm",
        "colab_type": "code",
        "colab": {}
      },
      "source": [
        "# load existing model\n",
        "rfc = joblib.load(BASE_DIR + 'random_forest_binary_precip_3_days.model')"
      ],
      "execution_count": 32,
      "outputs": []
    },
    {
      "cell_type": "code",
      "metadata": {
        "id": "TORUp_354PIm",
        "colab_type": "code",
        "colab": {
          "base_uri": "https://localhost:8080/",
          "height": 0
        },
        "outputId": "001b9d4c-7ffd-4405-a225-b005f59649de"
      },
      "source": [
        "rfc.verbose = False\n",
        "y_pred = rfc.predict(X_test)\n",
        "y_pred"
      ],
      "execution_count": 33,
      "outputs": [
        {
          "output_type": "execute_result",
          "data": {
            "text/plain": [
              "array([0., 0., 0., ..., 0., 1., 1.])"
            ]
          },
          "metadata": {
            "tags": []
          },
          "execution_count": 33
        }
      ]
    },
    {
      "cell_type": "code",
      "metadata": {
        "id": "nxpDEIwi5AoT",
        "colab_type": "code",
        "colab": {
          "base_uri": "https://localhost:8080/",
          "height": 0
        },
        "outputId": "40d584cf-9b58-44bc-b5de-45c40b1047a4"
      },
      "source": [
        "y_probs = rfc.predict_proba(X_test)\n",
        "y_probs"
      ],
      "execution_count": 34,
      "outputs": [
        {
          "output_type": "execute_result",
          "data": {
            "text/plain": [
              "array([[0.95065002, 0.04934998],\n",
              "       [0.93929223, 0.06070777],\n",
              "       [0.97599131, 0.02400869],\n",
              "       ...,\n",
              "       [0.98842858, 0.01157142],\n",
              "       [0.16733197, 0.83266803],\n",
              "       [0.05250985, 0.94749015]])"
            ]
          },
          "metadata": {
            "tags": []
          },
          "execution_count": 34
        }
      ]
    },
    {
      "cell_type": "code",
      "metadata": {
        "id": "W85SHelt5Ec2",
        "colab_type": "code",
        "colab": {
          "base_uri": "https://localhost:8080/",
          "height": 0
        },
        "outputId": "1d84eecc-4d45-4c1e-9f79-d1e8c0aab613"
      },
      "source": [
        "y_pred_probs = y_probs[:, 1]\n",
        "print(y_pred_probs)"
      ],
      "execution_count": 35,
      "outputs": [
        {
          "output_type": "stream",
          "text": [
            "[0.04934998 0.06070777 0.02400869 ... 0.01157142 0.83266803 0.94749015]\n"
          ],
          "name": "stdout"
        }
      ]
    },
    {
      "cell_type": "markdown",
      "metadata": {
        "id": "kAuLaNhZ4W-o",
        "colab_type": "text"
      },
      "source": [
        "## Confusion Matrix"
      ]
    },
    {
      "cell_type": "code",
      "metadata": {
        "id": "ilGU_H8b2eWU",
        "colab_type": "code",
        "colab": {}
      },
      "source": [
        "def plot_confusion_matrix(cm,\n",
        "                          target_names,\n",
        "                          title='Confusion matrix',\n",
        "                          cmap=None,\n",
        "                          normalize=True):\n",
        "    \"\"\"\n",
        "    given a sklearn confusion matrix (cm), make a nice plot\n",
        "\n",
        "    Arguments\n",
        "    ---------\n",
        "    cm:           confusion matrix from sklearn.metrics.confusion_matrix\n",
        "\n",
        "    target_names: given classification classes such as [0, 1, 2]\n",
        "                  the class names, for example: ['high', 'medium', 'low']\n",
        "\n",
        "    title:        the text to display at the top of the matrix\n",
        "\n",
        "    cmap:         the gradient of the values displayed from matplotlib.pyplot.cm\n",
        "                  see http://matplotlib.org/examples/color/colormaps_reference.html\n",
        "                  plt.get_cmap('jet') or plt.cm.Blues\n",
        "\n",
        "    normalize:    If False, plot the raw numbers\n",
        "                  If True, plot the proportions\n",
        "\n",
        "    Usage\n",
        "    -----\n",
        "    plot_confusion_matrix(cm           = cm,                  # confusion matrix created by\n",
        "                                                              # sklearn.metrics.confusion_matrix\n",
        "                          normalize    = True,                # show proportions\n",
        "                          target_names = y_labels_vals,       # list of names of the classes\n",
        "                          title        = best_estimator_name) # title of graph\n",
        "\n",
        "    Citiation\n",
        "    ---------\n",
        "    http://scikit-learn.org/stable/auto_examples/model_selection/plot_confusion_matrix.html\n",
        "\n",
        "    \"\"\"\n",
        "    import matplotlib.pyplot as plt\n",
        "    import numpy as np\n",
        "    import itertools\n",
        "\n",
        "    accuracy = np.trace(cm) / float(np.sum(cm))\n",
        "    misclass = 1 - accuracy\n",
        "\n",
        "    if cmap is None:\n",
        "        cmap = plt.get_cmap('Blues')\n",
        "\n",
        "    plt.figure(figsize=(8, 6))\n",
        "    plt.imshow(cm, interpolation='nearest', cmap=cmap)\n",
        "    plt.title(title)\n",
        "    plt.colorbar()\n",
        "\n",
        "    if target_names is not None:\n",
        "        tick_marks = np.arange(len(target_names))\n",
        "        plt.xticks(tick_marks, target_names, rotation=45)\n",
        "        plt.yticks(tick_marks, target_names)\n",
        "\n",
        "    if normalize:\n",
        "        cm = cm.astype('float') / cm.sum(axis=1)[:, np.newaxis]\n",
        "\n",
        "\n",
        "    thresh = cm.max() / 1.5 if normalize else cm.max() / 2\n",
        "    for i, j in itertools.product(range(cm.shape[0]), range(cm.shape[1])):\n",
        "        if normalize:\n",
        "            plt.text(j, i, \"{:0.4f}\".format(cm[i, j]),\n",
        "                     horizontalalignment=\"center\",\n",
        "                     color=\"white\" if cm[i, j] > thresh else \"black\")\n",
        "        else:\n",
        "            plt.text(j, i, \"{:,}\".format(cm[i, j]),\n",
        "                     horizontalalignment=\"center\",\n",
        "                     color=\"white\" if cm[i, j] > thresh else \"black\")\n",
        "\n",
        "\n",
        "    plt.tight_layout()\n",
        "    plt.ylabel('True label')\n",
        "    plt.xlabel('Predicted label\\naccuracy={:0.4f}; misclass={:0.4f}'.format(accuracy, misclass))\n",
        "    plt.show()"
      ],
      "execution_count": 36,
      "outputs": []
    },
    {
      "cell_type": "code",
      "metadata": {
        "id": "zdNdMg6P4cmP",
        "colab_type": "code",
        "colab": {
          "base_uri": "https://localhost:8080/",
          "height": 0
        },
        "outputId": "03bc9176-7cd1-4c5c-e102-647a7fc22aff"
      },
      "source": [
        "from sklearn.metrics import confusion_matrix\n",
        "conf_mat = confusion_matrix(y_test, y_pred)\n",
        "\n",
        "plot_confusion_matrix(cm           = conf_mat, \n",
        "                      normalize    = False,\n",
        "                      target_names = ['Stratiform', 'Convective'],\n",
        "                      title        = \"Confusion Matrix\")"
      ],
      "execution_count": 37,
      "outputs": [
        {
          "output_type": "display_data",
          "data": {
            "image/png": "[encoded data removed]",
            "text/plain": [
              "<Figure size 576x432 with 2 Axes>"
            ]
          },
          "metadata": {
            "tags": [],
            "needs_background": "light"
          }
        }
      ]
    },
    {
      "cell_type": "markdown",
      "metadata": {
        "id": "Yxc6P_H24iXt",
        "colab_type": "text"
      },
      "source": [
        "## ROC Curves"
      ]
    },
    {
      "cell_type": "code",
      "metadata": {
        "id": "o78GqIgn4hUT",
        "colab_type": "code",
        "colab": {
          "base_uri": "https://localhost:8080/",
          "height": 0
        },
        "outputId": "e41c3dba-6850-499f-8091-8da006e54adb"
      },
      "source": [
        "from sklearn.metrics import roc_curve\n",
        "from sklearn.metrics import roc_auc_score\n",
        "\n",
        "def plot_roc_curve(fpr, tpr, label=None):\n",
        "    plt.plot(fpr, tpr, linewidth=2, label=label)\n",
        "    plt.plot([0, 1], [0, 1], 'k--') # dashed diagonal\n",
        "    plt.axis([0, 1, 0, 1])\n",
        "    plt.xlabel('False Positive Rate (Fall-Out)', fontsize=16)\n",
        "    plt.ylabel('True Positive Rate (Recall)', fontsize=16)\n",
        "    plt.grid(True)                                        \n",
        "\n",
        "\n",
        "print(roc_auc_score(y_test, y_pred_probs))\n",
        "fpr, tpr, thresholds = roc_curve(y_test, y_pred_probs)\n",
        "plt.figure(figsize=(8, 6)) \n",
        "plot_roc_curve(fpr, tpr)         \n",
        "plt.show()"
      ],
      "execution_count": 38,
      "outputs": [
        {
          "output_type": "stream",
          "text": [
            "0.9424509445204452\n"
          ],
          "name": "stdout"
        },
        {
          "output_type": "display_data",
          "data": {
            "image/png": "[encoded data removed]",
            "text/plain": [
              "<Figure size 576x432 with 1 Axes>"
            ]
          },
          "metadata": {
            "tags": [],
            "needs_background": "light"
          }
        }
      ]
    },
    {
      "cell_type": "markdown",
      "metadata": {
        "id": "43Ry7yYHtubP",
        "colab_type": "text"
      },
      "source": [
        "## Feature Importances"
      ]
    },
    {
      "cell_type": "code",
      "metadata": {
        "id": "CT2GzKo9MH8N",
        "colab_type": "code",
        "colab": {
          "base_uri": "https://localhost:8080/",
          "height": 0
        },
        "outputId": "352e9b05-85be-422b-ebda-b7cf8daf4a45"
      },
      "source": [
        "# feature_names = np.array(['lat', 'lon',\t'ts',\t'clwp',\t'twv', 'day_of_year', 'PD_10.65',\t'PD_89.00',\t'PD_166.0', 'tc_0', 'tc_1',\t'tc_2', 'tc_3', 'tc_4',\t'tc_5',\t'tc_6',\t'tc_7',\t'tc_8',\t'tc_9',\t'tc_10', 'tc_11', 'tc_12'])\n",
        "feature_names = np.array(['lat', 'lon',\t'ts',\t'clwp',\t'twv', 'day_of_year', 'PD_89.00',\t'PD_166.0', 'tc_0', 'tc_1',\t'tc_2', 'tc_3', 'tc_4',\t'tc_5',\t'tc_6',\t'tc_7',\t'tc_8',\t'tc_9',\t'tc_10', 'tc_11', 'tc_12'])\n",
        "print(len(feature_names))\n",
        "tree_importance_sorted_idx = np.argsort(rfc.feature_importances_)\n",
        "tree_indices = np.arange(0, len(rfc.feature_importances_)) + 0.5\n",
        "fig, (ax1) = plt.subplots(1, 1, figsize=(12, 8))\n",
        "ax1.barh(tree_indices,\n",
        "         rfc.feature_importances_[tree_importance_sorted_idx], height=0.7)\n",
        "ax1.set_yticklabels(feature_names[tree_importance_sorted_idx])\n",
        "ax1.set_yticks(tree_indices)\n",
        "ax1.set_ylim((0, len(rfc.feature_importances_)))\n",
        "plt.title('Feature Importances')\n",
        "fig.tight_layout()\n",
        "plt.show()"
      ],
      "execution_count": 39,
      "outputs": [
        {
          "output_type": "stream",
          "text": [
            "21\n"
          ],
          "name": "stdout"
        },
        {
          "output_type": "display_data",
          "data": {
            "image/png": "[encoded data removed]",
            "text/plain": [
              "<Figure size 864x576 with 1 Axes>"
            ]
          },
          "metadata": {
            "tags": [],
            "needs_background": "light"
          }
        }
      ]
    },
    {
      "cell_type": "code",
      "metadata": {
        "id": "VkMi9tdv_WmQ",
        "colab_type": "code",
        "colab": {}
      },
      "source": [
        "del X_res\n",
        "del y_res\n",
        "del X_test\n",
        "del y_test"
      ],
      "execution_count": 40,
      "outputs": []
    },
    {
      "cell_type": "markdown",
      "metadata": {
        "id": "ryU5QqpJ_deT",
        "colab_type": "text"
      },
      "source": [
        "# Testing: 20170606 File"
      ]
    },
    {
      "cell_type": "code",
      "metadata": {
        "id": "vA81N_evbaxK",
        "colab_type": "code",
        "colab": {
          "base_uri": "https://localhost:8080/",
          "height": 680
        },
        "outputId": "e24d5692-248b-41c0-f640-87ac17714014"
      },
      "source": [
        "FILE_PATH = BASE_DIR + 'colloc_Precipflag_DPR_GMI_20170606.sav'\n",
        "data = scipy.io.readsav(FILE_PATH, verbose=1)\n",
        "for var, arr in data.items():\n",
        "  print(f\"{var}: {arr.shape}\")"
      ],
      "execution_count": 41,
      "outputs": [
        {
          "output_type": "stream",
          "text": [
            "--------------------------------------------------\n",
            "Date: Fri Jun 26 14:43:54 2020\n",
            "User: jgong\n",
            "Host: gs613-cirrus.ndc.nasa.gov\n",
            "--------------------------------------------------\n",
            "Format: 12\n",
            "Architecture: x86_64\n",
            "Operating System: linux\n",
            "IDL Version: 8.7.3\n",
            "--------------------------------------------------\n",
            "Successfully read 14 records of which:\n",
            " - 1 are of type VERSION\n",
            " - 11 are of type VARIABLE\n",
            " - 1 are of type TIMESTAMP\n",
            "--------------------------------------------------\n",
            "Available variables:\n",
            " - tc [<class 'numpy.ndarray'>]\n",
            " - latc [<class 'numpy.ndarray'>]\n",
            " - lonc [<class 'numpy.ndarray'>]\n",
            " - utc [<class 'numpy.ndarray'>]\n",
            " - emis [<class 'numpy.ndarray'>]\n",
            " - emis_std [<class 'numpy.ndarray'>]\n",
            " - ts [<class 'numpy.ndarray'>]\n",
            " - clwp [<class 'numpy.ndarray'>]\n",
            " - twv [<class 'numpy.ndarray'>]\n",
            " - tysfc [<class 'numpy.ndarray'>]\n",
            " - pflag [<class 'numpy.ndarray'>]\n",
            "--------------------------------------------------\n",
            "tc: (44425, 221, 13)\n",
            "latc: (44425, 221)\n",
            "lonc: (44425, 221)\n",
            "utc: (44425,)\n",
            "emis: (44425, 221, 13)\n",
            "emis_std: (44425, 221, 13)\n",
            "ts: (44425, 221)\n",
            "clwp: (44425, 221)\n",
            "twv: (44425, 221)\n",
            "tysfc: (44425, 221)\n",
            "pflag: (44425, 221)\n"
          ],
          "name": "stdout"
        }
      ]
    },
    {
      "cell_type": "markdown",
      "metadata": {
        "id": "uwhBguJcF5yG",
        "colab_type": "text"
      },
      "source": [
        "## Trim Data"
      ]
    },
    {
      "cell_type": "code",
      "metadata": {
        "id": "xgPYmPRBF2wx",
        "colab_type": "code",
        "colab": {
          "base_uri": "https://localhost:8080/",
          "height": 0
        },
        "outputId": "bed89823-573c-4c99-ac10-50ac362240fb"
      },
      "source": [
        "data_trimmed = {}\n",
        "for var, arr in data.items():\n",
        "  if arr.ndim == 1:\n",
        "    data_trimmed[var] = arr[1:] \n",
        "  else:\n",
        "    data_trimmed[var] = arr[1:, 25:196] if arr.ndim == 2 else arr[1:, 25:196, :] \n",
        "\n",
        "for var, arr in data_trimmed.items():\n",
        "  print(f\"{var}: {arr.shape}\")\n",
        "\n",
        "# free up memory\n",
        "del data"
      ],
      "execution_count": 42,
      "outputs": [
        {
          "output_type": "stream",
          "text": [
            "tc: (44424, 171, 13)\n",
            "latc: (44424, 171)\n",
            "lonc: (44424, 171)\n",
            "utc: (44424,)\n",
            "emis: (44424, 171, 13)\n",
            "emis_std: (44424, 171, 13)\n",
            "ts: (44424, 171)\n",
            "clwp: (44424, 171)\n",
            "twv: (44424, 171)\n",
            "tysfc: (44424, 171)\n",
            "pflag: (44424, 171)\n"
          ],
          "name": "stdout"
        }
      ]
    },
    {
      "cell_type": "markdown",
      "metadata": {
        "colab_type": "text",
        "id": "w9s0d-j6GBYi"
      },
      "source": [
        "## Polarization Differences (PDs)"
      ]
    },
    {
      "cell_type": "code",
      "metadata": {
        "colab_type": "code",
        "id": "9ja_9v0EGBYi",
        "colab": {
          "base_uri": "https://localhost:8080/",
          "height": 0
        },
        "outputId": "5004b7a9-ca60-482c-b1ab-7c9517e26f39"
      },
      "source": [
        "# calculate polarization differences (PD)\n",
        "def add_to_PD(freq, ind1, ind2, data):\n",
        "  PD[freq] = data['tc'][:, :, ind1] - data['tc'][:, :, ind2]\n",
        "\n",
        "PD = {}\n",
        "add_to_PD('10.65', 0, 1, data_trimmed)\n",
        "add_to_PD('18.70', 2, 3, data_trimmed)\n",
        "add_to_PD('36.50', 5, 6, data_trimmed)\n",
        "add_to_PD('89.00', 7, 8, data_trimmed)\n",
        "add_to_PD('166.0', 9, 10, data_trimmed)\n",
        "print(PD.keys())"
      ],
      "execution_count": 43,
      "outputs": [
        {
          "output_type": "stream",
          "text": [
            "dict_keys(['10.65', '18.70', '36.50', '89.00', '166.0'])\n"
          ],
          "name": "stdout"
        }
      ]
    },
    {
      "cell_type": "markdown",
      "metadata": {
        "id": "8nhB3wcuG3n4",
        "colab_type": "text"
      },
      "source": [
        "## Construct DataFrame"
      ]
    },
    {
      "cell_type": "code",
      "metadata": {
        "id": "142B-gBxEEdR",
        "colab_type": "code",
        "colab": {
          "base_uri": "https://localhost:8080/",
          "height": 0
        },
        "outputId": "d9106764-a282-44b3-a68e-21e0c2677190"
      },
      "source": [
        "# ravel 2d data --> scans one after another\n",
        "'''\n",
        "* 13 channels TB\n",
        "* 3 channels PD (10.65, 89 and 166 GHz)\n",
        "x Surface emissivity\n",
        "* Ts\n",
        "* CLWP\n",
        "* TWV\n",
        "* Lat/Lon\n",
        "- Day of the year starting from the first day of the year (i.e., Julian day. For example, 1/1/2017 is 1, 2/1/2017 is 32)\n",
        "'''\n",
        "# data_dfs = []\n",
        "\n",
        "# PD_freqs_append = ['10.65', '89.00', '166.0']\n",
        "PD_freqs_append = ['89.00', '166.0']\n",
        "data_2d = {'latc': 'lat',\n",
        "           'lonc': 'lon',\n",
        "           'ts': 'ts',\n",
        "           'clwp': 'clwp',\n",
        "           'twv': 'twv'}\n",
        "\n",
        "data_df = pd.DataFrame()\n",
        "# # utc (time)\n",
        "# curr_df['utc'] = np.ravel(time_2d[i])\n",
        "\n",
        "# 2d data\n",
        "for data_name, df_name in data_2d.items():\n",
        "  data_df[df_name] = np.ravel(data_trimmed[data_name])\n",
        "\n",
        "# day of year\n",
        "data_df['day_of_year'] = np.repeat(157.0, data_df['lat'].size)\n",
        "\n",
        "# PDs\n",
        "for freq in PD_freqs_append:\n",
        "  data_df[f'PD_{freq}'] = np.ravel(PD[freq])\n",
        "\n",
        "# 3d data\n",
        "for idx in range(data_trimmed['tc'].shape[2]):\n",
        "  data_df[f'tc_{idx}'] = np.ravel(data_trimmed['tc'][:, :, idx])\n",
        "\n",
        "# data_dfs.append(curr_df)\n",
        "# del curr_df\n",
        "\n",
        "\n",
        "# print('combining DataFrames')\n",
        "# data_df = pd.concat(data_dfs, ignore_index = True)\n",
        "data_df.head()"
      ],
      "execution_count": 44,
      "outputs": [
        {
          "output_type": "execute_result",
          "data": {
            "text/html": [
              "<div>\n",
              "<style scoped>\n",
              "    .dataframe tbody tr th:only-of-type {\n",
              "        vertical-align: middle;\n",
              "    }\n",
              "\n",
              "    .dataframe tbody tr th {\n",
              "        vertical-align: top;\n",
              "    }\n",
              "\n",
              "    .dataframe thead th {\n",
              "        text-align: right;\n",
              "    }\n",
              "</style>\n",
              "<table border=\"1\" class=\"dataframe\">\n",
              "  <thead>\n",
              "    <tr style=\"text-align: right;\">\n",
              "      <th></th>\n",
              "      <th>lat</th>\n",
              "      <th>lon</th>\n",
              "      <th>ts</th>\n",
              "      <th>clwp</th>\n",
              "      <th>twv</th>\n",
              "      <th>day_of_year</th>\n",
              "      <th>PD_89.00</th>\n",
              "      <th>PD_166.0</th>\n",
              "      <th>tc_0</th>\n",
              "      <th>tc_1</th>\n",
              "      <th>tc_2</th>\n",
              "      <th>tc_3</th>\n",
              "      <th>tc_4</th>\n",
              "      <th>tc_5</th>\n",
              "      <th>tc_6</th>\n",
              "      <th>tc_7</th>\n",
              "      <th>tc_8</th>\n",
              "      <th>tc_9</th>\n",
              "      <th>tc_10</th>\n",
              "      <th>tc_11</th>\n",
              "      <th>tc_12</th>\n",
              "    </tr>\n",
              "  </thead>\n",
              "  <tbody>\n",
              "    <tr>\n",
              "      <th>0</th>\n",
              "      <td>-61.262722</td>\n",
              "      <td>-49.823647</td>\n",
              "      <td>-99.0</td>\n",
              "      <td>-99.0</td>\n",
              "      <td>-99.0</td>\n",
              "      <td>157.0</td>\n",
              "      <td>8.110001</td>\n",
              "      <td>2.419983</td>\n",
              "      <td>222.300003</td>\n",
              "      <td>174.649994</td>\n",
              "      <td>231.169998</td>\n",
              "      <td>193.610001</td>\n",
              "      <td>235.429993</td>\n",
              "      <td>238.149994</td>\n",
              "      <td>211.759995</td>\n",
              "      <td>254.389999</td>\n",
              "      <td>246.279999</td>\n",
              "      <td>264.049988</td>\n",
              "      <td>261.630005</td>\n",
              "      <td>252.940002</td>\n",
              "      <td>261.170013</td>\n",
              "    </tr>\n",
              "    <tr>\n",
              "      <th>1</th>\n",
              "      <td>-61.310246</td>\n",
              "      <td>-49.962563</td>\n",
              "      <td>-99.0</td>\n",
              "      <td>-99.0</td>\n",
              "      <td>-99.0</td>\n",
              "      <td>157.0</td>\n",
              "      <td>15.250000</td>\n",
              "      <td>1.470001</td>\n",
              "      <td>212.520004</td>\n",
              "      <td>159.190002</td>\n",
              "      <td>217.690002</td>\n",
              "      <td>167.339996</td>\n",
              "      <td>225.220001</td>\n",
              "      <td>230.940002</td>\n",
              "      <td>194.199997</td>\n",
              "      <td>254.550003</td>\n",
              "      <td>239.300003</td>\n",
              "      <td>263.019989</td>\n",
              "      <td>261.549988</td>\n",
              "      <td>253.279999</td>\n",
              "      <td>259.709991</td>\n",
              "    </tr>\n",
              "    <tr>\n",
              "      <th>2</th>\n",
              "      <td>-61.321098</td>\n",
              "      <td>-50.057407</td>\n",
              "      <td>-99.0</td>\n",
              "      <td>-99.0</td>\n",
              "      <td>-99.0</td>\n",
              "      <td>157.0</td>\n",
              "      <td>20.430008</td>\n",
              "      <td>4.459991</td>\n",
              "      <td>204.029999</td>\n",
              "      <td>146.410004</td>\n",
              "      <td>207.300003</td>\n",
              "      <td>149.770004</td>\n",
              "      <td>218.029999</td>\n",
              "      <td>226.020004</td>\n",
              "      <td>180.679993</td>\n",
              "      <td>252.740005</td>\n",
              "      <td>232.309998</td>\n",
              "      <td>263.519989</td>\n",
              "      <td>259.059998</td>\n",
              "      <td>252.559998</td>\n",
              "      <td>260.179993</td>\n",
              "    </tr>\n",
              "    <tr>\n",
              "      <th>3</th>\n",
              "      <td>-61.366501</td>\n",
              "      <td>-50.097477</td>\n",
              "      <td>-99.0</td>\n",
              "      <td>-99.0</td>\n",
              "      <td>-99.0</td>\n",
              "      <td>157.0</td>\n",
              "      <td>26.729996</td>\n",
              "      <td>3.619995</td>\n",
              "      <td>199.279999</td>\n",
              "      <td>139.000000</td>\n",
              "      <td>203.759995</td>\n",
              "      <td>145.809998</td>\n",
              "      <td>215.550003</td>\n",
              "      <td>223.580002</td>\n",
              "      <td>176.380005</td>\n",
              "      <td>249.259995</td>\n",
              "      <td>222.529999</td>\n",
              "      <td>262.260010</td>\n",
              "      <td>258.640015</td>\n",
              "      <td>253.940002</td>\n",
              "      <td>260.359985</td>\n",
              "    </tr>\n",
              "    <tr>\n",
              "      <th>4</th>\n",
              "      <td>-61.379467</td>\n",
              "      <td>-50.191345</td>\n",
              "      <td>-99.0</td>\n",
              "      <td>-99.0</td>\n",
              "      <td>-99.0</td>\n",
              "      <td>157.0</td>\n",
              "      <td>23.729996</td>\n",
              "      <td>5.030029</td>\n",
              "      <td>200.050003</td>\n",
              "      <td>141.229996</td>\n",
              "      <td>205.940002</td>\n",
              "      <td>149.240005</td>\n",
              "      <td>217.690002</td>\n",
              "      <td>225.679993</td>\n",
              "      <td>180.610001</td>\n",
              "      <td>250.669998</td>\n",
              "      <td>226.940002</td>\n",
              "      <td>262.140015</td>\n",
              "      <td>257.109985</td>\n",
              "      <td>252.940002</td>\n",
              "      <td>261.010010</td>\n",
              "    </tr>\n",
              "  </tbody>\n",
              "</table>\n",
              "</div>"
            ],
            "text/plain": [
              "         lat        lon    ts  ...       tc_10       tc_11       tc_12\n",
              "0 -61.262722 -49.823647 -99.0  ...  261.630005  252.940002  261.170013\n",
              "1 -61.310246 -49.962563 -99.0  ...  261.549988  253.279999  259.709991\n",
              "2 -61.321098 -50.057407 -99.0  ...  259.059998  252.559998  260.179993\n",
              "3 -61.366501 -50.097477 -99.0  ...  258.640015  253.940002  260.359985\n",
              "4 -61.379467 -50.191345 -99.0  ...  257.109985  252.940002  261.010010\n",
              "\n",
              "[5 rows x 21 columns]"
            ]
          },
          "metadata": {
            "tags": []
          },
          "execution_count": 44
        }
      ]
    },
    {
      "cell_type": "code",
      "metadata": {
        "id": "-oqXcdgecNte",
        "colab_type": "code",
        "colab": {
          "base_uri": "https://localhost:8080/",
          "height": 0
        },
        "outputId": "68bda9a6-186c-46a4-8cc3-a0c7f4b86131"
      },
      "source": [
        "y = pd.DataFrame()\n",
        "y['pflag'] = np.ravel(data_trimmed['pflag']).byteswap().newbyteorder()\n",
        "del data_trimmed\n",
        "del PD\n",
        "y.head()"
      ],
      "execution_count": 45,
      "outputs": [
        {
          "output_type": "execute_result",
          "data": {
            "text/html": [
              "<div>\n",
              "<style scoped>\n",
              "    .dataframe tbody tr th:only-of-type {\n",
              "        vertical-align: middle;\n",
              "    }\n",
              "\n",
              "    .dataframe tbody tr th {\n",
              "        vertical-align: top;\n",
              "    }\n",
              "\n",
              "    .dataframe thead th {\n",
              "        text-align: right;\n",
              "    }\n",
              "</style>\n",
              "<table border=\"1\" class=\"dataframe\">\n",
              "  <thead>\n",
              "    <tr style=\"text-align: right;\">\n",
              "      <th></th>\n",
              "      <th>pflag</th>\n",
              "    </tr>\n",
              "  </thead>\n",
              "  <tbody>\n",
              "    <tr>\n",
              "      <th>0</th>\n",
              "      <td>NaN</td>\n",
              "    </tr>\n",
              "    <tr>\n",
              "      <th>1</th>\n",
              "      <td>NaN</td>\n",
              "    </tr>\n",
              "    <tr>\n",
              "      <th>2</th>\n",
              "      <td>NaN</td>\n",
              "    </tr>\n",
              "    <tr>\n",
              "      <th>3</th>\n",
              "      <td>NaN</td>\n",
              "    </tr>\n",
              "    <tr>\n",
              "      <th>4</th>\n",
              "      <td>NaN</td>\n",
              "    </tr>\n",
              "  </tbody>\n",
              "</table>\n",
              "</div>"
            ],
            "text/plain": [
              "   pflag\n",
              "0    NaN\n",
              "1    NaN\n",
              "2    NaN\n",
              "3    NaN\n",
              "4    NaN"
            ]
          },
          "metadata": {
            "tags": []
          },
          "execution_count": 45
        }
      ]
    },
    {
      "cell_type": "markdown",
      "metadata": {
        "colab_type": "text",
        "id": "_JeE_alUFprv"
      },
      "source": [
        "## Drop Unwanted (Only Precipitating Pixels)"
      ]
    },
    {
      "cell_type": "code",
      "metadata": {
        "colab_type": "code",
        "id": "JpQFNKV1Fprw",
        "colab": {
          "base_uri": "https://localhost:8080/",
          "height": 0
        },
        "outputId": "703c474a-55f8-45df-f4ff-a88ff612d824"
      },
      "source": [
        "X_dropped = data_df[(~np.isnan(y['pflag'])) & (data_df['ts'] != -99.0) & (~np.isnan(data_df['twv']))]\n",
        "X_dropped.head()"
      ],
      "execution_count": 46,
      "outputs": [
        {
          "output_type": "execute_result",
          "data": {
            "text/html": [
              "<div>\n",
              "<style scoped>\n",
              "    .dataframe tbody tr th:only-of-type {\n",
              "        vertical-align: middle;\n",
              "    }\n",
              "\n",
              "    .dataframe tbody tr th {\n",
              "        vertical-align: top;\n",
              "    }\n",
              "\n",
              "    .dataframe thead th {\n",
              "        text-align: right;\n",
              "    }\n",
              "</style>\n",
              "<table border=\"1\" class=\"dataframe\">\n",
              "  <thead>\n",
              "    <tr style=\"text-align: right;\">\n",
              "      <th></th>\n",
              "      <th>lat</th>\n",
              "      <th>lon</th>\n",
              "      <th>ts</th>\n",
              "      <th>clwp</th>\n",
              "      <th>twv</th>\n",
              "      <th>day_of_year</th>\n",
              "      <th>PD_89.00</th>\n",
              "      <th>PD_166.0</th>\n",
              "      <th>tc_0</th>\n",
              "      <th>tc_1</th>\n",
              "      <th>tc_2</th>\n",
              "      <th>tc_3</th>\n",
              "      <th>tc_4</th>\n",
              "      <th>tc_5</th>\n",
              "      <th>tc_6</th>\n",
              "      <th>tc_7</th>\n",
              "      <th>tc_8</th>\n",
              "      <th>tc_9</th>\n",
              "      <th>tc_10</th>\n",
              "      <th>tc_11</th>\n",
              "      <th>tc_12</th>\n",
              "    </tr>\n",
              "  </thead>\n",
              "  <tbody>\n",
              "    <tr>\n",
              "      <th>6219</th>\n",
              "      <td>-63.970222</td>\n",
              "      <td>-44.958664</td>\n",
              "      <td>269.916016</td>\n",
              "      <td>0.069215</td>\n",
              "      <td>7.392964</td>\n",
              "      <td>157.0</td>\n",
              "      <td>13.149994</td>\n",
              "      <td>2.550003</td>\n",
              "      <td>245.919998</td>\n",
              "      <td>199.479996</td>\n",
              "      <td>236.410004</td>\n",
              "      <td>196.220001</td>\n",
              "      <td>233.960007</td>\n",
              "      <td>223.070007</td>\n",
              "      <td>193.190002</td>\n",
              "      <td>227.559998</td>\n",
              "      <td>214.410004</td>\n",
              "      <td>252.880005</td>\n",
              "      <td>250.330002</td>\n",
              "      <td>252.550003</td>\n",
              "      <td>260.859985</td>\n",
              "    </tr>\n",
              "    <tr>\n",
              "      <th>6220</th>\n",
              "      <td>-64.060516</td>\n",
              "      <td>-45.017330</td>\n",
              "      <td>269.917816</td>\n",
              "      <td>0.070007</td>\n",
              "      <td>7.295566</td>\n",
              "      <td>157.0</td>\n",
              "      <td>19.000000</td>\n",
              "      <td>5.559998</td>\n",
              "      <td>246.220001</td>\n",
              "      <td>197.250000</td>\n",
              "      <td>236.199997</td>\n",
              "      <td>192.419998</td>\n",
              "      <td>231.759995</td>\n",
              "      <td>223.720001</td>\n",
              "      <td>191.770004</td>\n",
              "      <td>226.539993</td>\n",
              "      <td>207.539993</td>\n",
              "      <td>250.630005</td>\n",
              "      <td>245.070007</td>\n",
              "      <td>253.000000</td>\n",
              "      <td>260.149994</td>\n",
              "    </tr>\n",
              "    <tr>\n",
              "      <th>6221</th>\n",
              "      <td>-64.105881</td>\n",
              "      <td>-45.044941</td>\n",
              "      <td>269.924072</td>\n",
              "      <td>0.071173</td>\n",
              "      <td>7.393708</td>\n",
              "      <td>157.0</td>\n",
              "      <td>14.860001</td>\n",
              "      <td>6.599991</td>\n",
              "      <td>245.429993</td>\n",
              "      <td>196.779999</td>\n",
              "      <td>235.919998</td>\n",
              "      <td>188.669998</td>\n",
              "      <td>232.839996</td>\n",
              "      <td>223.850006</td>\n",
              "      <td>195.279999</td>\n",
              "      <td>223.919998</td>\n",
              "      <td>209.059998</td>\n",
              "      <td>251.309998</td>\n",
              "      <td>244.710007</td>\n",
              "      <td>252.990005</td>\n",
              "      <td>259.760010</td>\n",
              "    </tr>\n",
              "    <tr>\n",
              "      <th>6256</th>\n",
              "      <td>-65.920784</td>\n",
              "      <td>-45.132149</td>\n",
              "      <td>270.087494</td>\n",
              "      <td>0.144744</td>\n",
              "      <td>8.787667</td>\n",
              "      <td>157.0</td>\n",
              "      <td>10.250000</td>\n",
              "      <td>2.050003</td>\n",
              "      <td>252.619995</td>\n",
              "      <td>225.490005</td>\n",
              "      <td>245.110001</td>\n",
              "      <td>214.339996</td>\n",
              "      <td>241.229996</td>\n",
              "      <td>228.350006</td>\n",
              "      <td>208.919998</td>\n",
              "      <td>224.759995</td>\n",
              "      <td>214.509995</td>\n",
              "      <td>248.699997</td>\n",
              "      <td>246.649994</td>\n",
              "      <td>248.740005</td>\n",
              "      <td>257.279999</td>\n",
              "    </tr>\n",
              "    <tr>\n",
              "      <th>6257</th>\n",
              "      <td>-65.966667</td>\n",
              "      <td>-45.107044</td>\n",
              "      <td>270.080017</td>\n",
              "      <td>0.146130</td>\n",
              "      <td>8.735859</td>\n",
              "      <td>157.0</td>\n",
              "      <td>10.630005</td>\n",
              "      <td>2.980011</td>\n",
              "      <td>253.080002</td>\n",
              "      <td>228.050003</td>\n",
              "      <td>246.460007</td>\n",
              "      <td>216.509995</td>\n",
              "      <td>244.440002</td>\n",
              "      <td>231.550003</td>\n",
              "      <td>211.410004</td>\n",
              "      <td>227.520004</td>\n",
              "      <td>216.889999</td>\n",
              "      <td>247.820007</td>\n",
              "      <td>244.839996</td>\n",
              "      <td>249.250000</td>\n",
              "      <td>257.329987</td>\n",
              "    </tr>\n",
              "  </tbody>\n",
              "</table>\n",
              "</div>"
            ],
            "text/plain": [
              "            lat        lon          ts  ...       tc_10       tc_11       tc_12\n",
              "6219 -63.970222 -44.958664  269.916016  ...  250.330002  252.550003  260.859985\n",
              "6220 -64.060516 -45.017330  269.917816  ...  245.070007  253.000000  260.149994\n",
              "6221 -64.105881 -45.044941  269.924072  ...  244.710007  252.990005  259.760010\n",
              "6256 -65.920784 -45.132149  270.087494  ...  246.649994  248.740005  257.279999\n",
              "6257 -65.966667 -45.107044  270.080017  ...  244.839996  249.250000  257.329987\n",
              "\n",
              "[5 rows x 21 columns]"
            ]
          },
          "metadata": {
            "tags": []
          },
          "execution_count": 46
        }
      ]
    },
    {
      "cell_type": "code",
      "metadata": {
        "colab_type": "code",
        "id": "HMkdztwCFprz",
        "colab": {
          "base_uri": "https://localhost:8080/",
          "height": 0
        },
        "outputId": "867aae66-3d05-437e-e9d8-596856975d2d"
      },
      "source": [
        "print(y.shape)\n",
        "y_dropped = y[(~np.isnan(y['pflag'])) & (data_df['ts'] != -99.0) & (~np.isnan(data_df['twv']))]\n",
        "print(y_dropped.shape)"
      ],
      "execution_count": 47,
      "outputs": [
        {
          "output_type": "stream",
          "text": [
            "(7596504, 1)\n",
            "(667630, 1)\n"
          ],
          "name": "stdout"
        }
      ]
    },
    {
      "cell_type": "code",
      "metadata": {
        "colab_type": "code",
        "id": "Rwi6mCB5Fpr1",
        "colab": {
          "base_uri": "https://localhost:8080/",
          "height": 0
        },
        "outputId": "ce47b5f5-bc2d-4759-cd77-a12d9e81e060"
      },
      "source": [
        "X_dropped = X_dropped[(y_dropped['pflag'] == 1.0) | (y_dropped['pflag'] == 2.0)]\n",
        "y_dropped = y_dropped[(y_dropped['pflag'] == 1.0) | (y_dropped['pflag'] == 2.0)]\n",
        "y_dropped"
      ],
      "execution_count": 48,
      "outputs": [
        {
          "output_type": "execute_result",
          "data": {
            "text/html": [
              "<div>\n",
              "<style scoped>\n",
              "    .dataframe tbody tr th:only-of-type {\n",
              "        vertical-align: middle;\n",
              "    }\n",
              "\n",
              "    .dataframe tbody tr th {\n",
              "        vertical-align: top;\n",
              "    }\n",
              "\n",
              "    .dataframe thead th {\n",
              "        text-align: right;\n",
              "    }\n",
              "</style>\n",
              "<table border=\"1\" class=\"dataframe\">\n",
              "  <thead>\n",
              "    <tr style=\"text-align: right;\">\n",
              "      <th></th>\n",
              "      <th>pflag</th>\n",
              "    </tr>\n",
              "  </thead>\n",
              "  <tbody>\n",
              "    <tr>\n",
              "      <th>205266</th>\n",
              "      <td>1.0</td>\n",
              "    </tr>\n",
              "    <tr>\n",
              "      <th>205272</th>\n",
              "      <td>1.0</td>\n",
              "    </tr>\n",
              "    <tr>\n",
              "      <th>205273</th>\n",
              "      <td>1.0</td>\n",
              "    </tr>\n",
              "    <tr>\n",
              "      <th>205437</th>\n",
              "      <td>1.0</td>\n",
              "    </tr>\n",
              "    <tr>\n",
              "      <th>205608</th>\n",
              "      <td>1.0</td>\n",
              "    </tr>\n",
              "    <tr>\n",
              "      <th>...</th>\n",
              "      <td>...</td>\n",
              "    </tr>\n",
              "    <tr>\n",
              "      <th>7383186</th>\n",
              "      <td>1.0</td>\n",
              "    </tr>\n",
              "    <tr>\n",
              "      <th>7383332</th>\n",
              "      <td>2.0</td>\n",
              "    </tr>\n",
              "    <tr>\n",
              "      <th>7383522</th>\n",
              "      <td>1.0</td>\n",
              "    </tr>\n",
              "    <tr>\n",
              "      <th>7586168</th>\n",
              "      <td>1.0</td>\n",
              "    </tr>\n",
              "    <tr>\n",
              "      <th>7586169</th>\n",
              "      <td>1.0</td>\n",
              "    </tr>\n",
              "  </tbody>\n",
              "</table>\n",
              "<p>27136 rows × 1 columns</p>\n",
              "</div>"
            ],
            "text/plain": [
              "         pflag\n",
              "205266     1.0\n",
              "205272     1.0\n",
              "205273     1.0\n",
              "205437     1.0\n",
              "205608     1.0\n",
              "...        ...\n",
              "7383186    1.0\n",
              "7383332    2.0\n",
              "7383522    1.0\n",
              "7586168    1.0\n",
              "7586169    1.0\n",
              "\n",
              "[27136 rows x 1 columns]"
            ]
          },
          "metadata": {
            "tags": []
          },
          "execution_count": 48
        }
      ]
    },
    {
      "cell_type": "code",
      "metadata": {
        "colab_type": "code",
        "id": "HmRx5kaXFpr3",
        "colab": {
          "base_uri": "https://localhost:8080/",
          "height": 0
        },
        "outputId": "aa3b8c6e-7eb7-406e-f245-b76e058d94a4"
      },
      "source": [
        "# convert to binary outputs\n",
        "y_dropped['pflag'] -= 1.0\n",
        "y_dropped"
      ],
      "execution_count": 49,
      "outputs": [
        {
          "output_type": "execute_result",
          "data": {
            "text/html": [
              "<div>\n",
              "<style scoped>\n",
              "    .dataframe tbody tr th:only-of-type {\n",
              "        vertical-align: middle;\n",
              "    }\n",
              "\n",
              "    .dataframe tbody tr th {\n",
              "        vertical-align: top;\n",
              "    }\n",
              "\n",
              "    .dataframe thead th {\n",
              "        text-align: right;\n",
              "    }\n",
              "</style>\n",
              "<table border=\"1\" class=\"dataframe\">\n",
              "  <thead>\n",
              "    <tr style=\"text-align: right;\">\n",
              "      <th></th>\n",
              "      <th>pflag</th>\n",
              "    </tr>\n",
              "  </thead>\n",
              "  <tbody>\n",
              "    <tr>\n",
              "      <th>205266</th>\n",
              "      <td>0.0</td>\n",
              "    </tr>\n",
              "    <tr>\n",
              "      <th>205272</th>\n",
              "      <td>0.0</td>\n",
              "    </tr>\n",
              "    <tr>\n",
              "      <th>205273</th>\n",
              "      <td>0.0</td>\n",
              "    </tr>\n",
              "    <tr>\n",
              "      <th>205437</th>\n",
              "      <td>0.0</td>\n",
              "    </tr>\n",
              "    <tr>\n",
              "      <th>205608</th>\n",
              "      <td>0.0</td>\n",
              "    </tr>\n",
              "    <tr>\n",
              "      <th>...</th>\n",
              "      <td>...</td>\n",
              "    </tr>\n",
              "    <tr>\n",
              "      <th>7383186</th>\n",
              "      <td>0.0</td>\n",
              "    </tr>\n",
              "    <tr>\n",
              "      <th>7383332</th>\n",
              "      <td>1.0</td>\n",
              "    </tr>\n",
              "    <tr>\n",
              "      <th>7383522</th>\n",
              "      <td>0.0</td>\n",
              "    </tr>\n",
              "    <tr>\n",
              "      <th>7586168</th>\n",
              "      <td>0.0</td>\n",
              "    </tr>\n",
              "    <tr>\n",
              "      <th>7586169</th>\n",
              "      <td>0.0</td>\n",
              "    </tr>\n",
              "  </tbody>\n",
              "</table>\n",
              "<p>27136 rows × 1 columns</p>\n",
              "</div>"
            ],
            "text/plain": [
              "         pflag\n",
              "205266     0.0\n",
              "205272     0.0\n",
              "205273     0.0\n",
              "205437     0.0\n",
              "205608     0.0\n",
              "...        ...\n",
              "7383186    0.0\n",
              "7383332    1.0\n",
              "7383522    0.0\n",
              "7586168    0.0\n",
              "7586169    0.0\n",
              "\n",
              "[27136 rows x 1 columns]"
            ]
          },
          "metadata": {
            "tags": []
          },
          "execution_count": 49
        }
      ]
    },
    {
      "cell_type": "code",
      "metadata": {
        "colab_type": "code",
        "id": "ZngvBa_AFpr4",
        "colab": {}
      },
      "source": [
        "del data_df\n",
        "del y"
      ],
      "execution_count": 50,
      "outputs": []
    },
    {
      "cell_type": "markdown",
      "metadata": {
        "colab_type": "text",
        "id": "dKhXLPFVHGzY"
      },
      "source": [
        "## Scale (Numerical) & One-Hot Encode (Categorical) Data"
      ]
    },
    {
      "cell_type": "code",
      "metadata": {
        "colab_type": "code",
        "id": "9P4bDk0jHGzZ",
        "colab": {
          "base_uri": "https://localhost:8080/",
          "height": 0
        },
        "outputId": "40c5e368-a868-4e5e-c5ad-49f89ff3837b"
      },
      "source": [
        "from sklearn.preprocessing import StandardScaler\n",
        "scaler = StandardScaler()\n",
        "X_prep = scaler.fit_transform(X_dropped)\n",
        "X_prep.shape"
      ],
      "execution_count": 51,
      "outputs": [
        {
          "output_type": "execute_result",
          "data": {
            "text/plain": [
              "(27136, 21)"
            ]
          },
          "metadata": {
            "tags": []
          },
          "execution_count": 51
        }
      ]
    },
    {
      "cell_type": "code",
      "metadata": {
        "colab_type": "code",
        "id": "LCTJrVS3HGzc",
        "colab": {
          "base_uri": "https://localhost:8080/",
          "height": 0
        },
        "outputId": "e4f41a33-0254-4b49-8c58-ef85f1fd9283"
      },
      "source": [
        "# from sklearn.preprocessing import OneHotEncoder\n",
        "# ohe = OneHotEncoder()\n",
        "# y_prep = ohe.fit_transform(y_dropped).toarray()\n",
        "y_prep = np.array(y_dropped['pflag'])\n",
        "y_prep.shape"
      ],
      "execution_count": 52,
      "outputs": [
        {
          "output_type": "execute_result",
          "data": {
            "text/plain": [
              "(27136,)"
            ]
          },
          "metadata": {
            "tags": []
          },
          "execution_count": 52
        }
      ]
    },
    {
      "cell_type": "code",
      "metadata": {
        "colab_type": "code",
        "id": "1p795ZVlHGze",
        "colab": {}
      },
      "source": [
        "del X_dropped\n",
        "del y_dropped"
      ],
      "execution_count": 53,
      "outputs": []
    },
    {
      "cell_type": "code",
      "metadata": {
        "colab_type": "code",
        "id": "FgMOZ3u8HGzg",
        "colab": {
          "base_uri": "https://localhost:8080/",
          "height": 0
        },
        "outputId": "2fbe96d4-93e0-4ef4-f439-bd4f57109a4a"
      },
      "source": [
        "# should be all zeros\n",
        "print(\"X: \", sum(np.isnan(X_prep)))\n",
        "print(\"y: \", sum(np.isnan(y_prep)))"
      ],
      "execution_count": 54,
      "outputs": [
        {
          "output_type": "stream",
          "text": [
            "X:  [0 0 0 0 0 0 0 0 0 0 0 0 0 0 0 0 0 0 0 0 0]\n",
            "y:  0\n"
          ],
          "name": "stdout"
        }
      ]
    },
    {
      "cell_type": "markdown",
      "metadata": {
        "id": "_Hgng2wEHTZy",
        "colab_type": "text"
      },
      "source": [
        "## Test Model"
      ]
    },
    {
      "cell_type": "code",
      "metadata": {
        "id": "BQirUejTHXHK",
        "colab_type": "code",
        "colab": {
          "base_uri": "https://localhost:8080/",
          "height": 34
        },
        "outputId": "7be3f11e-5fd9-466f-9faf-a97417d86b29"
      },
      "source": [
        "rfc.verbose = False\n",
        "y_pred = rfc.predict(X_prep)\n",
        "y_pred"
      ],
      "execution_count": 55,
      "outputs": [
        {
          "output_type": "execute_result",
          "data": {
            "text/plain": [
              "array([0., 0., 0., ..., 0., 0., 0.])"
            ]
          },
          "metadata": {
            "tags": []
          },
          "execution_count": 55
        }
      ]
    },
    {
      "cell_type": "code",
      "metadata": {
        "id": "MTbHZBPqHV1H",
        "colab_type": "code",
        "colab": {
          "base_uri": "https://localhost:8080/",
          "height": 467
        },
        "outputId": "d448e501-fec7-497e-dff9-d58dc3f4aecc"
      },
      "source": [
        "from sklearn.metrics import confusion_matrix\n",
        "conf_mat = confusion_matrix(y_prep, y_pred)\n",
        "\n",
        "plot_confusion_matrix(cm           = conf_mat, \n",
        "                      normalize    = False,\n",
        "                      target_names = ['Stratiform', 'Convective'],\n",
        "                      title        = \"Confusion Matrix\")"
      ],
      "execution_count": 56,
      "outputs": [
        {
          "output_type": "display_data",
          "data": {
            "image/png": "[encoded data removed]",
            "text/plain": [
              "<Figure size 576x432 with 2 Axes>"
            ]
          },
          "metadata": {
            "tags": [],
            "needs_background": "light"
          }
        }
      ]
    },
    {
      "cell_type": "code",
      "metadata": {
        "id": "kB0MSzuvHqni",
        "colab_type": "code",
        "colab": {
          "base_uri": "https://localhost:8080/",
          "height": 51
        },
        "outputId": "707c9f4e-5f58-4c07-f200-3854a9c58287"
      },
      "source": [
        "y_probs = rfc.predict_proba(X_prep)\n",
        "y_pred_probs = y_probs[:, 1]\n",
        "y_pred_probs"
      ],
      "execution_count": 57,
      "outputs": [
        {
          "output_type": "execute_result",
          "data": {
            "text/plain": [
              "array([0.17095915, 0.14686894, 0.14645883, ..., 0.11168587, 0.19111937,\n",
              "       0.18502772])"
            ]
          },
          "metadata": {
            "tags": []
          },
          "execution_count": 57
        }
      ]
    },
    {
      "cell_type": "code",
      "metadata": {
        "id": "LaSHhQbqHuAw",
        "colab_type": "code",
        "colab": {
          "base_uri": "https://localhost:8080/",
          "height": 414
        },
        "outputId": "2b922051-4c63-46bf-f5ea-047aca9186cf"
      },
      "source": [
        "from sklearn.metrics import roc_curve\n",
        "from sklearn.metrics import roc_auc_score\n",
        "\n",
        "def plot_roc_curve(fpr, tpr, label=None):\n",
        "    plt.plot(fpr, tpr, linewidth=2, label=label)\n",
        "    plt.plot([0, 1], [0, 1], 'k--') # dashed diagonal\n",
        "    plt.axis([0, 1, 0, 1])\n",
        "    plt.xlabel('False Positive Rate (Fall-Out)', fontsize=16)\n",
        "    plt.ylabel('True Positive Rate (Recall)', fontsize=16)\n",
        "    plt.grid(True)                                        \n",
        "\n",
        "\n",
        "print(roc_auc_score(y_prep, y_pred_probs))\n",
        "fpr, tpr, thresholds = roc_curve(y_prep, y_pred_probs)\n",
        "plt.figure(figsize=(8, 8)) \n",
        "plot_roc_curve(fpr, tpr)         \n",
        "plt.show()"
      ],
      "execution_count": 58,
      "outputs": [
        {
          "output_type": "stream",
          "text": [
            "0.8544660414354033\n"
          ],
          "name": "stdout"
        },
        {
          "output_type": "display_data",
          "data": {
            "image/png": "[encoded data removed]",
            "text/plain": [
              "<Figure size 576x432 with 1 Axes>"
            ]
          },
          "metadata": {
            "tags": [],
            "needs_background": "light"
          }
        }
      ]
    },
    {
      "cell_type": "code",
      "metadata": {
        "id": "H7p02BKwKeOp",
        "colab_type": "code",
        "colab": {}
      },
      "source": [
        ""
      ],
      "execution_count": 58,
      "outputs": []
    }
  ]
}
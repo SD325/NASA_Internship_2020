{
  "nbformat": 4,
  "nbformat_minor": 0,
  "metadata": {
    "colab": {
      "name": "NASA_End_to_End_Multi_Day_Random_Forest_FIXED.ipynb",
      "provenance": [],
      "collapsed_sections": [
        "RIjr5pg2IDe_",
        "HDR119ZZVsu7",
        "kAuLaNhZ4W-o",
        "Yxc6P_H24iXt"
      ],
      "authorship_tag": "ABX9TyNMpTConhcPZSTibwkpKX7B",
      "include_colab_link": true
    },
    "kernelspec": {
      "name": "python3",
      "display_name": "Python 3"
    }
  },
  "cells": [
    {
      "cell_type": "markdown",
      "metadata": {
        "id": "view-in-github",
        "colab_type": "text"
      },
      "source": [
        "<a href=\"https://colab.research.google.com/github/SD325/NASA_Internship_2020/blob/master/NASA_End_to_End_Multi_Day_Random_Forest_FIXED.ipynb\" target=\"_parent\"><img src=\"https://colab.research.google.com/assets/colab-badge.svg\" alt=\"Open In Colab\"/></a>"
      ]
    },
    {
      "cell_type": "code",
      "metadata": {
        "id": "zFLPeuvoHnXs",
        "colab_type": "code",
        "colab": {
          "base_uri": "https://localhost:8080/",
          "height": 122
        },
        "outputId": "76e51a7b-3098-4683-ea93-de42f2804eb3"
      },
      "source": [
        "# mount Google Drive\n",
        "from google.colab import drive\n",
        "drive.mount('/content/drive')"
      ],
      "execution_count": 1,
      "outputs": [
        {
          "output_type": "stream",
          "text": [
            "Go to this URL in a browser: https://accounts.google.com/o/oauth2/auth?client_id=947318989803-6bn6qk8qdgf4n4g3pfee6491hc0brc4i.apps.googleusercontent.com&redirect_uri=urn%3aietf%3awg%3aoauth%3a2.0%3aoob&response_type=code&scope=email%20https%3a%2f%2fwww.googleapis.com%2fauth%2fdocs.test%20https%3a%2f%2fwww.googleapis.com%2fauth%2fdrive%20https%3a%2f%2fwww.googleapis.com%2fauth%2fdrive.photos.readonly%20https%3a%2f%2fwww.googleapis.com%2fauth%2fpeopleapi.readonly\n",
            "\n",
            "Enter your authorization code:\n",
            "··········\n",
            "Mounted at /content/drive\n"
          ],
          "name": "stdout"
        }
      ]
    },
    {
      "cell_type": "code",
      "metadata": {
        "id": "bQWPnrTYHv1V",
        "colab_type": "code",
        "colab": {}
      },
      "source": [
        "# Suppress warnings\n",
        "import warnings\n",
        "warnings.filterwarnings(\"ignore\")\n",
        "\n",
        "# Imports\n",
        "import joblib\n",
        "import pickle\n",
        "import scipy.io\n",
        "import numpy as np\n",
        "import pandas as pd\n",
        "import matplotlib.pyplot as plt\n",
        "import seaborn as sns\n",
        "import os\n",
        "\n",
        "import tensorflow as tf\n",
        "from tensorflow import keras\n",
        "from tensorflow.keras import layers\n",
        "\n",
        "from sklearn.model_selection import train_test_split\n",
        "from sklearn.ensemble import RandomForestClassifier\n",
        "from sklearn.metrics import accuracy_score\n",
        "from sklearn.metrics import confusion_matrix\n",
        "\n",
        "\n",
        "# Working Directory \n",
        "BASE_DIR = '/content/drive/My Drive/data/NASA_2020/'"
      ],
      "execution_count": 2,
      "outputs": []
    },
    {
      "cell_type": "markdown",
      "metadata": {
        "id": "G2EU8pbqwcZS",
        "colab_type": "text"
      },
      "source": [
        "# Prepare Data"
      ]
    },
    {
      "cell_type": "markdown",
      "metadata": {
        "id": "DB-_NNIqwimR",
        "colab_type": "text"
      },
      "source": [
        "## Read Data"
      ]
    },
    {
      "cell_type": "code",
      "metadata": {
        "id": "--hRProwwWyJ",
        "colab_type": "code",
        "colab": {
          "base_uri": "https://localhost:8080/",
          "height": 1000
        },
        "outputId": "30004166-5d4f-4abe-8e6a-292d6367fdd3"
      },
      "source": [
        "import scipy.io\n",
        "BASE_DIR = '/content/drive/My Drive/data/NASA_2020/'\n",
        "# fall, winter, spring, summer\n",
        "filenames =['colloc_Precipflag_DPR_GMI_20151007.sav',\n",
        "            'colloc_Precipflag_DPR_GMI_20160113.sav',\n",
        "            'colloc_Precipflag_DPR_GMI_20160401.sav']\n",
        "            #,'colloc_Precipflag_DPR_GMI_20170606.sav']\n",
        "FILE_PATHS = [BASE_DIR + fn for fn in filenames]\n",
        "data = [scipy.io.readsav(filepath, verbose=1) for filepath in FILE_PATHS]"
      ],
      "execution_count": 3,
      "outputs": [
        {
          "output_type": "stream",
          "text": [
            "--------------------------------------------------\n",
            "Date: Sat Jun 27 00:49:52 2020\n",
            "User: jgong\n",
            "Host: gs613-cirrus.ndc.nasa.gov\n",
            "--------------------------------------------------\n",
            "Format: 12\n",
            "Architecture: x86_64\n",
            "Operating System: linux\n",
            "IDL Version: 8.7.3\n",
            "--------------------------------------------------\n",
            "Successfully read 14 records of which:\n",
            " - 11 are of type VARIABLE\n",
            " - 1 are of type VERSION\n",
            " - 1 are of type TIMESTAMP\n",
            "--------------------------------------------------\n",
            "Available variables:\n",
            " - tc [<class 'numpy.ndarray'>]\n",
            " - latc [<class 'numpy.ndarray'>]\n",
            " - lonc [<class 'numpy.ndarray'>]\n",
            " - utc [<class 'numpy.ndarray'>]\n",
            " - emis [<class 'numpy.ndarray'>]\n",
            " - emis_std [<class 'numpy.ndarray'>]\n",
            " - ts [<class 'numpy.ndarray'>]\n",
            " - clwp [<class 'numpy.ndarray'>]\n",
            " - twv [<class 'numpy.ndarray'>]\n",
            " - tysfc [<class 'numpy.ndarray'>]\n",
            " - pflag [<class 'numpy.ndarray'>]\n",
            "--------------------------------------------------\n",
            "--------------------------------------------------\n",
            "Date: Fri Jun 26 15:53:36 2020\n",
            "User: jgong\n",
            "Host: gs613-cirrus.ndc.nasa.gov\n",
            "--------------------------------------------------\n",
            "Format: 12\n",
            "Architecture: x86_64\n",
            "Operating System: linux\n",
            "IDL Version: 8.7.3\n",
            "--------------------------------------------------\n",
            "Successfully read 14 records of which:\n",
            " - 11 are of type VARIABLE\n",
            " - 1 are of type VERSION\n",
            " - 1 are of type TIMESTAMP\n",
            "--------------------------------------------------\n",
            "Available variables:\n",
            " - tc [<class 'numpy.ndarray'>]\n",
            " - latc [<class 'numpy.ndarray'>]\n",
            " - lonc [<class 'numpy.ndarray'>]\n",
            " - utc [<class 'numpy.ndarray'>]\n",
            " - emis [<class 'numpy.ndarray'>]\n",
            " - emis_std [<class 'numpy.ndarray'>]\n",
            " - ts [<class 'numpy.ndarray'>]\n",
            " - clwp [<class 'numpy.ndarray'>]\n",
            " - twv [<class 'numpy.ndarray'>]\n",
            " - tysfc [<class 'numpy.ndarray'>]\n",
            " - pflag [<class 'numpy.ndarray'>]\n",
            "--------------------------------------------------\n",
            "--------------------------------------------------\n",
            "Date: Fri Jun 26 09:39:17 2020\n",
            "User: jgong\n",
            "Host: gs613-cirrus.ndc.nasa.gov\n",
            "--------------------------------------------------\n",
            "Format: 12\n",
            "Architecture: x86_64\n",
            "Operating System: linux\n",
            "IDL Version: 8.7.3\n",
            "--------------------------------------------------\n",
            "Successfully read 14 records of which:\n",
            " - 11 are of type VARIABLE\n",
            " - 1 are of type VERSION\n",
            " - 1 are of type TIMESTAMP\n",
            "--------------------------------------------------\n",
            "Available variables:\n",
            " - tc [<class 'numpy.ndarray'>]\n",
            " - latc [<class 'numpy.ndarray'>]\n",
            " - lonc [<class 'numpy.ndarray'>]\n",
            " - utc [<class 'numpy.ndarray'>]\n",
            " - emis [<class 'numpy.ndarray'>]\n",
            " - emis_std [<class 'numpy.ndarray'>]\n",
            " - ts [<class 'numpy.ndarray'>]\n",
            " - clwp [<class 'numpy.ndarray'>]\n",
            " - twv [<class 'numpy.ndarray'>]\n",
            " - tysfc [<class 'numpy.ndarray'>]\n",
            " - pflag [<class 'numpy.ndarray'>]\n",
            "--------------------------------------------------\n"
          ],
          "name": "stdout"
        }
      ]
    },
    {
      "cell_type": "markdown",
      "metadata": {
        "id": "sKdqEktswkRP",
        "colab_type": "text"
      },
      "source": [
        "## Trim Data"
      ]
    },
    {
      "cell_type": "code",
      "metadata": {
        "id": "t9a9a48Iwl5L",
        "colab_type": "code",
        "colab": {
          "base_uri": "https://localhost:8080/",
          "height": 629
        },
        "outputId": "469486aa-336d-480c-ea58-564e977640a3"
      },
      "source": [
        "import copy\n",
        "data_trimmed = []\n",
        "for i, data_i in enumerate(data):\n",
        "  data_trimmed_i = {}\n",
        "  for var, arr in data_i.items():\n",
        "    if arr.ndim == 1:\n",
        "      data_trimmed_i[var] = arr[1:] \n",
        "    else:\n",
        "      data_trimmed_i[var] = arr[1:, 25:196] if arr.ndim == 2 else arr[1:, 25:196, :] \n",
        "\n",
        "  for var, arr in data_trimmed_i.items():\n",
        "    print(f\"{var}: {arr.shape}\")\n",
        "  print('-' * 15)\n",
        "  data_trimmed.append(data_trimmed_i)\n",
        "\n",
        "# free up memory\n",
        "del data"
      ],
      "execution_count": 4,
      "outputs": [
        {
          "output_type": "stream",
          "text": [
            "tc: (47380, 171, 13)\n",
            "latc: (47380, 171)\n",
            "lonc: (47380, 171)\n",
            "utc: (47380,)\n",
            "emis: (47380, 171, 13)\n",
            "emis_std: (47380, 171, 13)\n",
            "ts: (47380, 171)\n",
            "clwp: (47380, 171)\n",
            "twv: (47380, 171)\n",
            "tysfc: (47380, 171)\n",
            "pflag: (47380, 171)\n",
            "---------------\n",
            "tc: (47370, 171, 13)\n",
            "latc: (47370, 171)\n",
            "lonc: (47370, 171)\n",
            "utc: (47370,)\n",
            "emis: (47370, 171, 13)\n",
            "emis_std: (47370, 171, 13)\n",
            "ts: (47370, 171)\n",
            "clwp: (47370, 171)\n",
            "twv: (47370, 171)\n",
            "tysfc: (47370, 171)\n",
            "pflag: (47370, 171)\n",
            "---------------\n",
            "tc: (47407, 171, 13)\n",
            "latc: (47407, 171)\n",
            "lonc: (47407, 171)\n",
            "utc: (47407,)\n",
            "emis: (47407, 171, 13)\n",
            "emis_std: (47407, 171, 13)\n",
            "ts: (47407, 171)\n",
            "clwp: (47407, 171)\n",
            "twv: (47407, 171)\n",
            "tysfc: (47407, 171)\n",
            "pflag: (47407, 171)\n",
            "---------------\n"
          ],
          "name": "stdout"
        }
      ]
    },
    {
      "cell_type": "markdown",
      "metadata": {
        "id": "RVzEr_LCwpKO",
        "colab_type": "text"
      },
      "source": [
        "## Polarization Differences (PDs)"
      ]
    },
    {
      "cell_type": "code",
      "metadata": {
        "id": "fKHZmrbuwsTM",
        "colab_type": "code",
        "colab": {
          "base_uri": "https://localhost:8080/",
          "height": 68
        },
        "outputId": "f5ca00f0-ea84-47df-beb1-727c7be7180d"
      },
      "source": [
        "# calculate polarization differences (PD)\n",
        "def add_to_PD_i(i, freq, ind1, ind2, data):\n",
        "  PD[i][freq] = data[i]['tc'][:, :, ind1] - data[i]['tc'][:, :, ind2]\n",
        "\n",
        "PD = [{} for _ in range(len(data_trimmed))]\n",
        "for i in range(len(data_trimmed)):\n",
        "  add_to_PD_i(i, '10.65', 0, 1, data_trimmed)\n",
        "  add_to_PD_i(i, '18.70', 2, 3, data_trimmed)\n",
        "  add_to_PD_i(i, '36.50', 5, 6, data_trimmed)\n",
        "  add_to_PD_i(i, '89.00', 7, 8, data_trimmed)\n",
        "  add_to_PD_i(i, '166.0', 9, 10, data_trimmed)\n",
        "  print(PD[i].keys())"
      ],
      "execution_count": 5,
      "outputs": [
        {
          "output_type": "stream",
          "text": [
            "dict_keys(['10.65', '18.70', '36.50', '89.00', '166.0'])\n",
            "dict_keys(['10.65', '18.70', '36.50', '89.00', '166.0'])\n",
            "dict_keys(['10.65', '18.70', '36.50', '89.00', '166.0'])\n"
          ],
          "name": "stdout"
        }
      ]
    },
    {
      "cell_type": "markdown",
      "metadata": {
        "id": "-VN0mCqvwy6b",
        "colab_type": "text"
      },
      "source": [
        "## Construct DataFrame"
      ]
    },
    {
      "cell_type": "code",
      "metadata": {
        "id": "36y3bA0Gw1E0",
        "colab_type": "code",
        "colab": {
          "base_uri": "https://localhost:8080/",
          "height": 221
        },
        "outputId": "4df73f2c-9252-446c-aacd-989907ef53f6"
      },
      "source": [
        "# ravel 2d data --> scans one after another\n",
        "'''\n",
        "* 13 channels TB\n",
        "* 3 channels PD (10.65, 89 and 166 GHz)\n",
        "x Surface emissivity\n",
        "* Ts\n",
        "* CLWP\n",
        "* TWV\n",
        "* Lat/Lon\n",
        "- Day of the year starting from the first day of the year (i.e., Julian day. For example, 1/1/2017 is 1, 2/1/2017 is 32)\n",
        "'''\n",
        "data_dfs = []\n",
        "\n",
        "PD_freqs_append = ['10.65', '89.00', '166.0']\n",
        "data_2d = {'latc': 'lat',\n",
        "           'lonc': 'lon',\n",
        "           'ts': 'ts',\n",
        "           'clwp': 'clwp',\n",
        "           'twv': 'twv'}\n",
        "for i, data_i in enumerate(data_trimmed):\n",
        "  curr_df = pd.DataFrame()\n",
        "  # 2d data\n",
        "  for data_name, df_name in data_2d.items():\n",
        "    curr_df[df_name] = np.ravel(data_i[data_name])\n",
        "\n",
        "  # PDs\n",
        "  for freq in PD_freqs_append:\n",
        "    curr_df[f'PD_{freq}'] = np.ravel(PD[i][freq])\n",
        "\n",
        "  # 3d data\n",
        "  for idx in range(data_i['tc'].shape[2]):\n",
        "    curr_df[f'tc_{idx}'] = np.ravel(data_i['tc'][:, :, idx])\n",
        "\n",
        "  data_dfs.append(curr_df)\n",
        "  del curr_df\n",
        "\n",
        "print('combining DataFrames')\n",
        "data_df = pd.concat(data_dfs, ignore_index = True)\n",
        "del data_dfs\n",
        "data_df.head()"
      ],
      "execution_count": 6,
      "outputs": [
        {
          "output_type": "stream",
          "text": [
            "combining DataFrames\n"
          ],
          "name": "stdout"
        },
        {
          "output_type": "execute_result",
          "data": {
            "text/html": [
              "<div>\n",
              "<style scoped>\n",
              "    .dataframe tbody tr th:only-of-type {\n",
              "        vertical-align: middle;\n",
              "    }\n",
              "\n",
              "    .dataframe tbody tr th {\n",
              "        vertical-align: top;\n",
              "    }\n",
              "\n",
              "    .dataframe thead th {\n",
              "        text-align: right;\n",
              "    }\n",
              "</style>\n",
              "<table border=\"1\" class=\"dataframe\">\n",
              "  <thead>\n",
              "    <tr style=\"text-align: right;\">\n",
              "      <th></th>\n",
              "      <th>lat</th>\n",
              "      <th>lon</th>\n",
              "      <th>ts</th>\n",
              "      <th>clwp</th>\n",
              "      <th>twv</th>\n",
              "      <th>PD_10.65</th>\n",
              "      <th>PD_89.00</th>\n",
              "      <th>PD_166.0</th>\n",
              "      <th>tc_0</th>\n",
              "      <th>tc_1</th>\n",
              "      <th>tc_2</th>\n",
              "      <th>tc_3</th>\n",
              "      <th>tc_4</th>\n",
              "      <th>tc_5</th>\n",
              "      <th>tc_6</th>\n",
              "      <th>tc_7</th>\n",
              "      <th>tc_8</th>\n",
              "      <th>tc_9</th>\n",
              "      <th>tc_10</th>\n",
              "      <th>tc_11</th>\n",
              "      <th>tc_12</th>\n",
              "    </tr>\n",
              "  </thead>\n",
              "  <tbody>\n",
              "    <tr>\n",
              "      <th>0</th>\n",
              "      <td>-68.794342</td>\n",
              "      <td>121.109978</td>\n",
              "      <td>-99.0</td>\n",
              "      <td>-99.0</td>\n",
              "      <td>-99.0</td>\n",
              "      <td>22.889999</td>\n",
              "      <td>14.330002</td>\n",
              "      <td>10.839996</td>\n",
              "      <td>228.770004</td>\n",
              "      <td>205.880005</td>\n",
              "      <td>223.490005</td>\n",
              "      <td>204.559998</td>\n",
              "      <td>222.809998</td>\n",
              "      <td>224.610001</td>\n",
              "      <td>208.850006</td>\n",
              "      <td>231.000000</td>\n",
              "      <td>216.669998</td>\n",
              "      <td>227.389999</td>\n",
              "      <td>216.550003</td>\n",
              "      <td>237.830002</td>\n",
              "      <td>230.470001</td>\n",
              "    </tr>\n",
              "    <tr>\n",
              "      <th>1</th>\n",
              "      <td>-68.736092</td>\n",
              "      <td>121.270271</td>\n",
              "      <td>-99.0</td>\n",
              "      <td>-99.0</td>\n",
              "      <td>-99.0</td>\n",
              "      <td>24.899994</td>\n",
              "      <td>13.979996</td>\n",
              "      <td>12.560013</td>\n",
              "      <td>229.369995</td>\n",
              "      <td>204.470001</td>\n",
              "      <td>222.880005</td>\n",
              "      <td>203.619995</td>\n",
              "      <td>223.070007</td>\n",
              "      <td>224.199997</td>\n",
              "      <td>208.869995</td>\n",
              "      <td>230.679993</td>\n",
              "      <td>216.699997</td>\n",
              "      <td>228.960007</td>\n",
              "      <td>216.399994</td>\n",
              "      <td>237.610001</td>\n",
              "      <td>231.130005</td>\n",
              "    </tr>\n",
              "    <tr>\n",
              "      <th>2</th>\n",
              "      <td>-68.716942</td>\n",
              "      <td>121.389320</td>\n",
              "      <td>-99.0</td>\n",
              "      <td>-99.0</td>\n",
              "      <td>-99.0</td>\n",
              "      <td>24.840012</td>\n",
              "      <td>14.509995</td>\n",
              "      <td>9.139999</td>\n",
              "      <td>228.990005</td>\n",
              "      <td>204.149994</td>\n",
              "      <td>223.880005</td>\n",
              "      <td>203.710007</td>\n",
              "      <td>223.369995</td>\n",
              "      <td>224.240005</td>\n",
              "      <td>208.160004</td>\n",
              "      <td>231.479996</td>\n",
              "      <td>216.970001</td>\n",
              "      <td>227.419998</td>\n",
              "      <td>218.279999</td>\n",
              "      <td>238.160004</td>\n",
              "      <td>231.839996</td>\n",
              "    </tr>\n",
              "    <tr>\n",
              "      <th>3</th>\n",
              "      <td>-68.697197</td>\n",
              "      <td>121.507530</td>\n",
              "      <td>-99.0</td>\n",
              "      <td>-99.0</td>\n",
              "      <td>-99.0</td>\n",
              "      <td>25.550003</td>\n",
              "      <td>14.410004</td>\n",
              "      <td>10.429993</td>\n",
              "      <td>228.979996</td>\n",
              "      <td>203.429993</td>\n",
              "      <td>223.240005</td>\n",
              "      <td>202.210007</td>\n",
              "      <td>222.839996</td>\n",
              "      <td>224.020004</td>\n",
              "      <td>205.979996</td>\n",
              "      <td>231.139999</td>\n",
              "      <td>216.729996</td>\n",
              "      <td>226.339996</td>\n",
              "      <td>215.910004</td>\n",
              "      <td>237.490005</td>\n",
              "      <td>231.080002</td>\n",
              "    </tr>\n",
              "    <tr>\n",
              "      <th>4</th>\n",
              "      <td>-68.648026</td>\n",
              "      <td>121.535782</td>\n",
              "      <td>-99.0</td>\n",
              "      <td>-99.0</td>\n",
              "      <td>-99.0</td>\n",
              "      <td>24.010010</td>\n",
              "      <td>14.319992</td>\n",
              "      <td>10.379990</td>\n",
              "      <td>228.630005</td>\n",
              "      <td>204.619995</td>\n",
              "      <td>223.919998</td>\n",
              "      <td>202.509995</td>\n",
              "      <td>222.520004</td>\n",
              "      <td>223.520004</td>\n",
              "      <td>206.960007</td>\n",
              "      <td>230.789993</td>\n",
              "      <td>216.470001</td>\n",
              "      <td>228.259995</td>\n",
              "      <td>217.880005</td>\n",
              "      <td>238.449997</td>\n",
              "      <td>231.389999</td>\n",
              "    </tr>\n",
              "  </tbody>\n",
              "</table>\n",
              "</div>"
            ],
            "text/plain": [
              "         lat         lon    ts  ...       tc_10       tc_11       tc_12\n",
              "0 -68.794342  121.109978 -99.0  ...  216.550003  237.830002  230.470001\n",
              "1 -68.736092  121.270271 -99.0  ...  216.399994  237.610001  231.130005\n",
              "2 -68.716942  121.389320 -99.0  ...  218.279999  238.160004  231.839996\n",
              "3 -68.697197  121.507530 -99.0  ...  215.910004  237.490005  231.080002\n",
              "4 -68.648026  121.535782 -99.0  ...  217.880005  238.449997  231.389999\n",
              "\n",
              "[5 rows x 21 columns]"
            ]
          },
          "metadata": {
            "tags": []
          },
          "execution_count": 6
        }
      ]
    },
    {
      "cell_type": "code",
      "metadata": {
        "id": "PU8xGSlnxFtz",
        "colab_type": "code",
        "colab": {
          "base_uri": "https://localhost:8080/",
          "height": 204
        },
        "outputId": "62aa97d3-1e51-42be-9f2c-b7687f81bcf0"
      },
      "source": [
        "y = pd.DataFrame()\n",
        "y['pflag'] = np.concatenate(tuple(np.ravel(data_trimmed[i]['pflag']).byteswap().newbyteorder() for i in range(len(data_trimmed))))\n",
        "y.head()"
      ],
      "execution_count": 7,
      "outputs": [
        {
          "output_type": "execute_result",
          "data": {
            "text/html": [
              "<div>\n",
              "<style scoped>\n",
              "    .dataframe tbody tr th:only-of-type {\n",
              "        vertical-align: middle;\n",
              "    }\n",
              "\n",
              "    .dataframe tbody tr th {\n",
              "        vertical-align: top;\n",
              "    }\n",
              "\n",
              "    .dataframe thead th {\n",
              "        text-align: right;\n",
              "    }\n",
              "</style>\n",
              "<table border=\"1\" class=\"dataframe\">\n",
              "  <thead>\n",
              "    <tr style=\"text-align: right;\">\n",
              "      <th></th>\n",
              "      <th>pflag</th>\n",
              "    </tr>\n",
              "  </thead>\n",
              "  <tbody>\n",
              "    <tr>\n",
              "      <th>0</th>\n",
              "      <td>NaN</td>\n",
              "    </tr>\n",
              "    <tr>\n",
              "      <th>1</th>\n",
              "      <td>NaN</td>\n",
              "    </tr>\n",
              "    <tr>\n",
              "      <th>2</th>\n",
              "      <td>NaN</td>\n",
              "    </tr>\n",
              "    <tr>\n",
              "      <th>3</th>\n",
              "      <td>NaN</td>\n",
              "    </tr>\n",
              "    <tr>\n",
              "      <th>4</th>\n",
              "      <td>NaN</td>\n",
              "    </tr>\n",
              "  </tbody>\n",
              "</table>\n",
              "</div>"
            ],
            "text/plain": [
              "   pflag\n",
              "0    NaN\n",
              "1    NaN\n",
              "2    NaN\n",
              "3    NaN\n",
              "4    NaN"
            ]
          },
          "metadata": {
            "tags": []
          },
          "execution_count": 7
        }
      ]
    },
    {
      "cell_type": "markdown",
      "metadata": {
        "id": "LUlCzB6ixJes",
        "colab_type": "text"
      },
      "source": [
        "## Drop Unwanted"
      ]
    },
    {
      "cell_type": "code",
      "metadata": {
        "id": "JNLnjKZ-xPh9",
        "colab_type": "code",
        "colab": {
          "base_uri": "https://localhost:8080/",
          "height": 224
        },
        "outputId": "0972eaa8-8383-420f-eeeb-a2b57e3d940a"
      },
      "source": [
        "X_dropped = data_df[(~np.isnan(y['pflag'])) & (data_df['ts'] != -99.0) & (~np.isnan(data_df['twv']))]\n",
        "X_dropped.head()"
      ],
      "execution_count": 8,
      "outputs": [
        {
          "output_type": "execute_result",
          "data": {
            "text/html": [
              "<div>\n",
              "<style scoped>\n",
              "    .dataframe tbody tr th:only-of-type {\n",
              "        vertical-align: middle;\n",
              "    }\n",
              "\n",
              "    .dataframe tbody tr th {\n",
              "        vertical-align: top;\n",
              "    }\n",
              "\n",
              "    .dataframe thead th {\n",
              "        text-align: right;\n",
              "    }\n",
              "</style>\n",
              "<table border=\"1\" class=\"dataframe\">\n",
              "  <thead>\n",
              "    <tr style=\"text-align: right;\">\n",
              "      <th></th>\n",
              "      <th>lat</th>\n",
              "      <th>lon</th>\n",
              "      <th>ts</th>\n",
              "      <th>clwp</th>\n",
              "      <th>twv</th>\n",
              "      <th>PD_10.65</th>\n",
              "      <th>PD_89.00</th>\n",
              "      <th>PD_166.0</th>\n",
              "      <th>tc_0</th>\n",
              "      <th>tc_1</th>\n",
              "      <th>tc_2</th>\n",
              "      <th>tc_3</th>\n",
              "      <th>tc_4</th>\n",
              "      <th>tc_5</th>\n",
              "      <th>tc_6</th>\n",
              "      <th>tc_7</th>\n",
              "      <th>tc_8</th>\n",
              "      <th>tc_9</th>\n",
              "      <th>tc_10</th>\n",
              "      <th>tc_11</th>\n",
              "      <th>tc_12</th>\n",
              "    </tr>\n",
              "  </thead>\n",
              "  <tbody>\n",
              "    <tr>\n",
              "      <th>405</th>\n",
              "      <td>-65.898605</td>\n",
              "      <td>125.724609</td>\n",
              "      <td>258.322540</td>\n",
              "      <td>0.011064</td>\n",
              "      <td>2.236660</td>\n",
              "      <td>29.500000</td>\n",
              "      <td>15.860001</td>\n",
              "      <td>7.970001</td>\n",
              "      <td>255.880005</td>\n",
              "      <td>226.380005</td>\n",
              "      <td>246.889999</td>\n",
              "      <td>221.880005</td>\n",
              "      <td>246.110001</td>\n",
              "      <td>244.300003</td>\n",
              "      <td>222.809998</td>\n",
              "      <td>235.240005</td>\n",
              "      <td>219.380005</td>\n",
              "      <td>229.220001</td>\n",
              "      <td>221.250000</td>\n",
              "      <td>246.289993</td>\n",
              "      <td>242.410004</td>\n",
              "    </tr>\n",
              "    <tr>\n",
              "      <th>406</th>\n",
              "      <td>-65.805023</td>\n",
              "      <td>125.751350</td>\n",
              "      <td>258.579742</td>\n",
              "      <td>0.014423</td>\n",
              "      <td>2.670216</td>\n",
              "      <td>29.080002</td>\n",
              "      <td>16.639999</td>\n",
              "      <td>8.400009</td>\n",
              "      <td>253.389999</td>\n",
              "      <td>224.309998</td>\n",
              "      <td>242.050003</td>\n",
              "      <td>215.660004</td>\n",
              "      <td>239.710007</td>\n",
              "      <td>241.649994</td>\n",
              "      <td>220.169998</td>\n",
              "      <td>236.690002</td>\n",
              "      <td>220.050003</td>\n",
              "      <td>230.100006</td>\n",
              "      <td>221.699997</td>\n",
              "      <td>246.559998</td>\n",
              "      <td>244.940002</td>\n",
              "    </tr>\n",
              "    <tr>\n",
              "      <th>407</th>\n",
              "      <td>-65.758141</td>\n",
              "      <td>125.762604</td>\n",
              "      <td>258.836304</td>\n",
              "      <td>0.017788</td>\n",
              "      <td>2.518587</td>\n",
              "      <td>30.960007</td>\n",
              "      <td>17.520004</td>\n",
              "      <td>9.369995</td>\n",
              "      <td>252.440002</td>\n",
              "      <td>221.479996</td>\n",
              "      <td>237.250000</td>\n",
              "      <td>211.589996</td>\n",
              "      <td>237.020004</td>\n",
              "      <td>238.259995</td>\n",
              "      <td>216.669998</td>\n",
              "      <td>236.710007</td>\n",
              "      <td>219.190002</td>\n",
              "      <td>231.639999</td>\n",
              "      <td>222.270004</td>\n",
              "      <td>246.270004</td>\n",
              "      <td>244.490005</td>\n",
              "    </tr>\n",
              "    <tr>\n",
              "      <th>408</th>\n",
              "      <td>-65.711205</td>\n",
              "      <td>125.772438</td>\n",
              "      <td>259.092346</td>\n",
              "      <td>0.021157</td>\n",
              "      <td>2.816634</td>\n",
              "      <td>31.970001</td>\n",
              "      <td>17.740005</td>\n",
              "      <td>8.839996</td>\n",
              "      <td>251.350006</td>\n",
              "      <td>219.380005</td>\n",
              "      <td>237.149994</td>\n",
              "      <td>211.309998</td>\n",
              "      <td>236.559998</td>\n",
              "      <td>239.070007</td>\n",
              "      <td>218.169998</td>\n",
              "      <td>236.779999</td>\n",
              "      <td>219.039993</td>\n",
              "      <td>232.750000</td>\n",
              "      <td>223.910004</td>\n",
              "      <td>245.880005</td>\n",
              "      <td>245.850006</td>\n",
              "    </tr>\n",
              "    <tr>\n",
              "      <th>409</th>\n",
              "      <td>-65.664230</td>\n",
              "      <td>125.780869</td>\n",
              "      <td>259.347931</td>\n",
              "      <td>0.024527</td>\n",
              "      <td>2.969014</td>\n",
              "      <td>28.739990</td>\n",
              "      <td>18.130005</td>\n",
              "      <td>9.139999</td>\n",
              "      <td>248.699997</td>\n",
              "      <td>219.960007</td>\n",
              "      <td>238.360001</td>\n",
              "      <td>211.179993</td>\n",
              "      <td>237.539993</td>\n",
              "      <td>239.399994</td>\n",
              "      <td>217.750000</td>\n",
              "      <td>238.830002</td>\n",
              "      <td>220.699997</td>\n",
              "      <td>234.940002</td>\n",
              "      <td>225.800003</td>\n",
              "      <td>245.990005</td>\n",
              "      <td>247.029999</td>\n",
              "    </tr>\n",
              "  </tbody>\n",
              "</table>\n",
              "</div>"
            ],
            "text/plain": [
              "           lat         lon          ts  ...       tc_10       tc_11       tc_12\n",
              "405 -65.898605  125.724609  258.322540  ...  221.250000  246.289993  242.410004\n",
              "406 -65.805023  125.751350  258.579742  ...  221.699997  246.559998  244.940002\n",
              "407 -65.758141  125.762604  258.836304  ...  222.270004  246.270004  244.490005\n",
              "408 -65.711205  125.772438  259.092346  ...  223.910004  245.880005  245.850006\n",
              "409 -65.664230  125.780869  259.347931  ...  225.800003  245.990005  247.029999\n",
              "\n",
              "[5 rows x 21 columns]"
            ]
          },
          "metadata": {
            "tags": []
          },
          "execution_count": 8
        }
      ]
    },
    {
      "cell_type": "code",
      "metadata": {
        "id": "OUSsuHFkxRaE",
        "colab_type": "code",
        "colab": {
          "base_uri": "https://localhost:8080/",
          "height": 51
        },
        "outputId": "1aa2bf50-20ba-4ac4-f923-8ee96c596e5c"
      },
      "source": [
        "print(y.shape)\n",
        "y_dropped = y[(~np.isnan(y['pflag'])) & (data_df['ts'] != -99.0) & (~np.isnan(data_df['twv']))]\n",
        "print(y_dropped.shape)"
      ],
      "execution_count": 9,
      "outputs": [
        {
          "output_type": "stream",
          "text": [
            "(24308847, 1)\n",
            "(2185776, 1)\n"
          ],
          "name": "stdout"
        }
      ]
    },
    {
      "cell_type": "code",
      "metadata": {
        "id": "7VsKs_pExT6o",
        "colab_type": "code",
        "colab": {}
      },
      "source": [
        "del data_df\n",
        "del y"
      ],
      "execution_count": 10,
      "outputs": []
    },
    {
      "cell_type": "markdown",
      "metadata": {
        "id": "Pg4XasjixV5w",
        "colab_type": "text"
      },
      "source": [
        "## Scale (Numerical) & One-Hot Encode (Categorical) Data"
      ]
    },
    {
      "cell_type": "code",
      "metadata": {
        "id": "C85MJ9OHxYFG",
        "colab_type": "code",
        "colab": {
          "base_uri": "https://localhost:8080/",
          "height": 34
        },
        "outputId": "a3306389-1c83-454d-e950-1f1ce6b32f42"
      },
      "source": [
        "from sklearn.preprocessing import StandardScaler\n",
        "scaler = StandardScaler()\n",
        "X_prep = scaler.fit_transform(X_dropped)\n",
        "X_prep.shape"
      ],
      "execution_count": 11,
      "outputs": [
        {
          "output_type": "execute_result",
          "data": {
            "text/plain": [
              "(2185776, 21)"
            ]
          },
          "metadata": {
            "tags": []
          },
          "execution_count": 11
        }
      ]
    },
    {
      "cell_type": "code",
      "metadata": {
        "id": "lJUQmLYfxlQr",
        "colab_type": "code",
        "colab": {
          "base_uri": "https://localhost:8080/",
          "height": 34
        },
        "outputId": "072dbab8-9a2b-4040-ed67-2d6531ebcb19"
      },
      "source": [
        "from sklearn.preprocessing import OneHotEncoder\n",
        "ohe = OneHotEncoder()\n",
        "y_prep = ohe.fit_transform(y_dropped).toarray()\n",
        "y_prep.shape"
      ],
      "execution_count": 12,
      "outputs": [
        {
          "output_type": "execute_result",
          "data": {
            "text/plain": [
              "(2185776, 4)"
            ]
          },
          "metadata": {
            "tags": []
          },
          "execution_count": 12
        }
      ]
    },
    {
      "cell_type": "code",
      "metadata": {
        "id": "JWSa7nhryPFJ",
        "colab_type": "code",
        "colab": {}
      },
      "source": [
        "del X_dropped\n",
        "del y_dropped"
      ],
      "execution_count": 13,
      "outputs": []
    },
    {
      "cell_type": "code",
      "metadata": {
        "id": "tX2IbU2UxtZD",
        "colab_type": "code",
        "colab": {
          "base_uri": "https://localhost:8080/",
          "height": 51
        },
        "outputId": "7505f29a-5029-4226-fb85-7c8320ad70b8"
      },
      "source": [
        "# should be all zeros\n",
        "print(\"X: \", sum(np.isnan(X_prep)))\n",
        "print(\"y: \", sum(np.isnan(y_prep)))"
      ],
      "execution_count": 14,
      "outputs": [
        {
          "output_type": "stream",
          "text": [
            "X:  [0 0 0 0 0 0 0 0 0 0 0 0 0 0 0 0 0 0 0 0 0]\n",
            "y:  [0 0 0 0]\n"
          ],
          "name": "stdout"
        }
      ]
    },
    {
      "cell_type": "markdown",
      "metadata": {
        "id": "FeIGY5nkxosL",
        "colab_type": "text"
      },
      "source": [
        "## Save Data"
      ]
    },
    {
      "cell_type": "code",
      "metadata": {
        "id": "TEFWg6dnxq8i",
        "colab_type": "code",
        "colab": {}
      },
      "source": [
        "with open(BASE_DIR + 'X_data_3_days.pkl', 'wb') as f:\n",
        "  pickle.dump(X_prep, f)\n",
        "  del X_prep\n",
        "\n",
        "with open(BASE_DIR + 'y_data_3_days.pkl', 'wb') as f:\n",
        "  pickle.dump(y_prep, f)\n",
        "  del y_prep"
      ],
      "execution_count": 15,
      "outputs": []
    },
    {
      "cell_type": "markdown",
      "metadata": {
        "id": "RIjr5pg2IDe_",
        "colab_type": "text"
      },
      "source": [
        "# Load and Split Data"
      ]
    },
    {
      "cell_type": "code",
      "metadata": {
        "id": "dI6PIqC-IAMv",
        "colab_type": "code",
        "colab": {
          "base_uri": "https://localhost:8080/",
          "height": 0
        },
        "outputId": "a1b438ed-3cfa-4795-94f2-3028aa0b3fe5"
      },
      "source": [
        "with open(BASE_DIR + 'X_data_3_days.pkl', 'rb') as f:\n",
        "  X = pickle.load(f)\n",
        "  print(f'Loaded X. {X.shape}')\n",
        "\n",
        "with open(BASE_DIR + 'y_data_3_days.pkl', 'rb') as f:\n",
        "  y = pickle.load(f)\n",
        "  print(f'Loaded y. {y.shape}')"
      ],
      "execution_count": 16,
      "outputs": [
        {
          "output_type": "stream",
          "text": [
            "Loaded X. (2185776, 21)\n",
            "Loaded y. (2185776, 4)\n"
          ],
          "name": "stdout"
        }
      ]
    },
    {
      "cell_type": "code",
      "metadata": {
        "id": "n6g1HtnhIFN9",
        "colab_type": "code",
        "colab": {
          "base_uri": "https://localhost:8080/",
          "height": 0
        },
        "outputId": "0f877184-5b39-4063-e7a3-c0d50c6b4d0e"
      },
      "source": [
        "X_train, X_test, y_train, y_test = train_test_split(X, y, test_size=0.2, random_state=42)\n",
        "del X\n",
        "del y\n",
        "print(f\"train: {X_train.shape} {y_train.shape}\")\n",
        "print(f\"test: {X_test.shape} {y_test.shape}\")"
      ],
      "execution_count": 17,
      "outputs": [
        {
          "output_type": "stream",
          "text": [
            "train: (1748620, 21) (1748620, 4)\n",
            "test: (437156, 21) (437156, 4)\n"
          ],
          "name": "stdout"
        }
      ]
    },
    {
      "cell_type": "markdown",
      "metadata": {
        "id": "HDR119ZZVsu7",
        "colab_type": "text"
      },
      "source": [
        "# Under Sampling"
      ]
    },
    {
      "cell_type": "code",
      "metadata": {
        "id": "GmvzXw4CVuqu",
        "colab_type": "code",
        "colab": {
          "base_uri": "https://localhost:8080/",
          "height": 34
        },
        "outputId": "3dedfc3b-e708-4ce4-d08c-67972cda3f93"
      },
      "source": [
        "from imblearn.under_sampling import RandomUnderSampler\n",
        "\n",
        "rus_dict = {0: 45000}\n",
        "rus = RandomUnderSampler(rus_dict, random_state=42)\n",
        "X_res, y_res = rus.fit_sample(X_train, y_train)\n",
        "print(X_res.shape, y_res.shape)"
      ],
      "execution_count": 18,
      "outputs": [
        {
          "output_type": "stream",
          "text": [
            "(98857, 21) (98857, 4)\n"
          ],
          "name": "stdout"
        }
      ]
    },
    {
      "cell_type": "code",
      "metadata": {
        "id": "Cd04VIqAXkFg",
        "colab_type": "code",
        "colab": {
          "base_uri": "https://localhost:8080/",
          "height": 51
        },
        "outputId": "c3a1d7eb-dea3-4222-d045-d2a1b9cb5fe2"
      },
      "source": [
        "from collections import Counter\n",
        "print(\"original: \", Counter(np.argmax(y_train, axis=1)))\n",
        "print(\"SMOTE: \", Counter(np.argmax(y_res, axis=1)))"
      ],
      "execution_count": 19,
      "outputs": [
        {
          "output_type": "stream",
          "text": [
            "original:  Counter({0: 1694763, 1: 46205, 3: 3961, 2: 3691})\n",
            "SMOTE:  Counter({1: 46205, 0: 45000, 3: 3961, 2: 3691})\n"
          ],
          "name": "stdout"
        }
      ]
    },
    {
      "cell_type": "markdown",
      "metadata": {
        "id": "R9KIn3wFzhL-",
        "colab_type": "text"
      },
      "source": [
        "# Random Forest"
      ]
    },
    {
      "cell_type": "code",
      "metadata": {
        "id": "IJI9L3fuzkFi",
        "colab_type": "code",
        "colab": {}
      },
      "source": [
        "# Random Forest Hyperparameters\n",
        "n_estimators = 150\n",
        "max_depth = 15\n",
        "bootstrap = True\n",
        "criterion = 'entropy'\n",
        "class_weight = 'balanced_subsample'\n",
        "random_state = 42\n",
        "n_job = -1"
      ],
      "execution_count": 20,
      "outputs": []
    },
    {
      "cell_type": "code",
      "metadata": {
        "id": "x0c8B9NNzrU7",
        "colab_type": "code",
        "colab": {
          "base_uri": "https://localhost:8080/",
          "height": 1000
        },
        "outputId": "b9357531-df28-41ec-e496-d2c61966287e"
      },
      "source": [
        "rfc = RandomForestClassifier(n_estimators=n_estimators, bootstrap=bootstrap, criterion=criterion,\n",
        "                                  max_depth=max_depth, oob_score=False, verbose=2,\n",
        "                                  class_weight=class_weight, random_state=random_state, n_jobs=n_job)\n",
        "\n",
        "rfc.fit(X_res, y_res)"
      ],
      "execution_count": 21,
      "outputs": [
        {
          "output_type": "stream",
          "text": [
            "building tree 1 of 150building tree 2 of 150\n",
            "\n"
          ],
          "name": "stdout"
        },
        {
          "output_type": "stream",
          "text": [
            "[Parallel(n_jobs=-1)]: Using backend ThreadingBackend with 2 concurrent workers.\n"
          ],
          "name": "stderr"
        },
        {
          "output_type": "stream",
          "text": [
            "building tree 3 of 150\n",
            "building tree 4 of 150\n",
            "building tree 5 of 150\n",
            "building tree 6 of 150\n",
            "building tree 7 of 150\n",
            "building tree 8 of 150\n",
            "building tree 9 of 150\n",
            "building tree 10 of 150\n",
            "building tree 11 of 150\n",
            "building tree 12 of 150\n",
            "building tree 13 of 150\n",
            "building tree 14 of 150\n",
            "building tree 15 of 150\n",
            "building tree 16 of 150\n",
            "building tree 17 of 150\n",
            "building tree 18 of 150\n",
            "building tree 19 of 150\n",
            "building tree 20 of 150\n",
            "building tree 21 of 150\n",
            "building tree 22 of 150\n",
            "building tree 23 of 150\n",
            "building tree 24 of 150\n",
            "building tree 25 of 150\n",
            "building tree 26 of 150\n",
            "building tree 27 of 150\n",
            "building tree 28 of 150\n",
            "building tree 29 of 150\n",
            "building tree 30 of 150\n",
            "building tree 31 of 150\n",
            "building tree 32 of 150\n",
            "building tree 33 of 150\n",
            "building tree 34 of 150\n",
            "building tree 35 of 150\n",
            "building tree 36 of 150\n",
            "building tree 37 of 150\n",
            "building tree 38 of 150\n"
          ],
          "name": "stdout"
        },
        {
          "output_type": "stream",
          "text": [
            "[Parallel(n_jobs=-1)]: Done  37 tasks      | elapsed:   53.4s\n"
          ],
          "name": "stderr"
        },
        {
          "output_type": "stream",
          "text": [
            "building tree 39 of 150\n",
            "building tree 40 of 150\n",
            "building tree 41 of 150\n",
            "building tree 42 of 150\n",
            "building tree 43 of 150\n",
            "building tree 44 of 150\n",
            "building tree 45 of 150\n",
            "building tree 46 of 150\n",
            "building tree 47 of 150\n",
            "building tree 48 of 150\n",
            "building tree 49 of 150\n",
            "building tree 50 of 150\n",
            "building tree 51 of 150\n",
            "building tree 52 of 150\n",
            "building tree 53 of 150\n",
            "building tree 54 of 150\n",
            "building tree 55 of 150\n",
            "building tree 56 of 150\n",
            "building tree 57 of 150\n",
            "building tree 58 of 150\n",
            "building tree 59 of 150\n",
            "building tree 60 of 150\n",
            "building tree 61 of 150\n",
            "building tree 62 of 150\n",
            "building tree 63 of 150\n",
            "building tree 64 of 150\n",
            "building tree 65 of 150\n",
            "building tree 66 of 150\n",
            "building tree 67 of 150\n",
            "building tree 68 of 150\n",
            "building tree 69 of 150\n",
            "building tree 70 of 150\n",
            "building tree 71 of 150\n",
            "building tree 72 of 150\n",
            "building tree 73 of 150\n",
            "building tree 74 of 150\n",
            "building tree 75 of 150\n",
            "building tree 76 of 150\n",
            "building tree 77 of 150\n",
            "building tree 78 of 150\n",
            "building tree 79 of 150\n",
            "building tree 80 of 150\n",
            "building tree 81 of 150\n",
            "building tree 82 of 150\n",
            "building tree 83 of 150\n",
            "building tree 84 of 150\n",
            "building tree 85 of 150\n",
            "building tree 86 of 150\n",
            "building tree 87 of 150\n",
            "building tree 88 of 150\n",
            "building tree 89 of 150\n",
            "building tree 90 of 150\n",
            "building tree 91 of 150\n",
            "building tree 92 of 150\n",
            "building tree 93 of 150\n",
            "building tree 94 of 150\n",
            "building tree 95 of 150\n",
            "building tree 96 of 150\n",
            "building tree 97 of 150\n",
            "building tree 98 of 150\n",
            "building tree 99 of 150\n",
            "building tree 100 of 150\n",
            "building tree 101 of 150\n",
            "building tree 102 of 150\n",
            "building tree 103 of 150\n",
            "building tree 104 of 150\n",
            "building tree 105 of 150\n",
            "building tree 106 of 150\n",
            "building tree 107 of 150\n",
            "building tree 108 of 150\n",
            "building tree 109 of 150\n",
            "building tree 110 of 150\n",
            "building tree 111 of 150\n",
            "building tree 112 of 150\n",
            "building tree 113 of 150\n",
            "building tree 114 of 150\n",
            "building tree 115 of 150\n",
            "building tree 116 of 150\n",
            "building tree 117 of 150\n",
            "building tree 118 of 150\n",
            "building tree 119 of 150\n",
            "building tree 120 of 150\n",
            "building tree 121 of 150\n",
            "building tree 122 of 150\n",
            "building tree 123 of 150\n",
            "building tree 124 of 150\n",
            "building tree 125 of 150\n",
            "building tree 126 of 150\n",
            "building tree 127 of 150\n",
            "building tree 128 of 150\n",
            "building tree 129 of 150\n",
            "building tree 130 of 150\n",
            "building tree 131 of 150\n",
            "building tree 132 of 150\n",
            "building tree 133 of 150\n",
            "building tree 134 of 150\n",
            "building tree 135 of 150\n",
            "building tree 136 of 150\n",
            "building tree 137 of 150\n",
            "building tree 138 of 150\n",
            "building tree 139 of 150\n",
            "building tree 140 of 150\n",
            "building tree 141 of 150\n",
            "building tree 142 of 150\n",
            "building tree 143 of 150\n",
            "building tree 144 of 150\n",
            "building tree 145 of 150\n",
            "building tree 146 of 150\n",
            "building tree 147 of 150\n",
            "building tree 148 of 150\n",
            "building tree 149 of 150\n",
            "building tree 150 of 150\n"
          ],
          "name": "stdout"
        },
        {
          "output_type": "stream",
          "text": [
            "[Parallel(n_jobs=-1)]: Done 150 out of 150 | elapsed:  3.5min finished\n"
          ],
          "name": "stderr"
        },
        {
          "output_type": "execute_result",
          "data": {
            "text/plain": [
              "RandomForestClassifier(bootstrap=True, ccp_alpha=0.0,\n",
              "                       class_weight='balanced_subsample', criterion='entropy',\n",
              "                       max_depth=15, max_features='auto', max_leaf_nodes=None,\n",
              "                       max_samples=None, min_impurity_decrease=0.0,\n",
              "                       min_impurity_split=None, min_samples_leaf=1,\n",
              "                       min_samples_split=2, min_weight_fraction_leaf=0.0,\n",
              "                       n_estimators=150, n_jobs=-1, oob_score=False,\n",
              "                       random_state=42, verbose=2, warm_start=False)"
            ]
          },
          "metadata": {
            "tags": []
          },
          "execution_count": 21
        }
      ]
    },
    {
      "cell_type": "markdown",
      "metadata": {
        "id": "7ZzkKvdsz4ay",
        "colab_type": "text"
      },
      "source": [
        "## Save and Load Model"
      ]
    },
    {
      "cell_type": "code",
      "metadata": {
        "id": "RjQgBR6Wz54D",
        "colab_type": "code",
        "colab": {
          "base_uri": "https://localhost:8080/",
          "height": 34
        },
        "outputId": "232e648c-9f14-405b-9d82-8dcee128d05c"
      },
      "source": [
        "# save trained model\n",
        "joblib.dump(rfc, BASE_DIR + 'random_forest_with_class_weights_3_days.model')"
      ],
      "execution_count": 22,
      "outputs": [
        {
          "output_type": "execute_result",
          "data": {
            "text/plain": [
              "['/content/drive/My Drive/data/NASA_2020/random_forest_with_class_weights_3_days.model']"
            ]
          },
          "metadata": {
            "tags": []
          },
          "execution_count": 22
        }
      ]
    },
    {
      "cell_type": "code",
      "metadata": {
        "id": "t3RHogPtz9Fm",
        "colab_type": "code",
        "colab": {}
      },
      "source": [
        "# load existing model\n",
        "rfc = joblib.load(BASE_DIR + 'random_forest_with_class_weights_3_days.model')"
      ],
      "execution_count": 23,
      "outputs": []
    },
    {
      "cell_type": "code",
      "metadata": {
        "id": "TORUp_354PIm",
        "colab_type": "code",
        "colab": {
          "base_uri": "https://localhost:8080/",
          "height": 68
        },
        "outputId": "403dd164-5b7d-43e2-805a-cffc490feb1f"
      },
      "source": [
        "y_pred = rfc.predict(X_test)"
      ],
      "execution_count": 24,
      "outputs": [
        {
          "output_type": "stream",
          "text": [
            "[Parallel(n_jobs=2)]: Using backend ThreadingBackend with 2 concurrent workers.\n",
            "[Parallel(n_jobs=2)]: Done  37 tasks      | elapsed:    5.2s\n",
            "[Parallel(n_jobs=2)]: Done 150 out of 150 | elapsed:   20.0s finished\n"
          ],
          "name": "stderr"
        }
      ]
    },
    {
      "cell_type": "code",
      "metadata": {
        "id": "8Be3dadO4-bm",
        "colab_type": "code",
        "colab": {
          "base_uri": "https://localhost:8080/",
          "height": 136
        },
        "outputId": "ce23a7c0-68ac-4acf-fd5c-a3362fc7bdba"
      },
      "source": [
        "y_pred"
      ],
      "execution_count": 25,
      "outputs": [
        {
          "output_type": "execute_result",
          "data": {
            "text/plain": [
              "array([[1, 0, 0, 0],\n",
              "       [0, 1, 0, 0],\n",
              "       [1, 0, 0, 0],\n",
              "       ...,\n",
              "       [1, 0, 0, 0],\n",
              "       [1, 0, 0, 0],\n",
              "       [1, 0, 0, 0]])"
            ]
          },
          "metadata": {
            "tags": []
          },
          "execution_count": 25
        }
      ]
    },
    {
      "cell_type": "code",
      "metadata": {
        "id": "nxpDEIwi5AoT",
        "colab_type": "code",
        "colab": {
          "base_uri": "https://localhost:8080/",
          "height": 68
        },
        "outputId": "a588464a-ec54-4ea4-e4eb-6202db283fae"
      },
      "source": [
        "y_probs = rfc.predict_proba(X_test)"
      ],
      "execution_count": 26,
      "outputs": [
        {
          "output_type": "stream",
          "text": [
            "[Parallel(n_jobs=2)]: Using backend ThreadingBackend with 2 concurrent workers.\n",
            "[Parallel(n_jobs=2)]: Done  37 tasks      | elapsed:    4.9s\n",
            "[Parallel(n_jobs=2)]: Done 150 out of 150 | elapsed:   19.5s finished\n"
          ],
          "name": "stderr"
        }
      ]
    },
    {
      "cell_type": "code",
      "metadata": {
        "id": "W85SHelt5Ec2",
        "colab_type": "code",
        "colab": {
          "base_uri": "https://localhost:8080/",
          "height": 221
        },
        "outputId": "c95202b4-7423-4b0a-a3d8-15fc6d1963ba"
      },
      "source": [
        "print(y_probs[0][:, 1])\n",
        "print(y_probs[1][:, 1])\n",
        "print(y_probs[2][:, 1])\n",
        "print(y_probs[3][:, 1])\n",
        "print(\"-\"*30)\n",
        "y_pred_probs = np.transpose(np.array([y_probs[0][:, 1], y_probs[1][:, 1], y_probs[2][:, 1], y_probs[3][:, 1]]))\n",
        "print(y_pred_probs)"
      ],
      "execution_count": 27,
      "outputs": [
        {
          "output_type": "stream",
          "text": [
            "[0.93411866 0.05764063 0.75572281 ... 0.98632803 1.         0.91330661]\n",
            "[0.04625478 0.80387073 0.13632649 ... 0.01367197 0.         0.04260444]\n",
            "[0.01295989 0.03328843 0.06971382 ... 0.         0.         0.00760849]\n",
            "[0.00666667 0.10520021 0.03823688 ... 0.         0.         0.03648045]\n",
            "------------------------------\n",
            "[[0.93411866 0.04625478 0.01295989 0.00666667]\n",
            " [0.05764063 0.80387073 0.03328843 0.10520021]\n",
            " [0.75572281 0.13632649 0.06971382 0.03823688]\n",
            " ...\n",
            " [0.98632803 0.01367197 0.         0.        ]\n",
            " [1.         0.         0.         0.        ]\n",
            " [0.91330661 0.04260444 0.00760849 0.03648045]]\n"
          ],
          "name": "stdout"
        }
      ]
    },
    {
      "cell_type": "markdown",
      "metadata": {
        "id": "kAuLaNhZ4W-o",
        "colab_type": "text"
      },
      "source": [
        "## Confusion Matrix"
      ]
    },
    {
      "cell_type": "code",
      "metadata": {
        "id": "ilGU_H8b2eWU",
        "colab_type": "code",
        "colab": {}
      },
      "source": [
        "def plot_confusion_matrix(cm,\n",
        "                          target_names,\n",
        "                          title='Confusion matrix',\n",
        "                          cmap=None,\n",
        "                          normalize=True):\n",
        "    \"\"\"\n",
        "    given a sklearn confusion matrix (cm), make a nice plot\n",
        "\n",
        "    Arguments\n",
        "    ---------\n",
        "    cm:           confusion matrix from sklearn.metrics.confusion_matrix\n",
        "\n",
        "    target_names: given classification classes such as [0, 1, 2]\n",
        "                  the class names, for example: ['high', 'medium', 'low']\n",
        "\n",
        "    title:        the text to display at the top of the matrix\n",
        "\n",
        "    cmap:         the gradient of the values displayed from matplotlib.pyplot.cm\n",
        "                  see http://matplotlib.org/examples/color/colormaps_reference.html\n",
        "                  plt.get_cmap('jet') or plt.cm.Blues\n",
        "\n",
        "    normalize:    If False, plot the raw numbers\n",
        "                  If True, plot the proportions\n",
        "\n",
        "    Usage\n",
        "    -----\n",
        "    plot_confusion_matrix(cm           = cm,                  # confusion matrix created by\n",
        "                                                              # sklearn.metrics.confusion_matrix\n",
        "                          normalize    = True,                # show proportions\n",
        "                          target_names = y_labels_vals,       # list of names of the classes\n",
        "                          title        = best_estimator_name) # title of graph\n",
        "\n",
        "    Citiation\n",
        "    ---------\n",
        "    http://scikit-learn.org/stable/auto_examples/model_selection/plot_confusion_matrix.html\n",
        "\n",
        "    \"\"\"\n",
        "    import matplotlib.pyplot as plt\n",
        "    import numpy as np\n",
        "    import itertools\n",
        "\n",
        "    accuracy = np.trace(cm) / float(np.sum(cm))\n",
        "    misclass = 1 - accuracy\n",
        "\n",
        "    if cmap is None:\n",
        "        cmap = plt.get_cmap('Blues')\n",
        "\n",
        "    plt.figure(figsize=(8, 6))\n",
        "    plt.imshow(cm, interpolation='nearest', cmap=cmap)\n",
        "    plt.title(title)\n",
        "    plt.colorbar()\n",
        "\n",
        "    if target_names is not None:\n",
        "        tick_marks = np.arange(len(target_names))\n",
        "        plt.xticks(tick_marks, target_names, rotation=45)\n",
        "        plt.yticks(tick_marks, target_names)\n",
        "\n",
        "    if normalize:\n",
        "        cm = cm.astype('float') / cm.sum(axis=1)[:, np.newaxis]\n",
        "\n",
        "\n",
        "    thresh = cm.max() / 1.5 if normalize else cm.max() / 2\n",
        "    for i, j in itertools.product(range(cm.shape[0]), range(cm.shape[1])):\n",
        "        if normalize:\n",
        "            plt.text(j, i, \"{:0.4f}\".format(cm[i, j]),\n",
        "                     horizontalalignment=\"center\",\n",
        "                     color=\"white\" if cm[i, j] > thresh else \"black\")\n",
        "        else:\n",
        "            plt.text(j, i, \"{:,}\".format(cm[i, j]),\n",
        "                     horizontalalignment=\"center\",\n",
        "                     color=\"white\" if cm[i, j] > thresh else \"black\")\n",
        "\n",
        "\n",
        "    plt.tight_layout()\n",
        "    plt.ylabel('True label')\n",
        "    plt.xlabel('Predicted label\\naccuracy={:0.4f}; misclass={:0.4f}'.format(accuracy, misclass))\n",
        "    plt.show()"
      ],
      "execution_count": 28,
      "outputs": []
    },
    {
      "cell_type": "code",
      "metadata": {
        "id": "zdNdMg6P4cmP",
        "colab_type": "code",
        "colab": {
          "base_uri": "https://localhost:8080/",
          "height": 467
        },
        "outputId": "2af15db2-445d-4599-c932-7534d5cfa912"
      },
      "source": [
        "from sklearn.metrics import confusion_matrix\n",
        "conf_mat = confusion_matrix(np.argmax(y_test, axis=1), np.argmax(y_pred, axis=1))\n",
        "\n",
        "plot_confusion_matrix(cm           = conf_mat, \n",
        "                      normalize    = False,\n",
        "                      target_names = ['No Precipitation', 'Stratiform', 'Convective', 'Other'],\n",
        "                      title        = \"Confusion Matrix\")"
      ],
      "execution_count": 29,
      "outputs": [
        {
          "output_type": "display_data",
          "data": {
            "image/png": "[encoded data removed]",
            "text/plain": [
              "<Figure size 576x432 with 2 Axes>"
            ]
          },
          "metadata": {
            "tags": [],
            "needs_background": "light"
          }
        }
      ]
    },
    {
      "cell_type": "markdown",
      "metadata": {
        "id": "Yxc6P_H24iXt",
        "colab_type": "text"
      },
      "source": [
        "## ROC Curves"
      ]
    },
    {
      "cell_type": "code",
      "metadata": {
        "id": "x7n6DBsy2jPY",
        "colab_type": "code",
        "colab": {}
      },
      "source": [
        "from sklearn.metrics import roc_auc_score, roc_curve\n",
        "\n",
        "def get_roc_curve(labels, y_true, y_pred):\n",
        "    auc_roc_vals = []\n",
        "    for i in range(len(labels)):\n",
        "        try:\n",
        "            gt = y_true[:, i]\n",
        "            pred = y_pred[:, i]\n",
        "            auc_roc = roc_auc_score(gt, pred)\n",
        "            auc_roc_vals.append(auc_roc)\n",
        "            fpr_rf, tpr_rf, _ = roc_curve(gt, pred)\n",
        "            plt.figure(1, figsize=(10, 10))\n",
        "            plt.plot([0, 1], [0, 1], 'k--')\n",
        "            plt.plot(fpr_rf, tpr_rf,\n",
        "                     label=labels[i] + \" (\" + str(round(auc_roc, 3)) + \")\")\n",
        "            plt.xlabel('False positive rate')\n",
        "            plt.ylabel('True positive rate')\n",
        "            plt.title('ROC curve')\n",
        "            plt.legend(loc='best')\n",
        "        except:\n",
        "            print(\n",
        "                f\"Error in generating ROC curve for {labels[i]}. \"\n",
        "                f\"Dataset lacks enough examples.\"\n",
        "            )\n",
        "    plt.show()\n",
        "    return auc_roc_vals"
      ],
      "execution_count": 30,
      "outputs": []
    },
    {
      "cell_type": "code",
      "metadata": {
        "id": "o78GqIgn4hUT",
        "colab_type": "code",
        "colab": {
          "base_uri": "https://localhost:8080/",
          "height": 621
        },
        "outputId": "5279c705-9247-4996-995f-9130e26fa9ad"
      },
      "source": [
        "auc_rocs = get_roc_curve(['No Precipitation', 'Stratiform', 'Convective', 'Other'], y_test, y_pred_probs)"
      ],
      "execution_count": 31,
      "outputs": [
        {
          "output_type": "display_data",
          "data": {
            "image/png": "[encoded data removed]",
            "text/plain": [
              "<Figure size 720x720 with 1 Axes>"
            ]
          },
          "metadata": {
            "tags": [],
            "needs_background": "light"
          }
        }
      ]
    },
    {
      "cell_type": "code",
      "metadata": {
        "id": "CT2GzKo9MH8N",
        "colab_type": "code",
        "colab": {
          "base_uri": "https://localhost:8080/",
          "height": 602
        },
        "outputId": "468aaf41-0a22-41a3-ac02-5713633090f9"
      },
      "source": [
        "feature_names = np.array(['lat', 'lon',\t'ts',\t'clwp',\t'twv', 'PD_10.65',\t'PD_89.00',\t'PD_166.0', 'tc_0', 'tc_1',\t'tc_2', 'tc_3', 'tc_4',\t'tc_5',\t'tc_6',\t'tc_7',\t'tc_8',\t'tc_9',\t'tc_10', 'tc_11', 'tc_12'])\n",
        "print(len(feature_names))\n",
        "tree_importance_sorted_idx = np.argsort(rfc.feature_importances_)\n",
        "tree_indices = np.arange(0, len(rfc.feature_importances_)) + 0.5\n",
        "fig, (ax1) = plt.subplots(1, 1, figsize=(12, 8))\n",
        "ax1.barh(tree_indices,\n",
        "         rfc.feature_importances_[tree_importance_sorted_idx], height=0.7)\n",
        "ax1.set_yticklabels(feature_names[tree_importance_sorted_idx])\n",
        "ax1.set_yticks(tree_indices)\n",
        "ax1.set_ylim((0, len(rfc.feature_importances_)))\n",
        "plt.title('Feature Importances')\n",
        "fig.tight_layout()\n",
        "plt.show()"
      ],
      "execution_count": 32,
      "outputs": [
        {
          "output_type": "stream",
          "text": [
            "21\n"
          ],
          "name": "stdout"
        },
        {
          "output_type": "display_data",
          "data": {
            "image/png": "[encoded data removed]",
            "text/plain": [
              "<Figure size 864x576 with 1 Axes>"
            ]
          },
          "metadata": {
            "tags": [],
            "needs_background": "light"
          }
        }
      ]
    },
    {
      "cell_type": "markdown",
      "metadata": {
        "id": "N7lGurQwaTNK",
        "colab_type": "text"
      },
      "source": [
        "# Make Predictions (Squall Line case)"
      ]
    },
    {
      "cell_type": "markdown",
      "metadata": {
        "id": "suivecWe8mkB",
        "colab_type": "text"
      },
      "source": [
        "## Read and Prepare Data (20170606)"
      ]
    },
    {
      "cell_type": "code",
      "metadata": {
        "id": "vA81N_evbaxK",
        "colab_type": "code",
        "colab": {
          "base_uri": "https://localhost:8080/",
          "height": 680
        },
        "outputId": "bd160226-bafe-4e65-fbad-f79473736bfb"
      },
      "source": [
        "FILE_PATH = BASE_DIR + 'colloc_Precipflag_DPR_GMI_20170606.sav'\n",
        "data = scipy.io.readsav(FILE_PATH, verbose=1)\n",
        "for var, arr in data.items():\n",
        "  print(f\"{var}: {arr.shape}\")"
      ],
      "execution_count": 33,
      "outputs": [
        {
          "output_type": "stream",
          "text": [
            "--------------------------------------------------\n",
            "Date: Fri Jun 26 14:43:54 2020\n",
            "User: jgong\n",
            "Host: gs613-cirrus.ndc.nasa.gov\n",
            "--------------------------------------------------\n",
            "Format: 12\n",
            "Architecture: x86_64\n",
            "Operating System: linux\n",
            "IDL Version: 8.7.3\n",
            "--------------------------------------------------\n",
            "Successfully read 14 records of which:\n",
            " - 11 are of type VARIABLE\n",
            " - 1 are of type VERSION\n",
            " - 1 are of type TIMESTAMP\n",
            "--------------------------------------------------\n",
            "Available variables:\n",
            " - tc [<class 'numpy.ndarray'>]\n",
            " - latc [<class 'numpy.ndarray'>]\n",
            " - lonc [<class 'numpy.ndarray'>]\n",
            " - utc [<class 'numpy.ndarray'>]\n",
            " - emis [<class 'numpy.ndarray'>]\n",
            " - emis_std [<class 'numpy.ndarray'>]\n",
            " - ts [<class 'numpy.ndarray'>]\n",
            " - clwp [<class 'numpy.ndarray'>]\n",
            " - twv [<class 'numpy.ndarray'>]\n",
            " - tysfc [<class 'numpy.ndarray'>]\n",
            " - pflag [<class 'numpy.ndarray'>]\n",
            "--------------------------------------------------\n",
            "tc: (44425, 221, 13)\n",
            "latc: (44425, 221)\n",
            "lonc: (44425, 221)\n",
            "utc: (44425,)\n",
            "emis: (44425, 221, 13)\n",
            "emis_std: (44425, 221, 13)\n",
            "ts: (44425, 221)\n",
            "clwp: (44425, 221)\n",
            "twv: (44425, 221)\n",
            "tysfc: (44425, 221)\n",
            "pflag: (44425, 221)\n"
          ],
          "name": "stdout"
        }
      ]
    },
    {
      "cell_type": "code",
      "metadata": {
        "id": "mxefFzTvfw1e",
        "colab_type": "code",
        "colab": {
          "base_uri": "https://localhost:8080/",
          "height": 34
        },
        "outputId": "7eb1ac78-9113-4a62-c939-92cdb8882f05"
      },
      "source": [
        "# calculate polarization differences (PD)\n",
        "def add_to_PD(freq, ind1, ind2, data):\n",
        "  PD[freq] = data['tc'][:, :, ind1] - data['tc'][:, :, ind2]\n",
        "\n",
        "PD = {}\n",
        "add_to_PD('10.65', 0, 1, data)\n",
        "add_to_PD('18.70', 2, 3, data)\n",
        "add_to_PD('36.50', 5, 6, data)\n",
        "add_to_PD('89.00', 7, 8, data)\n",
        "add_to_PD('166.0', 9, 10, data)\n",
        "print(PD.keys())"
      ],
      "execution_count": 34,
      "outputs": [
        {
          "output_type": "stream",
          "text": [
            "dict_keys(['10.65', '18.70', '36.50', '89.00', '166.0'])\n"
          ],
          "name": "stdout"
        }
      ]
    },
    {
      "cell_type": "code",
      "metadata": {
        "id": "KP3APukSWoM4",
        "colab_type": "code",
        "colab": {}
      },
      "source": [
        "def create_pred_df(lat_bounds, lon_bounds, epsilon=0.0):\n",
        "  col_names = ['lat', 'lon', 'ts', 'clwp', 'twv', 'PD_10.65', 'PD_89.00', 'PD_166.0'] + [f'tc_{i}' for i in range(data['tc'].shape[2])]\n",
        "  data_df = pd.DataFrame(columns=col_names)\n",
        "  y_df = pd.DataFrame(columns=['pflag'])\n",
        "  counter = 0\n",
        "  for idx in np.ndindex(data['latc'].shape):\n",
        "    if (lat_bounds[0] - epsilon <= data['latc'][idx] <= lat_bounds[1] + epsilon) and (lon_bounds[0] - epsilon <= data['lonc'][idx] <= lon_bounds[1] + epsilon):\n",
        "      data_dict = {}\n",
        "      data_dict['lat'] = data['latc'][idx]\n",
        "      data_dict['lon'] = data['lonc'][idx]\n",
        "      data_dict['ts'] = data['ts'][idx]\n",
        "      data_dict['clwp'] = data['clwp'][idx]\n",
        "      data_dict['twv'] = data['twv'][idx]\n",
        "      data_dict['PD_10.65'] = PD['10.65'][idx]\n",
        "      data_dict['PD_89.00'] = PD['89.00'][idx]\n",
        "      data_dict['PD_166.0'] = PD['166.0'][idx]\n",
        "\n",
        "      for i in range(data['tc'].shape[2]):\n",
        "        data_dict[f'tc_{i}'] = data['tc'][idx][i]\n",
        "      \n",
        "      data_df = data_df.append(data_dict, ignore_index=True)\n",
        "      y_df = y_df.append({'pflag': data['pflag'][idx]}, ignore_index=True)\n",
        "      counter += 1\n",
        "  print(counter)\n",
        "  return data_df, y_df"
      ],
      "execution_count": 35,
      "outputs": []
    },
    {
      "cell_type": "code",
      "metadata": {
        "id": "qB4hyNeIbtyW",
        "colab_type": "code",
        "colab": {}
      },
      "source": [
        "latitude_bounds = [14.2, 18.0]\n",
        "longitude_bounds = [-5.0, -2.1]"
      ],
      "execution_count": 36,
      "outputs": []
    },
    {
      "cell_type": "code",
      "metadata": {
        "id": "eFX1AEFHb81P",
        "colab_type": "code",
        "colab": {
          "base_uri": "https://localhost:8080/",
          "height": 34
        },
        "outputId": "ab3ecaf3-dadf-43c7-e1b9-291cef8c1f77"
      },
      "source": [
        "X_df, y_df = create_pred_df(latitude_bounds, longitude_bounds, epsilon=5.0)\n",
        "del data"
      ],
      "execution_count": 37,
      "outputs": [
        {
          "output_type": "stream",
          "text": [
            "30537\n"
          ],
          "name": "stdout"
        }
      ]
    },
    {
      "cell_type": "code",
      "metadata": {
        "id": "gfNUumtX-Nmy",
        "colab_type": "code",
        "colab": {
          "base_uri": "https://localhost:8080/",
          "height": 51
        },
        "outputId": "177a2980-3d3d-487f-c0f5-7c8efd4c313a"
      },
      "source": [
        "print(X_df.shape)\n",
        "print(y_df.shape)\n",
        "y_df = y_df[(~np.isnan(X_df['twv']))]\n",
        "X_df = X_df[(~np.isnan(X_df['twv']))]"
      ],
      "execution_count": 38,
      "outputs": [
        {
          "output_type": "stream",
          "text": [
            "(30537, 21)\n",
            "(30537, 1)\n"
          ],
          "name": "stdout"
        }
      ]
    },
    {
      "cell_type": "code",
      "metadata": {
        "id": "QgQ4XW20teBA",
        "colab_type": "code",
        "colab": {
          "base_uri": "https://localhost:8080/",
          "height": 204
        },
        "outputId": "53f11b0e-0072-4370-9a1c-e10413e7ec9d"
      },
      "source": [
        "X_df.head()"
      ],
      "execution_count": 39,
      "outputs": [
        {
          "output_type": "execute_result",
          "data": {
            "text/html": [
              "<div>\n",
              "<style scoped>\n",
              "    .dataframe tbody tr th:only-of-type {\n",
              "        vertical-align: middle;\n",
              "    }\n",
              "\n",
              "    .dataframe tbody tr th {\n",
              "        vertical-align: top;\n",
              "    }\n",
              "\n",
              "    .dataframe thead th {\n",
              "        text-align: right;\n",
              "    }\n",
              "</style>\n",
              "<table border=\"1\" class=\"dataframe\">\n",
              "  <thead>\n",
              "    <tr style=\"text-align: right;\">\n",
              "      <th></th>\n",
              "      <th>lat</th>\n",
              "      <th>lon</th>\n",
              "      <th>ts</th>\n",
              "      <th>clwp</th>\n",
              "      <th>twv</th>\n",
              "      <th>PD_10.65</th>\n",
              "      <th>PD_89.00</th>\n",
              "      <th>PD_166.0</th>\n",
              "      <th>tc_0</th>\n",
              "      <th>tc_1</th>\n",
              "      <th>tc_2</th>\n",
              "      <th>tc_3</th>\n",
              "      <th>tc_4</th>\n",
              "      <th>tc_5</th>\n",
              "      <th>tc_6</th>\n",
              "      <th>tc_7</th>\n",
              "      <th>tc_8</th>\n",
              "      <th>tc_9</th>\n",
              "      <th>tc_10</th>\n",
              "      <th>tc_11</th>\n",
              "      <th>tc_12</th>\n",
              "    </tr>\n",
              "  </thead>\n",
              "  <tbody>\n",
              "    <tr>\n",
              "      <th>0</th>\n",
              "      <td>9.245695</td>\n",
              "      <td>-8.154333</td>\n",
              "      <td>295.700745</td>\n",
              "      <td>0.030067</td>\n",
              "      <td>42.947613</td>\n",
              "      <td>4.769989</td>\n",
              "      <td>0.500000</td>\n",
              "      <td>-1.110016</td>\n",
              "      <td>280.429993</td>\n",
              "      <td>275.660004</td>\n",
              "      <td>281.179993</td>\n",
              "      <td>279.079987</td>\n",
              "      <td>284.190002</td>\n",
              "      <td>280.160004</td>\n",
              "      <td>279.119995</td>\n",
              "      <td>287.119995</td>\n",
              "      <td>286.619995</td>\n",
              "      <td>281.959991</td>\n",
              "      <td>283.070007</td>\n",
              "      <td>262.329987</td>\n",
              "      <td>273.390015</td>\n",
              "    </tr>\n",
              "    <tr>\n",
              "      <th>1</th>\n",
              "      <td>9.201105</td>\n",
              "      <td>-8.162495</td>\n",
              "      <td>295.606171</td>\n",
              "      <td>0.030496</td>\n",
              "      <td>43.775436</td>\n",
              "      <td>4.299988</td>\n",
              "      <td>0.609985</td>\n",
              "      <td>-1.599976</td>\n",
              "      <td>279.609985</td>\n",
              "      <td>275.309998</td>\n",
              "      <td>279.760010</td>\n",
              "      <td>277.609985</td>\n",
              "      <td>284.429993</td>\n",
              "      <td>280.559998</td>\n",
              "      <td>278.170013</td>\n",
              "      <td>286.649994</td>\n",
              "      <td>286.040009</td>\n",
              "      <td>281.730011</td>\n",
              "      <td>283.329987</td>\n",
              "      <td>262.679993</td>\n",
              "      <td>272.549988</td>\n",
              "    </tr>\n",
              "    <tr>\n",
              "      <th>2</th>\n",
              "      <td>9.356602</td>\n",
              "      <td>-8.110878</td>\n",
              "      <td>296.003632</td>\n",
              "      <td>0.028761</td>\n",
              "      <td>40.843277</td>\n",
              "      <td>1.380005</td>\n",
              "      <td>-0.079987</td>\n",
              "      <td>1.739990</td>\n",
              "      <td>278.779999</td>\n",
              "      <td>277.399994</td>\n",
              "      <td>280.299988</td>\n",
              "      <td>279.140015</td>\n",
              "      <td>284.089996</td>\n",
              "      <td>280.859985</td>\n",
              "      <td>278.760010</td>\n",
              "      <td>286.890015</td>\n",
              "      <td>286.970001</td>\n",
              "      <td>284.609985</td>\n",
              "      <td>282.869995</td>\n",
              "      <td>263.019989</td>\n",
              "      <td>273.160004</td>\n",
              "    </tr>\n",
              "    <tr>\n",
              "      <th>3</th>\n",
              "      <td>9.356602</td>\n",
              "      <td>-8.110878</td>\n",
              "      <td>295.909607</td>\n",
              "      <td>0.029196</td>\n",
              "      <td>38.724518</td>\n",
              "      <td>5.550018</td>\n",
              "      <td>0.330017</td>\n",
              "      <td>1.739990</td>\n",
              "      <td>281.420013</td>\n",
              "      <td>275.869995</td>\n",
              "      <td>281.100006</td>\n",
              "      <td>278.410004</td>\n",
              "      <td>283.480011</td>\n",
              "      <td>281.029999</td>\n",
              "      <td>279.470001</td>\n",
              "      <td>286.690002</td>\n",
              "      <td>286.359985</td>\n",
              "      <td>284.609985</td>\n",
              "      <td>282.869995</td>\n",
              "      <td>263.019989</td>\n",
              "      <td>273.160004</td>\n",
              "    </tr>\n",
              "    <tr>\n",
              "      <th>4</th>\n",
              "      <td>9.267323</td>\n",
              "      <td>-8.126661</td>\n",
              "      <td>295.817108</td>\n",
              "      <td>0.029630</td>\n",
              "      <td>42.280800</td>\n",
              "      <td>3.300018</td>\n",
              "      <td>0.779999</td>\n",
              "      <td>0.000000</td>\n",
              "      <td>279.660004</td>\n",
              "      <td>276.359985</td>\n",
              "      <td>279.899994</td>\n",
              "      <td>278.959991</td>\n",
              "      <td>283.369995</td>\n",
              "      <td>279.890015</td>\n",
              "      <td>279.450012</td>\n",
              "      <td>286.690002</td>\n",
              "      <td>285.910004</td>\n",
              "      <td>282.579987</td>\n",
              "      <td>282.579987</td>\n",
              "      <td>263.359985</td>\n",
              "      <td>273.220001</td>\n",
              "    </tr>\n",
              "  </tbody>\n",
              "</table>\n",
              "</div>"
            ],
            "text/plain": [
              "        lat       lon          ts  ...       tc_10       tc_11       tc_12\n",
              "0  9.245695 -8.154333  295.700745  ...  283.070007  262.329987  273.390015\n",
              "1  9.201105 -8.162495  295.606171  ...  283.329987  262.679993  272.549988\n",
              "2  9.356602 -8.110878  296.003632  ...  282.869995  263.019989  273.160004\n",
              "3  9.356602 -8.110878  295.909607  ...  282.869995  263.019989  273.160004\n",
              "4  9.267323 -8.126661  295.817108  ...  282.579987  263.359985  273.220001\n",
              "\n",
              "[5 rows x 21 columns]"
            ]
          },
          "metadata": {
            "tags": []
          },
          "execution_count": 39
        }
      ]
    },
    {
      "cell_type": "code",
      "metadata": {
        "id": "SKdaESg0vIAA",
        "colab_type": "code",
        "colab": {
          "base_uri": "https://localhost:8080/",
          "height": 204
        },
        "outputId": "4eb7c7f4-7401-413e-bfc5-4b8f337475a5"
      },
      "source": [
        "y_df.head()"
      ],
      "execution_count": 40,
      "outputs": [
        {
          "output_type": "execute_result",
          "data": {
            "text/html": [
              "<div>\n",
              "<style scoped>\n",
              "    .dataframe tbody tr th:only-of-type {\n",
              "        vertical-align: middle;\n",
              "    }\n",
              "\n",
              "    .dataframe tbody tr th {\n",
              "        vertical-align: top;\n",
              "    }\n",
              "\n",
              "    .dataframe thead th {\n",
              "        text-align: right;\n",
              "    }\n",
              "</style>\n",
              "<table border=\"1\" class=\"dataframe\">\n",
              "  <thead>\n",
              "    <tr style=\"text-align: right;\">\n",
              "      <th></th>\n",
              "      <th>pflag</th>\n",
              "    </tr>\n",
              "  </thead>\n",
              "  <tbody>\n",
              "    <tr>\n",
              "      <th>0</th>\n",
              "      <td>NaN</td>\n",
              "    </tr>\n",
              "    <tr>\n",
              "      <th>1</th>\n",
              "      <td>NaN</td>\n",
              "    </tr>\n",
              "    <tr>\n",
              "      <th>2</th>\n",
              "      <td>NaN</td>\n",
              "    </tr>\n",
              "    <tr>\n",
              "      <th>3</th>\n",
              "      <td>NaN</td>\n",
              "    </tr>\n",
              "    <tr>\n",
              "      <th>4</th>\n",
              "      <td>NaN</td>\n",
              "    </tr>\n",
              "  </tbody>\n",
              "</table>\n",
              "</div>"
            ],
            "text/plain": [
              "   pflag\n",
              "0    NaN\n",
              "1    NaN\n",
              "2    NaN\n",
              "3    NaN\n",
              "4    NaN"
            ]
          },
          "metadata": {
            "tags": []
          },
          "execution_count": 40
        }
      ]
    },
    {
      "cell_type": "markdown",
      "metadata": {
        "id": "bxS5nC9Z8wF5",
        "colab_type": "text"
      },
      "source": [
        "## Plot Squall Line Case"
      ]
    },
    {
      "cell_type": "code",
      "metadata": {
        "id": "eLzqWEIwyfpw",
        "colab_type": "code",
        "colab": {
          "base_uri": "https://localhost:8080/",
          "height": 34
        },
        "outputId": "9b5b4185-cd1d-4262-e673-2563a61a1c12"
      },
      "source": [
        "lat, lon, counts = [], [], []\n",
        "rfc.verbose = False\n",
        "X_scaled = scaler.transform(X_df)\n",
        "print(\"X: \", sum(np.isnan(X_scaled)))  # should be all zeros\n",
        "y_pred = np.argmax(rfc.predict(X_scaled), axis=1)\n",
        "y_probs = rfc.predict_proba(X_scaled)\n",
        "y_pred_probs = np.transpose(np.array([y_probs[0][:, 1], y_probs[1][:, 1], y_probs[2][:, 1], y_probs[3][:, 1]]))\n",
        "y_pred_probs = np.max(y_pred_probs, axis=1)\n",
        "\n",
        "row_set = set()\n",
        "for r, _ in np.ndindex(X_scaled.shape):\n",
        "  if r in row_set:\n",
        "    continue\n",
        "  # if y_pred_probs[r] < 0.75:\n",
        "  #   continue\n",
        "  row_set.add(r)\n",
        "  lat.append(X_df.iloc[r, 0])\n",
        "  lon.append(X_df.iloc[r, 1])\n",
        "  counts.append(y_pred[r].astype(float))\n",
        "\n",
        "  # y_val = y_df.iloc[r, 0]\n",
        "  # if np.isnan(y_val):\n",
        "  #   counts.append(y_pred[r].astype(float))\n",
        "  # else:\n",
        "  #   counts.append(y_val)"
      ],
      "execution_count": 78,
      "outputs": [
        {
          "output_type": "stream",
          "text": [
            "X:  [0 0 0 0 0 0 0 0 0 0 0 0 0 0 0 0 0 0 0 0 0]\n"
          ],
          "name": "stdout"
        }
      ]
    },
    {
      "cell_type": "code",
      "metadata": {
        "id": "RWPLGYRvC5u2",
        "colab_type": "code",
        "colab": {
          "base_uri": "https://localhost:8080/",
          "height": 68
        },
        "outputId": "0a2678bf-cc58-4663-c94e-1ac2b06c4659"
      },
      "source": [
        "print(len(lat))\n",
        "print(len(lon))\n",
        "print(len(counts))"
      ],
      "execution_count": 79,
      "outputs": [
        {
          "output_type": "stream",
          "text": [
            "30535\n",
            "30535\n",
            "30535\n"
          ],
          "name": "stdout"
        }
      ]
    },
    {
      "cell_type": "code",
      "metadata": {
        "id": "RJsIVCqncDnv",
        "colab_type": "code",
        "colab": {
          "base_uri": "https://localhost:8080/",
          "height": 298
        },
        "outputId": "a0144795-3bcb-47b9-efcc-b9f27d658330"
      },
      "source": [
        "title = \"Precip. Type Filled\"\n",
        "plt.scatter(lon, lat, c=counts, cmap=plt.get_cmap(\"jet\"))\n",
        "plt.colorbar()\n",
        "plt.title(title)\n",
        "### SAVE HEATMAP ###############################\n",
        "save_path = BASE_DIR + \"plots/\"\n",
        "if not os.path.exists(save_path):\n",
        "  os.mkdir(save_path)\n",
        "print('Saved to', save_path + f\"{title}.png\")\n",
        "plt.savefig(save_path + f\"{title}.png\")\n",
        "################################################\n",
        "plt.show()"
      ],
      "execution_count": 80,
      "outputs": [
        {
          "output_type": "stream",
          "text": [
            "Saved to /content/drive/My Drive/data/NASA_2020/plots/Precip. Type Filled.png\n"
          ],
          "name": "stdout"
        },
        {
          "output_type": "display_data",
          "data": {
            "image/png": "[encoded data removed]",
            "text/plain": [
              "<Figure size 432x288 with 2 Axes>"
            ]
          },
          "metadata": {
            "tags": [],
            "needs_background": "light"
          }
        }
      ]
    },
    {
      "cell_type": "code",
      "metadata": {
        "id": "-oqXcdgecNte",
        "colab_type": "code",
        "colab": {}
      },
      "source": [
        ""
      ],
      "execution_count": 43,
      "outputs": []
    }
  ]
}
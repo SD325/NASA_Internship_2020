{
  "nbformat": 4,
  "nbformat_minor": 0,
  "metadata": {
    "kernelspec": {
      "display_name": "Python 3",
      "language": "python",
      "name": "python3"
    },
    "language_info": {
      "codemirror_mode": {
        "name": "ipython",
        "version": 3
      },
      "file_extension": ".py",
      "mimetype": "text/x-python",
      "name": "python",
      "nbconvert_exporter": "python",
      "pygments_lexer": "ipython3",
      "version": "3.7.6"
    },
    "colab": {
      "name": "Cloud_Classification.ipynb",
      "provenance": [],
      "collapsed_sections": []
    }
  },
  "cells": [
    {
      "cell_type": "code",
      "metadata": {
        "id": "v2oYSGR1XV1Y",
        "colab_type": "code",
        "colab": {
          "base_uri": "https://localhost:8080/",
          "height": 125
        },
        "outputId": "a1b6c357-4b1c-430a-9c80-efb824258d41"
      },
      "source": [
        "from google.colab import drive\n",
        "drive.mount('/content/drive')"
      ],
      "execution_count": 1,
      "outputs": [
        {
          "output_type": "stream",
          "text": [
            "Go to this URL in a browser: https://accounts.google.com/o/oauth2/auth?client_id=947318989803-6bn6qk8qdgf4n4g3pfee6491hc0brc4i.apps.googleusercontent.com&redirect_uri=urn%3aietf%3awg%3aoauth%3a2.0%3aoob&response_type=code&scope=email%20https%3a%2f%2fwww.googleapis.com%2fauth%2fdocs.test%20https%3a%2f%2fwww.googleapis.com%2fauth%2fdrive%20https%3a%2f%2fwww.googleapis.com%2fauth%2fdrive.photos.readonly%20https%3a%2f%2fwww.googleapis.com%2fauth%2fpeopleapi.readonly\n",
            "\n",
            "Enter your authorization code:\n",
            "··········\n",
            "Mounted at /content/drive\n"
          ],
          "name": "stdout"
        }
      ]
    },
    {
      "cell_type": "code",
      "metadata": {
        "id": "t-qNCPa9VCaB",
        "colab_type": "code",
        "colab": {
          "base_uri": "https://localhost:8080/",
          "height": 72
        },
        "outputId": "65ed35f0-777a-4933-d099-277929fad934"
      },
      "source": [
        "import sys\n",
        "import numpy as np\n",
        "import pandas as pd\n",
        "from sklearn import model_selection\n",
        "from sklearn.ensemble import RandomForestClassifier\n",
        "from sklearn.metrics import confusion_matrix\n",
        "from sklearn.metrics import accuracy_score\n",
        "import joblib\n",
        "import matplotlib.pyplot as plt\n",
        "import seaborn as sns\n",
        "import itertools"
      ],
      "execution_count": 2,
      "outputs": [
        {
          "output_type": "stream",
          "text": [
            "/usr/local/lib/python3.6/dist-packages/statsmodels/tools/_testing.py:19: FutureWarning: pandas.util.testing is deprecated. Use the functions in the public API at pandas.testing instead.\n",
            "  import pandas.util.testing as tm\n"
          ],
          "name": "stderr"
        }
      ]
    },
    {
      "cell_type": "code",
      "metadata": {
        "id": "a7NKDRSNGhi_",
        "colab_type": "code",
        "colab": {
          "base_uri": "https://localhost:8080/",
          "height": 213
        },
        "outputId": "dfd3acb7-05f3-48b0-9b3f-b264099e5606"
      },
      "source": [
        "# need to do this to read .h5 files\n",
        "!pip install --upgrade tables"
      ],
      "execution_count": 3,
      "outputs": [
        {
          "output_type": "stream",
          "text": [
            "Collecting tables\n",
            "\u001b[?25l  Downloading https://files.pythonhosted.org/packages/ed/c3/8fd9e3bb21872f9d69eb93b3014c86479864cca94e625fd03713ccacec80/tables-3.6.1-cp36-cp36m-manylinux1_x86_64.whl (4.3MB)\n",
            "\u001b[K     |████████████████████████████████| 4.3MB 2.8MB/s \n",
            "\u001b[?25hRequirement already satisfied, skipping upgrade: numexpr>=2.6.2 in /usr/local/lib/python3.6/dist-packages (from tables) (2.7.1)\n",
            "Requirement already satisfied, skipping upgrade: numpy>=1.9.3 in /usr/local/lib/python3.6/dist-packages (from tables) (1.18.5)\n",
            "Installing collected packages: tables\n",
            "  Found existing installation: tables 3.4.4\n",
            "    Uninstalling tables-3.4.4:\n",
            "      Successfully uninstalled tables-3.4.4\n",
            "Successfully installed tables-3.6.1\n"
          ],
          "name": "stdout"
        }
      ]
    },
    {
      "cell_type": "code",
      "metadata": {
        "id": "JVElvcY6VCaM",
        "colab_type": "code",
        "colab": {}
      },
      "source": [
        "# load training dataset and validation dataset\n",
        "training_data = '/content/drive/My Drive/data/Wang-ML-data/train_daytime_forest.h5'\n",
        "validation_data = '/content/drive/My Drive/data/Wang-ML-data/valid_daytime_forest.h5'\n",
        "pd_forest = pd.read_hdf(training_data,key='forest')\n",
        "vd_forest = pd.read_hdf(validation_data,key='forest')"
      ],
      "execution_count": 4,
      "outputs": []
    },
    {
      "cell_type": "code",
      "metadata": {
        "id": "QqNdz87wVCaP",
        "colab_type": "code",
        "colab": {
          "base_uri": "https://localhost:8080/",
          "height": 123
        },
        "outputId": "0a1902b3-96c0-4544-eb16-41da4b3ce475"
      },
      "source": [
        "#show data frame structures\n",
        "print (pd_forest.columns)"
      ],
      "execution_count": 5,
      "outputs": [
        {
          "output_type": "stream",
          "text": [
            "Index(['Lon', 'Lat', 'VZA', 'Mu', 'SZA', 'Mu0', 'VAA', 'SAA', 'IGBP', 'SNIC',\n",
            "       'Skin_T', 'E14', 'E15', 'E16', 'BTS14', 'BTS15', 'BTS16', 'R01', 'R02',\n",
            "       'R03', 'R04', 'R05', 'R06', 'R07', 'R08', 'R09', 'R10', 'R11', 'B12',\n",
            "       'B13', 'B14', 'B15', 'B16', 'CMASK', 'CPhase', 'VIIRS_CMASK',\n",
            "       'VIIRS_OPPhase', 'VIIRS_CTPhase'],\n",
            "      dtype='object')\n"
          ],
          "name": "stdout"
        }
      ]
    },
    {
      "cell_type": "code",
      "metadata": {
        "id": "vinwFuUfVCaY",
        "colab_type": "code",
        "colab": {}
      },
      "source": [
        "# remove bad points and complicated cases\n",
        "training_x_data = pd_forest.loc[\n",
        "                  ( pd_forest['B12']>100. ) &\n",
        "                  ( pd_forest['B13']>100. ) &\n",
        "                  ( pd_forest['B14']>100. ) &\n",
        "                  ( pd_forest['B15']>100. ) &\n",
        "                  ( pd_forest['B16']>100. ) &\n",
        "                  ( pd_forest['B12']<400. ) &\n",
        "                  ( pd_forest['B13']<400. ) &\n",
        "                  ( pd_forest['B14']<400. ) &\n",
        "                  ( pd_forest['B15']<400. ) &\n",
        "                  ( pd_forest['B16']<400. ) &\n",
        "                  ( pd_forest['CPhase']!='IOL' ) &\n",
        "                  ( pd_forest['SZA']<=83 ) &\n",
        "                  ( pd_forest['SZA']>=0 ) &\n",
        "                  ( pd_forest['R07']>0.0)\n",
        "                  ]\n",
        "\n",
        "validation_x_data = vd_forest.loc[\n",
        "                  ( vd_forest['B12']>100. ) &\n",
        "                  ( vd_forest['B13']>100. ) &\n",
        "                  ( vd_forest['B14']>100. ) &\n",
        "                  ( vd_forest['B15']>100. ) &\n",
        "                  ( vd_forest['B16']>100. ) &\n",
        "                  ( vd_forest['B12']<400. ) &\n",
        "                  ( vd_forest['B13']<400. ) &\n",
        "                  ( vd_forest['B14']<400. ) &\n",
        "                  ( vd_forest['B15']<400. ) &\n",
        "                  ( vd_forest['B16']<400. ) &\n",
        "                  ( vd_forest['CPhase']!='IOL' ) &\n",
        "                  ( vd_forest['SZA']<=83 ) &\n",
        "                  ( vd_forest['SZA']>=0 ) &\n",
        "                  ( vd_forest['R07']>0.0)\n",
        "                  ]\n",
        "\n",
        "#release memory\n",
        "del pd_forest\n",
        "del vd_forest"
      ],
      "execution_count": 6,
      "outputs": []
    },
    {
      "cell_type": "code",
      "metadata": {
        "id": "w-Y4uuSeVCad",
        "colab_type": "code",
        "colab": {}
      },
      "source": [
        "# generate training and testing samples\n",
        "\n",
        "t1_X = np.full([len(training_x_data),13],0,dtype='f4')\n",
        "t1_Y = np.full([len(training_x_data)],'xxx',dtype='<U3')\n",
        "\n",
        "t1_X[:, 0] = training_x_data.Mu0.values\n",
        "t1_X[:, 1] = training_x_data.Mu.values\n",
        "t1_X[:, 2] = training_x_data.B14.values\n",
        "t1_X[:, 3] = training_x_data.B15.values\n",
        "t1_X[:, 4] = training_x_data.B16.values\n",
        "t1_X[:, 5] = training_x_data.B14.values - training_x_data.B15.values\n",
        "t1_X[:, 6] = training_x_data.B15.values - training_x_data.B16.values\n",
        "t1_X[:, 7] = training_x_data.R07.values\n",
        "t1_X[:, 8] = training_x_data.R09.values/training_x_data.R07.values\n",
        "t1_X[:, 9] = training_x_data.R10.values/training_x_data.R07.values\n",
        "t1_X[:,10] = training_x_data.R11.values/training_x_data.R07.values\n",
        "t1_X[:,11] = training_x_data.Lat.values\n",
        "t1_X[:,12] = training_x_data.Lon.values\n",
        "t1_Y = training_x_data.CPhase.values\n",
        "\n",
        "del training_x_data\n",
        "\n",
        "# separate the training set into two parts (traing 70% and testing 30%)\n",
        "testing_size = 0.30\n",
        "seed = 7\n",
        "train_X, test_X, train_Y, test_Y = model_selection.train_test_split(t1_X,t1_Y,test_size=testing_size,random_state=seed)"
      ],
      "execution_count": 7,
      "outputs": []
    },
    {
      "cell_type": "code",
      "metadata": {
        "id": "PuWJrwlEVCai",
        "colab_type": "code",
        "colab": {
          "base_uri": "https://localhost:8080/",
          "height": 52
        },
        "outputId": "b940dde0-d9ee-41b8-dd8d-9378d46716d5"
      },
      "source": [
        "# check the size of training and testing parts\n",
        "print (train_X.shape,train_Y.shape)\n",
        "print (test_X.shape, test_Y.shape)"
      ],
      "execution_count": 8,
      "outputs": [
        {
          "output_type": "stream",
          "text": [
            "(1611652, 13) (1611652,)\n",
            "(690709, 13) (690709,)\n"
          ],
          "name": "stdout"
        }
      ]
    },
    {
      "cell_type": "code",
      "metadata": {
        "id": "KHlPI2gOVCau",
        "colab_type": "code",
        "colab": {}
      },
      "source": [
        "# Define Random Forest parameters\n",
        "n_estimators = 150\n",
        "max_depth = 15\n",
        "bootstrap = True\n",
        "criterion = 'entropy'\n",
        "class_weight = None\n",
        "random_state = 123456\n",
        "n_job = -1"
      ],
      "execution_count": 9,
      "outputs": []
    },
    {
      "cell_type": "code",
      "metadata": {
        "id": "4AgEW4q7VCax",
        "colab_type": "code",
        "colab": {
          "base_uri": "https://localhost:8080/",
          "height": 1000
        },
        "outputId": "91972945-7a7e-493b-8bd8-8b6d182dd047"
      },
      "source": [
        "rfforest = RandomForestClassifier(n_estimators=n_estimators, bootstrap=bootstrap, criterion=criterion,\n",
        "                                  max_depth=max_depth, oob_score=False, verbose=3,\n",
        "                                  class_weight=class_weight, random_state=random_state, n_jobs=n_job)\n",
        "print ('Training RandomForest')\n",
        "rfforest.fit(train_X,train_Y.ravel())"
      ],
      "execution_count": 11,
      "outputs": [
        {
          "output_type": "stream",
          "text": [
            "Training RandomForest\n"
          ],
          "name": "stdout"
        },
        {
          "output_type": "stream",
          "text": [
            "[Parallel(n_jobs=-1)]: Using backend ThreadingBackend with 2 concurrent workers.\n"
          ],
          "name": "stderr"
        },
        {
          "output_type": "stream",
          "text": [
            "building tree 1 of 150\n",
            "building tree 2 of 150\n",
            "building tree 3 of 150\n",
            "building tree 4 of 150\n",
            "building tree 5 of 150\n",
            "building tree 6 of 150\n",
            "building tree 7 of 150\n",
            "building tree 8 of 150\n",
            "building tree 9 of 150\n",
            "building tree 10 of 150\n",
            "building tree 11 of 150\n",
            "building tree 12 of 150\n",
            "building tree 13 of 150\n",
            "building tree 14 of 150\n",
            "building tree 15 of 150\n",
            "building tree 16 of 150\n",
            "building tree 17 of 150\n",
            "building tree 18 of 150\n",
            "building tree 19 of 150\n",
            "building tree 20 of 150\n",
            "building tree 21 of 150\n",
            "building tree 22 of 150\n",
            "building tree 23 of 150\n",
            "building tree 24 of 150\n",
            "building tree 25 of 150\n",
            "building tree 26 of 150\n",
            "building tree 27 of 150\n",
            "building tree 28 of 150\n",
            "building tree 29 of 150\n"
          ],
          "name": "stdout"
        },
        {
          "output_type": "stream",
          "text": [
            "[Parallel(n_jobs=-1)]: Done  28 tasks      | elapsed:  4.3min\n"
          ],
          "name": "stderr"
        },
        {
          "output_type": "stream",
          "text": [
            "building tree 30 of 150\n",
            "building tree 31 of 150\n",
            "building tree 32 of 150\n",
            "building tree 33 of 150\n",
            "building tree 34 of 150\n",
            "building tree 35 of 150\n",
            "building tree 36 of 150\n",
            "building tree 37 of 150\n",
            "building tree 38 of 150\n",
            "building tree 39 of 150\n",
            "building tree 40 of 150\n",
            "building tree 41 of 150\n",
            "building tree 42 of 150\n",
            "building tree 43 of 150\n",
            "building tree 44 of 150\n",
            "building tree 45 of 150\n",
            "building tree 46 of 150\n",
            "building tree 47 of 150\n",
            "building tree 48 of 150\n",
            "building tree 49 of 150\n",
            "building tree 50 of 150\n",
            "building tree 51 of 150\n",
            "building tree 52 of 150\n",
            "building tree 53 of 150\n",
            "building tree 54 of 150\n",
            "building tree 55 of 150\n",
            "building tree 56 of 150\n",
            "building tree 57 of 150\n",
            "building tree 58 of 150\n",
            "building tree 59 of 150\n",
            "building tree 60 of 150\n",
            "building tree 61 of 150\n",
            "building tree 62 of 150\n",
            "building tree 63 of 150\n",
            "building tree 64 of 150\n",
            "building tree 65 of 150\n",
            "building tree 66 of 150\n",
            "building tree 67 of 150\n",
            "building tree 68 of 150\n",
            "building tree 69 of 150\n",
            "building tree 70 of 150\n",
            "building tree 71 of 150\n",
            "building tree 72 of 150\n",
            "building tree 73 of 150\n",
            "building tree 74 of 150\n",
            "building tree 75 of 150\n",
            "building tree 76 of 150\n",
            "building tree 77 of 150\n",
            "building tree 78 of 150\n",
            "building tree 79 of 150\n",
            "building tree 80 of 150\n",
            "building tree 81 of 150\n",
            "building tree 82 of 150\n",
            "building tree 83 of 150\n",
            "building tree 84 of 150\n",
            "building tree 85 of 150\n",
            "building tree 86 of 150\n",
            "building tree 87 of 150\n",
            "building tree 88 of 150\n",
            "building tree 89 of 150\n",
            "building tree 90 of 150\n",
            "building tree 91 of 150\n",
            "building tree 92 of 150\n",
            "building tree 93 of 150\n",
            "building tree 94 of 150\n",
            "building tree 95 of 150\n",
            "building tree 96 of 150\n",
            "building tree 97 of 150\n",
            "building tree 98 of 150\n",
            "building tree 99 of 150\n",
            "building tree 100 of 150\n",
            "building tree 101 of 150\n",
            "building tree 102 of 150\n",
            "building tree 103 of 150\n",
            "building tree 104 of 150\n",
            "building tree 105 of 150\n",
            "building tree 106 of 150\n",
            "building tree 107 of 150\n",
            "building tree 108 of 150\n",
            "building tree 109 of 150\n",
            "building tree 110 of 150\n",
            "building tree 111 of 150\n",
            "building tree 112 of 150\n",
            "building tree 113 of 150\n",
            "building tree 114 of 150\n",
            "building tree 115 of 150\n",
            "building tree 116 of 150\n",
            "building tree 117 of 150\n",
            "building tree 118 of 150\n",
            "building tree 119 of 150\n",
            "building tree 120 of 150\n",
            "building tree 121 of 150\n",
            "building tree 122 of 150\n",
            "building tree 123 of 150\n",
            "building tree 124 of 150\n",
            "building tree 125 of 150\n"
          ],
          "name": "stdout"
        },
        {
          "output_type": "stream",
          "text": [
            "[Parallel(n_jobs=-1)]: Done 124 tasks      | elapsed: 18.6min\n"
          ],
          "name": "stderr"
        },
        {
          "output_type": "stream",
          "text": [
            "building tree 126 of 150\n",
            "building tree 127 of 150\n",
            "building tree 128 of 150\n",
            "building tree 129 of 150\n",
            "building tree 130 of 150\n",
            "building tree 131 of 150\n",
            "building tree 132 of 150\n",
            "building tree 133 of 150\n",
            "building tree 134 of 150\n",
            "building tree 135 of 150\n",
            "building tree 136 of 150\n",
            "building tree 137 of 150\n",
            "building tree 138 of 150\n",
            "building tree 139 of 150\n",
            "building tree 140 of 150\n",
            "building tree 141 of 150\n",
            "building tree 142 of 150\n",
            "building tree 143 of 150\n",
            "building tree 144 of 150\n",
            "building tree 145 of 150\n",
            "building tree 146 of 150\n",
            "building tree 147 of 150\n",
            "building tree 148 of 150\n",
            "building tree 149 of 150\n",
            "building tree 150 of 150\n"
          ],
          "name": "stdout"
        },
        {
          "output_type": "stream",
          "text": [
            "[Parallel(n_jobs=-1)]: Done 150 out of 150 | elapsed: 22.4min finished\n"
          ],
          "name": "stderr"
        },
        {
          "output_type": "execute_result",
          "data": {
            "text/plain": [
              "RandomForestClassifier(bootstrap=True, ccp_alpha=0.0, class_weight=None,\n",
              "                       criterion='entropy', max_depth=15, max_features='auto',\n",
              "                       max_leaf_nodes=None, max_samples=None,\n",
              "                       min_impurity_decrease=0.0, min_impurity_split=None,\n",
              "                       min_samples_leaf=1, min_samples_split=2,\n",
              "                       min_weight_fraction_leaf=0.0, n_estimators=150,\n",
              "                       n_jobs=-1, oob_score=False, random_state=123456,\n",
              "                       verbose=3, warm_start=False)"
            ]
          },
          "metadata": {
            "tags": []
          },
          "execution_count": 11
        }
      ]
    },
    {
      "cell_type": "code",
      "metadata": {
        "id": "COScj-v6VCa2",
        "colab_type": "code",
        "colab": {
          "base_uri": "https://localhost:8080/",
          "height": 193
        },
        "outputId": "61412a79-dc33-48af-df12-da07f4834bd2"
      },
      "source": [
        "print ('Testing Performance')\n",
        "test_predict_Y = rfforest.predict(test_X)\n",
        "test_predict_YP = rfforest.predict_proba(test_X)\n",
        "print(accuracy_score(test_Y, test_predict_Y))"
      ],
      "execution_count": 12,
      "outputs": [
        {
          "output_type": "stream",
          "text": [
            "[Parallel(n_jobs=2)]: Using backend ThreadingBackend with 2 concurrent workers.\n"
          ],
          "name": "stderr"
        },
        {
          "output_type": "stream",
          "text": [
            "Testing Performance\n"
          ],
          "name": "stdout"
        },
        {
          "output_type": "stream",
          "text": [
            "[Parallel(n_jobs=2)]: Done  28 tasks      | elapsed:    2.8s\n",
            "[Parallel(n_jobs=2)]: Done 124 tasks      | elapsed:   11.9s\n",
            "[Parallel(n_jobs=2)]: Done 150 out of 150 | elapsed:   14.5s finished\n",
            "[Parallel(n_jobs=2)]: Using backend ThreadingBackend with 2 concurrent workers.\n",
            "[Parallel(n_jobs=2)]: Done  28 tasks      | elapsed:    4.5s\n",
            "[Parallel(n_jobs=2)]: Done 124 tasks      | elapsed:   15.9s\n",
            "[Parallel(n_jobs=2)]: Done 150 out of 150 | elapsed:   18.5s finished\n"
          ],
          "name": "stderr"
        },
        {
          "output_type": "stream",
          "text": [
            "0.927578763270784\n"
          ],
          "name": "stdout"
        }
      ]
    },
    {
      "cell_type": "code",
      "metadata": {
        "id": "f_5qmQ_4VCa6",
        "colab_type": "code",
        "colab": {
          "base_uri": "https://localhost:8080/",
          "height": 193
        },
        "outputId": "5a737416-0833-488e-8752-8d46503e2ccf"
      },
      "source": [
        "# validation\n",
        "\n",
        "v1_X = np.full([len(validation_x_data),13],0,dtype='f4')\n",
        "v1_Y = np.full([len(validation_x_data)],'xxx',dtype='<U3')\n",
        "\n",
        "v1_X[:, 0] = validation_x_data.Mu0.values\n",
        "v1_X[:, 1] = validation_x_data.Mu.values\n",
        "v1_X[:, 2] = validation_x_data.B14.values\n",
        "v1_X[:, 3] = validation_x_data.B15.values\n",
        "v1_X[:, 4] = validation_x_data.B16.values\n",
        "v1_X[:, 5] = validation_x_data.B14.values - validation_x_data.B15.values\n",
        "v1_X[:, 6] = validation_x_data.B15.values - validation_x_data.B16.values\n",
        "v1_X[:, 7] = validation_x_data.R07.values\n",
        "v1_X[:, 8] = validation_x_data.R09.values/validation_x_data.R07.values\n",
        "v1_X[:, 9] = validation_x_data.R10.values/validation_x_data.R07.values\n",
        "v1_X[:,10] = validation_x_data.R11.values/validation_x_data.R07.values\n",
        "v1_X[:,11] = validation_x_data.Lat.values\n",
        "v1_X[:,12] = validation_x_data.Lon.values\n",
        "v1_Y = validation_x_data.CPhase.values\n",
        "\n",
        "print ('Validation Performance')\n",
        "validation_predict_Y = rfforest.predict(v1_X)\n",
        "validation_predict_YP = rfforest.predict_proba(v1_X)\n",
        "print(accuracy_score(v1_Y, validation_predict_Y))"
      ],
      "execution_count": 13,
      "outputs": [
        {
          "output_type": "stream",
          "text": [
            "Validation Performance\n"
          ],
          "name": "stdout"
        },
        {
          "output_type": "stream",
          "text": [
            "[Parallel(n_jobs=2)]: Using backend ThreadingBackend with 2 concurrent workers.\n",
            "[Parallel(n_jobs=2)]: Done  28 tasks      | elapsed:    0.9s\n",
            "[Parallel(n_jobs=2)]: Done 124 tasks      | elapsed:    4.0s\n",
            "[Parallel(n_jobs=2)]: Done 150 out of 150 | elapsed:    4.8s finished\n",
            "[Parallel(n_jobs=2)]: Using backend ThreadingBackend with 2 concurrent workers.\n",
            "[Parallel(n_jobs=2)]: Done  28 tasks      | elapsed:    0.9s\n",
            "[Parallel(n_jobs=2)]: Done 124 tasks      | elapsed:    4.0s\n",
            "[Parallel(n_jobs=2)]: Done 150 out of 150 | elapsed:    4.8s finished\n"
          ],
          "name": "stderr"
        },
        {
          "output_type": "stream",
          "text": [
            "0.927688360795928\n"
          ],
          "name": "stdout"
        }
      ]
    },
    {
      "cell_type": "code",
      "metadata": {
        "id": "2VUNmDyyVCa9",
        "colab_type": "code",
        "colab": {
          "base_uri": "https://localhost:8080/",
          "height": 35
        },
        "outputId": "d7eb0c49-a1d9-4b76-8892-05ddc240a374"
      },
      "source": [
        "# save trained model\n",
        "joblib.dump(rfforest, 'test.model')"
      ],
      "execution_count": 14,
      "outputs": [
        {
          "output_type": "execute_result",
          "data": {
            "text/plain": [
              "['test.model']"
            ]
          },
          "metadata": {
            "tags": []
          },
          "execution_count": 14
        }
      ]
    },
    {
      "cell_type": "code",
      "metadata": {
        "id": "pR9vJJIeVCbB",
        "colab_type": "code",
        "colab": {}
      },
      "source": [
        "# load existing model\n",
        "rfforest = joblib.load('test.model')"
      ],
      "execution_count": 15,
      "outputs": []
    },
    {
      "cell_type": "code",
      "metadata": {
        "id": "OGBcm_tvVCbD",
        "colab_type": "code",
        "colab": {
          "base_uri": "https://localhost:8080/",
          "height": 585
        },
        "outputId": "c32d1e95-65a2-42bb-f782-636e77c96bac"
      },
      "source": [
        "# show feature importance:\n",
        "feature_names = np.array(['Solar Zenith','Viewing Zenith', 'BT-8.7', 'BT-11', 'BT-12', 'BTD: 8.7-11', 'BTD: 11-12',\n",
        "                 'R0.86','R1.38/R0.86','R1.61/R0.86','R2.25/R0.86','Latitude','Longitude'])\n",
        "tree_importance_sorted_idx = np.argsort(rfforest.feature_importances_)\n",
        "tree_indices = np.arange(0, len(rfforest.feature_importances_)) + 0.5\n",
        "fig, (ax1) = plt.subplots(1, 1, figsize=(12, 8))\n",
        "ax1.barh(tree_indices,\n",
        "         rfforest.feature_importances_[tree_importance_sorted_idx], height=0.7)\n",
        "ax1.set_yticklabels(feature_names[tree_importance_sorted_idx])\n",
        "ax1.set_yticks(tree_indices)\n",
        "ax1.set_ylim((0, len(rfforest.feature_importances_)))\n",
        "\n",
        "fig.tight_layout()\n",
        "plt.show()"
      ],
      "execution_count": 16,
      "outputs": [
        {
          "output_type": "display_data",
          "data": {
            "image/png": "[encoded data removed]",
            "text/plain": [
              "<Figure size 864x576 with 1 Axes>"
            ]
          },
          "metadata": {
            "tags": [],
            "needs_background": "light"
          }
        }
      ]
    },
    {
      "cell_type": "code",
      "metadata": {
        "id": "VEl1t0YFVCbI",
        "colab_type": "code",
        "colab": {
          "base_uri": "https://localhost:8080/",
          "height": 733
        },
        "outputId": "e717a339-e42d-42ea-980a-3391a64ef7c3"
      },
      "source": [
        "#show probability distribution functions\n",
        "fig, (ax1,ax2,ax3) = plt.subplots(3, 1, figsize=(12, 12))\n",
        "sns.distplot(validation_predict_YP[:,0],ax=ax1); # clear sky probability\n",
        "sns.distplot(validation_predict_YP[:,1],ax=ax2); # Ice Cloud probability\n",
        "sns.distplot(validation_predict_YP[:,2],ax=ax3); # Liquid Water Cloud probability\n",
        "ax1.set_title('Clear Sky Probability Distribution')\n",
        "ax2.set_title('Ice Cloud Probability Distribution')\n",
        "ax3.set_title('Liquid Water Cloud Probability Distribution')"
      ],
      "execution_count": 17,
      "outputs": [
        {
          "output_type": "execute_result",
          "data": {
            "text/plain": [
              "Text(0.5, 1.0, 'Liquid Water Cloud Probability Distribution')"
            ]
          },
          "metadata": {
            "tags": []
          },
          "execution_count": 17
        },
        {
          "output_type": "display_data",
          "data": {
            "image/png": "[encoded data removed]",
            "text/plain": [
              "<Figure size 864x864 with 3 Axes>"
            ]
          },
          "metadata": {
            "tags": [],
            "needs_background": "light"
          }
        }
      ]
    },
    {
      "cell_type": "code",
      "metadata": {
        "id": "bhvo8lPAVCbL",
        "colab_type": "code",
        "colab": {
          "base_uri": "https://localhost:8080/",
          "height": 630
        },
        "outputId": "87fb7312-c5fc-4b54-f07c-243214d0398e"
      },
      "source": [
        "# show confusion matrix\n",
        "def plot_confusion_matrix(cm, classes,\n",
        "                          normalize=False,\n",
        "                          title='Confusion matrix',\n",
        "                          cmap=plt.cm.Blues):\n",
        "    \"\"\"\n",
        "    This function prints and plots the confusion matrix.\n",
        "    Normalization can be applied by setting `normalize=True`.\n",
        "    \"\"\"\n",
        "    import itertools\n",
        "    if normalize:\n",
        "        cm = cm.astype('float') / cm.sum(axis=1)[:, np.newaxis]\n",
        "        print(\"Normalized confusion matrix\")\n",
        "    else:\n",
        "        print('Confusion matrix, without normalization')\n",
        "\n",
        "    print(cm)\n",
        "\n",
        "    fig, (ax1) = plt.subplots(1, 1, figsize=(8, 8))\n",
        "\n",
        "    plt.imshow(cm, cmap=cmap)\n",
        "    plt.title(title)\n",
        "    plt.colorbar()\n",
        "    tick_marks = np.arange(len(classes))\n",
        "    plt.xticks(tick_marks, classes, rotation=45, size=15)\n",
        "    plt.yticks(tick_marks, classes, size=15)\n",
        "\n",
        "    fmt = '.2f' if normalize else 'd'\n",
        "    thresh = cm.max() / 2.\n",
        "    for i, j in itertools.product(range(cm.shape[0]), range(cm.shape[1])):\n",
        "        plt.text(j, i, format(cm[i, j], fmt),\n",
        "                horizontalalignment=\"center\",\n",
        "                color=\"white\" if cm[i, j] > thresh else \"black\", size=15)\n",
        "\n",
        "    plt.ylabel('True label',size=15)\n",
        "    plt.xlabel('Predicted label',size=15)\n",
        "    plt.ylim([-0.5,-0.5+len(classes)])\n",
        "    plt.tight_layout()\n",
        "\n",
        "\n",
        "CM = confusion_matrix(v1_Y, validation_predict_Y)\n",
        "\n",
        "plot_confusion_matrix(CM, classes=['Clear', 'Ice', 'Liq'],\n",
        "                      title='Confusion matrix, without normalization')\n",
        "plt.show()"
      ],
      "execution_count": 19,
      "outputs": [
        {
          "output_type": "stream",
          "text": [
            "Confusion matrix, without normalization\n",
            "[[102597   2583   3919]\n",
            " [  4022 123893   5794]\n",
            " [  5387   4762 113056]]\n"
          ],
          "name": "stdout"
        },
        {
          "output_type": "display_data",
          "data": {
            "image/png": "[encoded data removed]",
            "text/plain": [
              "<Figure size 576x576 with 2 Axes>"
            ]
          },
          "metadata": {
            "tags": [],
            "needs_background": "light"
          }
        }
      ]
    },
    {
      "cell_type": "code",
      "metadata": {
        "id": "HYdDdek8VCbY",
        "colab_type": "code",
        "colab": {}
      },
      "source": [
        ""
      ],
      "execution_count": null,
      "outputs": []
    }
  ]
}
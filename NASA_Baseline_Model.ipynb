{
  "nbformat": 4,
  "nbformat_minor": 0,
  "metadata": {
    "colab": {
      "name": "NASA_Baseline_Model.ipynb",
      "provenance": [],
      "collapsed_sections": [],
      "authorship_tag": "ABX9TyO1Hyn3Bv+gEfQyc35Qr/XB",
      "include_colab_link": true
    },
    "kernelspec": {
      "name": "python3",
      "display_name": "Python 3"
    }
  },
  "cells": [
    {
      "cell_type": "markdown",
      "metadata": {
        "id": "view-in-github",
        "colab_type": "text"
      },
      "source": [
        "<a href=\"https://colab.research.google.com/github/SD325/NASA_Internship_2020/blob/master/NASA_Baseline_Model.ipynb\" target=\"_parent\"><img src=\"https://colab.research.google.com/assets/colab-badge.svg\" alt=\"Open In Colab\"/></a>"
      ]
    },
    {
      "cell_type": "code",
      "metadata": {
        "id": "oHyQoiRRtLPR",
        "colab_type": "code",
        "colab": {
          "base_uri": "https://localhost:8080/",
          "height": 34
        },
        "outputId": "60243ce7-c33b-4e23-95c2-52cd988992c1"
      },
      "source": [
        "# mount Google Drive\n",
        "from google.colab import drive\n",
        "drive.mount('/content/drive')"
      ],
      "execution_count": 1,
      "outputs": [
        {
          "output_type": "stream",
          "text": [
            "Drive already mounted at /content/drive; to attempt to forcibly remount, call drive.mount(\"/content/drive\", force_remount=True).\n"
          ],
          "name": "stdout"
        }
      ]
    },
    {
      "cell_type": "code",
      "metadata": {
        "id": "I_EiiheltRTj",
        "colab_type": "code",
        "colab": {}
      },
      "source": [
        "# Suppress warnings\n",
        "import warnings\n",
        "warnings.filterwarnings(\"ignore\")\n",
        "\n",
        "# Imports\n",
        "import joblib\n",
        "import pickle\n",
        "import scipy.io\n",
        "import numpy as np\n",
        "import pandas as pd\n",
        "import matplotlib.pyplot as plt\n",
        "import seaborn as sns\n",
        "import os\n",
        "from sklearn.ensemble import RandomForestClassifier\n",
        "from sklearn.model_selection import train_test_split\n",
        "from sklearn.metrics import accuracy_score\n",
        "from sklearn.metrics import confusion_matrix\n",
        "\n",
        "\n",
        "# Working Directory \n",
        "BASE_DIR = '/content/drive/My Drive/data/NASA_2020/'"
      ],
      "execution_count": 15,
      "outputs": []
    },
    {
      "cell_type": "markdown",
      "metadata": {
        "id": "h6BRFgBAug4N",
        "colab_type": "text"
      },
      "source": [
        "# Load and Split Data"
      ]
    },
    {
      "cell_type": "code",
      "metadata": {
        "id": "78MrQ8N2tk5J",
        "colab_type": "code",
        "colab": {
          "base_uri": "https://localhost:8080/",
          "height": 50
        },
        "outputId": "902cf5ea-05b5-4dc3-9b89-3c692da298ef"
      },
      "source": [
        "with open(BASE_DIR + 'X_data.pkl', 'rb') as f:\n",
        "  X = pickle.load(f)\n",
        "  print(f'Loaded X. {X.shape}')\n",
        "\n",
        "with open(BASE_DIR + 'y_data.pkl', 'rb') as f:\n",
        "  y = pickle.load(f)\n",
        "  print(f'Loaded y. {y.shape}')"
      ],
      "execution_count": 3,
      "outputs": [
        {
          "output_type": "stream",
          "text": [
            "Loaded X. (667630, 47)\n",
            "Loaded y. (667630, 4)\n"
          ],
          "name": "stdout"
        }
      ]
    },
    {
      "cell_type": "code",
      "metadata": {
        "id": "NjyEeGAVuNln",
        "colab_type": "code",
        "colab": {
          "base_uri": "https://localhost:8080/",
          "height": 50
        },
        "outputId": "7d5a192b-2660-4f20-d44c-7dd6158d706a"
      },
      "source": [
        "X_train, X_test, y_train, y_test = train_test_split(X, y, test_size=0.2, random_state=42)\n",
        "print(f\"train: {X_train.shape} {y_train.shape}\")\n",
        "print(f\"test: {X_test.shape} {y_test.shape}\")"
      ],
      "execution_count": 4,
      "outputs": [
        {
          "output_type": "stream",
          "text": [
            "train: (534104, 47) (534104, 4)\n",
            "test: (133526, 47) (133526, 4)\n"
          ],
          "name": "stdout"
        }
      ]
    },
    {
      "cell_type": "markdown",
      "metadata": {
        "id": "piUna7CJIWGl",
        "colab_type": "text"
      },
      "source": [
        "# Build and Train Model "
      ]
    },
    {
      "cell_type": "code",
      "metadata": {
        "id": "NDn8obvOwCLQ",
        "colab_type": "code",
        "colab": {}
      },
      "source": [
        "# Random Forest Hyperparameters  --> same as cloud classification\n",
        "n_estimators = 150\n",
        "max_depth = 15\n",
        "bootstrap = True\n",
        "criterion = 'entropy'\n",
        "class_weight = 'balanced_subsample'\n",
        "random_state = 42\n",
        "n_job = -1"
      ],
      "execution_count": 5,
      "outputs": []
    },
    {
      "cell_type": "code",
      "metadata": {
        "id": "dljpss9PwWkl",
        "colab_type": "code",
        "colab": {
          "base_uri": "https://localhost:8080/",
          "height": 1000
        },
        "outputId": "9f198741-9918-47dd-a40a-0b4344a91c42"
      },
      "source": [
        "rfc = RandomForestClassifier(n_estimators=n_estimators, bootstrap=bootstrap, criterion=criterion,\n",
        "                                  max_depth=max_depth, oob_score=False, verbose=2,\n",
        "                                  class_weight=class_weight, random_state=random_state, n_jobs=n_job)\n",
        "\n",
        "rfc.fit(X_train, y_train)"
      ],
      "execution_count": 6,
      "outputs": [
        {
          "output_type": "stream",
          "text": [
            "[Parallel(n_jobs=-1)]: Using backend ThreadingBackend with 2 concurrent workers.\n"
          ],
          "name": "stderr"
        },
        {
          "output_type": "stream",
          "text": [
            "building tree 1 of 150building tree 2 of 150\n",
            "\n",
            "building tree 3 of 150\n",
            "building tree 4 of 150\n",
            "building tree 5 of 150\n",
            "building tree 6 of 150\n",
            "building tree 7 of 150\n",
            "building tree 8 of 150\n",
            "building tree 9 of 150\n",
            "building tree 10 of 150\n",
            "building tree 11 of 150\n",
            "building tree 12 of 150\n",
            "building tree 13 of 150\n",
            "building tree 14 of 150\n",
            "building tree 15 of 150\n",
            "building tree 16 of 150\n",
            "building tree 17 of 150\n",
            "building tree 18 of 150\n",
            "building tree 19 of 150\n",
            "building tree 20 of 150\n",
            "building tree 21 of 150\n",
            "building tree 22 of 150\n",
            "building tree 23 of 150\n",
            "building tree 24 of 150\n",
            "building tree 25 of 150\n",
            "building tree 26 of 150\n",
            "building tree 27 of 150\n",
            "building tree 28 of 150\n",
            "building tree 29 of 150\n",
            "building tree 30 of 150\n",
            "building tree 31 of 150\n",
            "building tree 32 of 150\n",
            "building tree 33 of 150\n",
            "building tree 34 of 150\n",
            "building tree 35 of 150\n",
            "building tree 36 of 150\n",
            "building tree 37 of 150\n",
            "building tree 38 of 150\n"
          ],
          "name": "stdout"
        },
        {
          "output_type": "stream",
          "text": [
            "[Parallel(n_jobs=-1)]: Done  37 tasks      | elapsed:  5.1min\n"
          ],
          "name": "stderr"
        },
        {
          "output_type": "stream",
          "text": [
            "building tree 39 of 150\n",
            "building tree 40 of 150\n",
            "building tree 41 of 150\n",
            "building tree 42 of 150\n",
            "building tree 43 of 150\n",
            "building tree 44 of 150\n",
            "building tree 45 of 150\n",
            "building tree 46 of 150\n",
            "building tree 47 of 150\n",
            "building tree 48 of 150\n",
            "building tree 49 of 150\n",
            "building tree 50 of 150\n",
            "building tree 51 of 150\n",
            "building tree 52 of 150\n",
            "building tree 53 of 150\n",
            "building tree 54 of 150\n",
            "building tree 55 of 150\n",
            "building tree 56 of 150\n",
            "building tree 57 of 150\n",
            "building tree 58 of 150\n",
            "building tree 59 of 150\n",
            "building tree 60 of 150\n",
            "building tree 61 of 150\n",
            "building tree 62 of 150\n",
            "building tree 63 of 150\n",
            "building tree 64 of 150\n",
            "building tree 65 of 150\n",
            "building tree 66 of 150\n",
            "building tree 67 of 150\n",
            "building tree 68 of 150\n",
            "building tree 69 of 150\n",
            "building tree 70 of 150\n",
            "building tree 71 of 150\n",
            "building tree 72 of 150\n",
            "building tree 73 of 150\n",
            "building tree 74 of 150\n",
            "building tree 75 of 150\n",
            "building tree 76 of 150\n",
            "building tree 77 of 150\n",
            "building tree 78 of 150\n",
            "building tree 79 of 150\n",
            "building tree 80 of 150\n",
            "building tree 81 of 150\n",
            "building tree 82 of 150\n",
            "building tree 83 of 150\n",
            "building tree 84 of 150\n",
            "building tree 85 of 150\n",
            "building tree 86 of 150\n",
            "building tree 87 of 150\n",
            "building tree 88 of 150\n",
            "building tree 89 of 150\n",
            "building tree 90 of 150\n",
            "building tree 91 of 150\n",
            "building tree 92 of 150\n",
            "building tree 93 of 150\n",
            "building tree 94 of 150\n",
            "building tree 95 of 150\n",
            "building tree 96 of 150\n",
            "building tree 97 of 150\n",
            "building tree 98 of 150\n",
            "building tree 99 of 150\n",
            "building tree 100 of 150\n",
            "building tree 101 of 150\n",
            "building tree 102 of 150\n",
            "building tree 103 of 150\n",
            "building tree 104 of 150\n",
            "building tree 105 of 150\n",
            "building tree 106 of 150\n",
            "building tree 107 of 150\n",
            "building tree 108 of 150\n",
            "building tree 109 of 150\n",
            "building tree 110 of 150\n",
            "building tree 111 of 150\n",
            "building tree 112 of 150\n",
            "building tree 113 of 150\n",
            "building tree 114 of 150\n",
            "building tree 115 of 150\n",
            "building tree 116 of 150\n",
            "building tree 117 of 150\n",
            "building tree 118 of 150\n",
            "building tree 119 of 150\n",
            "building tree 120 of 150\n",
            "building tree 121 of 150\n",
            "building tree 122 of 150\n",
            "building tree 123 of 150\n",
            "building tree 124 of 150\n",
            "building tree 125 of 150\n",
            "building tree 126 of 150\n",
            "building tree 127 of 150\n",
            "building tree 128 of 150\n",
            "building tree 129 of 150\n",
            "building tree 130 of 150\n",
            "building tree 131 of 150\n",
            "building tree 132 of 150\n",
            "building tree 133 of 150\n",
            "building tree 134 of 150\n",
            "building tree 135 of 150\n",
            "building tree 136 of 150\n",
            "building tree 137 of 150\n",
            "building tree 138 of 150\n",
            "building tree 139 of 150\n",
            "building tree 140 of 150\n",
            "building tree 141 of 150\n",
            "building tree 142 of 150\n",
            "building tree 143 of 150\n",
            "building tree 144 of 150\n",
            "building tree 145 of 150\n",
            "building tree 146 of 150\n",
            "building tree 147 of 150\n",
            "building tree 148 of 150\n",
            "building tree 149 of 150\n",
            "building tree 150 of 150\n"
          ],
          "name": "stdout"
        },
        {
          "output_type": "stream",
          "text": [
            "[Parallel(n_jobs=-1)]: Done 150 out of 150 | elapsed: 20.2min finished\n"
          ],
          "name": "stderr"
        },
        {
          "output_type": "execute_result",
          "data": {
            "text/plain": [
              "RandomForestClassifier(bootstrap=True, ccp_alpha=0.0,\n",
              "                       class_weight='balanced_subsample', criterion='entropy',\n",
              "                       max_depth=15, max_features='auto', max_leaf_nodes=None,\n",
              "                       max_samples=None, min_impurity_decrease=0.0,\n",
              "                       min_impurity_split=None, min_samples_leaf=1,\n",
              "                       min_samples_split=2, min_weight_fraction_leaf=0.0,\n",
              "                       n_estimators=150, n_jobs=-1, oob_score=False,\n",
              "                       random_state=42, verbose=2, warm_start=False)"
            ]
          },
          "metadata": {
            "tags": []
          },
          "execution_count": 6
        }
      ]
    },
    {
      "cell_type": "markdown",
      "metadata": {
        "id": "XDJ6k9jW7fD4",
        "colab_type": "text"
      },
      "source": [
        "# Save and Load Model"
      ]
    },
    {
      "cell_type": "code",
      "metadata": {
        "id": "vSl6qYw1yAeR",
        "colab_type": "code",
        "colab": {
          "base_uri": "https://localhost:8080/",
          "height": 34
        },
        "outputId": "b71d8734-e2c1-4ce7-9a71-2133e959c779"
      },
      "source": [
        "# save trained model\n",
        "joblib.dump(rfc, 'random_forest_with_class_weights.model')"
      ],
      "execution_count": 17,
      "outputs": [
        {
          "output_type": "execute_result",
          "data": {
            "text/plain": [
              "['random_forest_with_class_weights.model']"
            ]
          },
          "metadata": {
            "tags": []
          },
          "execution_count": 17
        }
      ]
    },
    {
      "cell_type": "code",
      "metadata": {
        "id": "-1waUNx67nUY",
        "colab_type": "code",
        "colab": {}
      },
      "source": [
        "# load existing model\n",
        "rfc = joblib.load('random_forest_with_class_weights.model')"
      ],
      "execution_count": 18,
      "outputs": []
    },
    {
      "cell_type": "markdown",
      "metadata": {
        "id": "mW6GqSBqz2F_",
        "colab_type": "text"
      },
      "source": [
        "# Evaluate Model"
      ]
    },
    {
      "cell_type": "code",
      "metadata": {
        "id": "gcg__Qr-eGLT",
        "colab_type": "code",
        "colab": {
          "base_uri": "https://localhost:8080/",
          "height": 67
        },
        "outputId": "a8d5a534-e7cb-4454-beaa-ec28262f8c67"
      },
      "source": [
        "y_pred = rfc.predict(X_test)"
      ],
      "execution_count": 7,
      "outputs": [
        {
          "output_type": "stream",
          "text": [
            "[Parallel(n_jobs=2)]: Using backend ThreadingBackend with 2 concurrent workers.\n",
            "[Parallel(n_jobs=2)]: Done  37 tasks      | elapsed:    1.2s\n",
            "[Parallel(n_jobs=2)]: Done 150 out of 150 | elapsed:    4.9s finished\n"
          ],
          "name": "stderr"
        }
      ]
    },
    {
      "cell_type": "code",
      "metadata": {
        "id": "BA2_JxYc0g8v",
        "colab_type": "code",
        "colab": {
          "base_uri": "https://localhost:8080/",
          "height": 67
        },
        "outputId": "bad68082-8417-4a8d-9cf6-e706e6085a3e"
      },
      "source": [
        "y_probs = rfc.predict_proba(X_test)"
      ],
      "execution_count": 8,
      "outputs": [
        {
          "output_type": "stream",
          "text": [
            "[Parallel(n_jobs=2)]: Using backend ThreadingBackend with 2 concurrent workers.\n",
            "[Parallel(n_jobs=2)]: Done  37 tasks      | elapsed:    1.3s\n",
            "[Parallel(n_jobs=2)]: Done 150 out of 150 | elapsed:    5.0s finished\n"
          ],
          "name": "stderr"
        }
      ]
    },
    {
      "cell_type": "code",
      "metadata": {
        "id": "dUg8yijP0kyW",
        "colab_type": "code",
        "colab": {
          "base_uri": "https://localhost:8080/",
          "height": 235
        },
        "outputId": "ed1aff0b-6281-4d8b-86ef-464aa5fdf6f0"
      },
      "source": [
        "print(y_probs[0][:, 1])\n",
        "print(y_probs[1][:, 1])\n",
        "print(y_probs[2][:, 1])\n",
        "print(y_probs[3][:, 1])\n",
        "print(\"-\"*30)\n",
        "y_pred_probs = np.transpose(np.array([y_probs[0][:, 1], y_probs[1][:, 1], y_probs[2][:, 1], y_probs[3][:, 1]]))\n",
        "print(y_pred_probs)"
      ],
      "execution_count": 9,
      "outputs": [
        {
          "output_type": "stream",
          "text": [
            "[1.         0.97493681 0.98366302 ... 0.9627146  0.97561817 0.8104339 ]\n",
            "[0.00000000e+00 1.72490318e-05 1.29473195e-02 ... 1.82635207e-02\n",
            " 1.19070825e-02 6.57284304e-02]\n",
            "[0.         0.         0.00054567 ... 0.00625156 0.         0.01661901]\n",
            "[0.         0.02504594 0.002844   ... 0.01277032 0.01247475 0.10721866]\n",
            "------------------------------\n",
            "[[1.00000000e+00 0.00000000e+00 0.00000000e+00 0.00000000e+00]\n",
            " [9.74936808e-01 1.72490318e-05 0.00000000e+00 2.50459427e-02]\n",
            " [9.83663017e-01 1.29473195e-02 5.45668509e-04 2.84399515e-03]\n",
            " ...\n",
            " [9.62714601e-01 1.82635207e-02 6.25156134e-03 1.27703172e-02]\n",
            " [9.75618167e-01 1.19070825e-02 0.00000000e+00 1.24747502e-02]\n",
            " [8.10433899e-01 6.57284304e-02 1.66190068e-02 1.07218664e-01]]\n"
          ],
          "name": "stdout"
        }
      ]
    },
    {
      "cell_type": "code",
      "metadata": {
        "id": "GoeHePb-wzF6",
        "colab_type": "code",
        "colab": {
          "base_uri": "https://localhost:8080/",
          "height": 34
        },
        "outputId": "39c20fb2-4bfa-4505-d619-e216138500b1"
      },
      "source": [
        "print(\"accuracy:\", accuracy_score(np.argmax(y_test, axis=1), np.argmax(y_pred_probs, axis=1)))"
      ],
      "execution_count": 10,
      "outputs": [
        {
          "output_type": "stream",
          "text": [
            "accuracy: 0.9521591300570675\n"
          ],
          "name": "stdout"
        }
      ]
    },
    {
      "cell_type": "code",
      "metadata": {
        "id": "HKWMDVbD0ueQ",
        "colab_type": "code",
        "colab": {}
      },
      "source": [
        "def plot_confusion_matrix(cm,\n",
        "                          target_names,\n",
        "                          title='Confusion matrix',\n",
        "                          cmap=None,\n",
        "                          normalize=True):\n",
        "    \"\"\"\n",
        "    given a sklearn confusion matrix (cm), make a nice plot\n",
        "\n",
        "    Arguments\n",
        "    ---------\n",
        "    cm:           confusion matrix from sklearn.metrics.confusion_matrix\n",
        "\n",
        "    target_names: given classification classes such as [0, 1, 2]\n",
        "                  the class names, for example: ['high', 'medium', 'low']\n",
        "\n",
        "    title:        the text to display at the top of the matrix\n",
        "\n",
        "    cmap:         the gradient of the values displayed from matplotlib.pyplot.cm\n",
        "                  see http://matplotlib.org/examples/color/colormaps_reference.html\n",
        "                  plt.get_cmap('jet') or plt.cm.Blues\n",
        "\n",
        "    normalize:    If False, plot the raw numbers\n",
        "                  If True, plot the proportions\n",
        "\n",
        "    Usage\n",
        "    -----\n",
        "    plot_confusion_matrix(cm           = cm,                  # confusion matrix created by\n",
        "                                                              # sklearn.metrics.confusion_matrix\n",
        "                          normalize    = True,                # show proportions\n",
        "                          target_names = y_labels_vals,       # list of names of the classes\n",
        "                          title        = best_estimator_name) # title of graph\n",
        "\n",
        "    Citiation\n",
        "    ---------\n",
        "    http://scikit-learn.org/stable/auto_examples/model_selection/plot_confusion_matrix.html\n",
        "\n",
        "    \"\"\"\n",
        "    import matplotlib.pyplot as plt\n",
        "    import numpy as np\n",
        "    import itertools\n",
        "\n",
        "    accuracy = np.trace(cm) / float(np.sum(cm))\n",
        "    misclass = 1 - accuracy\n",
        "\n",
        "    if cmap is None:\n",
        "        cmap = plt.get_cmap('Blues')\n",
        "\n",
        "    plt.figure(figsize=(8, 6))\n",
        "    plt.imshow(cm, interpolation='nearest', cmap=cmap)\n",
        "    plt.title(title)\n",
        "    plt.colorbar()\n",
        "\n",
        "    if target_names is not None:\n",
        "        tick_marks = np.arange(len(target_names))\n",
        "        plt.xticks(tick_marks, target_names, rotation=45)\n",
        "        plt.yticks(tick_marks, target_names)\n",
        "\n",
        "    if normalize:\n",
        "        cm = cm.astype('float') / cm.sum(axis=1)[:, np.newaxis]\n",
        "\n",
        "\n",
        "    thresh = cm.max() / 1.5 if normalize else cm.max() / 2\n",
        "    for i, j in itertools.product(range(cm.shape[0]), range(cm.shape[1])):\n",
        "        if normalize:\n",
        "            plt.text(j, i, \"{:0.4f}\".format(cm[i, j]),\n",
        "                     horizontalalignment=\"center\",\n",
        "                     color=\"white\" if cm[i, j] > thresh else \"black\")\n",
        "        else:\n",
        "            plt.text(j, i, \"{:,}\".format(cm[i, j]),\n",
        "                     horizontalalignment=\"center\",\n",
        "                     color=\"white\" if cm[i, j] > thresh else \"black\")\n",
        "\n",
        "\n",
        "    plt.tight_layout()\n",
        "    plt.ylabel('True label')\n",
        "    plt.xlabel('Predicted label\\naccuracy={:0.4f}; misclass={:0.4f}'.format(accuracy, misclass))\n",
        "    plt.show()"
      ],
      "execution_count": 11,
      "outputs": []
    },
    {
      "cell_type": "code",
      "metadata": {
        "id": "d0zmXCiP1vmZ",
        "colab_type": "code",
        "colab": {
          "base_uri": "https://localhost:8080/",
          "height": 467
        },
        "outputId": "a660c656-843a-409d-9511-468bdfe9d29d"
      },
      "source": [
        "conf_mat = confusion_matrix(np.argmax(y_test, axis=1), np.argmax(y_pred_probs, axis=1))\n",
        "\n",
        "plot_confusion_matrix(cm           = conf_mat, \n",
        "                      normalize    = False,\n",
        "                      target_names = ['No Precipitation', 'Stratiform', 'Convective', 'Other'],\n",
        "                      title        = \"Confusion Matrix\")"
      ],
      "execution_count": 12,
      "outputs": [
        {
          "output_type": "display_data",
          "data": {
            "image/png": "[encoded data removed]",
            "text/plain": [
              "<Figure size 576x432 with 2 Axes>"
            ]
          },
          "metadata": {
            "tags": [],
            "needs_background": "light"
          }
        }
      ]
    },
    {
      "cell_type": "code",
      "metadata": {
        "id": "eVONa3G6jZ7_",
        "colab_type": "code",
        "colab": {
          "base_uri": "https://localhost:8080/",
          "height": 621
        },
        "outputId": "69d2f2a4-a369-4ddf-d416-d41d84601fd0"
      },
      "source": [
        "from sklearn.metrics import roc_auc_score, roc_curve\n",
        "\n",
        "def get_roc_curve(labels, y_true, y_pred):\n",
        "    auc_roc_vals = []\n",
        "    for i in range(len(labels)):\n",
        "        try:\n",
        "            gt = y_true[:, i]\n",
        "            pred = y_pred[:, i]\n",
        "            auc_roc = roc_auc_score(gt, pred)\n",
        "            auc_roc_vals.append(auc_roc)\n",
        "            fpr_rf, tpr_rf, _ = roc_curve(gt, pred)\n",
        "            plt.figure(1, figsize=(10, 10))\n",
        "            plt.plot([0, 1], [0, 1], 'k--')\n",
        "            plt.plot(fpr_rf, tpr_rf,\n",
        "                     label=labels[i] + \" (\" + str(round(auc_roc, 3)) + \")\")\n",
        "            plt.xlabel('False positive rate')\n",
        "            plt.ylabel('True positive rate')\n",
        "            plt.title('ROC curve')\n",
        "            plt.legend(loc='best')\n",
        "        except:\n",
        "            print(\n",
        "                f\"Error in generating ROC curve for {labels[i]}. \"\n",
        "                f\"Dataset lacks enough examples.\"\n",
        "            )\n",
        "    plt.show()\n",
        "    return auc_roc_vals\n",
        "\n",
        "\n",
        "auc_rocs = get_roc_curve(['No Precipitation', 'Stratiform', 'Convective', 'Other'], y_test, y_pred_probs)"
      ],
      "execution_count": 13,
      "outputs": [
        {
          "output_type": "display_data",
          "data": {
            "image/png": "[encoded data removed]",
            "text/plain": [
              "<Figure size 720x720 with 1 Axes>"
            ]
          },
          "metadata": {
            "tags": [],
            "needs_background": "light"
          }
        }
      ]
    },
    {
      "cell_type": "code",
      "metadata": {
        "id": "FQMBjnvt7xzJ",
        "colab_type": "code",
        "colab": {
          "base_uri": "https://localhost:8080/",
          "height": 585
        },
        "outputId": "eee7c16d-4abb-4ed7-dac2-d12580ea9871"
      },
      "source": [
        "# show feature importance:\n",
        "feature_names = np.array(['lat', 'lon',\t'PD_10.65',\t'PD_89.00',\t'PD_166.0',\t'ts',\t'clwp',\t'twv',\t'tc_0',\t'emis_0',\t'emis_std_0',\t'tc_1',\t'emis_1',\t'emis_std_1',\t'tc_2',\t'emis_2',\t'emis_std_2',\t'tc_3',\t'emis_3',\t'emis_std_3',\t'tc_4',\t'emis_4',\t'emis_std_4',\t'tc_5',\t'emis_5',\t'emis_std_5',\t'tc_6',\t'emis_6',\t'emis_std_6',\t'tc_7',\t'emis_7',\t'emis_std_7',\t'tc_8',\t'emis_8',\t'emis_std_8',\t'tc_9',\t'emis_9',\t'emis_std_9',\t'tc_10',\t'emis_10',\t'emis_std_10',\t'tc_11',\t'emis_11',\t'emis_std_11',\t'tc_12',\t'emis_12',\t'emis_std_12'])\n",
        "\n",
        "tree_importance_sorted_idx = np.argsort(rfc.feature_importances_)\n",
        "tree_indices = np.arange(0, len(rfc.feature_importances_)) + 0.5\n",
        "fig, (ax1) = plt.subplots(1, 1, figsize=(12, 8))\n",
        "ax1.barh(tree_indices,\n",
        "         rfc.feature_importances_[tree_importance_sorted_idx], height=0.7)\n",
        "ax1.set_yticklabels(feature_names[tree_importance_sorted_idx])\n",
        "ax1.set_yticks(tree_indices)\n",
        "ax1.set_ylim((0, len(rfc.feature_importances_)))\n",
        "plt.title('Feature Importances')\n",
        "fig.tight_layout()\n",
        "plt.show()"
      ],
      "execution_count": 20,
      "outputs": [
        {
          "output_type": "display_data",
          "data": {
            "image/png": "[encoded data removed]",
            "text/plain": [
              "<Figure size 864x576 with 1 Axes>"
            ]
          },
          "metadata": {
            "tags": [],
            "needs_background": "light"
          }
        }
      ]
    },
    {
      "cell_type": "code",
      "metadata": {
        "id": "PA6ke-sN88Ts",
        "colab_type": "code",
        "colab": {}
      },
      "source": [
        ""
      ],
      "execution_count": null,
      "outputs": []
    }
  ]
}
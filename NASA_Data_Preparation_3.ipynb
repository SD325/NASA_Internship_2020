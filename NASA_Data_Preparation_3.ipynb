{
  "nbformat": 4,
  "nbformat_minor": 0,
  "metadata": {
    "colab": {
      "name": "NASA_Data_Preparation_3.ipynb",
      "provenance": [],
      "collapsed_sections": [],
      "authorship_tag": "ABX9TyPJZwk38T+ialqAJrMmofJG",
      "include_colab_link": true
    },
    "kernelspec": {
      "name": "python3",
      "display_name": "Python 3"
    }
  },
  "cells": [
    {
      "cell_type": "markdown",
      "metadata": {
        "id": "view-in-github",
        "colab_type": "text"
      },
      "source": [
        "<a href=\"https://colab.research.google.com/github/SD325/NASA_Internship_2020/blob/master/NASA_Data_Preparation_3.ipynb\" target=\"_parent\"><img src=\"https://colab.research.google.com/assets/colab-badge.svg\" alt=\"Open In Colab\"/></a>"
      ]
    },
    {
      "cell_type": "code",
      "metadata": {
        "id": "ndpRMrFt-Lgg",
        "colab_type": "code",
        "colab": {
          "base_uri": "https://localhost:8080/",
          "height": 34
        },
        "outputId": "e46d53b4-c7fd-49a5-c5e1-3cdc8d33a6b2"
      },
      "source": [
        "# mount Google Drive\n",
        "from google.colab import drive\n",
        "drive.mount('/content/drive')"
      ],
      "execution_count": 1,
      "outputs": [
        {
          "output_type": "stream",
          "text": [
            "Drive already mounted at /content/drive; to attempt to forcibly remount, call drive.mount(\"/content/drive\", force_remount=True).\n"
          ],
          "name": "stdout"
        }
      ]
    },
    {
      "cell_type": "code",
      "metadata": {
        "id": "bMTYsONO-TIU",
        "colab_type": "code",
        "colab": {}
      },
      "source": [
        "# Suppress warnings\n",
        "import warnings\n",
        "warnings.filterwarnings(\"ignore\")\n",
        "# Imports\n",
        "import pickle\n",
        "import scipy.io\n",
        "import numpy as np\n",
        "import pandas as pd\n",
        "import matplotlib.pyplot as plt\n",
        "import seaborn as sns\n",
        "import os"
      ],
      "execution_count": 2,
      "outputs": []
    },
    {
      "cell_type": "markdown",
      "metadata": {
        "id": "YyQNRkOC-fBg",
        "colab_type": "text"
      },
      "source": [
        "# Load Data"
      ]
    },
    {
      "cell_type": "code",
      "metadata": {
        "id": "YRPOc8_c-Uli",
        "colab_type": "code",
        "colab": {
          "base_uri": "https://localhost:8080/",
          "height": 1000
        },
        "outputId": "04fbe15a-7f39-4479-d821-f17615a1b3d2"
      },
      "source": [
        "import scipy.io\n",
        "BASE_DIR = '/content/drive/My Drive/data/NASA_2020/'\n",
        "# fall, winter, spring, summer\n",
        "filenames =['colloc_Precipflag_DPR_GMI_20151007.sav',\n",
        "            'colloc_Precipflag_DPR_GMI_20160113.sav',\n",
        "            'colloc_Precipflag_DPR_GMI_20160401.sav']\n",
        "            #,'colloc_Precipflag_DPR_GMI_20170606.sav']\n",
        "FILE_PATHS = [BASE_DIR + fn for fn in filenames]\n",
        "data = [scipy.io.readsav(filepath, verbose=1) for filepath in FILE_PATHS]"
      ],
      "execution_count": 3,
      "outputs": [
        {
          "output_type": "stream",
          "text": [
            "--------------------------------------------------\n",
            "Date: Sat Jun 27 00:49:52 2020\n",
            "User: jgong\n",
            "Host: gs613-cirrus.ndc.nasa.gov\n",
            "--------------------------------------------------\n",
            "Format: 12\n",
            "Architecture: x86_64\n",
            "Operating System: linux\n",
            "IDL Version: 8.7.3\n",
            "--------------------------------------------------\n",
            "Successfully read 14 records of which:\n",
            " - 11 are of type VARIABLE\n",
            " - 1 are of type TIMESTAMP\n",
            " - 1 are of type VERSION\n",
            "--------------------------------------------------\n",
            "Available variables:\n",
            " - tc [<class 'numpy.ndarray'>]\n",
            " - latc [<class 'numpy.ndarray'>]\n",
            " - lonc [<class 'numpy.ndarray'>]\n",
            " - utc [<class 'numpy.ndarray'>]\n",
            " - emis [<class 'numpy.ndarray'>]\n",
            " - emis_std [<class 'numpy.ndarray'>]\n",
            " - ts [<class 'numpy.ndarray'>]\n",
            " - clwp [<class 'numpy.ndarray'>]\n",
            " - twv [<class 'numpy.ndarray'>]\n",
            " - tysfc [<class 'numpy.ndarray'>]\n",
            " - pflag [<class 'numpy.ndarray'>]\n",
            "--------------------------------------------------\n",
            "--------------------------------------------------\n",
            "Date: Fri Jun 26 15:53:36 2020\n",
            "User: jgong\n",
            "Host: gs613-cirrus.ndc.nasa.gov\n",
            "--------------------------------------------------\n",
            "Format: 12\n",
            "Architecture: x86_64\n",
            "Operating System: linux\n",
            "IDL Version: 8.7.3\n",
            "--------------------------------------------------\n",
            "Successfully read 14 records of which:\n",
            " - 11 are of type VARIABLE\n",
            " - 1 are of type TIMESTAMP\n",
            " - 1 are of type VERSION\n",
            "--------------------------------------------------\n",
            "Available variables:\n",
            " - tc [<class 'numpy.ndarray'>]\n",
            " - latc [<class 'numpy.ndarray'>]\n",
            " - lonc [<class 'numpy.ndarray'>]\n",
            " - utc [<class 'numpy.ndarray'>]\n",
            " - emis [<class 'numpy.ndarray'>]\n",
            " - emis_std [<class 'numpy.ndarray'>]\n",
            " - ts [<class 'numpy.ndarray'>]\n",
            " - clwp [<class 'numpy.ndarray'>]\n",
            " - twv [<class 'numpy.ndarray'>]\n",
            " - tysfc [<class 'numpy.ndarray'>]\n",
            " - pflag [<class 'numpy.ndarray'>]\n",
            "--------------------------------------------------\n",
            "--------------------------------------------------\n",
            "Date: Fri Jun 26 09:39:17 2020\n",
            "User: jgong\n",
            "Host: gs613-cirrus.ndc.nasa.gov\n",
            "--------------------------------------------------\n",
            "Format: 12\n",
            "Architecture: x86_64\n",
            "Operating System: linux\n",
            "IDL Version: 8.7.3\n",
            "--------------------------------------------------\n",
            "Successfully read 14 records of which:\n",
            " - 11 are of type VARIABLE\n",
            " - 1 are of type TIMESTAMP\n",
            " - 1 are of type VERSION\n",
            "--------------------------------------------------\n",
            "Available variables:\n",
            " - tc [<class 'numpy.ndarray'>]\n",
            " - latc [<class 'numpy.ndarray'>]\n",
            " - lonc [<class 'numpy.ndarray'>]\n",
            " - utc [<class 'numpy.ndarray'>]\n",
            " - emis [<class 'numpy.ndarray'>]\n",
            " - emis_std [<class 'numpy.ndarray'>]\n",
            " - ts [<class 'numpy.ndarray'>]\n",
            " - clwp [<class 'numpy.ndarray'>]\n",
            " - twv [<class 'numpy.ndarray'>]\n",
            " - tysfc [<class 'numpy.ndarray'>]\n",
            " - pflag [<class 'numpy.ndarray'>]\n",
            "--------------------------------------------------\n"
          ],
          "name": "stdout"
        }
      ]
    },
    {
      "cell_type": "markdown",
      "metadata": {
        "id": "vlqa88mC-szj",
        "colab_type": "text"
      },
      "source": [
        "* *nch* = 13 (number of channels. For channel frequency:\n",
        "https://www.star.nesdis.noaa.gov/mirs/gpmgmi.php)\n",
        "* *nfov* = 221 \n",
        "* *nrec*: number of sweep scans for each particular day\n",
        "\n",
        "## Variables\n",
        "\n",
        "* **Emis**: surface emissivity, [no unit], dimension [nch*nfov *nrec]. Valid value: 0<Emis<1\n",
        "* **Emis_std**: standard deviation of surface emissivity, same dimension with Emis; can be used as a quality-control for \"Emis\". If Emis_std is large relative to Emis value, that indicates the emissivity data might be of doubtable quality.\n",
        "* **Tysfc**: surface type. Integer number, each number represents one type of surface (e.g., 1 is ocean). The value of this number has no physical meaning. Rather, it should be served as a classifier for surface. Dimension [nfov * nrec], valid value: 1,2,3, ...,13,14\n",
        "* **Latc/lonc**: latitude/longitude. Unit is [degree], dimension [nfov * nrec].\n",
        "* **UTC**: universal time in [hr] unit. Dimension is [nrec]. UTC is the same for each sweep (i.e., nfov).\n",
        "* **Ts**: surface skin temperature. Unit [K]. dimension [nfov * nrec]. This number is only positive over land. \n",
        "* **TWV**: total column water vapor. Unit [??], dimension [nfov * nrec], valid value: [0,100]\n",
        "* **CLWP**: cloud liquid water path. Unit [kg/m^2], dimension [nfov * nrec], valid value: [0, 12]\n",
        "* **Tc**: brightness temperature. Unit [K], dimension [nch * nfov * nrec]. Valid value: [50-350]. This is the most important input that are purely from observations. We will try to see if we can solely rely on this variable and of course latitude/longitude/time/season for the precipitation flag prediction. \n",
        "* **PFlag**: flag of the type of precipitation. Dimension [nfov * nrec], valid value [0,1,2,3], where 0 is no precipitation, 1 is stratiform, 2 is convective and 3 is other precipitation. \n"
      ]
    },
    {
      "cell_type": "code",
      "metadata": {
        "id": "jG5-QIhn-h6S",
        "colab_type": "code",
        "colab": {
          "base_uri": "https://localhost:8080/",
          "height": 629
        },
        "outputId": "3a8383ff-6af4-4dee-c1b6-277827e445bc"
      },
      "source": [
        "for data_i in data:\n",
        "  for var, arr in data_i.items():\n",
        "    print(f\"\\t{var}: {arr.shape}\")\n",
        "  print(\"-\"*30)"
      ],
      "execution_count": 4,
      "outputs": [
        {
          "output_type": "stream",
          "text": [
            "\ttc: (47381, 221, 13)\n",
            "\tlatc: (47381, 221)\n",
            "\tlonc: (47381, 221)\n",
            "\tutc: (47381,)\n",
            "\temis: (47381, 221, 13)\n",
            "\temis_std: (47381, 221, 13)\n",
            "\tts: (47381, 221)\n",
            "\tclwp: (47381, 221)\n",
            "\ttwv: (47381, 221)\n",
            "\ttysfc: (47381, 221)\n",
            "\tpflag: (47381, 221)\n",
            "------------------------------\n",
            "\ttc: (47371, 221, 13)\n",
            "\tlatc: (47371, 221)\n",
            "\tlonc: (47371, 221)\n",
            "\tutc: (47371,)\n",
            "\temis: (47371, 221, 13)\n",
            "\temis_std: (47371, 221, 13)\n",
            "\tts: (47371, 221)\n",
            "\tclwp: (47371, 221)\n",
            "\ttwv: (47371, 221)\n",
            "\ttysfc: (47371, 221)\n",
            "\tpflag: (47371, 221)\n",
            "------------------------------\n",
            "\ttc: (47408, 221, 13)\n",
            "\tlatc: (47408, 221)\n",
            "\tlonc: (47408, 221)\n",
            "\tutc: (47408,)\n",
            "\temis: (47408, 221, 13)\n",
            "\temis_std: (47408, 221, 13)\n",
            "\tts: (47408, 221)\n",
            "\tclwp: (47408, 221)\n",
            "\ttwv: (47408, 221)\n",
            "\ttysfc: (47408, 221)\n",
            "\tpflag: (47408, 221)\n",
            "------------------------------\n"
          ],
          "name": "stdout"
        }
      ]
    },
    {
      "cell_type": "code",
      "metadata": {
        "id": "E0jfKyGNevTl",
        "colab_type": "code",
        "colab": {
          "base_uri": "https://localhost:8080/",
          "height": 285
        },
        "outputId": "96c9a1e0-4c65-4760-dc84-cd7e33dd218f"
      },
      "source": [
        "# plot of scan times --> drop due to reset after midnight\n",
        "print(data[0]['utc'][1:])\n",
        "plt.plot(range(np.size(data[0]['utc'][1:])), data[0]['utc'][1:])\n",
        "plt.show()"
      ],
      "execution_count": 5,
      "outputs": [
        {
          "output_type": "stream",
          "text": [
            "[0.38111112 0.38166666 0.38222224 ... 1.0569444  1.0575     1.0580555 ]\n"
          ],
          "name": "stdout"
        },
        {
          "output_type": "display_data",
          "data": {
            "image/png": "[encoded data removed]",
            "text/plain": [
              "<Figure size 432x288 with 1 Axes>"
            ]
          },
          "metadata": {
            "tags": [],
            "needs_background": "light"
          }
        }
      ]
    },
    {
      "cell_type": "markdown",
      "metadata": {
        "id": "rdszNxez_-a5",
        "colab_type": "text"
      },
      "source": [
        "# Trim Data"
      ]
    },
    {
      "cell_type": "code",
      "metadata": {
        "id": "q36S0e2nIw47",
        "colab_type": "code",
        "colab": {
          "base_uri": "https://localhost:8080/",
          "height": 221
        },
        "outputId": "eafa10a4-c756-485a-dd08-ed83d0f91517"
      },
      "source": [
        "print(np.where(np.sum((data[0]['latc'] == -9999.900390625), axis=0) != 0)[0], end='\\n-----\\n')\n",
        "print(np.where(np.sum((data[1]['latc'] == -9999.900390625), axis=0) != 0)[0], end='\\n-----\\n')\n",
        "print(np.where(np.sum((data[2]['latc'] == -9999.900390625), axis=0) != 0)[0], end='\\n-----\\n')\n",
        "# print(np.where(np.sum((data[3]['latc'] == -9999.900390625), axis=0) != 0)[0], end='\\n-----\\n')"
      ],
      "execution_count": 6,
      "outputs": [
        {
          "output_type": "stream",
          "text": [
            "[  0   1   2   3   4   5   6   7   8   9  10  11  12  13  14  15  16  17\n",
            "  18  19  20  21  22  23  24 196 197 198 199 200 201 202 203 204 205 206\n",
            " 207 208 209 210 211 212 213 214 215 216 217 218 219 220]\n",
            "-----\n",
            "[  0   1   2   3   4   5   6   7   8   9  10  11  12  13  14  15  16  17\n",
            "  18  19  20  21  22  23  24 196 197 198 199 200 201 202 203 204 205 206\n",
            " 207 208 209 210 211 212 213 214 215 216 217 218 219 220]\n",
            "-----\n",
            "[  0   1   2   3   4   5   6   7   8   9  10  11  12  13  14  15  16  17\n",
            "  18  19  20  21  22  23  24 196 197 198 199 200 201 202 203 204 205 206\n",
            " 207 208 209 210 211 212 213 214 215 216 217 218 219 220]\n",
            "-----\n"
          ],
          "name": "stdout"
        }
      ]
    },
    {
      "cell_type": "code",
      "metadata": {
        "id": "X7J6Y4kPICQG",
        "colab_type": "code",
        "colab": {
          "base_uri": "https://localhost:8080/",
          "height": 136
        },
        "outputId": "7700d1cd-737c-4ffa-b28a-b34fe8721148"
      },
      "source": [
        "print(data[0]['latc'][1:, 25:196])"
      ],
      "execution_count": 7,
      "outputs": [
        {
          "output_type": "stream",
          "text": [
            "[[-68.79434  -68.73609  -68.71694  ... -61.325665 -61.315002 -61.267876]\n",
            " [-68.781494 -68.72291  -68.70354  ... -61.31542  -61.304935 -61.25805 ]\n",
            " [-68.768    -68.709145 -68.689545 ... -61.304684 -61.294384 -61.2478  ]\n",
            " ...\n",
            " [-68.83302  -68.77591  -68.75754  ... -61.359344 -61.348076 -61.300156]\n",
            " [-68.82227  -68.76473  -68.746124 ... -61.350723 -61.339638 -61.292034]\n",
            " [-68.81102  -68.75305  -68.73422  ... -61.341705 -61.3308   -61.283375]]\n"
          ],
          "name": "stdout"
        }
      ]
    },
    {
      "cell_type": "code",
      "metadata": {
        "id": "HtIAJb_DBeA6",
        "colab_type": "code",
        "colab": {
          "base_uri": "https://localhost:8080/",
          "height": 629
        },
        "outputId": "6fd595fe-9cce-44a5-a4b1-d77a1fb5ad33"
      },
      "source": [
        "import copy\n",
        "data_trimmed = []\n",
        "for i, data_i in enumerate(data):\n",
        "  data_trimmed_i = {}\n",
        "  for var, arr in data_i.items():\n",
        "    if arr.ndim == 1:\n",
        "      data_trimmed_i[var] = arr[1:] \n",
        "    else:\n",
        "      data_trimmed_i[var] = arr[1:, 25:196] if arr.ndim == 2 else arr[1:, 25:196, :] \n",
        "\n",
        "  for var, arr in data_trimmed_i.items():\n",
        "    print(f\"{var}: {arr.shape}\")\n",
        "  print('-' * 15)\n",
        "  data_trimmed.append(data_trimmed_i)\n",
        "\n",
        "# free up memory\n",
        "del data"
      ],
      "execution_count": 8,
      "outputs": [
        {
          "output_type": "stream",
          "text": [
            "tc: (47380, 171, 13)\n",
            "latc: (47380, 171)\n",
            "lonc: (47380, 171)\n",
            "utc: (47380,)\n",
            "emis: (47380, 171, 13)\n",
            "emis_std: (47380, 171, 13)\n",
            "ts: (47380, 171)\n",
            "clwp: (47380, 171)\n",
            "twv: (47380, 171)\n",
            "tysfc: (47380, 171)\n",
            "pflag: (47380, 171)\n",
            "---------------\n",
            "tc: (47370, 171, 13)\n",
            "latc: (47370, 171)\n",
            "lonc: (47370, 171)\n",
            "utc: (47370,)\n",
            "emis: (47370, 171, 13)\n",
            "emis_std: (47370, 171, 13)\n",
            "ts: (47370, 171)\n",
            "clwp: (47370, 171)\n",
            "twv: (47370, 171)\n",
            "tysfc: (47370, 171)\n",
            "pflag: (47370, 171)\n",
            "---------------\n",
            "tc: (47407, 171, 13)\n",
            "latc: (47407, 171)\n",
            "lonc: (47407, 171)\n",
            "utc: (47407,)\n",
            "emis: (47407, 171, 13)\n",
            "emis_std: (47407, 171, 13)\n",
            "ts: (47407, 171)\n",
            "clwp: (47407, 171)\n",
            "twv: (47407, 171)\n",
            "tysfc: (47407, 171)\n",
            "pflag: (47407, 171)\n",
            "---------------\n"
          ],
          "name": "stdout"
        }
      ]
    },
    {
      "cell_type": "markdown",
      "metadata": {
        "id": "WZuRQnd2-6F-",
        "colab_type": "text"
      },
      "source": [
        "# Polarization Differences (PDs)"
      ]
    },
    {
      "cell_type": "code",
      "metadata": {
        "id": "1_TMcuVQ-03j",
        "colab_type": "code",
        "colab": {
          "base_uri": "https://localhost:8080/",
          "height": 68
        },
        "outputId": "9e51278e-c2a2-4f7d-c6f3-89c2a0f5cdaf"
      },
      "source": [
        "# calculate polarization differences (PD)\n",
        "def add_to_PD_i(i, freq, ind1, ind2, data):\n",
        "  PD[i][freq] = data[i]['tc'][:, :, ind1] - data[i]['tc'][:, :, ind2]\n",
        "\n",
        "PD = [{} for _ in range(len(data_trimmed))]\n",
        "for i in range(len(data_trimmed)):\n",
        "  add_to_PD_i(i, '10.65', 0, 1, data_trimmed)\n",
        "  add_to_PD_i(i, '18.70', 2, 3, data_trimmed)\n",
        "  add_to_PD_i(i, '36.50', 5, 6, data_trimmed)\n",
        "  add_to_PD_i(i, '89.00', 7, 8, data_trimmed)\n",
        "  add_to_PD_i(i, '166.0', 9, 10, data_trimmed)\n",
        "  print(PD[i].keys())"
      ],
      "execution_count": 9,
      "outputs": [
        {
          "output_type": "stream",
          "text": [
            "dict_keys(['10.65', '18.70', '36.50', '89.00', '166.0'])\n",
            "dict_keys(['10.65', '18.70', '36.50', '89.00', '166.0'])\n",
            "dict_keys(['10.65', '18.70', '36.50', '89.00', '166.0'])\n"
          ],
          "name": "stdout"
        }
      ]
    },
    {
      "cell_type": "markdown",
      "metadata": {
        "id": "3fauJw4fDQKe",
        "colab_type": "text"
      },
      "source": [
        "# Construct DataFrame"
      ]
    },
    {
      "cell_type": "code",
      "metadata": {
        "id": "xhZG019-Nw8S",
        "colab_type": "code",
        "colab": {}
      },
      "source": [
        "# # append ravelled data\n",
        "# ravelled = {}\n",
        "# for i, data_i in enumerate(data_trimmed):\n",
        "#   for var, arr in data_i.items():\n",
        "#     if np.ndim(arr) != 2\n",
        "#     if i == 0:\n",
        "#       ravelled[var] = np.ravel(arr)\n",
        "#     else:\n",
        "#       ravelled[var] = np.append(ravelled[var], np.ravel(arr))\n",
        "\n",
        "# for var, arr in ravelled.items():\n",
        "#     print(f\"{var}: {arr.shape}\")"
      ],
      "execution_count": 10,
      "outputs": []
    },
    {
      "cell_type": "code",
      "metadata": {
        "id": "Sh3HgLrZyzpg",
        "colab_type": "code",
        "colab": {
          "base_uri": "https://localhost:8080/",
          "height": 136
        },
        "outputId": "4e686b9a-f1dd-4398-c125-b81b69e8a403"
      },
      "source": [
        "data_dfs = [pd.DataFrame()] * len(data_trimmed)\n",
        "data_dfs"
      ],
      "execution_count": 11,
      "outputs": [
        {
          "output_type": "execute_result",
          "data": {
            "text/plain": [
              "[Empty DataFrame\n",
              " Columns: []\n",
              " Index: [], Empty DataFrame\n",
              " Columns: []\n",
              " Index: [], Empty DataFrame\n",
              " Columns: []\n",
              " Index: []]"
            ]
          },
          "metadata": {
            "tags": []
          },
          "execution_count": 11
        }
      ]
    },
    {
      "cell_type": "code",
      "metadata": {
        "id": "fYYnl408DCe2",
        "colab_type": "code",
        "colab": {
          "base_uri": "https://localhost:8080/",
          "height": 221
        },
        "outputId": "b7812915-f190-475b-a2e4-874884a5aaa7"
      },
      "source": [
        "# ravel 2d data --> scans one after another\n",
        "'''\n",
        "* 13 channels TB\n",
        "* 3 channels PD (10.65, 89 and 166 GHz)\n",
        "x Surface emissivity\n",
        "* Ts\n",
        "* CLWP\n",
        "* TWV\n",
        "* Lat/Lon\n",
        "- Day of the year starting from the first day of the year (i.e., Julian day. For example, 1/1/2017 is 1, 2/1/2017 is 32)\n",
        "'''\n",
        "data_dfs = []\n",
        "# data_df['pflag'] = np.ravel(data_trimmed['pflag'])\n",
        "PD_freqs_append = ['10.65', '89.00', '166.0']\n",
        "data_2d = {'latc': 'lat',\n",
        "           'lonc': 'lon',\n",
        "           'ts': 'ts',\n",
        "           'clwp': 'clwp',\n",
        "           'twv': 'twv'}\n",
        "for i, data_i in enumerate(data_trimmed):\n",
        "  curr_df = pd.DataFrame()\n",
        "  # 2d data\n",
        "  for data_name, df_name in data_2d.items():\n",
        "    # print(f\"\\t{np.ravel(data_i[data_name]).shape}\")\n",
        "    curr_df[df_name] = np.ravel(data_i[data_name])\n",
        "\n",
        "  # PDs\n",
        "  for freq in PD_freqs_append:\n",
        "    curr_df[f'PD_{freq}'] = np.ravel(PD[i][freq])\n",
        "\n",
        "  # 3d data\n",
        "  for idx in range(data_i['tc'].shape[2]):\n",
        "    curr_df[f'tc_{idx}'] = np.ravel(data_i['tc'][:, :, idx])\n",
        "\n",
        "  data_dfs.append(curr_df)\n",
        "  del curr_df\n",
        "  # print(f\"{i}: {data_dfs[i].shape}\")\n",
        "  # print(\"0:\")\n",
        "  # print(data_dfs[0].head(), end='\\n-----\\n')\n",
        "  # print(\"1:\")\n",
        "  # print(data_dfs[1].head(), end='\\n-----\\n')\n",
        "  # data_df['tysfc'] = np.ravel(data_i['tysfc'])  # categorical --> add later!\n",
        "\n",
        "print('combining DataFrames')\n",
        "data_df = pd.concat(data_dfs, ignore_index = True)\n",
        "del data_dfs\n",
        "data_df.head()"
      ],
      "execution_count": 10,
      "outputs": [
        {
          "output_type": "stream",
          "text": [
            "combining DataFrames\n"
          ],
          "name": "stdout"
        },
        {
          "output_type": "execute_result",
          "data": {
            "text/html": [
              "<div>\n",
              "<style scoped>\n",
              "    .dataframe tbody tr th:only-of-type {\n",
              "        vertical-align: middle;\n",
              "    }\n",
              "\n",
              "    .dataframe tbody tr th {\n",
              "        vertical-align: top;\n",
              "    }\n",
              "\n",
              "    .dataframe thead th {\n",
              "        text-align: right;\n",
              "    }\n",
              "</style>\n",
              "<table border=\"1\" class=\"dataframe\">\n",
              "  <thead>\n",
              "    <tr style=\"text-align: right;\">\n",
              "      <th></th>\n",
              "      <th>lat</th>\n",
              "      <th>lon</th>\n",
              "      <th>ts</th>\n",
              "      <th>clwp</th>\n",
              "      <th>twv</th>\n",
              "      <th>PD_10.65</th>\n",
              "      <th>PD_89.00</th>\n",
              "      <th>PD_166.0</th>\n",
              "      <th>tc_0</th>\n",
              "      <th>tc_1</th>\n",
              "      <th>tc_2</th>\n",
              "      <th>tc_3</th>\n",
              "      <th>tc_4</th>\n",
              "      <th>tc_5</th>\n",
              "      <th>tc_6</th>\n",
              "      <th>tc_7</th>\n",
              "      <th>tc_8</th>\n",
              "      <th>tc_9</th>\n",
              "      <th>tc_10</th>\n",
              "      <th>tc_11</th>\n",
              "      <th>tc_12</th>\n",
              "    </tr>\n",
              "  </thead>\n",
              "  <tbody>\n",
              "    <tr>\n",
              "      <th>0</th>\n",
              "      <td>-68.794342</td>\n",
              "      <td>121.109978</td>\n",
              "      <td>-99.0</td>\n",
              "      <td>-99.0</td>\n",
              "      <td>-99.0</td>\n",
              "      <td>22.889999</td>\n",
              "      <td>14.330002</td>\n",
              "      <td>10.839996</td>\n",
              "      <td>228.770004</td>\n",
              "      <td>205.880005</td>\n",
              "      <td>223.490005</td>\n",
              "      <td>204.559998</td>\n",
              "      <td>222.809998</td>\n",
              "      <td>224.610001</td>\n",
              "      <td>208.850006</td>\n",
              "      <td>231.000000</td>\n",
              "      <td>216.669998</td>\n",
              "      <td>227.389999</td>\n",
              "      <td>216.550003</td>\n",
              "      <td>237.830002</td>\n",
              "      <td>230.470001</td>\n",
              "    </tr>\n",
              "    <tr>\n",
              "      <th>1</th>\n",
              "      <td>-68.736092</td>\n",
              "      <td>121.270271</td>\n",
              "      <td>-99.0</td>\n",
              "      <td>-99.0</td>\n",
              "      <td>-99.0</td>\n",
              "      <td>24.899994</td>\n",
              "      <td>13.979996</td>\n",
              "      <td>12.560013</td>\n",
              "      <td>229.369995</td>\n",
              "      <td>204.470001</td>\n",
              "      <td>222.880005</td>\n",
              "      <td>203.619995</td>\n",
              "      <td>223.070007</td>\n",
              "      <td>224.199997</td>\n",
              "      <td>208.869995</td>\n",
              "      <td>230.679993</td>\n",
              "      <td>216.699997</td>\n",
              "      <td>228.960007</td>\n",
              "      <td>216.399994</td>\n",
              "      <td>237.610001</td>\n",
              "      <td>231.130005</td>\n",
              "    </tr>\n",
              "    <tr>\n",
              "      <th>2</th>\n",
              "      <td>-68.716942</td>\n",
              "      <td>121.389320</td>\n",
              "      <td>-99.0</td>\n",
              "      <td>-99.0</td>\n",
              "      <td>-99.0</td>\n",
              "      <td>24.840012</td>\n",
              "      <td>14.509995</td>\n",
              "      <td>9.139999</td>\n",
              "      <td>228.990005</td>\n",
              "      <td>204.149994</td>\n",
              "      <td>223.880005</td>\n",
              "      <td>203.710007</td>\n",
              "      <td>223.369995</td>\n",
              "      <td>224.240005</td>\n",
              "      <td>208.160004</td>\n",
              "      <td>231.479996</td>\n",
              "      <td>216.970001</td>\n",
              "      <td>227.419998</td>\n",
              "      <td>218.279999</td>\n",
              "      <td>238.160004</td>\n",
              "      <td>231.839996</td>\n",
              "    </tr>\n",
              "    <tr>\n",
              "      <th>3</th>\n",
              "      <td>-68.697197</td>\n",
              "      <td>121.507530</td>\n",
              "      <td>-99.0</td>\n",
              "      <td>-99.0</td>\n",
              "      <td>-99.0</td>\n",
              "      <td>25.550003</td>\n",
              "      <td>14.410004</td>\n",
              "      <td>10.429993</td>\n",
              "      <td>228.979996</td>\n",
              "      <td>203.429993</td>\n",
              "      <td>223.240005</td>\n",
              "      <td>202.210007</td>\n",
              "      <td>222.839996</td>\n",
              "      <td>224.020004</td>\n",
              "      <td>205.979996</td>\n",
              "      <td>231.139999</td>\n",
              "      <td>216.729996</td>\n",
              "      <td>226.339996</td>\n",
              "      <td>215.910004</td>\n",
              "      <td>237.490005</td>\n",
              "      <td>231.080002</td>\n",
              "    </tr>\n",
              "    <tr>\n",
              "      <th>4</th>\n",
              "      <td>-68.648026</td>\n",
              "      <td>121.535782</td>\n",
              "      <td>-99.0</td>\n",
              "      <td>-99.0</td>\n",
              "      <td>-99.0</td>\n",
              "      <td>24.010010</td>\n",
              "      <td>14.319992</td>\n",
              "      <td>10.379990</td>\n",
              "      <td>228.630005</td>\n",
              "      <td>204.619995</td>\n",
              "      <td>223.919998</td>\n",
              "      <td>202.509995</td>\n",
              "      <td>222.520004</td>\n",
              "      <td>223.520004</td>\n",
              "      <td>206.960007</td>\n",
              "      <td>230.789993</td>\n",
              "      <td>216.470001</td>\n",
              "      <td>228.259995</td>\n",
              "      <td>217.880005</td>\n",
              "      <td>238.449997</td>\n",
              "      <td>231.389999</td>\n",
              "    </tr>\n",
              "  </tbody>\n",
              "</table>\n",
              "</div>"
            ],
            "text/plain": [
              "         lat         lon    ts  ...       tc_10       tc_11       tc_12\n",
              "0 -68.794342  121.109978 -99.0  ...  216.550003  237.830002  230.470001\n",
              "1 -68.736092  121.270271 -99.0  ...  216.399994  237.610001  231.130005\n",
              "2 -68.716942  121.389320 -99.0  ...  218.279999  238.160004  231.839996\n",
              "3 -68.697197  121.507530 -99.0  ...  215.910004  237.490005  231.080002\n",
              "4 -68.648026  121.535782 -99.0  ...  217.880005  238.449997  231.389999\n",
              "\n",
              "[5 rows x 21 columns]"
            ]
          },
          "metadata": {
            "tags": []
          },
          "execution_count": 10
        }
      ]
    },
    {
      "cell_type": "code",
      "metadata": {
        "id": "sEj8sGIIAJkF",
        "colab_type": "code",
        "colab": {
          "base_uri": "https://localhost:8080/",
          "height": 204
        },
        "outputId": "3cb7bf7e-0121-4a2e-af04-a4bf3fce54ed"
      },
      "source": [
        "y = pd.DataFrame()\n",
        "y['pflag'] = np.concatenate(tuple(np.ravel(data_trimmed[i]['pflag']).byteswap().newbyteorder() for i in range(len(data_trimmed))))\n",
        "y.head()"
      ],
      "execution_count": 12,
      "outputs": [
        {
          "output_type": "execute_result",
          "data": {
            "text/html": [
              "<div>\n",
              "<style scoped>\n",
              "    .dataframe tbody tr th:only-of-type {\n",
              "        vertical-align: middle;\n",
              "    }\n",
              "\n",
              "    .dataframe tbody tr th {\n",
              "        vertical-align: top;\n",
              "    }\n",
              "\n",
              "    .dataframe thead th {\n",
              "        text-align: right;\n",
              "    }\n",
              "</style>\n",
              "<table border=\"1\" class=\"dataframe\">\n",
              "  <thead>\n",
              "    <tr style=\"text-align: right;\">\n",
              "      <th></th>\n",
              "      <th>pflag</th>\n",
              "    </tr>\n",
              "  </thead>\n",
              "  <tbody>\n",
              "    <tr>\n",
              "      <th>0</th>\n",
              "      <td>NaN</td>\n",
              "    </tr>\n",
              "    <tr>\n",
              "      <th>1</th>\n",
              "      <td>NaN</td>\n",
              "    </tr>\n",
              "    <tr>\n",
              "      <th>2</th>\n",
              "      <td>NaN</td>\n",
              "    </tr>\n",
              "    <tr>\n",
              "      <th>3</th>\n",
              "      <td>NaN</td>\n",
              "    </tr>\n",
              "    <tr>\n",
              "      <th>4</th>\n",
              "      <td>NaN</td>\n",
              "    </tr>\n",
              "  </tbody>\n",
              "</table>\n",
              "</div>"
            ],
            "text/plain": [
              "   pflag\n",
              "0    NaN\n",
              "1    NaN\n",
              "2    NaN\n",
              "3    NaN\n",
              "4    NaN"
            ]
          },
          "metadata": {
            "tags": []
          },
          "execution_count": 12
        }
      ]
    },
    {
      "cell_type": "code",
      "metadata": {
        "id": "QykYNVJ1HbfJ",
        "colab_type": "code",
        "colab": {
          "base_uri": "https://localhost:8080/",
          "height": 51
        },
        "outputId": "8e1e6357-a487-4ed4-efc5-ec31ac70bf2a"
      },
      "source": [
        "print(data_df.shape)\n",
        "print(y.shape)"
      ],
      "execution_count": 13,
      "outputs": [
        {
          "output_type": "stream",
          "text": [
            "(24308847, 21)\n",
            "(24308847, 1)\n"
          ],
          "name": "stdout"
        }
      ]
    },
    {
      "cell_type": "markdown",
      "metadata": {
        "id": "tWdjVZms7Zfa",
        "colab_type": "text"
      },
      "source": [
        "# Prepare Data"
      ]
    },
    {
      "cell_type": "code",
      "metadata": {
        "id": "IE8zxvZ26wRR",
        "colab_type": "code",
        "colab": {
          "base_uri": "https://localhost:8080/",
          "height": 224
        },
        "outputId": "9faa9120-8656-4fd0-f6e4-509574fc9417"
      },
      "source": [
        "X_dropped = data_df[(~np.isnan(y['pflag'])) & (data_df['ts'] != -99.0) & (~np.isnan(data_df['twv']))]\n",
        "X_dropped.head()"
      ],
      "execution_count": 14,
      "outputs": [
        {
          "output_type": "execute_result",
          "data": {
            "text/html": [
              "<div>\n",
              "<style scoped>\n",
              "    .dataframe tbody tr th:only-of-type {\n",
              "        vertical-align: middle;\n",
              "    }\n",
              "\n",
              "    .dataframe tbody tr th {\n",
              "        vertical-align: top;\n",
              "    }\n",
              "\n",
              "    .dataframe thead th {\n",
              "        text-align: right;\n",
              "    }\n",
              "</style>\n",
              "<table border=\"1\" class=\"dataframe\">\n",
              "  <thead>\n",
              "    <tr style=\"text-align: right;\">\n",
              "      <th></th>\n",
              "      <th>lat</th>\n",
              "      <th>lon</th>\n",
              "      <th>ts</th>\n",
              "      <th>clwp</th>\n",
              "      <th>twv</th>\n",
              "      <th>PD_10.65</th>\n",
              "      <th>PD_89.00</th>\n",
              "      <th>PD_166.0</th>\n",
              "      <th>tc_0</th>\n",
              "      <th>tc_1</th>\n",
              "      <th>tc_2</th>\n",
              "      <th>tc_3</th>\n",
              "      <th>tc_4</th>\n",
              "      <th>tc_5</th>\n",
              "      <th>tc_6</th>\n",
              "      <th>tc_7</th>\n",
              "      <th>tc_8</th>\n",
              "      <th>tc_9</th>\n",
              "      <th>tc_10</th>\n",
              "      <th>tc_11</th>\n",
              "      <th>tc_12</th>\n",
              "    </tr>\n",
              "  </thead>\n",
              "  <tbody>\n",
              "    <tr>\n",
              "      <th>405</th>\n",
              "      <td>-65.898605</td>\n",
              "      <td>125.724609</td>\n",
              "      <td>258.322540</td>\n",
              "      <td>0.011064</td>\n",
              "      <td>2.236660</td>\n",
              "      <td>29.500000</td>\n",
              "      <td>15.860001</td>\n",
              "      <td>7.970001</td>\n",
              "      <td>255.880005</td>\n",
              "      <td>226.380005</td>\n",
              "      <td>246.889999</td>\n",
              "      <td>221.880005</td>\n",
              "      <td>246.110001</td>\n",
              "      <td>244.300003</td>\n",
              "      <td>222.809998</td>\n",
              "      <td>235.240005</td>\n",
              "      <td>219.380005</td>\n",
              "      <td>229.220001</td>\n",
              "      <td>221.250000</td>\n",
              "      <td>246.289993</td>\n",
              "      <td>242.410004</td>\n",
              "    </tr>\n",
              "    <tr>\n",
              "      <th>406</th>\n",
              "      <td>-65.805023</td>\n",
              "      <td>125.751350</td>\n",
              "      <td>258.579742</td>\n",
              "      <td>0.014423</td>\n",
              "      <td>2.670216</td>\n",
              "      <td>29.080002</td>\n",
              "      <td>16.639999</td>\n",
              "      <td>8.400009</td>\n",
              "      <td>253.389999</td>\n",
              "      <td>224.309998</td>\n",
              "      <td>242.050003</td>\n",
              "      <td>215.660004</td>\n",
              "      <td>239.710007</td>\n",
              "      <td>241.649994</td>\n",
              "      <td>220.169998</td>\n",
              "      <td>236.690002</td>\n",
              "      <td>220.050003</td>\n",
              "      <td>230.100006</td>\n",
              "      <td>221.699997</td>\n",
              "      <td>246.559998</td>\n",
              "      <td>244.940002</td>\n",
              "    </tr>\n",
              "    <tr>\n",
              "      <th>407</th>\n",
              "      <td>-65.758141</td>\n",
              "      <td>125.762604</td>\n",
              "      <td>258.836304</td>\n",
              "      <td>0.017788</td>\n",
              "      <td>2.518587</td>\n",
              "      <td>30.960007</td>\n",
              "      <td>17.520004</td>\n",
              "      <td>9.369995</td>\n",
              "      <td>252.440002</td>\n",
              "      <td>221.479996</td>\n",
              "      <td>237.250000</td>\n",
              "      <td>211.589996</td>\n",
              "      <td>237.020004</td>\n",
              "      <td>238.259995</td>\n",
              "      <td>216.669998</td>\n",
              "      <td>236.710007</td>\n",
              "      <td>219.190002</td>\n",
              "      <td>231.639999</td>\n",
              "      <td>222.270004</td>\n",
              "      <td>246.270004</td>\n",
              "      <td>244.490005</td>\n",
              "    </tr>\n",
              "    <tr>\n",
              "      <th>408</th>\n",
              "      <td>-65.711205</td>\n",
              "      <td>125.772438</td>\n",
              "      <td>259.092346</td>\n",
              "      <td>0.021157</td>\n",
              "      <td>2.816634</td>\n",
              "      <td>31.970001</td>\n",
              "      <td>17.740005</td>\n",
              "      <td>8.839996</td>\n",
              "      <td>251.350006</td>\n",
              "      <td>219.380005</td>\n",
              "      <td>237.149994</td>\n",
              "      <td>211.309998</td>\n",
              "      <td>236.559998</td>\n",
              "      <td>239.070007</td>\n",
              "      <td>218.169998</td>\n",
              "      <td>236.779999</td>\n",
              "      <td>219.039993</td>\n",
              "      <td>232.750000</td>\n",
              "      <td>223.910004</td>\n",
              "      <td>245.880005</td>\n",
              "      <td>245.850006</td>\n",
              "    </tr>\n",
              "    <tr>\n",
              "      <th>409</th>\n",
              "      <td>-65.664230</td>\n",
              "      <td>125.780869</td>\n",
              "      <td>259.347931</td>\n",
              "      <td>0.024527</td>\n",
              "      <td>2.969014</td>\n",
              "      <td>28.739990</td>\n",
              "      <td>18.130005</td>\n",
              "      <td>9.139999</td>\n",
              "      <td>248.699997</td>\n",
              "      <td>219.960007</td>\n",
              "      <td>238.360001</td>\n",
              "      <td>211.179993</td>\n",
              "      <td>237.539993</td>\n",
              "      <td>239.399994</td>\n",
              "      <td>217.750000</td>\n",
              "      <td>238.830002</td>\n",
              "      <td>220.699997</td>\n",
              "      <td>234.940002</td>\n",
              "      <td>225.800003</td>\n",
              "      <td>245.990005</td>\n",
              "      <td>247.029999</td>\n",
              "    </tr>\n",
              "  </tbody>\n",
              "</table>\n",
              "</div>"
            ],
            "text/plain": [
              "           lat         lon          ts  ...       tc_10       tc_11       tc_12\n",
              "405 -65.898605  125.724609  258.322540  ...  221.250000  246.289993  242.410004\n",
              "406 -65.805023  125.751350  258.579742  ...  221.699997  246.559998  244.940002\n",
              "407 -65.758141  125.762604  258.836304  ...  222.270004  246.270004  244.490005\n",
              "408 -65.711205  125.772438  259.092346  ...  223.910004  245.880005  245.850006\n",
              "409 -65.664230  125.780869  259.347931  ...  225.800003  245.990005  247.029999\n",
              "\n",
              "[5 rows x 21 columns]"
            ]
          },
          "metadata": {
            "tags": []
          },
          "execution_count": 14
        }
      ]
    },
    {
      "cell_type": "code",
      "metadata": {
        "id": "hKfCIXh4B6BP",
        "colab_type": "code",
        "colab": {
          "base_uri": "https://localhost:8080/",
          "height": 51
        },
        "outputId": "af60a7d7-04d0-4431-82a6-72284c47d3ea"
      },
      "source": [
        "print(y.shape)\n",
        "y_dropped = y[(~np.isnan(y['pflag'])) & (data_df['ts'] != -99.0) & (~np.isnan(data_df['twv']))]\n",
        "print(y_dropped.shape)"
      ],
      "execution_count": 15,
      "outputs": [
        {
          "output_type": "stream",
          "text": [
            "(24308847, 1)\n",
            "(2185776, 1)\n"
          ],
          "name": "stdout"
        }
      ]
    },
    {
      "cell_type": "code",
      "metadata": {
        "id": "zQrw-rM1HlKn",
        "colab_type": "code",
        "colab": {}
      },
      "source": [
        "del data_df\n",
        "del y"
      ],
      "execution_count": 16,
      "outputs": []
    },
    {
      "cell_type": "code",
      "metadata": {
        "id": "yS-IBQDh7DOa",
        "colab_type": "code",
        "colab": {
          "base_uri": "https://localhost:8080/",
          "height": 34
        },
        "outputId": "399a5899-7a00-46fe-b3a7-6e0cf1d1d124"
      },
      "source": [
        "from sklearn.preprocessing import StandardScaler\n",
        "scaler = StandardScaler()\n",
        "X_prep = scaler.fit_transform(X_dropped)\n",
        "X_prep.shape"
      ],
      "execution_count": 17,
      "outputs": [
        {
          "output_type": "execute_result",
          "data": {
            "text/plain": [
              "(2185776, 21)"
            ]
          },
          "metadata": {
            "tags": []
          },
          "execution_count": 17
        }
      ]
    },
    {
      "cell_type": "code",
      "metadata": {
        "id": "AYVdCz4i9ueZ",
        "colab_type": "code",
        "colab": {
          "base_uri": "https://localhost:8080/",
          "height": 34
        },
        "outputId": "54c9480c-0a1c-497f-b52d-d242d5e77338"
      },
      "source": [
        "from sklearn.preprocessing import OneHotEncoder\n",
        "ohe = OneHotEncoder()\n",
        "y_prep = ohe.fit_transform(y_dropped).toarray()\n",
        "y_prep.shape"
      ],
      "execution_count": 18,
      "outputs": [
        {
          "output_type": "execute_result",
          "data": {
            "text/plain": [
              "(2185776, 4)"
            ]
          },
          "metadata": {
            "tags": []
          },
          "execution_count": 18
        }
      ]
    },
    {
      "cell_type": "code",
      "metadata": {
        "id": "uQQgz5JHZobt",
        "colab_type": "code",
        "colab": {
          "base_uri": "https://localhost:8080/",
          "height": 34
        },
        "outputId": "2ecc9909-b3ce-4ab8-aefa-c1938d27cc38"
      },
      "source": [
        "type(y_prep)"
      ],
      "execution_count": 19,
      "outputs": [
        {
          "output_type": "execute_result",
          "data": {
            "text/plain": [
              "numpy.ndarray"
            ]
          },
          "metadata": {
            "tags": []
          },
          "execution_count": 19
        }
      ]
    },
    {
      "cell_type": "code",
      "metadata": {
        "id": "SgytUpa6yL95",
        "colab_type": "code",
        "colab": {
          "base_uri": "https://localhost:8080/",
          "height": 51
        },
        "outputId": "466d8fdd-4080-4283-996d-e54b4cafb051"
      },
      "source": [
        "# should be all zeros\n",
        "print(\"X: \", sum(np.isnan(X_prep)))\n",
        "print(\"y: \", sum(np.isnan(y_prep)))"
      ],
      "execution_count": 20,
      "outputs": [
        {
          "output_type": "stream",
          "text": [
            "X:  [0 0 0 0 0 0 0 0 0 0 0 0 0 0 0 0 0 0 0 0 0]\n",
            "y:  [0 0 0 0]\n"
          ],
          "name": "stdout"
        }
      ]
    },
    {
      "cell_type": "markdown",
      "metadata": {
        "id": "EgjQCV_mE7UV",
        "colab_type": "text"
      },
      "source": [
        "# Save Data"
      ]
    },
    {
      "cell_type": "code",
      "metadata": {
        "id": "q8MCJ_m192Z5",
        "colab_type": "code",
        "colab": {}
      },
      "source": [
        "with open(BASE_DIR + 'X_data_3_days.pkl', 'wb') as f:\n",
        "  pickle.dump(X_prep, f)\n",
        "\n",
        "with open(BASE_DIR + 'y_data_3_days.pkl', 'wb') as f:\n",
        "  pickle.dump(y_prep, f)"
      ],
      "execution_count": 22,
      "outputs": []
    },
    {
      "cell_type": "code",
      "metadata": {
        "id": "PFaOtWTuHvCn",
        "colab_type": "code",
        "colab": {}
      },
      "source": [
        ""
      ],
      "execution_count": null,
      "outputs": []
    }
  ]
}
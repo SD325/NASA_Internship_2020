{
  "nbformat": 4,
  "nbformat_minor": 0,
  "metadata": {
    "colab": {
      "name": "NASA_Data_Loader.ipynb",
      "provenance": [],
      "collapsed_sections": [],
      "authorship_tag": "ABX9TyN6EhStUdPejrRSWZ75VmW3",
      "include_colab_link": true
    },
    "kernelspec": {
      "name": "python3",
      "display_name": "Python 3"
    }
  },
  "cells": [
    {
      "cell_type": "markdown",
      "metadata": {
        "id": "view-in-github",
        "colab_type": "text"
      },
      "source": [
        "<a href=\"https://colab.research.google.com/github/SD325/NASA_Internship_2020/blob/master/NASA_Data_Loader.ipynb\" target=\"_parent\"><img src=\"https://colab.research.google.com/assets/colab-badge.svg\" alt=\"Open In Colab\"/></a>"
      ]
    },
    {
      "cell_type": "code",
      "metadata": {
        "id": "kPmL4fON-Gbk",
        "colab_type": "code",
        "colab": {
          "base_uri": "https://localhost:8080/",
          "height": 34
        },
        "outputId": "e114c3b1-6f27-404b-e33d-5d36f2cefccb"
      },
      "source": [
        "# mount Google Drive\n",
        "from google.colab import drive\n",
        "drive.mount('/content/drive')"
      ],
      "execution_count": 1,
      "outputs": [
        {
          "output_type": "stream",
          "text": [
            "Drive already mounted at /content/drive; to attempt to forcibly remount, call drive.mount(\"/content/drive\", force_remount=True).\n"
          ],
          "name": "stdout"
        }
      ]
    },
    {
      "cell_type": "code",
      "metadata": {
        "id": "wsVfFfNJ-K1f",
        "colab_type": "code",
        "colab": {}
      },
      "source": [
        "# Suppress warnings\n",
        "import warnings\n",
        "warnings.filterwarnings(\"ignore\")\n",
        "\n",
        "# Imports\n",
        "import scipy.io\n",
        "import numpy as np\n",
        "import pandas as pd\n",
        "import re\n",
        "import pickle\n",
        "\n",
        "# Working Directory \n",
        "BASE_DIR = '/content/drive/My Drive/data/NASA_2020/'\n",
        "SOURCE_DIR = BASE_DIR\n",
        "DEST_DIR = BASE_DIR + 'data_trimmed/'"
      ],
      "execution_count": 2,
      "outputs": []
    },
    {
      "cell_type": "code",
      "metadata": {
        "id": "mrtL2rS2_W7V",
        "colab_type": "code",
        "colab": {}
      },
      "source": [
        "filenames =['colloc_Precipflag_DPR_GMI_20151007.sav',\n",
        "            'colloc_Precipflag_DPR_GMI_20160113.sav',\n",
        "            'colloc_Precipflag_DPR_GMI_20160401.sav']"
      ],
      "execution_count": 3,
      "outputs": []
    },
    {
      "cell_type": "code",
      "metadata": {
        "id": "rXAq0zHc_Uq7",
        "colab_type": "code",
        "colab": {
          "base_uri": "https://localhost:8080/",
          "height": 68
        },
        "outputId": "6bf6b021-96b6-4801-c98c-a1ad5d275608"
      },
      "source": [
        "FILE_PATHS = [SOURCE_DIR + fn for fn in filenames]\n",
        "for i, filepath in enumerate(FILE_PATHS):\n",
        "  data = scipy.io.readsav(filepath)\n",
        "  data_trimmed = {}\n",
        "  for var, arr in data.items():\n",
        "    if arr.ndim == 1:\n",
        "      data_trimmed[var] = arr[1:] \n",
        "    else:\n",
        "      data_trimmed[var] = arr[1:, 25:196] if arr.ndim == 2 else arr[1:, 25:196, :] \n",
        "\n",
        "  del data\n",
        "  dest_filename = filenames[i][:-4]\n",
        "  np.savez(DEST_DIR + f'{dest_filename}.npz', **data_trimmed)\n",
        "  del data_trimmed\n",
        "  print(dest_filename)\n",
        "\n",
        "  # np.savez('mydata.npz', **d)\n",
        "  # q = np.load('mydata.npz')"
      ],
      "execution_count": 4,
      "outputs": [
        {
          "output_type": "stream",
          "text": [
            "colloc_Precipflag_DPR_GMI_20151007\n",
            "colloc_Precipflag_DPR_GMI_20160113\n",
            "colloc_Precipflag_DPR_GMI_20160401\n"
          ],
          "name": "stdout"
        }
      ]
    },
    {
      "cell_type": "code",
      "metadata": {
        "id": "FxpeTZvMNFGJ",
        "colab_type": "code",
        "colab": {}
      },
      "source": [
        ""
      ],
      "execution_count": 4,
      "outputs": []
    }
  ]
}